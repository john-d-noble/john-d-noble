{
  "cells": [
    {
      "cell_type": "markdown",
      "metadata": {
        "id": "view-in-github",
        "colab_type": "text"
      },
      "source": [
        "<a href=\"https://colab.research.google.com/github/john-d-noble/john-d-noble/blob/main/DSBA_Project_ET_EasyVisa_Low_Code_Project_5_JOHN_NOBLE_.ipynb\" target=\"_parent\"><img src=\"https://colab.research.google.com/assets/colab-badge.svg\" alt=\"Open In Colab\"/></a>"
      ]
    },
    {
      "cell_type": "markdown",
      "id": "empty-shanghai",
      "metadata": {
        "id": "empty-shanghai"
      },
      "source": [
        "# EasyVisa Project\n",
        "***Marks: 60***\n",
        "\n",
        "## Context:\n",
        "\n",
        "Business communities in the United States are facing high demand for human resources, but one of the constant challenges is identifying and attracting the right talent, which is perhaps the most important element in remaining competitive. Companies in the United States look for hard-working, talented, and qualified individuals both locally as well as abroad.\n",
        "\n",
        "The Immigration and Nationality Act (INA) of the US permits foreign workers to come to the United States to work on either a temporary or permanent basis. The act also protects US workers against adverse impacts on their wages or working conditions by ensuring US employers' compliance with statutory requirements when they hire foreign workers to fill workforce shortages. The immigration programs are administered by the Office of Foreign Labor Certification (OFLC).\n",
        "\n",
        "OFLC processes job certification applications for employers seeking to bring foreign workers into the United States and grants certifications in those cases where employers can demonstrate that there are not sufficient US workers available to perform the work at wages that meet or exceed the wage paid for the occupation in the area of intended employment.\n",
        "\n",
        "## Objective:\n",
        "\n",
        "In FY 2016, the OFLC processed 775,979 employer applications for 1,699,957 positions for temporary and permanent labor certifications. This was a nine percent increase in the overall number of processed applications from the previous year. The process of reviewing every case is becoming a tedious task as the number of applicants is increasing every year.\n",
        "\n",
        "The increasing number of applicants every year calls for a Machine Learning based solution that can help in shortlisting the candidates having higher chances of VISA approval. OFLC has hired the firm EasyVisa for data-driven solutions. You as a data  scientist at EasyVisa have to analyze the data provided and, with the help of a classification model:\n",
        "\n",
        "* Facilitate the process of visa approvals.\n",
        "* Recommend a suitable profile for the applicants for whom the visa should be certified or denied based on the drivers that significantly influence the case status. \n",
        "\n",
        "## Data Description\n",
        "\n",
        "The data contains the different attributes of employee and the employer. The detailed data dictionary is given below.\n",
        "\n",
        "* case_id: ID of each visa application\n",
        "* continent: Information of continent the employee\n",
        "* education_of_employee: Information of education of the employee\n",
        "* has_job_experience: Does the employee has any job experience? Y= Yes; N = No\n",
        "* requires_job_training: Does the employee require any job training? Y = Yes; N = No \n",
        "* no_of_employees: Number of employees in the employer's company\n",
        "* yr_of_estab: Year in which the employer's company was established\n",
        "* region_of_employment: Information of foreign worker's intended region of employment in the US.\n",
        "* prevailing_wage:  Average wage paid to similarly employed workers in a specific occupation in the area of intended employment. The purpose of the prevailing wage is to ensure that the foreign worker is not underpaid compared to other workers offering the same or similar service in the same area of employment. \n",
        "* unit_of_wage: Unit of prevailing wage. Values include Hourly, Weekly, Monthly, and Yearly.\n",
        "* full_time_position: Is the position of work full-time? Y = Full Time Position; N = Part Time Position\n",
        "* case_status:  Flag indicating if the Visa was certified or denied"
      ]
    },
    {
      "cell_type": "code",
      "source": [
        "gpu_info = !nvidia-smi\n",
        "gpu_info = '\\n'.join(gpu_info)\n",
        "if gpu_info.find('failed') >= 0:\n",
        "  print('Not connected to a GPU')\n",
        "else:\n",
        "  print(gpu_info)"
      ],
      "metadata": {
        "colab": {
          "base_uri": "https://localhost:8080/"
        },
        "id": "6mpA06QksUjn",
        "outputId": "013c236d-f9ac-4361-8ab2-378cd3d7f804"
      },
      "id": "6mpA06QksUjn",
      "execution_count": 1,
      "outputs": [
        {
          "output_type": "stream",
          "name": "stdout",
          "text": [
            "Thu Dec  9 22:54:07 2021       \n",
            "+-----------------------------------------------------------------------------+\n",
            "| NVIDIA-SMI 495.44       Driver Version: 460.32.03    CUDA Version: 11.2     |\n",
            "|-------------------------------+----------------------+----------------------+\n",
            "| GPU  Name        Persistence-M| Bus-Id        Disp.A | Volatile Uncorr. ECC |\n",
            "| Fan  Temp  Perf  Pwr:Usage/Cap|         Memory-Usage | GPU-Util  Compute M. |\n",
            "|                               |                      |               MIG M. |\n",
            "|===============================+======================+======================|\n",
            "|   0  Tesla P100-PCIE...  Off  | 00000000:00:04.0 Off |                    0 |\n",
            "| N/A   36C    P0    28W / 250W |      0MiB / 16280MiB |      0%      Default |\n",
            "|                               |                      |                  N/A |\n",
            "+-------------------------------+----------------------+----------------------+\n",
            "                                                                               \n",
            "+-----------------------------------------------------------------------------+\n",
            "| Processes:                                                                  |\n",
            "|  GPU   GI   CI        PID   Type   Process name                  GPU Memory |\n",
            "|        ID   ID                                                   Usage      |\n",
            "|=============================================================================|\n",
            "|  No running processes found                                                 |\n",
            "+-----------------------------------------------------------------------------+\n"
          ]
        }
      ]
    },
    {
      "cell_type": "code",
      "source": [
        "from psutil import virtual_memory\n",
        "ram_gb = virtual_memory().total / 1e9\n",
        "print('Your runtime has {:.1f} gigabytes of available RAM\\n'.format(ram_gb))\n",
        "\n",
        "if ram_gb < 20:\n",
        "  print('Not using a high-RAM runtime')\n",
        "else:\n",
        "  print('You are using a high-RAM runtime!')"
      ],
      "metadata": {
        "colab": {
          "base_uri": "https://localhost:8080/"
        },
        "id": "rD8DUvB2sXqe",
        "outputId": "b927462c-c8a0-4c05-b484-0d03c6d0c612"
      },
      "id": "rD8DUvB2sXqe",
      "execution_count": 2,
      "outputs": [
        {
          "output_type": "stream",
          "name": "stdout",
          "text": [
            "Your runtime has 27.3 gigabytes of available RAM\n",
            "\n",
            "You are using a high-RAM runtime!\n"
          ]
        }
      ]
    },
    {
      "cell_type": "code",
      "source": [
        "%tensorflow_version 2.x\n",
        "import tensorflow as tf\n",
        "device_name = tf.test.gpu_device_name()\n",
        "if device_name != '/device:GPU:0':\n",
        "  raise SystemError('GPU device not found')\n",
        "print('Found GPU at: {}'.format(device_name))"
      ],
      "metadata": {
        "colab": {
          "base_uri": "https://localhost:8080/"
        },
        "id": "n-2OAfveuV8Y",
        "outputId": "d21dfbe4-aced-4854-97e0-6caf650086bd"
      },
      "id": "n-2OAfveuV8Y",
      "execution_count": 3,
      "outputs": [
        {
          "output_type": "stream",
          "name": "stdout",
          "text": [
            "Found GPU at: /device:GPU:0\n"
          ]
        }
      ]
    },
    {
      "cell_type": "code",
      "source": [
        "%tensorflow_version 2.x\n",
        "import tensorflow as tf\n",
        "import timeit\n",
        "\n",
        "device_name = tf.test.gpu_device_name()\n",
        "if device_name != '/device:GPU:0':\n",
        "  print(\n",
        "      '\\n\\nThis error most likely means that this notebook is not '\n",
        "      'configured to use a GPU.  Change this in Notebook Settings via the '\n",
        "      'command palette (cmd/ctrl-shift-P) or the Edit menu.\\n\\n')\n",
        "  raise SystemError('GPU device not found')\n",
        "\n",
        "def cpu():\n",
        "  with tf.device('/cpu:0'):\n",
        "    random_image_cpu = tf.random.normal((100, 100, 100, 3))\n",
        "    net_cpu = tf.keras.layers.Conv2D(32, 7)(random_image_cpu)\n",
        "    return tf.math.reduce_sum(net_cpu)\n",
        "\n",
        "def gpu():\n",
        "  with tf.device('/device:GPU:0'):\n",
        "    random_image_gpu = tf.random.normal((100, 100, 100, 3))\n",
        "    net_gpu = tf.keras.layers.Conv2D(32, 7)(random_image_gpu)\n",
        "    return tf.math.reduce_sum(net_gpu)\n",
        "  \n",
        "# We run each op once to warm up; see: https://stackoverflow.com/a/45067900\n",
        "cpu()\n",
        "gpu()\n",
        "\n",
        "# Run the op several times.\n",
        "print('Time (s) to convolve 32x7x7x3 filter over random 100x100x100x3 images '\n",
        "      '(batch x height x width x channel). Sum of ten runs.')\n",
        "print('CPU (s):')\n",
        "cpu_time = timeit.timeit('cpu()', number=10, setup=\"from __main__ import cpu\")\n",
        "print(cpu_time)\n",
        "print('GPU (s):')\n",
        "gpu_time = timeit.timeit('gpu()', number=10, setup=\"from __main__ import gpu\")\n",
        "print(gpu_time)\n",
        "print('GPU speedup over CPU: {}x'.format(int(cpu_time/gpu_time)))"
      ],
      "metadata": {
        "colab": {
          "base_uri": "https://localhost:8080/"
        },
        "id": "yj8lBBe6JfiG",
        "outputId": "55067c28-9e4e-497a-f9ec-165aa02052ac"
      },
      "id": "yj8lBBe6JfiG",
      "execution_count": 4,
      "outputs": [
        {
          "output_type": "stream",
          "name": "stdout",
          "text": [
            "Time (s) to convolve 32x7x7x3 filter over random 100x100x100x3 images (batch x height x width x channel). Sum of ten runs.\n",
            "CPU (s):\n",
            "1.5134661719998803\n",
            "GPU (s):\n",
            "0.03357306599991716\n",
            "GPU speedup over CPU: 45x\n"
          ]
        }
      ]
    },
    {
      "cell_type": "code",
      "source": [
        "from psutil import virtual_memory\n",
        "ram_gb = virtual_memory().total / 1e9\n",
        "print('Your runtime has {:.1f} gigabytes of available RAM\\n'.format(ram_gb))\n",
        "\n",
        "if ram_gb < 20:\n",
        "  print('Not using a high-RAM runtime')\n",
        "else:\n",
        "  print('You are using a high-RAM runtime!')"
      ],
      "metadata": {
        "colab": {
          "base_uri": "https://localhost:8080/"
        },
        "id": "dqGUHE1D7q4R",
        "outputId": "e2ee7d2e-046f-479d-f32a-c895902392c7"
      },
      "execution_count": 5,
      "outputs": [
        {
          "output_type": "stream",
          "name": "stdout",
          "text": [
            "Your runtime has 27.3 gigabytes of available RAM\n",
            "\n",
            "You are using a high-RAM runtime!\n"
          ]
        }
      ],
      "id": "dqGUHE1D7q4R"
    },
    {
      "cell_type": "markdown",
      "id": "0202dc63",
      "metadata": {
        "id": "0202dc63"
      },
      "source": [
        "### **Please read the instructions carefully before starting the project.** \n",
        "This is a commented Jupyter IPython Notebook file in which all the instructions and tasks to be performed are mentioned. \n",
        "* Blanks '_______' are provided in the notebook that \n",
        "needs to be filled with an appropriate code to get the correct result. With every '_______' blank, there is a comment that briefly describes what needs to be filled in the blank space. \n",
        "* Identify the task to be performed correctly, and only then proceed to write the required code.\n",
        "* Fill the code wherever asked by the commented lines like \"# write your code here\" or \"# complete the code\". Running incomplete code may throw error.\n",
        "* Please run the codes in a sequential manner from the beginning to avoid any unnecessary errors.\n",
        "* Add the results/observations (wherever mentioned) derived from the analysis in the presentation and submit the same."
      ]
    },
    {
      "cell_type": "markdown",
      "id": "c1cd4628",
      "metadata": {
        "id": "c1cd4628"
      },
      "source": [
        "### Let us start by importing necessary libraries and data"
      ]
    },
    {
      "cell_type": "code",
      "execution_count": 6,
      "id": "canadian-maple",
      "metadata": {
        "id": "canadian-maple"
      },
      "outputs": [],
      "source": [
        "# this will help in making the Python code more structured automatically (good coding practice)\n",
        "#%load_ext nb_black\n",
        "\n",
        "import warnings\n",
        "\n",
        "warnings.filterwarnings(\"ignore\")\n",
        "\n",
        "# Libraries to help with reading and manipulating data\n",
        "import numpy as np\n",
        "import pandas as pd\n",
        "\n",
        "# Library to split data\n",
        "from sklearn.model_selection import train_test_split\n",
        "\n",
        "# libaries to help with data visualization\n",
        "import matplotlib.pyplot as plt\n",
        "import seaborn as sns\n",
        "\n",
        "# Removes the limit for the number of displayed columns\n",
        "pd.set_option(\"display.max_columns\", None)\n",
        "# Sets the limit for the number of displayed rows\n",
        "pd.set_option(\"display.max_rows\", 100)\n",
        "\n",
        "\n",
        "# Libraries different ensemble classifiers\n",
        "from sklearn.ensemble import (\n",
        "    BaggingClassifier,\n",
        "    RandomForestClassifier,\n",
        "    AdaBoostClassifier,\n",
        "    GradientBoostingClassifier,\n",
        "    StackingClassifier,\n",
        ")\n",
        "\n",
        "from xgboost import XGBClassifier\n",
        "from sklearn.tree import DecisionTreeClassifier\n",
        "\n",
        "# Libraries to get different metric scores\n",
        "from sklearn import metrics\n",
        "from sklearn.metrics import (\n",
        "    confusion_matrix,\n",
        "    accuracy_score,\n",
        "    precision_score,\n",
        "    recall_score,\n",
        "    f1_score,\n",
        ")\n",
        "\n",
        "# To tune different models\n",
        "from sklearn.model_selection import GridSearchCV"
      ]
    },
    {
      "cell_type": "markdown",
      "id": "thorough-passion",
      "metadata": {
        "id": "thorough-passion"
      },
      "source": [
        "## Import Dataset"
      ]
    },
    {
      "cell_type": "code",
      "execution_count": 7,
      "id": "alleged-teaching",
      "metadata": {
        "id": "alleged-teaching"
      },
      "outputs": [],
      "source": [
        "visa = pd.read_csv(\"EasyVisa.csv\")  ##  Fill the blank to read the data"
      ]
    },
    {
      "cell_type": "code",
      "execution_count": 8,
      "id": "falling-annual",
      "metadata": {
        "id": "falling-annual"
      },
      "outputs": [],
      "source": [
        "# copying data to another variable to avoid any changes to original data\n",
        "data = visa.copy()"
      ]
    },
    {
      "cell_type": "markdown",
      "id": "aboriginal-wrist",
      "metadata": {
        "id": "aboriginal-wrist"
      },
      "source": [
        "### View the first and last 5 rows of the dataset"
      ]
    },
    {
      "cell_type": "code",
      "execution_count": 9,
      "id": "judicial-lease",
      "metadata": {
        "id": "judicial-lease",
        "colab": {
          "base_uri": "https://localhost:8080/",
          "height": 226
        },
        "outputId": "ec3ff9be-cea6-4804-90ad-e2029f25dffe"
      },
      "outputs": [
        {
          "output_type": "execute_result",
          "data": {
            "text/html": [
              "<div>\n",
              "<style scoped>\n",
              "    .dataframe tbody tr th:only-of-type {\n",
              "        vertical-align: middle;\n",
              "    }\n",
              "\n",
              "    .dataframe tbody tr th {\n",
              "        vertical-align: top;\n",
              "    }\n",
              "\n",
              "    .dataframe thead th {\n",
              "        text-align: right;\n",
              "    }\n",
              "</style>\n",
              "<table border=\"1\" class=\"dataframe\">\n",
              "  <thead>\n",
              "    <tr style=\"text-align: right;\">\n",
              "      <th></th>\n",
              "      <th>case_id</th>\n",
              "      <th>continent</th>\n",
              "      <th>education_of_employee</th>\n",
              "      <th>has_job_experience</th>\n",
              "      <th>requires_job_training</th>\n",
              "      <th>no_of_employees</th>\n",
              "      <th>yr_of_estab</th>\n",
              "      <th>region_of_employment</th>\n",
              "      <th>prevailing_wage</th>\n",
              "      <th>unit_of_wage</th>\n",
              "      <th>full_time_position</th>\n",
              "      <th>case_status</th>\n",
              "    </tr>\n",
              "  </thead>\n",
              "  <tbody>\n",
              "    <tr>\n",
              "      <th>0</th>\n",
              "      <td>EZYV01</td>\n",
              "      <td>Asia</td>\n",
              "      <td>High School</td>\n",
              "      <td>N</td>\n",
              "      <td>N</td>\n",
              "      <td>14513</td>\n",
              "      <td>2007</td>\n",
              "      <td>West</td>\n",
              "      <td>592.2029</td>\n",
              "      <td>Hour</td>\n",
              "      <td>Y</td>\n",
              "      <td>Denied</td>\n",
              "    </tr>\n",
              "    <tr>\n",
              "      <th>1</th>\n",
              "      <td>EZYV02</td>\n",
              "      <td>Asia</td>\n",
              "      <td>Master's</td>\n",
              "      <td>Y</td>\n",
              "      <td>N</td>\n",
              "      <td>2412</td>\n",
              "      <td>2002</td>\n",
              "      <td>Northeast</td>\n",
              "      <td>83425.6500</td>\n",
              "      <td>Year</td>\n",
              "      <td>Y</td>\n",
              "      <td>Certified</td>\n",
              "    </tr>\n",
              "    <tr>\n",
              "      <th>2</th>\n",
              "      <td>EZYV03</td>\n",
              "      <td>Asia</td>\n",
              "      <td>Bachelor's</td>\n",
              "      <td>N</td>\n",
              "      <td>Y</td>\n",
              "      <td>44444</td>\n",
              "      <td>2008</td>\n",
              "      <td>West</td>\n",
              "      <td>122996.8600</td>\n",
              "      <td>Year</td>\n",
              "      <td>Y</td>\n",
              "      <td>Denied</td>\n",
              "    </tr>\n",
              "    <tr>\n",
              "      <th>3</th>\n",
              "      <td>EZYV04</td>\n",
              "      <td>Asia</td>\n",
              "      <td>Bachelor's</td>\n",
              "      <td>N</td>\n",
              "      <td>N</td>\n",
              "      <td>98</td>\n",
              "      <td>1897</td>\n",
              "      <td>West</td>\n",
              "      <td>83434.0300</td>\n",
              "      <td>Year</td>\n",
              "      <td>Y</td>\n",
              "      <td>Denied</td>\n",
              "    </tr>\n",
              "    <tr>\n",
              "      <th>4</th>\n",
              "      <td>EZYV05</td>\n",
              "      <td>Africa</td>\n",
              "      <td>Master's</td>\n",
              "      <td>Y</td>\n",
              "      <td>N</td>\n",
              "      <td>1082</td>\n",
              "      <td>2005</td>\n",
              "      <td>South</td>\n",
              "      <td>149907.3900</td>\n",
              "      <td>Year</td>\n",
              "      <td>Y</td>\n",
              "      <td>Certified</td>\n",
              "    </tr>\n",
              "  </tbody>\n",
              "</table>\n",
              "</div>"
            ],
            "text/plain": [
              "  case_id continent education_of_employee has_job_experience  \\\n",
              "0  EZYV01      Asia           High School                  N   \n",
              "1  EZYV02      Asia              Master's                  Y   \n",
              "2  EZYV03      Asia            Bachelor's                  N   \n",
              "3  EZYV04      Asia            Bachelor's                  N   \n",
              "4  EZYV05    Africa              Master's                  Y   \n",
              "\n",
              "  requires_job_training  no_of_employees  yr_of_estab region_of_employment  \\\n",
              "0                     N            14513         2007                 West   \n",
              "1                     N             2412         2002            Northeast   \n",
              "2                     Y            44444         2008                 West   \n",
              "3                     N               98         1897                 West   \n",
              "4                     N             1082         2005                South   \n",
              "\n",
              "   prevailing_wage unit_of_wage full_time_position case_status  \n",
              "0         592.2029         Hour                  Y      Denied  \n",
              "1       83425.6500         Year                  Y   Certified  \n",
              "2      122996.8600         Year                  Y      Denied  \n",
              "3       83434.0300         Year                  Y      Denied  \n",
              "4      149907.3900         Year                  Y   Certified  "
            ]
          },
          "metadata": {},
          "execution_count": 9
        }
      ],
      "source": [
        "data.head(5)  ##  Complete the code to view top 5 rows of the data"
      ]
    },
    {
      "cell_type": "code",
      "execution_count": 10,
      "id": "descending-david",
      "metadata": {
        "id": "descending-david",
        "colab": {
          "base_uri": "https://localhost:8080/",
          "height": 226
        },
        "outputId": "663f5f4d-c4dd-4831-810a-1d2dc52e377f"
      },
      "outputs": [
        {
          "output_type": "execute_result",
          "data": {
            "text/html": [
              "<div>\n",
              "<style scoped>\n",
              "    .dataframe tbody tr th:only-of-type {\n",
              "        vertical-align: middle;\n",
              "    }\n",
              "\n",
              "    .dataframe tbody tr th {\n",
              "        vertical-align: top;\n",
              "    }\n",
              "\n",
              "    .dataframe thead th {\n",
              "        text-align: right;\n",
              "    }\n",
              "</style>\n",
              "<table border=\"1\" class=\"dataframe\">\n",
              "  <thead>\n",
              "    <tr style=\"text-align: right;\">\n",
              "      <th></th>\n",
              "      <th>case_id</th>\n",
              "      <th>continent</th>\n",
              "      <th>education_of_employee</th>\n",
              "      <th>has_job_experience</th>\n",
              "      <th>requires_job_training</th>\n",
              "      <th>no_of_employees</th>\n",
              "      <th>yr_of_estab</th>\n",
              "      <th>region_of_employment</th>\n",
              "      <th>prevailing_wage</th>\n",
              "      <th>unit_of_wage</th>\n",
              "      <th>full_time_position</th>\n",
              "      <th>case_status</th>\n",
              "    </tr>\n",
              "  </thead>\n",
              "  <tbody>\n",
              "    <tr>\n",
              "      <th>25475</th>\n",
              "      <td>EZYV25476</td>\n",
              "      <td>Asia</td>\n",
              "      <td>Bachelor's</td>\n",
              "      <td>Y</td>\n",
              "      <td>Y</td>\n",
              "      <td>2601</td>\n",
              "      <td>2008</td>\n",
              "      <td>South</td>\n",
              "      <td>77092.57</td>\n",
              "      <td>Year</td>\n",
              "      <td>Y</td>\n",
              "      <td>Certified</td>\n",
              "    </tr>\n",
              "    <tr>\n",
              "      <th>25476</th>\n",
              "      <td>EZYV25477</td>\n",
              "      <td>Asia</td>\n",
              "      <td>High School</td>\n",
              "      <td>Y</td>\n",
              "      <td>N</td>\n",
              "      <td>3274</td>\n",
              "      <td>2006</td>\n",
              "      <td>Northeast</td>\n",
              "      <td>279174.79</td>\n",
              "      <td>Year</td>\n",
              "      <td>Y</td>\n",
              "      <td>Certified</td>\n",
              "    </tr>\n",
              "    <tr>\n",
              "      <th>25477</th>\n",
              "      <td>EZYV25478</td>\n",
              "      <td>Asia</td>\n",
              "      <td>Master's</td>\n",
              "      <td>Y</td>\n",
              "      <td>N</td>\n",
              "      <td>1121</td>\n",
              "      <td>1910</td>\n",
              "      <td>South</td>\n",
              "      <td>146298.85</td>\n",
              "      <td>Year</td>\n",
              "      <td>N</td>\n",
              "      <td>Certified</td>\n",
              "    </tr>\n",
              "    <tr>\n",
              "      <th>25478</th>\n",
              "      <td>EZYV25479</td>\n",
              "      <td>Asia</td>\n",
              "      <td>Master's</td>\n",
              "      <td>Y</td>\n",
              "      <td>Y</td>\n",
              "      <td>1918</td>\n",
              "      <td>1887</td>\n",
              "      <td>West</td>\n",
              "      <td>86154.77</td>\n",
              "      <td>Year</td>\n",
              "      <td>Y</td>\n",
              "      <td>Certified</td>\n",
              "    </tr>\n",
              "    <tr>\n",
              "      <th>25479</th>\n",
              "      <td>EZYV25480</td>\n",
              "      <td>Asia</td>\n",
              "      <td>Bachelor's</td>\n",
              "      <td>Y</td>\n",
              "      <td>N</td>\n",
              "      <td>3195</td>\n",
              "      <td>1960</td>\n",
              "      <td>Midwest</td>\n",
              "      <td>70876.91</td>\n",
              "      <td>Year</td>\n",
              "      <td>Y</td>\n",
              "      <td>Certified</td>\n",
              "    </tr>\n",
              "  </tbody>\n",
              "</table>\n",
              "</div>"
            ],
            "text/plain": [
              "         case_id continent education_of_employee has_job_experience  \\\n",
              "25475  EZYV25476      Asia            Bachelor's                  Y   \n",
              "25476  EZYV25477      Asia           High School                  Y   \n",
              "25477  EZYV25478      Asia              Master's                  Y   \n",
              "25478  EZYV25479      Asia              Master's                  Y   \n",
              "25479  EZYV25480      Asia            Bachelor's                  Y   \n",
              "\n",
              "      requires_job_training  no_of_employees  yr_of_estab  \\\n",
              "25475                     Y             2601         2008   \n",
              "25476                     N             3274         2006   \n",
              "25477                     N             1121         1910   \n",
              "25478                     Y             1918         1887   \n",
              "25479                     N             3195         1960   \n",
              "\n",
              "      region_of_employment  prevailing_wage unit_of_wage full_time_position  \\\n",
              "25475                South         77092.57         Year                  Y   \n",
              "25476            Northeast        279174.79         Year                  Y   \n",
              "25477                South        146298.85         Year                  N   \n",
              "25478                 West         86154.77         Year                  Y   \n",
              "25479              Midwest         70876.91         Year                  Y   \n",
              "\n",
              "      case_status  \n",
              "25475   Certified  \n",
              "25476   Certified  \n",
              "25477   Certified  \n",
              "25478   Certified  \n",
              "25479   Certified  "
            ]
          },
          "metadata": {},
          "execution_count": 10
        }
      ],
      "source": [
        "data.tail(5)  ##  Complete the code to view last 5 rows of the data"
      ]
    },
    {
      "cell_type": "markdown",
      "id": "accessory-camel",
      "metadata": {
        "id": "accessory-camel"
      },
      "source": [
        "### Understand the shape of the dataset"
      ]
    },
    {
      "cell_type": "code",
      "execution_count": 11,
      "id": "regulation-elder",
      "metadata": {
        "id": "regulation-elder",
        "colab": {
          "base_uri": "https://localhost:8080/"
        },
        "outputId": "54a06e55-5a06-4f0a-f77f-058e17638f1b"
      },
      "outputs": [
        {
          "output_type": "execute_result",
          "data": {
            "text/plain": [
              "(25480, 12)"
            ]
          },
          "metadata": {},
          "execution_count": 11
        }
      ],
      "source": [
        "data.shape  ##  Complete the code to view dimensions of the data"
      ]
    },
    {
      "cell_type": "markdown",
      "id": "assigned-berkeley",
      "metadata": {
        "id": "assigned-berkeley"
      },
      "source": [
        "### Check the data types of the columns for the dataset"
      ]
    },
    {
      "cell_type": "code",
      "execution_count": 12,
      "id": "judicial-institute",
      "metadata": {
        "id": "judicial-institute",
        "colab": {
          "base_uri": "https://localhost:8080/"
        },
        "outputId": "fb833871-26cf-49e2-f59d-acea73ecd0d3"
      },
      "outputs": [
        {
          "output_type": "stream",
          "name": "stdout",
          "text": [
            "<class 'pandas.core.frame.DataFrame'>\n",
            "RangeIndex: 25480 entries, 0 to 25479\n",
            "Data columns (total 12 columns):\n",
            " #   Column                 Non-Null Count  Dtype  \n",
            "---  ------                 --------------  -----  \n",
            " 0   case_id                25480 non-null  object \n",
            " 1   continent              25480 non-null  object \n",
            " 2   education_of_employee  25480 non-null  object \n",
            " 3   has_job_experience     25480 non-null  object \n",
            " 4   requires_job_training  25480 non-null  object \n",
            " 5   no_of_employees        25480 non-null  int64  \n",
            " 6   yr_of_estab            25480 non-null  int64  \n",
            " 7   region_of_employment   25480 non-null  object \n",
            " 8   prevailing_wage        25480 non-null  float64\n",
            " 9   unit_of_wage           25480 non-null  object \n",
            " 10  full_time_position     25480 non-null  object \n",
            " 11  case_status            25480 non-null  object \n",
            "dtypes: float64(1), int64(2), object(9)\n",
            "memory usage: 2.3+ MB\n"
          ]
        }
      ],
      "source": [
        "data.info()"
      ]
    },
    {
      "cell_type": "code",
      "execution_count": 13,
      "id": "going-validation",
      "metadata": {
        "id": "going-validation",
        "colab": {
          "base_uri": "https://localhost:8080/"
        },
        "outputId": "e783c0f4-c02e-4591-bc79-0dc7f4be3020"
      },
      "outputs": [
        {
          "output_type": "execute_result",
          "data": {
            "text/plain": [
              "0"
            ]
          },
          "metadata": {},
          "execution_count": 13
        }
      ],
      "source": [
        "# checking for duplicate values\n",
        "data.duplicated().sum()  ##  Complete the code to check duplicate entries in the data"
      ]
    },
    {
      "cell_type": "markdown",
      "id": "standing-horizontal",
      "metadata": {
        "id": "standing-horizontal"
      },
      "source": [
        "## Exploratory Data Analysis"
      ]
    },
    {
      "cell_type": "markdown",
      "id": "american-venue",
      "metadata": {
        "id": "american-venue"
      },
      "source": [
        "**Let's check the statistical summary of the data.**"
      ]
    },
    {
      "cell_type": "code",
      "execution_count": 14,
      "id": "premium-wagner",
      "metadata": {
        "id": "premium-wagner",
        "colab": {
          "base_uri": "https://localhost:8080/",
          "height": 143
        },
        "outputId": "854aac40-520d-42f2-e5a0-1954c50e4bd9"
      },
      "outputs": [
        {
          "output_type": "execute_result",
          "data": {
            "text/html": [
              "<div>\n",
              "<style scoped>\n",
              "    .dataframe tbody tr th:only-of-type {\n",
              "        vertical-align: middle;\n",
              "    }\n",
              "\n",
              "    .dataframe tbody tr th {\n",
              "        vertical-align: top;\n",
              "    }\n",
              "\n",
              "    .dataframe thead th {\n",
              "        text-align: right;\n",
              "    }\n",
              "</style>\n",
              "<table border=\"1\" class=\"dataframe\">\n",
              "  <thead>\n",
              "    <tr style=\"text-align: right;\">\n",
              "      <th></th>\n",
              "      <th>count</th>\n",
              "      <th>mean</th>\n",
              "      <th>std</th>\n",
              "      <th>min</th>\n",
              "      <th>25%</th>\n",
              "      <th>50%</th>\n",
              "      <th>75%</th>\n",
              "      <th>max</th>\n",
              "    </tr>\n",
              "  </thead>\n",
              "  <tbody>\n",
              "    <tr>\n",
              "      <th>no_of_employees</th>\n",
              "      <td>25480.0</td>\n",
              "      <td>5667.043210</td>\n",
              "      <td>22877.928848</td>\n",
              "      <td>-26.0000</td>\n",
              "      <td>1022.00</td>\n",
              "      <td>2109.00</td>\n",
              "      <td>3504.0000</td>\n",
              "      <td>602069.00</td>\n",
              "    </tr>\n",
              "    <tr>\n",
              "      <th>yr_of_estab</th>\n",
              "      <td>25480.0</td>\n",
              "      <td>1979.409929</td>\n",
              "      <td>42.366929</td>\n",
              "      <td>1800.0000</td>\n",
              "      <td>1976.00</td>\n",
              "      <td>1997.00</td>\n",
              "      <td>2005.0000</td>\n",
              "      <td>2016.00</td>\n",
              "    </tr>\n",
              "    <tr>\n",
              "      <th>prevailing_wage</th>\n",
              "      <td>25480.0</td>\n",
              "      <td>74455.814592</td>\n",
              "      <td>52815.942327</td>\n",
              "      <td>2.1367</td>\n",
              "      <td>34015.48</td>\n",
              "      <td>70308.21</td>\n",
              "      <td>107735.5125</td>\n",
              "      <td>319210.27</td>\n",
              "    </tr>\n",
              "  </tbody>\n",
              "</table>\n",
              "</div>"
            ],
            "text/plain": [
              "                   count          mean           std        min       25%  \\\n",
              "no_of_employees  25480.0   5667.043210  22877.928848   -26.0000   1022.00   \n",
              "yr_of_estab      25480.0   1979.409929     42.366929  1800.0000   1976.00   \n",
              "prevailing_wage  25480.0  74455.814592  52815.942327     2.1367  34015.48   \n",
              "\n",
              "                      50%          75%        max  \n",
              "no_of_employees   2109.00    3504.0000  602069.00  \n",
              "yr_of_estab       1997.00    2005.0000    2016.00  \n",
              "prevailing_wage  70308.21  107735.5125  319210.27  "
            ]
          },
          "metadata": {},
          "execution_count": 14
        }
      ],
      "source": [
        "data.describe().T  ##  Complete the code to print the statistical summary of the data"
      ]
    },
    {
      "cell_type": "markdown",
      "id": "competent-timing",
      "metadata": {
        "id": "competent-timing"
      },
      "source": [
        "**Fixing the negative values in number of employees columns**"
      ]
    },
    {
      "cell_type": "code",
      "execution_count": 15,
      "id": "whole-saying",
      "metadata": {
        "id": "whole-saying",
        "colab": {
          "base_uri": "https://localhost:8080/"
        },
        "outputId": "ff76a42c-aec3-462f-cdc7-fed2fcf7ac02"
      },
      "outputs": [
        {
          "output_type": "execute_result",
          "data": {
            "text/plain": [
              "(33, 12)"
            ]
          },
          "metadata": {},
          "execution_count": 15
        }
      ],
      "source": [
        "data.loc[\n",
        "    data[\"no_of_employees\"] < 0\n",
        "].shape  ## Complete the code to check negative values in the employee column"
      ]
    },
    {
      "cell_type": "code",
      "execution_count": 16,
      "id": "prescription-bosnia",
      "metadata": {
        "id": "prescription-bosnia"
      },
      "outputs": [],
      "source": [
        "# taking the absolute values for number of employees\n",
        "data[\"no_of_employees\"] = abs(\n",
        "    data[\"no_of_employees\"]\n",
        ")  ## Write the function to convert the values to a positive number"
      ]
    },
    {
      "cell_type": "code",
      "source": [
        "data.describe().T  ##  Complete the code to print the statistical summary of the data"
      ],
      "metadata": {
        "colab": {
          "base_uri": "https://localhost:8080/",
          "height": 143
        },
        "id": "KpZNhXJvY8ya",
        "outputId": "2a5ad7d3-1061-446b-fb1c-fdc075aa9566"
      },
      "id": "KpZNhXJvY8ya",
      "execution_count": 17,
      "outputs": [
        {
          "output_type": "execute_result",
          "data": {
            "text/html": [
              "<div>\n",
              "<style scoped>\n",
              "    .dataframe tbody tr th:only-of-type {\n",
              "        vertical-align: middle;\n",
              "    }\n",
              "\n",
              "    .dataframe tbody tr th {\n",
              "        vertical-align: top;\n",
              "    }\n",
              "\n",
              "    .dataframe thead th {\n",
              "        text-align: right;\n",
              "    }\n",
              "</style>\n",
              "<table border=\"1\" class=\"dataframe\">\n",
              "  <thead>\n",
              "    <tr style=\"text-align: right;\">\n",
              "      <th></th>\n",
              "      <th>count</th>\n",
              "      <th>mean</th>\n",
              "      <th>std</th>\n",
              "      <th>min</th>\n",
              "      <th>25%</th>\n",
              "      <th>50%</th>\n",
              "      <th>75%</th>\n",
              "      <th>max</th>\n",
              "    </tr>\n",
              "  </thead>\n",
              "  <tbody>\n",
              "    <tr>\n",
              "      <th>no_of_employees</th>\n",
              "      <td>25480.0</td>\n",
              "      <td>5667.089207</td>\n",
              "      <td>22877.917453</td>\n",
              "      <td>11.0000</td>\n",
              "      <td>1022.00</td>\n",
              "      <td>2109.00</td>\n",
              "      <td>3504.0000</td>\n",
              "      <td>602069.00</td>\n",
              "    </tr>\n",
              "    <tr>\n",
              "      <th>yr_of_estab</th>\n",
              "      <td>25480.0</td>\n",
              "      <td>1979.409929</td>\n",
              "      <td>42.366929</td>\n",
              "      <td>1800.0000</td>\n",
              "      <td>1976.00</td>\n",
              "      <td>1997.00</td>\n",
              "      <td>2005.0000</td>\n",
              "      <td>2016.00</td>\n",
              "    </tr>\n",
              "    <tr>\n",
              "      <th>prevailing_wage</th>\n",
              "      <td>25480.0</td>\n",
              "      <td>74455.814592</td>\n",
              "      <td>52815.942327</td>\n",
              "      <td>2.1367</td>\n",
              "      <td>34015.48</td>\n",
              "      <td>70308.21</td>\n",
              "      <td>107735.5125</td>\n",
              "      <td>319210.27</td>\n",
              "    </tr>\n",
              "  </tbody>\n",
              "</table>\n",
              "</div>"
            ],
            "text/plain": [
              "                   count          mean           std        min       25%  \\\n",
              "no_of_employees  25480.0   5667.089207  22877.917453    11.0000   1022.00   \n",
              "yr_of_estab      25480.0   1979.409929     42.366929  1800.0000   1976.00   \n",
              "prevailing_wage  25480.0  74455.814592  52815.942327     2.1367  34015.48   \n",
              "\n",
              "                      50%          75%        max  \n",
              "no_of_employees   2109.00    3504.0000  602069.00  \n",
              "yr_of_estab       1997.00    2005.0000    2016.00  \n",
              "prevailing_wage  70308.21  107735.5125  319210.27  "
            ]
          },
          "metadata": {},
          "execution_count": 17
        }
      ]
    },
    {
      "cell_type": "markdown",
      "id": "cutting-bookmark",
      "metadata": {
        "id": "cutting-bookmark"
      },
      "source": [
        "**Let's check the count of each unique category in each of the categorical variables.** "
      ]
    },
    {
      "cell_type": "code",
      "execution_count": 18,
      "id": "minute-helmet",
      "metadata": {
        "id": "minute-helmet",
        "colab": {
          "base_uri": "https://localhost:8080/"
        },
        "outputId": "54c50653-2fc1-4f59-bda7-765e623c494d"
      },
      "outputs": [
        {
          "output_type": "stream",
          "name": "stdout",
          "text": [
            "EZYV2039     1\n",
            "EZYV3739     1\n",
            "EZYV23857    1\n",
            "EZYV7474     1\n",
            "EZYV23374    1\n",
            "            ..\n",
            "EZYV8115     1\n",
            "EZYV21374    1\n",
            "EZYV2232     1\n",
            "EZYV24039    1\n",
            "EZYV15749    1\n",
            "Name: case_id, Length: 25480, dtype: int64\n",
            "--------------------------------------------------\n",
            "Asia             16861\n",
            "Europe            3732\n",
            "North America     3292\n",
            "South America      852\n",
            "Africa             551\n",
            "Oceania            192\n",
            "Name: continent, dtype: int64\n",
            "--------------------------------------------------\n",
            "Bachelor's     10234\n",
            "Master's        9634\n",
            "High School     3420\n",
            "Doctorate       2192\n",
            "Name: education_of_employee, dtype: int64\n",
            "--------------------------------------------------\n",
            "Y    14802\n",
            "N    10678\n",
            "Name: has_job_experience, dtype: int64\n",
            "--------------------------------------------------\n",
            "N    22525\n",
            "Y     2955\n",
            "Name: requires_job_training, dtype: int64\n",
            "--------------------------------------------------\n",
            "Northeast    7195\n",
            "South        7017\n",
            "West         6586\n",
            "Midwest      4307\n",
            "Island        375\n",
            "Name: region_of_employment, dtype: int64\n",
            "--------------------------------------------------\n",
            "Year     22962\n",
            "Hour      2157\n",
            "Week       272\n",
            "Month       89\n",
            "Name: unit_of_wage, dtype: int64\n",
            "--------------------------------------------------\n",
            "Y    22773\n",
            "N     2707\n",
            "Name: full_time_position, dtype: int64\n",
            "--------------------------------------------------\n",
            "Certified    17018\n",
            "Denied        8462\n",
            "Name: case_status, dtype: int64\n",
            "--------------------------------------------------\n"
          ]
        }
      ],
      "source": [
        "# Making a list of all catrgorical variables\n",
        "cat_col = list(data.select_dtypes(\"object\").columns)\n",
        "\n",
        "# Printing number of count of each unique value in each column\n",
        "for column in cat_col:\n",
        "    print(data[column].value_counts())\n",
        "    print(\"-\" * 50)"
      ]
    },
    {
      "cell_type": "code",
      "execution_count": 19,
      "id": "occupied-classroom",
      "metadata": {
        "id": "occupied-classroom",
        "colab": {
          "base_uri": "https://localhost:8080/"
        },
        "outputId": "7b75b6c7-bc42-47ee-c205-86cc51014914"
      },
      "outputs": [
        {
          "output_type": "execute_result",
          "data": {
            "text/plain": [
              "25480"
            ]
          },
          "metadata": {},
          "execution_count": 19
        }
      ],
      "source": [
        "# checking the number of unique values\n",
        "data[\n",
        "    \"case_id\"\n",
        "].nunique()  ## Complete the code to check unique values in the mentioned column"
      ]
    },
    {
      "cell_type": "code",
      "execution_count": 20,
      "id": "existing-sociology",
      "metadata": {
        "id": "existing-sociology"
      },
      "outputs": [],
      "source": [
        "data = data.drop(\n",
        "    [\"case_id\"], axis=1\n",
        ")  ## Complete the code to drop 'case_id' column from the data"
      ]
    },
    {
      "cell_type": "markdown",
      "id": "wooden-christian",
      "metadata": {
        "id": "wooden-christian"
      },
      "source": [
        "### Univariate Analysis"
      ]
    },
    {
      "cell_type": "code",
      "execution_count": 21,
      "id": "superb-springfield",
      "metadata": {
        "id": "superb-springfield"
      },
      "outputs": [],
      "source": [
        "# function to plot a boxplot and a histogram along the same scale.\n",
        "\n",
        "\n",
        "def histogram_boxplot(data, feature, figsize=(12, 7), kde=False, bins=None):\n",
        "    \"\"\"\n",
        "    Boxplot and histogram combined\n",
        "\n",
        "    data: dataframe\n",
        "    feature: dataframe column\n",
        "    figsize: size of figure (default (12,7))\n",
        "    kde: whether to the show density curve (default False)\n",
        "    bins: number of bins for histogram (default None)\n",
        "    \"\"\"\n",
        "    f2, (ax_box2, ax_hist2) = plt.subplots(\n",
        "        nrows=2,  # Number of rows of the subplot grid= 2\n",
        "        sharex=True,  # x-axis will be shared among all subplots\n",
        "        gridspec_kw={\"height_ratios\": (0.25, 0.75)},\n",
        "        figsize=figsize,\n",
        "    )  # creating the 2 subplots\n",
        "    sns.boxplot(\n",
        "        data=data, x=feature, ax=ax_box2, showmeans=True, color=\"violet\"\n",
        "    )  # boxplot will be created and a star will indicate the mean value of the column\n",
        "    sns.histplot(\n",
        "        data=data, x=feature, kde=kde, ax=ax_hist2, bins=bins, palette=\"winter\"\n",
        "    ) if bins else sns.histplot(\n",
        "        data=data, x=feature, kde=kde, ax=ax_hist2\n",
        "    )  # For histogram\n",
        "    ax_hist2.axvline(\n",
        "        data[feature].mean(), color=\"green\", linestyle=\"--\"\n",
        "    )  # Add mean to the histogram\n",
        "    ax_hist2.axvline(\n",
        "        data[feature].median(), color=\"black\", linestyle=\"-\"\n",
        "    )  # Add median to the histogram"
      ]
    },
    {
      "cell_type": "markdown",
      "id": "comic-inventory",
      "metadata": {
        "id": "comic-inventory"
      },
      "source": [
        "### Observations on number of employees"
      ]
    },
    {
      "cell_type": "code",
      "execution_count": 22,
      "id": "loaded-commercial",
      "metadata": {
        "id": "loaded-commercial",
        "colab": {
          "base_uri": "https://localhost:8080/",
          "height": 443
        },
        "outputId": "5bdc7b32-764d-4e69-c6d2-2fba857847d9"
      },
      "outputs": [
        {
          "output_type": "display_data",
          "data": {
            "image/png": "[encoded data removed]",
            "text/plain": [
              "<Figure size 864x504 with 2 Axes>"
            ]
          },
          "metadata": {
            "needs_background": "light"
          }
        }
      ],
      "source": [
        "histogram_boxplot(data, \"no_of_employees\")"
      ]
    },
    {
      "cell_type": "markdown",
      "id": "metric-apparel",
      "metadata": {
        "id": "metric-apparel"
      },
      "source": [
        "### Observations on prevailing wage"
      ]
    },
    {
      "cell_type": "code",
      "execution_count": 23,
      "id": "duplicate-theater",
      "metadata": {
        "id": "duplicate-theater",
        "colab": {
          "base_uri": "https://localhost:8080/",
          "height": 443
        },
        "outputId": "c17a6573-71c8-4ba3-b884-3d672aab6e60"
      },
      "outputs": [
        {
          "output_type": "display_data",
          "data": {
            "image/png": "[encoded data removed]",
            "text/plain": [
              "<Figure size 864x504 with 2 Axes>"
            ]
          },
          "metadata": {
            "needs_background": "light"
          }
        }
      ],
      "source": [
        "histogram_boxplot(\n",
        "    data, \"prevailing_wage\"\n",
        ")  ## Complete the code to create histogram_boxplot for prevailing wage"
      ]
    },
    {
      "cell_type": "code",
      "execution_count": 24,
      "id": "legendary-stone",
      "metadata": {
        "id": "legendary-stone",
        "colab": {
          "base_uri": "https://localhost:8080/",
          "height": 479
        },
        "outputId": "8777428c-1686-4289-aa53-2b52d91519f9"
      },
      "outputs": [
        {
          "output_type": "execute_result",
          "data": {
            "text/html": [
              "<div>\n",
              "<style scoped>\n",
              "    .dataframe tbody tr th:only-of-type {\n",
              "        vertical-align: middle;\n",
              "    }\n",
              "\n",
              "    .dataframe tbody tr th {\n",
              "        vertical-align: top;\n",
              "    }\n",
              "\n",
              "    .dataframe thead th {\n",
              "        text-align: right;\n",
              "    }\n",
              "</style>\n",
              "<table border=\"1\" class=\"dataframe\">\n",
              "  <thead>\n",
              "    <tr style=\"text-align: right;\">\n",
              "      <th></th>\n",
              "      <th>continent</th>\n",
              "      <th>education_of_employee</th>\n",
              "      <th>has_job_experience</th>\n",
              "      <th>requires_job_training</th>\n",
              "      <th>no_of_employees</th>\n",
              "      <th>yr_of_estab</th>\n",
              "      <th>region_of_employment</th>\n",
              "      <th>prevailing_wage</th>\n",
              "      <th>unit_of_wage</th>\n",
              "      <th>full_time_position</th>\n",
              "      <th>case_status</th>\n",
              "    </tr>\n",
              "  </thead>\n",
              "  <tbody>\n",
              "    <tr>\n",
              "      <th>338</th>\n",
              "      <td>Asia</td>\n",
              "      <td>Bachelor's</td>\n",
              "      <td>Y</td>\n",
              "      <td>N</td>\n",
              "      <td>2114</td>\n",
              "      <td>2012</td>\n",
              "      <td>Northeast</td>\n",
              "      <td>15.7716</td>\n",
              "      <td>Hour</td>\n",
              "      <td>Y</td>\n",
              "      <td>Certified</td>\n",
              "    </tr>\n",
              "    <tr>\n",
              "      <th>634</th>\n",
              "      <td>Asia</td>\n",
              "      <td>Master's</td>\n",
              "      <td>N</td>\n",
              "      <td>N</td>\n",
              "      <td>834</td>\n",
              "      <td>1977</td>\n",
              "      <td>Northeast</td>\n",
              "      <td>3.3188</td>\n",
              "      <td>Hour</td>\n",
              "      <td>Y</td>\n",
              "      <td>Denied</td>\n",
              "    </tr>\n",
              "    <tr>\n",
              "      <th>839</th>\n",
              "      <td>Asia</td>\n",
              "      <td>High School</td>\n",
              "      <td>Y</td>\n",
              "      <td>N</td>\n",
              "      <td>4537</td>\n",
              "      <td>1999</td>\n",
              "      <td>West</td>\n",
              "      <td>61.1329</td>\n",
              "      <td>Hour</td>\n",
              "      <td>Y</td>\n",
              "      <td>Denied</td>\n",
              "    </tr>\n",
              "    <tr>\n",
              "      <th>876</th>\n",
              "      <td>South America</td>\n",
              "      <td>Bachelor's</td>\n",
              "      <td>Y</td>\n",
              "      <td>N</td>\n",
              "      <td>731</td>\n",
              "      <td>2004</td>\n",
              "      <td>Northeast</td>\n",
              "      <td>82.0029</td>\n",
              "      <td>Hour</td>\n",
              "      <td>Y</td>\n",
              "      <td>Denied</td>\n",
              "    </tr>\n",
              "    <tr>\n",
              "      <th>995</th>\n",
              "      <td>Asia</td>\n",
              "      <td>Master's</td>\n",
              "      <td>N</td>\n",
              "      <td>N</td>\n",
              "      <td>302</td>\n",
              "      <td>2000</td>\n",
              "      <td>South</td>\n",
              "      <td>47.4872</td>\n",
              "      <td>Hour</td>\n",
              "      <td>Y</td>\n",
              "      <td>Certified</td>\n",
              "    </tr>\n",
              "    <tr>\n",
              "      <th>...</th>\n",
              "      <td>...</td>\n",
              "      <td>...</td>\n",
              "      <td>...</td>\n",
              "      <td>...</td>\n",
              "      <td>...</td>\n",
              "      <td>...</td>\n",
              "      <td>...</td>\n",
              "      <td>...</td>\n",
              "      <td>...</td>\n",
              "      <td>...</td>\n",
              "      <td>...</td>\n",
              "    </tr>\n",
              "    <tr>\n",
              "      <th>25023</th>\n",
              "      <td>Asia</td>\n",
              "      <td>Bachelor's</td>\n",
              "      <td>N</td>\n",
              "      <td>Y</td>\n",
              "      <td>3200</td>\n",
              "      <td>1994</td>\n",
              "      <td>South</td>\n",
              "      <td>94.1546</td>\n",
              "      <td>Hour</td>\n",
              "      <td>Y</td>\n",
              "      <td>Denied</td>\n",
              "    </tr>\n",
              "    <tr>\n",
              "      <th>25258</th>\n",
              "      <td>Asia</td>\n",
              "      <td>Bachelor's</td>\n",
              "      <td>Y</td>\n",
              "      <td>N</td>\n",
              "      <td>3659</td>\n",
              "      <td>1997</td>\n",
              "      <td>South</td>\n",
              "      <td>79.1099</td>\n",
              "      <td>Hour</td>\n",
              "      <td>Y</td>\n",
              "      <td>Denied</td>\n",
              "    </tr>\n",
              "    <tr>\n",
              "      <th>25308</th>\n",
              "      <td>North America</td>\n",
              "      <td>Master's</td>\n",
              "      <td>N</td>\n",
              "      <td>N</td>\n",
              "      <td>82953</td>\n",
              "      <td>1977</td>\n",
              "      <td>Northeast</td>\n",
              "      <td>42.7705</td>\n",
              "      <td>Hour</td>\n",
              "      <td>Y</td>\n",
              "      <td>Denied</td>\n",
              "    </tr>\n",
              "    <tr>\n",
              "      <th>25329</th>\n",
              "      <td>Africa</td>\n",
              "      <td>Bachelor's</td>\n",
              "      <td>N</td>\n",
              "      <td>N</td>\n",
              "      <td>2172</td>\n",
              "      <td>1993</td>\n",
              "      <td>Northeast</td>\n",
              "      <td>32.9286</td>\n",
              "      <td>Hour</td>\n",
              "      <td>Y</td>\n",
              "      <td>Denied</td>\n",
              "    </tr>\n",
              "    <tr>\n",
              "      <th>25461</th>\n",
              "      <td>Asia</td>\n",
              "      <td>Master's</td>\n",
              "      <td>Y</td>\n",
              "      <td>N</td>\n",
              "      <td>2861</td>\n",
              "      <td>2004</td>\n",
              "      <td>West</td>\n",
              "      <td>54.9196</td>\n",
              "      <td>Hour</td>\n",
              "      <td>Y</td>\n",
              "      <td>Denied</td>\n",
              "    </tr>\n",
              "  </tbody>\n",
              "</table>\n",
              "<p>176 rows × 11 columns</p>\n",
              "</div>"
            ],
            "text/plain": [
              "           continent education_of_employee has_job_experience  \\\n",
              "338             Asia            Bachelor's                  Y   \n",
              "634             Asia              Master's                  N   \n",
              "839             Asia           High School                  Y   \n",
              "876    South America            Bachelor's                  Y   \n",
              "995             Asia              Master's                  N   \n",
              "...              ...                   ...                ...   \n",
              "25023           Asia            Bachelor's                  N   \n",
              "25258           Asia            Bachelor's                  Y   \n",
              "25308  North America              Master's                  N   \n",
              "25329         Africa            Bachelor's                  N   \n",
              "25461           Asia              Master's                  Y   \n",
              "\n",
              "      requires_job_training  no_of_employees  yr_of_estab  \\\n",
              "338                       N             2114         2012   \n",
              "634                       N              834         1977   \n",
              "839                       N             4537         1999   \n",
              "876                       N              731         2004   \n",
              "995                       N              302         2000   \n",
              "...                     ...              ...          ...   \n",
              "25023                     Y             3200         1994   \n",
              "25258                     N             3659         1997   \n",
              "25308                     N            82953         1977   \n",
              "25329                     N             2172         1993   \n",
              "25461                     N             2861         2004   \n",
              "\n",
              "      region_of_employment  prevailing_wage unit_of_wage full_time_position  \\\n",
              "338              Northeast          15.7716         Hour                  Y   \n",
              "634              Northeast           3.3188         Hour                  Y   \n",
              "839                   West          61.1329         Hour                  Y   \n",
              "876              Northeast          82.0029         Hour                  Y   \n",
              "995                  South          47.4872         Hour                  Y   \n",
              "...                    ...              ...          ...                ...   \n",
              "25023                South          94.1546         Hour                  Y   \n",
              "25258                South          79.1099         Hour                  Y   \n",
              "25308            Northeast          42.7705         Hour                  Y   \n",
              "25329            Northeast          32.9286         Hour                  Y   \n",
              "25461                 West          54.9196         Hour                  Y   \n",
              "\n",
              "      case_status  \n",
              "338     Certified  \n",
              "634        Denied  \n",
              "839        Denied  \n",
              "876        Denied  \n",
              "995     Certified  \n",
              "...           ...  \n",
              "25023      Denied  \n",
              "25258      Denied  \n",
              "25308      Denied  \n",
              "25329      Denied  \n",
              "25461      Denied  \n",
              "\n",
              "[176 rows x 11 columns]"
            ]
          },
          "metadata": {},
          "execution_count": 24
        }
      ],
      "source": [
        "# checking the observations which have less than 100 prevailing wage\n",
        "data.loc[\n",
        "    data[\"prevailing_wage\"] < 100,\n",
        "]  ## Complete the code to find the rows with less than 100 prevailing wage"
      ]
    },
    {
      "cell_type": "code",
      "execution_count": 25,
      "id": "handmade-carroll",
      "metadata": {
        "id": "handmade-carroll",
        "colab": {
          "base_uri": "https://localhost:8080/"
        },
        "outputId": "7ba7be9a-d69d-4ea1-8c82-675a5a1faa9d"
      },
      "outputs": [
        {
          "output_type": "execute_result",
          "data": {
            "text/plain": [
              "Hour    176\n",
              "Name: unit_of_wage, dtype: int64"
            ]
          },
          "metadata": {},
          "execution_count": 25
        }
      ],
      "source": [
        "data.loc[\n",
        "    data[\"prevailing_wage\"] < 100, \"unit_of_wage\"\n",
        "].value_counts()  ## Complete the code to get the count of the values in the mentioned column"
      ]
    },
    {
      "cell_type": "code",
      "execution_count": 26,
      "id": "proof-drove",
      "metadata": {
        "id": "proof-drove"
      },
      "outputs": [],
      "source": [
        "# function to create labeled barplots\n",
        "\n",
        "\n",
        "def labeled_barplot(data, feature, perc=False, n=None):\n",
        "    \"\"\"\n",
        "    Barplot with percentage at the top\n",
        "\n",
        "    data: dataframe\n",
        "    feature: dataframe column\n",
        "    perc: whether to display percentages instead of count (default is False)\n",
        "    n: displays the top n category levels (default is None, i.e., display all levels)\n",
        "    \"\"\"\n",
        "\n",
        "    total = len(data[feature])  # length of the column\n",
        "    count = data[feature].nunique()\n",
        "    if n is None:\n",
        "        plt.figure(figsize=(count + 1, 5))\n",
        "    else:\n",
        "        plt.figure(figsize=(n + 1, 5))\n",
        "\n",
        "    plt.xticks(rotation=90, fontsize=15)\n",
        "    ax = sns.countplot(\n",
        "        data=data,\n",
        "        x=feature,\n",
        "        palette=\"Paired\",\n",
        "        order=data[feature].value_counts().index[:n].sort_values(),\n",
        "    )\n",
        "\n",
        "    for p in ax.patches:\n",
        "        if perc == True:\n",
        "            label = \"{:.1f}%\".format(\n",
        "                100 * p.get_height() / total\n",
        "            )  # percentage of each class of the category\n",
        "        else:\n",
        "            label = p.get_height()  # count of each level of the category\n",
        "\n",
        "        x = p.get_x() + p.get_width() / 2  # width of the plot\n",
        "        y = p.get_height()  # height of the plot\n",
        "\n",
        "        ax.annotate(\n",
        "            label,\n",
        "            (x, y),\n",
        "            ha=\"center\",\n",
        "            va=\"center\",\n",
        "            size=12,\n",
        "            xytext=(0, 5),\n",
        "            textcoords=\"offset points\",\n",
        "        )  # annotate the percentage\n",
        "\n",
        "    plt.show()  # show the plot"
      ]
    },
    {
      "cell_type": "markdown",
      "id": "bulgarian-parts",
      "metadata": {
        "id": "bulgarian-parts"
      },
      "source": [
        "### Observations on continent"
      ]
    },
    {
      "cell_type": "code",
      "execution_count": 27,
      "id": "artistic-accounting",
      "metadata": {
        "id": "artistic-accounting",
        "colab": {
          "base_uri": "https://localhost:8080/",
          "height": 434
        },
        "outputId": "286449ab-8820-42e8-a1da-65ba202adba4"
      },
      "outputs": [
        {
          "output_type": "display_data",
          "data": {
            "image/png": "[encoded data removed]",
            "text/plain": [
              "<Figure size 504x360 with 1 Axes>"
            ]
          },
          "metadata": {
            "needs_background": "light"
          }
        }
      ],
      "source": [
        "labeled_barplot(data, \"continent\", perc=True)"
      ]
    },
    {
      "cell_type": "markdown",
      "id": "editorial-command",
      "metadata": {
        "id": "editorial-command"
      },
      "source": [
        "### Observations on education of employee"
      ]
    },
    {
      "cell_type": "code",
      "execution_count": 28,
      "id": "express-harrison",
      "metadata": {
        "id": "express-harrison",
        "colab": {
          "base_uri": "https://localhost:8080/",
          "height": 414
        },
        "outputId": "6b201f48-2e48-4f36-f6b0-fd3e880c70cf"
      },
      "outputs": [
        {
          "output_type": "display_data",
          "data": {
            "image/png": "[encoded data removed]",
            "text/plain": [
              "<Figure size 360x360 with 1 Axes>"
            ]
          },
          "metadata": {
            "needs_background": "light"
          }
        }
      ],
      "source": [
        "labeled_barplot(\n",
        "    data, \"education_of_employee\"\n",
        ")  ## Complete the code to create labeled_barplot for education of employee"
      ]
    },
    {
      "cell_type": "markdown",
      "id": "forbidden-kidney",
      "metadata": {
        "id": "forbidden-kidney"
      },
      "source": [
        "### Observations on job experience"
      ]
    },
    {
      "cell_type": "code",
      "execution_count": 29,
      "id": "exterior-rings",
      "metadata": {
        "id": "exterior-rings",
        "colab": {
          "base_uri": "https://localhost:8080/",
          "height": 336
        },
        "outputId": "61a5c4ea-0daa-4453-f98f-8fd5f23050c9"
      },
      "outputs": [
        {
          "output_type": "display_data",
          "data": {
            "image/png": "[encoded data removed]",
            "text/plain": [
              "<Figure size 216x360 with 1 Axes>"
            ]
          },
          "metadata": {
            "needs_background": "light"
          }
        }
      ],
      "source": [
        "labeled_barplot(\n",
        "    data, \"has_job_experience\"\n",
        ")  ## Complete the code to create labeled_barplot for job experience"
      ]
    },
    {
      "cell_type": "markdown",
      "id": "amateur-above",
      "metadata": {
        "id": "amateur-above"
      },
      "source": [
        "### Observations on job training"
      ]
    },
    {
      "cell_type": "code",
      "execution_count": 30,
      "id": "serial-irrigation",
      "metadata": {
        "id": "serial-irrigation",
        "scrolled": false,
        "colab": {
          "base_uri": "https://localhost:8080/",
          "height": 336
        },
        "outputId": "e7549f00-1d8e-4a62-aeea-65d68414c026"
      },
      "outputs": [
        {
          "output_type": "display_data",
          "data": {
            "image/png": "[encoded data removed]",
            "text/plain": [
              "<Figure size 216x360 with 1 Axes>"
            ]
          },
          "metadata": {
            "needs_background": "light"
          }
        }
      ],
      "source": [
        "labeled_barplot(\n",
        "    data, \"requires_job_training\"\n",
        ")  ## Complete the code to create labeled_barplot for job training"
      ]
    },
    {
      "cell_type": "markdown",
      "id": "attempted-burlington",
      "metadata": {
        "id": "attempted-burlington"
      },
      "source": [
        "### Observations on region of employment"
      ]
    },
    {
      "cell_type": "code",
      "execution_count": 31,
      "id": "suited-tuner",
      "metadata": {
        "id": "suited-tuner",
        "colab": {
          "base_uri": "https://localhost:8080/",
          "height": 399
        },
        "outputId": "14b79b9c-f5e1-4cfd-e627-160ad2539e27"
      },
      "outputs": [
        {
          "output_type": "display_data",
          "data": {
            "image/png": "[encoded data removed]",
            "text/plain": [
              "<Figure size 432x360 with 1 Axes>"
            ]
          },
          "metadata": {
            "needs_background": "light"
          }
        }
      ],
      "source": [
        "labeled_barplot(\n",
        "    data, \"region_of_employment\"\n",
        ")  ## Complete the code to create labeled_barplot for region of employment"
      ]
    },
    {
      "cell_type": "markdown",
      "id": "aging-curve",
      "metadata": {
        "id": "aging-curve"
      },
      "source": [
        "### Observations on unit of wage"
      ]
    },
    {
      "cell_type": "code",
      "execution_count": 32,
      "id": "modified-breed",
      "metadata": {
        "id": "modified-breed",
        "colab": {
          "base_uri": "https://localhost:8080/",
          "height": 372
        },
        "outputId": "24b96cca-78cd-455b-aaf2-a49256d63e14"
      },
      "outputs": [
        {
          "output_type": "display_data",
          "data": {
            "image/png": "[encoded data removed]",
            "text/plain": [
              "<Figure size 360x360 with 1 Axes>"
            ]
          },
          "metadata": {
            "needs_background": "light"
          }
        }
      ],
      "source": [
        "labeled_barplot(\n",
        "    data, \"unit_of_wage\"\n",
        ")  ## Complete the code to create labeled_barplot for unit of wage"
      ]
    },
    {
      "cell_type": "markdown",
      "id": "stunning-surrey",
      "metadata": {
        "id": "stunning-surrey"
      },
      "source": [
        "### Observations on case status"
      ]
    },
    {
      "cell_type": "code",
      "execution_count": 33,
      "id": "potential-stroke",
      "metadata": {
        "id": "potential-stroke",
        "colab": {
          "base_uri": "https://localhost:8080/",
          "height": 389
        },
        "outputId": "fe2a11c1-3c58-4588-875e-962fbd935bf5"
      },
      "outputs": [
        {
          "output_type": "display_data",
          "data": {
            "image/png": "[encoded data removed]",
            "text/plain": [
              "<Figure size 216x360 with 1 Axes>"
            ]
          },
          "metadata": {
            "needs_background": "light"
          }
        }
      ],
      "source": [
        "labeled_barplot(\n",
        "    data, \"case_status\"\n",
        ")  ## Complete the code to create labeled_barplot for case status"
      ]
    },
    {
      "cell_type": "markdown",
      "id": "equivalent-aging",
      "metadata": {
        "id": "equivalent-aging"
      },
      "source": [
        "### Bivariate Analysis"
      ]
    },
    {
      "cell_type": "code",
      "execution_count": 34,
      "id": "social-wagner",
      "metadata": {
        "id": "social-wagner",
        "colab": {
          "base_uri": "https://localhost:8080/",
          "height": 325
        },
        "outputId": "b3bee54c-2517-4239-fd75-6eb4c1311a98"
      },
      "outputs": [
        {
          "output_type": "display_data",
          "data": {
            "image/png": "[encoded data removed]",
            "text/plain": [
              "<Figure size 720x360 with 2 Axes>"
            ]
          },
          "metadata": {
            "needs_background": "light"
          }
        }
      ],
      "source": [
        "cols_list = data.select_dtypes(include=np.number).columns.tolist()\n",
        "\n",
        "plt.figure(figsize=(10, 5))\n",
        "sns.heatmap(\n",
        "    data[cols_list].corr(), annot=True, vmin=-1, vmax=1, fmt=\".2f\", cmap=\"Spectral\"\n",
        ")  ## Complete the code to find the correlation between the variables\n",
        "plt.show()"
      ]
    },
    {
      "cell_type": "markdown",
      "id": "blond-convertible",
      "metadata": {
        "id": "blond-convertible"
      },
      "source": [
        "**Creating functions that will help us with further analysis.**"
      ]
    },
    {
      "cell_type": "code",
      "execution_count": 35,
      "id": "adaptive-recipient",
      "metadata": {
        "id": "adaptive-recipient"
      },
      "outputs": [],
      "source": [
        "### function to plot distributions wrt target\n",
        "\n",
        "\n",
        "def distribution_plot_wrt_target(data, predictor, target):\n",
        "\n",
        "    fig, axs = plt.subplots(2, 2, figsize=(12, 10))\n",
        "\n",
        "    target_uniq = data[target].unique()\n",
        "\n",
        "    axs[0, 0].set_title(\"Distribution of target for target=\" + str(target_uniq[0]))\n",
        "    sns.histplot(\n",
        "        data=data[data[target] == target_uniq[0]],\n",
        "        x=predictor,\n",
        "        kde=True,\n",
        "        ax=axs[0, 0],\n",
        "        color=\"teal\",\n",
        "        stat=\"density\",\n",
        "    )\n",
        "\n",
        "    axs[0, 1].set_title(\"Distribution of target for target=\" + str(target_uniq[1]))\n",
        "    sns.histplot(\n",
        "        data=data[data[target] == target_uniq[1]],\n",
        "        x=predictor,\n",
        "        kde=True,\n",
        "        ax=axs[0, 1],\n",
        "        color=\"orange\",\n",
        "        stat=\"density\",\n",
        "    )\n",
        "\n",
        "    axs[1, 0].set_title(\"Boxplot w.r.t target\")\n",
        "    sns.boxplot(data=data, x=target, y=predictor, ax=axs[1, 0], palette=\"gist_rainbow\")\n",
        "\n",
        "    axs[1, 1].set_title(\"Boxplot (without outliers) w.r.t target\")\n",
        "    sns.boxplot(\n",
        "        data=data,\n",
        "        x=target,\n",
        "        y=predictor,\n",
        "        ax=axs[1, 1],\n",
        "        showfliers=False,\n",
        "        palette=\"gist_rainbow\",\n",
        "    )\n",
        "\n",
        "    plt.tight_layout()\n",
        "    plt.show()"
      ]
    },
    {
      "cell_type": "code",
      "execution_count": 36,
      "id": "third-sheriff",
      "metadata": {
        "id": "third-sheriff"
      },
      "outputs": [],
      "source": [
        "def stacked_barplot(data, predictor, target):\n",
        "    \"\"\"\n",
        "    Print the category counts and plot a stacked bar chart\n",
        "\n",
        "    data: dataframe\n",
        "    predictor: independent variable\n",
        "    target: target variable\n",
        "    \"\"\"\n",
        "    count = data[predictor].nunique()\n",
        "    sorter = data[target].value_counts().index[-1]\n",
        "    tab1 = pd.crosstab(data[predictor], data[target], margins=True).sort_values(\n",
        "        by=sorter, ascending=False\n",
        "    )\n",
        "    print(tab1)\n",
        "    print(\"-\" * 120)\n",
        "    tab = pd.crosstab(data[predictor], data[target], normalize=\"index\").sort_values(\n",
        "        by=sorter, ascending=False\n",
        "    )\n",
        "    tab.plot(kind=\"bar\", stacked=True, figsize=(count + 5, 5))\n",
        "    plt.legend(\n",
        "        loc=\"lower left\", frameon=False,\n",
        "    )\n",
        "    plt.legend(loc=\"upper left\", bbox_to_anchor=(1, 1))\n",
        "    plt.show()"
      ]
    },
    {
      "cell_type": "markdown",
      "id": "dressed-excuse",
      "metadata": {
        "id": "dressed-excuse"
      },
      "source": [
        "**Those with higher education may want to travel abroad for a well-paid job. Let's find out if education has any impact on visa certification**"
      ]
    },
    {
      "cell_type": "code",
      "execution_count": 37,
      "id": "special-florist",
      "metadata": {
        "id": "special-florist",
        "colab": {
          "base_uri": "https://localhost:8080/",
          "height": 531
        },
        "outputId": "0244f8f5-0a93-46b7-e433-a36ad6dff9e0"
      },
      "outputs": [
        {
          "output_type": "stream",
          "name": "stdout",
          "text": [
            "case_status            Certified  Denied    All\n",
            "education_of_employee                          \n",
            "All                        17018    8462  25480\n",
            "Bachelor's                  6367    3867  10234\n",
            "High School                 1164    2256   3420\n",
            "Master's                    7575    2059   9634\n",
            "Doctorate                   1912     280   2192\n",
            "------------------------------------------------------------------------------------------------------------------------\n"
          ]
        },
        {
          "output_type": "display_data",
          "data": {
            "image/png": "[encoded data removed]",
            "text/plain": [
              "<Figure size 648x360 with 1 Axes>"
            ]
          },
          "metadata": {
            "needs_background": "light"
          }
        }
      ],
      "source": [
        "stacked_barplot(data, \"education_of_employee\", \"case_status\")"
      ]
    },
    {
      "cell_type": "markdown",
      "id": "wound-communication",
      "metadata": {
        "id": "wound-communication"
      },
      "source": [
        "**Different regions have different requirements of talent having diverse educational backgrounds. Let's analyze it further**"
      ]
    },
    {
      "cell_type": "code",
      "execution_count": 38,
      "id": "tamil-intelligence",
      "metadata": {
        "id": "tamil-intelligence",
        "colab": {
          "base_uri": "https://localhost:8080/",
          "height": 334
        },
        "outputId": "f884cf99-2bdc-4686-96a7-4a31b056b262"
      },
      "outputs": [
        {
          "output_type": "display_data",
          "data": {
            "image/png": "[encoded data removed]",
            "text/plain": [
              "<Figure size 720x360 with 2 Axes>"
            ]
          },
          "metadata": {
            "needs_background": "light"
          }
        }
      ],
      "source": [
        "plt.figure(figsize=(10, 5))\n",
        "sns.heatmap(\n",
        "    pd.crosstab(data[\"education_of_employee\"], data[\"region_of_employment\"]),\n",
        "    annot=True,\n",
        "    fmt=\"g\",\n",
        "    cmap=\"viridis\",\n",
        ")  ## Complete the code to plot heatmap for the crosstab between education and region of employment\n",
        "\n",
        "plt.ylabel(\"Education\")\n",
        "plt.xlabel(\"Region\")\n",
        "plt.show()"
      ]
    },
    {
      "cell_type": "markdown",
      "id": "theoretical-flexibility",
      "metadata": {
        "id": "theoretical-flexibility"
      },
      "source": [
        "**Let's have a look at the percentage of visa certifications across each region**"
      ]
    },
    {
      "cell_type": "code",
      "execution_count": 39,
      "id": "hybrid-zealand",
      "metadata": {
        "id": "hybrid-zealand",
        "colab": {
          "base_uri": "https://localhost:8080/",
          "height": 539
        },
        "outputId": "5dbb5430-2114-4b33-8217-cd3ba93d5ce7"
      },
      "outputs": [
        {
          "output_type": "stream",
          "name": "stdout",
          "text": [
            "case_status           Certified  Denied    All\n",
            "region_of_employment                          \n",
            "All                       17018    8462  25480\n",
            "Northeast                  4526    2669   7195\n",
            "West                       4100    2486   6586\n",
            "South                      4913    2104   7017\n",
            "Midwest                    3253    1054   4307\n",
            "Island                      226     149    375\n",
            "------------------------------------------------------------------------------------------------------------------------\n"
          ]
        },
        {
          "output_type": "display_data",
          "data": {
            "image/png": "[encoded data removed]",
            "text/plain": [
              "<Figure size 720x360 with 1 Axes>"
            ]
          },
          "metadata": {
            "needs_background": "light"
          }
        }
      ],
      "source": [
        "stacked_barplot(\n",
        "    data, \"region_of_employment\", \"case_status\"\n",
        ")  ## Complete the code to plot stacked barplot for region of employment and case status"
      ]
    },
    {
      "cell_type": "markdown",
      "id": "attended-current",
      "metadata": {
        "id": "attended-current"
      },
      "source": [
        "**Lets' similarly check for the continents and find out how the visa status vary across different continents.**"
      ]
    },
    {
      "cell_type": "code",
      "execution_count": 40,
      "id": "alive-bloom",
      "metadata": {
        "id": "alive-bloom",
        "colab": {
          "base_uri": "https://localhost:8080/",
          "height": 581
        },
        "outputId": "4b267216-2c8f-435d-d6b5-257bf860faf2"
      },
      "outputs": [
        {
          "output_type": "stream",
          "name": "stdout",
          "text": [
            "case_status    Certified  Denied    All\n",
            "continent                              \n",
            "All                17018    8462  25480\n",
            "Asia               11012    5849  16861\n",
            "North America       2037    1255   3292\n",
            "Europe              2957     775   3732\n",
            "South America        493     359    852\n",
            "Africa               397     154    551\n",
            "Oceania              122      70    192\n",
            "------------------------------------------------------------------------------------------------------------------------\n"
          ]
        },
        {
          "output_type": "display_data",
          "data": {
            "image/png": "[encoded data removed]",
            "text/plain": [
              "<Figure size 792x360 with 1 Axes>"
            ]
          },
          "metadata": {
            "needs_background": "light"
          }
        }
      ],
      "source": [
        "stacked_barplot(\n",
        "    data, \"continent\", \"case_status\"\n",
        ")  ## Complete the code to plot stacked barplot for continent and case status"
      ]
    },
    {
      "cell_type": "markdown",
      "id": "macro-decrease",
      "metadata": {
        "id": "macro-decrease"
      },
      "source": [
        "**Experienced professionals might look abroad for opportunities to improve their lifestyles and career development. Let's see if having work experience has any influence over visa certification** "
      ]
    },
    {
      "cell_type": "code",
      "execution_count": 41,
      "id": "divine-dimension",
      "metadata": {
        "id": "divine-dimension",
        "colab": {
          "base_uri": "https://localhost:8080/",
          "height": 442
        },
        "outputId": "48ba3426-f512-492d-8ddd-65117e8823c0"
      },
      "outputs": [
        {
          "output_type": "stream",
          "name": "stdout",
          "text": [
            "case_status         Certified  Denied    All\n",
            "has_job_experience                          \n",
            "All                     17018    8462  25480\n",
            "N                        5994    4684  10678\n",
            "Y                       11024    3778  14802\n",
            "------------------------------------------------------------------------------------------------------------------------\n"
          ]
        },
        {
          "output_type": "display_data",
          "data": {
            "image/png": "[encoded data removed]",
            "text/plain": [
              "<Figure size 504x360 with 1 Axes>"
            ]
          },
          "metadata": {
            "needs_background": "light"
          }
        }
      ],
      "source": [
        "stacked_barplot(\n",
        "    data, \"has_job_experience\", \"case_status\"\n",
        ")  ## Complete the code to plot stacked barplot for job experience and case status"
      ]
    },
    {
      "cell_type": "markdown",
      "id": "binding-charger",
      "metadata": {
        "id": "binding-charger"
      },
      "source": [
        "**Do the employees who have prior work experience require any job training?**"
      ]
    },
    {
      "cell_type": "code",
      "execution_count": 42,
      "id": "temporal-dairy",
      "metadata": {
        "id": "temporal-dairy",
        "colab": {
          "base_uri": "https://localhost:8080/",
          "height": 442
        },
        "outputId": "2aed1fa3-e65b-4f2c-fed5-b0da28f0a828"
      },
      "outputs": [
        {
          "output_type": "stream",
          "name": "stdout",
          "text": [
            "requires_job_training      N     Y    All\n",
            "has_job_experience                       \n",
            "All                    22525  2955  25480\n",
            "N                       8988  1690  10678\n",
            "Y                      13537  1265  14802\n",
            "------------------------------------------------------------------------------------------------------------------------\n"
          ]
        },
        {
          "output_type": "display_data",
          "data": {
            "image/png": "[encoded data removed]",
            "text/plain": [
              "<Figure size 504x360 with 1 Axes>"
            ]
          },
          "metadata": {
            "needs_background": "light"
          }
        }
      ],
      "source": [
        "stacked_barplot(\n",
        "    data, \"has_job_experience\", \"requires_job_training\"\n",
        ")  ## Complete the code to plot stacked barplot for job experience and requires_job_training"
      ]
    },
    {
      "cell_type": "markdown",
      "id": "lesser-bacteria",
      "metadata": {
        "id": "lesser-bacteria"
      },
      "source": [
        "**The US government has established a prevailing wage to protect local talent and foreign workers. Let's analyze the data and see if the visa status changes with the prevailing wage**"
      ]
    },
    {
      "cell_type": "code",
      "execution_count": 43,
      "id": "perfect-haiti",
      "metadata": {
        "id": "perfect-haiti",
        "colab": {
          "base_uri": "https://localhost:8080/",
          "height": 729
        },
        "outputId": "a43805e9-a4d3-423a-ba24-a6d779a09f7b"
      },
      "outputs": [
        {
          "output_type": "display_data",
          "data": {
            "image/png": "[encoded data removed]",
            "text/plain": [
              "<Figure size 864x720 with 4 Axes>"
            ]
          },
          "metadata": {
            "needs_background": "light"
          }
        }
      ],
      "source": [
        "distribution_plot_wrt_target(\n",
        "    data, \"prevailing_wage\", \"case_status\"\n",
        ")  ## Complete the code to find distribution of prevailing wage and case status"
      ]
    },
    {
      "cell_type": "markdown",
      "id": "changing-kansas",
      "metadata": {
        "id": "changing-kansas"
      },
      "source": [
        "**Checking if the prevailing wage is similar across all the regions of the US**"
      ]
    },
    {
      "cell_type": "code",
      "execution_count": 44,
      "id": "dangerous-pride",
      "metadata": {
        "id": "dangerous-pride",
        "colab": {
          "base_uri": "https://localhost:8080/",
          "height": 335
        },
        "outputId": "dc8d7810-50e3-4831-c512-a5019df07cfc"
      },
      "outputs": [
        {
          "output_type": "display_data",
          "data": {
            "image/png": "[encoded data removed]",
            "text/plain": [
              "<Figure size 720x360 with 1 Axes>"
            ]
          },
          "metadata": {
            "needs_background": "light"
          }
        }
      ],
      "source": [
        "plt.figure(figsize=(10, 5))\n",
        "sns.boxplot(\n",
        "    data=data,\n",
        "    x=\"region_of_employment\",\n",
        "    y=\"prevailing_wage\",  ## Complete the code to create boxplot for region of employment and prevailing wage\n",
        "    showfliers=False,  # turning off the outliers\n",
        ")\n",
        "plt.show()"
      ]
    },
    {
      "cell_type": "markdown",
      "id": "suspected-asthma",
      "metadata": {
        "id": "suspected-asthma"
      },
      "source": [
        "**The prevailing wage has different units (Hourly, Weekly, etc). Let's find out if it has any impact on visa applications getting certified.**"
      ]
    },
    {
      "cell_type": "code",
      "execution_count": 45,
      "id": "impossible-aquatic",
      "metadata": {
        "id": "impossible-aquatic",
        "colab": {
          "base_uri": "https://localhost:8080/",
          "height": 503
        },
        "outputId": "a63b5026-f777-47f2-cac9-2ddc940e0771"
      },
      "outputs": [
        {
          "output_type": "stream",
          "name": "stdout",
          "text": [
            "case_status   Certified  Denied    All\n",
            "unit_of_wage                          \n",
            "All               17018    8462  25480\n",
            "Year              16047    6915  22962\n",
            "Hour                747    1410   2157\n",
            "Week                169     103    272\n",
            "Month                55      34     89\n",
            "------------------------------------------------------------------------------------------------------------------------\n"
          ]
        },
        {
          "output_type": "display_data",
          "data": {
            "image/png": "[encoded data removed]",
            "text/plain": [
              "<Figure size 648x360 with 1 Axes>"
            ]
          },
          "metadata": {
            "needs_background": "light"
          }
        }
      ],
      "source": [
        "stacked_barplot(\n",
        "    data, \"unit_of_wage\", \"case_status\"\n",
        ")  ## Complete the code to plot stacked barplot for unit of wage and case status"
      ]
    },
    {
      "cell_type": "markdown",
      "id": "allied-association",
      "metadata": {
        "id": "allied-association"
      },
      "source": [
        "### Outlier Check\n",
        "\n",
        "- Let's check for outliers in the data."
      ]
    },
    {
      "cell_type": "code",
      "execution_count": 46,
      "id": "certified-complaint",
      "metadata": {
        "id": "certified-complaint",
        "colab": {
          "base_uri": "https://localhost:8080/",
          "height": 250
        },
        "outputId": "456ddbb9-7140-490c-b331-48e7b6f62f4b"
      },
      "outputs": [
        {
          "output_type": "display_data",
          "data": {
            "image/png": "[encoded data removed]",
            "text/plain": [
              "<Figure size 1080x864 with 3 Axes>"
            ]
          },
          "metadata": {
            "needs_background": "light"
          }
        }
      ],
      "source": [
        "# outlier detection using boxplot\n",
        "numeric_columns = data.select_dtypes(include=np.number).columns.tolist()\n",
        "\n",
        "\n",
        "plt.figure(figsize=(15, 12))\n",
        "\n",
        "for i, variable in enumerate(numeric_columns):\n",
        "    plt.subplot(4, 4, i + 1)\n",
        "    plt.boxplot(data[variable], whis=1.5)\n",
        "    plt.tight_layout()\n",
        "    plt.title(variable)\n",
        "plt.show()"
      ]
    },
    {
      "cell_type": "markdown",
      "id": "flexible-independence",
      "metadata": {
        "id": "flexible-independence"
      },
      "source": [
        "### Data Preparation for modeling\n",
        "\n",
        "- We want to predict which visa will be certified.\n",
        "- Before we proceed to build a model, we'll have to encode categorical features.\n",
        "- We'll split the data into train and test to be able to evaluate the model that we build on the train data."
      ]
    },
    {
      "cell_type": "code",
      "execution_count": 47,
      "id": "a273bda8",
      "metadata": {
        "id": "a273bda8"
      },
      "outputs": [],
      "source": [
        "#This function maps/converts the word \"certifed\" to a 1 and eveything else 0 is it's the \"target\" we are trying to predict.\n",
        "data[\"case_status\"] = data[\"case_status\"].apply(lambda x: 1 if x == \"Certified\" else 0)\n",
        "\n",
        "## Complete the code to drop case status from the data\n",
        "X = data.drop([\"case_status\"], axis=1)\n",
        "Y = data [\"case_status\"]\n",
        "\n",
        "## Complete the code to create dummies \n",
        "X = pd.get_dummies(X, drop_first=True)\n",
        "\n",
        "## Complete the code to split the data into train and test in the ratio 70:30\n",
        "X_train, X_test, y_train, y_test = train_test_split(X, Y, test_size=.30, random_state=1,stratify=Y)\n"
      ]
    },
    {
      "cell_type": "code",
      "execution_count": 48,
      "id": "empty-typing",
      "metadata": {
        "id": "empty-typing",
        "colab": {
          "base_uri": "https://localhost:8080/"
        },
        "outputId": "4499f79d-f8b4-4b17-bd83-ed12202f0dff"
      },
      "outputs": [
        {
          "output_type": "stream",
          "name": "stdout",
          "text": [
            "Shape of Training set :  (17836, 21)\n",
            "Percentage of classes in training set:\n",
            "1    0.667919\n",
            "0    0.332081\n",
            "Name: case_status, dtype: float64\n",
            "Shape of test set :  (7644, 21)\n",
            "Percentage of classes in test set:\n",
            "1    0.667844\n",
            "0    0.332156\n",
            "Name: case_status, dtype: float64\n"
          ]
        }
      ],
      "source": [
        "print(\"Shape of Training set : \", X_train.shape)\n",
        "print(\"Percentage of classes in training set:\")\n",
        "print(y_train.value_counts(normalize=True))\n",
        "\n",
        "print(\"Shape of test set : \", X_test.shape)\n",
        "print(\"Percentage of classes in test set:\")\n",
        "print(y_test.value_counts(normalize=True))\n"
      ]
    },
    {
      "cell_type": "markdown",
      "id": "71450807",
      "metadata": {
        "id": "71450807"
      },
      "source": [
        "### Model evaluation criterion\n",
        "\n",
        "### Model can make wrong predictions as:\n",
        "\n",
        "1. Model predicts that the visa application will get certified but in reality, the visa application should get denied.\n",
        "2. Model predicts that the visa application will not get certified but in reality, the visa application should get certified. \n",
        "\n",
        "### Which case is more important? \n",
        "* Both the cases are important as:\n",
        "\n",
        "* If a visa is certified when it had to be denied a wrong employee will get the job position while US citizens will miss the opportunity to work on that position.\n",
        "\n",
        "* If a visa is denied when it had to be certified the U.S. will lose a suitable human resource that can contribute to the economy. \n",
        "\n",
        "\n",
        "\n",
        "### How to reduce the losses?\n",
        "\n",
        "* `F1 Score` can be used a the metric for evaluation of the model, greater the F1  score higher are the chances of minimizing False Negatives and False Positives. \n",
        "* We will use balanced class weights so that model focuses equally on both classes."
      ]
    },
    {
      "cell_type": "markdown",
      "id": "capital-charlotte",
      "metadata": {
        "id": "capital-charlotte"
      },
      "source": [
        "#### First, let's create functions to calculate different metrics and confusion matrix so that we don't have to use the same code repeatedly for each model.\n",
        "* The model_performance_classification_sklearn function will be used to check the model performance of models. \n",
        "* The confusion_matrix_sklearn function will be used to plot the confusion matrix."
      ]
    },
    {
      "cell_type": "code",
      "execution_count": 49,
      "id": "mexican-database",
      "metadata": {
        "id": "mexican-database"
      },
      "outputs": [],
      "source": [
        "# defining a function to compute different metrics to check performance of a classification model built using sklearn\n",
        "\n",
        "\n",
        "def model_performance_classification_sklearn(model, predictors, target):\n",
        "    \"\"\"\n",
        "    Function to compute different metrics to check classification model performance\n",
        "\n",
        "    model: classifier\n",
        "    predictors: independent variables\n",
        "    target: dependent variable\n",
        "    \"\"\"\n",
        "\n",
        "    # predicting using the independent variables\n",
        "    pred = model.predict(predictors)\n",
        "\n",
        "    acc = accuracy_score(target, pred)  # to compute Accuracy\n",
        "    recall = recall_score(target, pred)  # to compute Recall\n",
        "    precision = precision_score(target, pred)  # to compute Precision\n",
        "    f1 = f1_score(target, pred)  # to compute F1-score\n",
        "\n",
        "    # creating a dataframe of metrics\n",
        "    df_perf = pd.DataFrame(\n",
        "        {\"Accuracy\": acc, \"Recall\": recall, \"Precision\": precision, \"F1\": f1,},\n",
        "        index=[0],\n",
        "    )\n",
        "\n",
        "    return df_perf"
      ]
    },
    {
      "cell_type": "code",
      "execution_count": 50,
      "id": "recreational-topic",
      "metadata": {
        "id": "recreational-topic"
      },
      "outputs": [],
      "source": [
        "def confusion_matrix_sklearn(model, predictors, target):\n",
        "    \"\"\"\n",
        "    To plot the confusion_matrix with percentages\n",
        "\n",
        "    model: classifier\n",
        "    predictors: independent variables\n",
        "    target: dependent variable\n",
        "    \"\"\"\n",
        "    y_pred = model.predict(predictors)\n",
        "    cm = confusion_matrix(target, y_pred)\n",
        "    labels = np.asarray(\n",
        "        [\n",
        "            [\"{0:0.0f}\".format(item) + \"\\n{0:.2%}\".format(item / cm.flatten().sum())]\n",
        "            for item in cm.flatten()\n",
        "        ]\n",
        "    ).reshape(2, 2)\n",
        "\n",
        "    plt.figure(figsize=(6, 4))\n",
        "    sns.heatmap(cm, annot=labels, fmt=\"\")\n",
        "    plt.ylabel(\"True label\")\n",
        "    plt.xlabel(\"Predicted label\")"
      ]
    },
    {
      "cell_type": "markdown",
      "id": "blank-ballet",
      "metadata": {
        "id": "blank-ballet"
      },
      "source": [
        "### Decision Tree Model"
      ]
    },
    {
      "cell_type": "code",
      "execution_count": 51,
      "id": "hourly-hormone",
      "metadata": {
        "id": "hourly-hormone",
        "colab": {
          "base_uri": "https://localhost:8080/"
        },
        "outputId": "e57b89ed-4d7b-4ce8-ce94-2d8e329d1410"
      },
      "outputs": [
        {
          "output_type": "execute_result",
          "data": {
            "text/plain": [
              "DecisionTreeClassifier(random_state=1)"
            ]
          },
          "metadata": {},
          "execution_count": 51
        }
      ],
      "source": [
        "## Complete the code to define decision tree classifier with random state = 1\n",
        "\n",
        "model = DecisionTreeClassifier(random_state=1)\n",
        "\n",
        "## Complete the code to fit decision tree classifier on the train data\n",
        "model.fit(X_train, y_train)"
      ]
    },
    {
      "cell_type": "markdown",
      "id": "increasing-diversity",
      "metadata": {
        "id": "increasing-diversity"
      },
      "source": [
        "#### Checking model performance on training set"
      ]
    },
    {
      "cell_type": "code",
      "execution_count": 52,
      "id": "a0eef0bb",
      "metadata": {
        "colab": {
          "base_uri": "https://localhost:8080/",
          "height": 279
        },
        "id": "a0eef0bb",
        "outputId": "de5fd90f-b39b-4125-ea7e-a9ccae3cb80a"
      },
      "outputs": [
        {
          "output_type": "display_data",
          "data": {
            "image/png": "[encoded data removed]",
            "text/plain": [
              "<Figure size 432x288 with 2 Axes>"
            ]
          },
          "metadata": {
            "needs_background": "light"
          }
        }
      ],
      "source": [
        "## Complete the code to create confusion matrix for train data\n",
        "\n",
        "confusion_matrix_sklearn(model, X_train, y_train)"
      ]
    },
    {
      "cell_type": "code",
      "execution_count": 53,
      "id": "irish-noise",
      "metadata": {
        "id": "irish-noise",
        "colab": {
          "base_uri": "https://localhost:8080/",
          "height": 81
        },
        "outputId": "52e60ab3-9b5e-4e1a-a9ec-d84cf6cc022a"
      },
      "outputs": [
        {
          "output_type": "execute_result",
          "data": {
            "text/html": [
              "<div>\n",
              "<style scoped>\n",
              "    .dataframe tbody tr th:only-of-type {\n",
              "        vertical-align: middle;\n",
              "    }\n",
              "\n",
              "    .dataframe tbody tr th {\n",
              "        vertical-align: top;\n",
              "    }\n",
              "\n",
              "    .dataframe thead th {\n",
              "        text-align: right;\n",
              "    }\n",
              "</style>\n",
              "<table border=\"1\" class=\"dataframe\">\n",
              "  <thead>\n",
              "    <tr style=\"text-align: right;\">\n",
              "      <th></th>\n",
              "      <th>Accuracy</th>\n",
              "      <th>Recall</th>\n",
              "      <th>Precision</th>\n",
              "      <th>F1</th>\n",
              "    </tr>\n",
              "  </thead>\n",
              "  <tbody>\n",
              "    <tr>\n",
              "      <th>0</th>\n",
              "      <td>1.0</td>\n",
              "      <td>1.0</td>\n",
              "      <td>1.0</td>\n",
              "      <td>1.0</td>\n",
              "    </tr>\n",
              "  </tbody>\n",
              "</table>\n",
              "</div>"
            ],
            "text/plain": [
              "   Accuracy  Recall  Precision   F1\n",
              "0       1.0     1.0        1.0  1.0"
            ]
          },
          "metadata": {},
          "execution_count": 53
        }
      ],
      "source": [
        "# Calculating different metrics\n",
        "## Complete the code to check performance on train data\n",
        "\n",
        "decision_tree_perf_train = model_performance_classification_sklearn(model, X_train, y_train) \n",
        "decision_tree_perf_train\n",
        "\n",
        "\n"
      ]
    },
    {
      "cell_type": "markdown",
      "id": "material-reduction",
      "metadata": {
        "id": "material-reduction"
      },
      "source": [
        "#### Checking model performance on test set"
      ]
    },
    {
      "cell_type": "code",
      "execution_count": 54,
      "id": "touched-survey",
      "metadata": {
        "id": "touched-survey",
        "colab": {
          "base_uri": "https://localhost:8080/",
          "height": 279
        },
        "outputId": "ac0280d3-01c4-427a-9819-6288ff87f24a"
      },
      "outputs": [
        {
          "output_type": "display_data",
          "data": {
            "image/png": "[encoded data removed]",
            "text/plain": [
              "<Figure size 432x288 with 2 Axes>"
            ]
          },
          "metadata": {
            "needs_background": "light"
          }
        }
      ],
      "source": [
        "## Complete the code to create confusion matrix for test data\n",
        "\n",
        "# Creating confusion matrix\n",
        "confusion_matrix_sklearn(model, X_test, y_test)"
      ]
    },
    {
      "cell_type": "code",
      "execution_count": 55,
      "id": "8049871f",
      "metadata": {
        "colab": {
          "base_uri": "https://localhost:8080/",
          "height": 81
        },
        "id": "8049871f",
        "outputId": "d20061a2-9f00-4eff-af0f-ccec4668fdb7"
      },
      "outputs": [
        {
          "output_type": "execute_result",
          "data": {
            "text/html": [
              "<div>\n",
              "<style scoped>\n",
              "    .dataframe tbody tr th:only-of-type {\n",
              "        vertical-align: middle;\n",
              "    }\n",
              "\n",
              "    .dataframe tbody tr th {\n",
              "        vertical-align: top;\n",
              "    }\n",
              "\n",
              "    .dataframe thead th {\n",
              "        text-align: right;\n",
              "    }\n",
              "</style>\n",
              "<table border=\"1\" class=\"dataframe\">\n",
              "  <thead>\n",
              "    <tr style=\"text-align: right;\">\n",
              "      <th></th>\n",
              "      <th>Accuracy</th>\n",
              "      <th>Recall</th>\n",
              "      <th>Precision</th>\n",
              "      <th>F1</th>\n",
              "    </tr>\n",
              "  </thead>\n",
              "  <tbody>\n",
              "    <tr>\n",
              "      <th>0</th>\n",
              "      <td>0.664835</td>\n",
              "      <td>0.742801</td>\n",
              "      <td>0.752232</td>\n",
              "      <td>0.747487</td>\n",
              "    </tr>\n",
              "  </tbody>\n",
              "</table>\n",
              "</div>"
            ],
            "text/plain": [
              "   Accuracy    Recall  Precision        F1\n",
              "0  0.664835  0.742801   0.752232  0.747487"
            ]
          },
          "metadata": {},
          "execution_count": 55
        }
      ],
      "source": [
        "## Complete the code to check performance for test data\n",
        "\n",
        "decision_tree_perf_test = model_performance_classification_sklearn(model, X_test, y_test) \n",
        "decision_tree_perf_test\n"
      ]
    },
    {
      "cell_type": "markdown",
      "id": "protected-romantic",
      "metadata": {
        "id": "protected-romantic"
      },
      "source": [
        "### Hyperparameter Tuning - Decision Tree"
      ]
    },
    {
      "cell_type": "code",
      "execution_count": 56,
      "id": "tested-building",
      "metadata": {
        "id": "tested-building",
        "colab": {
          "base_uri": "https://localhost:8080/"
        },
        "outputId": "a824d30f-b11a-41ee-db5b-fc159409f634"
      },
      "outputs": [
        {
          "output_type": "execute_result",
          "data": {
            "text/plain": [
              "DecisionTreeClassifier(class_weight='balanced', max_depth=10, max_leaf_nodes=2,\n",
              "                       min_impurity_decrease=0.0001, min_samples_leaf=3,\n",
              "                       random_state=1)"
            ]
          },
          "metadata": {},
          "execution_count": 56
        }
      ],
      "source": [
        "# Choose the type of classifier.\n",
        "dtree_estimator = DecisionTreeClassifier(class_weight=\"balanced\", random_state=1)\n",
        "\n",
        "# Grid of parameters to choose from\n",
        "parameters = {\n",
        "    \"max_depth\": np.arange(10, 30, 5),\n",
        "    \"min_samples_leaf\": [3, 5, 7],\n",
        "    \"max_leaf_nodes\": [2, 3, 5],\n",
        "    \"min_impurity_decrease\": [0.0001, 0.001],\n",
        "}\n",
        "\n",
        "# Type of scoring used to compare parameter combinations\n",
        "scorer = metrics.make_scorer(metrics.f1_score)\n",
        "\n",
        "# Run the grid search\n",
        "## Complete the code to run grid search with n_jobs = -1\n",
        "\n",
        "grid_obj = GridSearchCV(dtree_estimator, parameters, scoring=scorer, n_jobs=-1)\n",
        "grid_obj = grid_obj.fit(X_train, y_train)\n",
        "\n",
        "# Set the clf to the best combination of parameters\n",
        "dtree_estimator = grid_obj.best_estimator_\n",
        "\n",
        "# Fit the best algorithm to the data.\n",
        "dtree_estimator.fit(X_train, y_train)"
      ]
    },
    {
      "cell_type": "code",
      "execution_count": 57,
      "id": "affected-thailand",
      "metadata": {
        "id": "affected-thailand",
        "colab": {
          "base_uri": "https://localhost:8080/",
          "height": 279
        },
        "outputId": "5f6c3eff-2a90-4f7d-c6a3-714d7dc9ebe3"
      },
      "outputs": [
        {
          "output_type": "display_data",
          "data": {
            "image/png": "[encoded data removed]",
            "text/plain": [
              "<Figure size 432x288 with 2 Axes>"
            ]
          },
          "metadata": {
            "needs_background": "light"
          }
        }
      ],
      "source": [
        "\"_______\"  ## Complete the code to create confusion matrix for train data on tuned estimator\n",
        "confusion_matrix_sklearn(dtree_estimator, X_train, y_train)"
      ]
    },
    {
      "cell_type": "code",
      "execution_count": 58,
      "id": "enormous-hunger",
      "metadata": {
        "id": "enormous-hunger",
        "colab": {
          "base_uri": "https://localhost:8080/",
          "height": 81
        },
        "outputId": "b1a8eaf0-593f-4759-ada4-0322337a8c7d"
      },
      "outputs": [
        {
          "output_type": "execute_result",
          "data": {
            "text/html": [
              "<div>\n",
              "<style scoped>\n",
              "    .dataframe tbody tr th:only-of-type {\n",
              "        vertical-align: middle;\n",
              "    }\n",
              "\n",
              "    .dataframe tbody tr th {\n",
              "        vertical-align: top;\n",
              "    }\n",
              "\n",
              "    .dataframe thead th {\n",
              "        text-align: right;\n",
              "    }\n",
              "</style>\n",
              "<table border=\"1\" class=\"dataframe\">\n",
              "  <thead>\n",
              "    <tr style=\"text-align: right;\">\n",
              "      <th></th>\n",
              "      <th>Accuracy</th>\n",
              "      <th>Recall</th>\n",
              "      <th>Precision</th>\n",
              "      <th>F1</th>\n",
              "    </tr>\n",
              "  </thead>\n",
              "  <tbody>\n",
              "    <tr>\n",
              "      <th>0</th>\n",
              "      <td>0.712548</td>\n",
              "      <td>0.931923</td>\n",
              "      <td>0.720067</td>\n",
              "      <td>0.812411</td>\n",
              "    </tr>\n",
              "  </tbody>\n",
              "</table>\n",
              "</div>"
            ],
            "text/plain": [
              "   Accuracy    Recall  Precision        F1\n",
              "0  0.712548  0.931923   0.720067  0.812411"
            ]
          },
          "metadata": {},
          "execution_count": 58
        }
      ],
      "source": [
        "## Complete the code to check performance for train data on tuned estimator\n",
        "dtree_estimator_model_train_perf = model_performance_classification_sklearn(\n",
        "    dtree_estimator, X_train, y_train\n",
        ")\n",
        "dtree_estimator_model_train_perf"
      ]
    },
    {
      "cell_type": "code",
      "execution_count": 59,
      "id": "stone-maker",
      "metadata": {
        "id": "stone-maker",
        "colab": {
          "base_uri": "https://localhost:8080/",
          "height": 279
        },
        "outputId": "de93c7aa-0801-4ce4-d7ee-2ce62293b937"
      },
      "outputs": [
        {
          "output_type": "display_data",
          "data": {
            "image/png": "[encoded data removed]",
            "text/plain": [
              "<Figure size 432x288 with 2 Axes>"
            ]
          },
          "metadata": {
            "needs_background": "light"
          }
        }
      ],
      "source": [
        "\"_______\"  ## Complete the code to create confusion matrix for test data on tuned estimator\n",
        "confusion_matrix_sklearn(dtree_estimator, X_test, y_test)"
      ]
    },
    {
      "cell_type": "code",
      "execution_count": 60,
      "id": "together-pittsburgh",
      "metadata": {
        "id": "together-pittsburgh",
        "colab": {
          "base_uri": "https://localhost:8080/",
          "height": 81
        },
        "outputId": "22c51f77-dbf2-4bfc-da8a-f6af5c0444c2"
      },
      "outputs": [
        {
          "output_type": "execute_result",
          "data": {
            "text/html": [
              "<div>\n",
              "<style scoped>\n",
              "    .dataframe tbody tr th:only-of-type {\n",
              "        vertical-align: middle;\n",
              "    }\n",
              "\n",
              "    .dataframe tbody tr th {\n",
              "        vertical-align: top;\n",
              "    }\n",
              "\n",
              "    .dataframe thead th {\n",
              "        text-align: right;\n",
              "    }\n",
              "</style>\n",
              "<table border=\"1\" class=\"dataframe\">\n",
              "  <thead>\n",
              "    <tr style=\"text-align: right;\">\n",
              "      <th></th>\n",
              "      <th>Accuracy</th>\n",
              "      <th>Recall</th>\n",
              "      <th>Precision</th>\n",
              "      <th>F1</th>\n",
              "    </tr>\n",
              "  </thead>\n",
              "  <tbody>\n",
              "    <tr>\n",
              "      <th>0</th>\n",
              "      <td>0.706567</td>\n",
              "      <td>0.930852</td>\n",
              "      <td>0.715447</td>\n",
              "      <td>0.809058</td>\n",
              "    </tr>\n",
              "  </tbody>\n",
              "</table>\n",
              "</div>"
            ],
            "text/plain": [
              "   Accuracy    Recall  Precision        F1\n",
              "0  0.706567  0.930852   0.715447  0.809058"
            ]
          },
          "metadata": {},
          "execution_count": 60
        }
      ],
      "source": [
        "## Complete the code to check performance for test data on tuned estimator\n",
        "dtree_estimator_model_test_perf = model_performance_classification_sklearn(\n",
        "    dtree_estimator, X_test, y_test\n",
        ")\n",
        "\n",
        "dtree_estimator_model_test_perf"
      ]
    },
    {
      "cell_type": "markdown",
      "id": "aging-corruption",
      "metadata": {
        "id": "aging-corruption"
      },
      "source": [
        "### Bagging Classifier"
      ]
    },
    {
      "cell_type": "code",
      "execution_count": 61,
      "id": "postal-angle",
      "metadata": {
        "id": "postal-angle",
        "colab": {
          "base_uri": "https://localhost:8080/"
        },
        "outputId": "44c13eb1-85a3-4f96-97c2-a3f21db8cc5e"
      },
      "outputs": [
        {
          "output_type": "execute_result",
          "data": {
            "text/plain": [
              "BaggingClassifier(random_state=1)"
            ]
          },
          "metadata": {},
          "execution_count": 61
        }
      ],
      "source": [
        "## Complete the code to define bagging classifier with random state = 1\n",
        "bagging_classifier = BaggingClassifier(random_state=1)\n",
        "\n",
        " ## Complete the code to fit bagging classifier on the train data\n",
        "bagging_classifier.fit(X_train,y_train)\n"
      ]
    },
    {
      "cell_type": "markdown",
      "id": "suffering-growing",
      "metadata": {
        "id": "suffering-growing"
      },
      "source": [
        "#### Checking model performance on training set"
      ]
    },
    {
      "cell_type": "code",
      "execution_count": 62,
      "id": "extraordinary-festival",
      "metadata": {
        "id": "extraordinary-festival",
        "colab": {
          "base_uri": "https://localhost:8080/",
          "height": 279
        },
        "outputId": "de0bf21e-5f76-43eb-c79d-46c062291736"
      },
      "outputs": [
        {
          "output_type": "display_data",
          "data": {
            "image/png": "[encoded data removed]",
            "text/plain": [
              "<Figure size 432x288 with 2 Axes>"
            ]
          },
          "metadata": {
            "needs_background": "light"
          }
        }
      ],
      "source": [
        "## Complete the code to create confusion matrix for train data\n",
        "confusion_matrix_sklearn(bagging_classifier, X_train, y_train)"
      ]
    },
    {
      "cell_type": "code",
      "execution_count": 63,
      "id": "further-yemen",
      "metadata": {
        "id": "further-yemen",
        "colab": {
          "base_uri": "https://localhost:8080/",
          "height": 81
        },
        "outputId": "2b7bd106-f9bf-4898-e628-520bbdd4dad5"
      },
      "outputs": [
        {
          "output_type": "execute_result",
          "data": {
            "text/html": [
              "<div>\n",
              "<style scoped>\n",
              "    .dataframe tbody tr th:only-of-type {\n",
              "        vertical-align: middle;\n",
              "    }\n",
              "\n",
              "    .dataframe tbody tr th {\n",
              "        vertical-align: top;\n",
              "    }\n",
              "\n",
              "    .dataframe thead th {\n",
              "        text-align: right;\n",
              "    }\n",
              "</style>\n",
              "<table border=\"1\" class=\"dataframe\">\n",
              "  <thead>\n",
              "    <tr style=\"text-align: right;\">\n",
              "      <th></th>\n",
              "      <th>Accuracy</th>\n",
              "      <th>Recall</th>\n",
              "      <th>Precision</th>\n",
              "      <th>F1</th>\n",
              "    </tr>\n",
              "  </thead>\n",
              "  <tbody>\n",
              "    <tr>\n",
              "      <th>0</th>\n",
              "      <td>0.985198</td>\n",
              "      <td>0.985982</td>\n",
              "      <td>0.99181</td>\n",
              "      <td>0.988887</td>\n",
              "    </tr>\n",
              "  </tbody>\n",
              "</table>\n",
              "</div>"
            ],
            "text/plain": [
              "   Accuracy    Recall  Precision        F1\n",
              "0  0.985198  0.985982    0.99181  0.988887"
            ]
          },
          "metadata": {},
          "execution_count": 63
        }
      ],
      "source": [
        "## Complete the code to check performance on train data\n",
        "bagging_classifier_model_train_perf = model_performance_classification_sklearn(\n",
        "    bagging_classifier, X_train, y_train\n",
        ")\n",
        "bagging_classifier_model_train_perf"
      ]
    },
    {
      "cell_type": "markdown",
      "id": "verified-obligation",
      "metadata": {
        "id": "verified-obligation"
      },
      "source": [
        "#### Checking model performance on test set"
      ]
    },
    {
      "cell_type": "code",
      "execution_count": 64,
      "id": "weird-wesley",
      "metadata": {
        "id": "weird-wesley",
        "colab": {
          "base_uri": "https://localhost:8080/",
          "height": 279
        },
        "outputId": "a4720744-8489-46f8-ad3d-34d48003d830"
      },
      "outputs": [
        {
          "output_type": "display_data",
          "data": {
            "image/png": "[encoded data removed]",
            "text/plain": [
              "<Figure size 432x288 with 2 Axes>"
            ]
          },
          "metadata": {
            "needs_background": "light"
          }
        }
      ],
      "source": [
        "## Complete the code to create confusion matrix for test data\n",
        "confusion_matrix_sklearn(bagging_classifier, X_test, y_test)"
      ]
    },
    {
      "cell_type": "code",
      "execution_count": 65,
      "id": "handy-nature",
      "metadata": {
        "id": "handy-nature",
        "colab": {
          "base_uri": "https://localhost:8080/",
          "height": 81
        },
        "outputId": "c87ac590-9220-42fb-e564-71f72b32b48e"
      },
      "outputs": [
        {
          "output_type": "execute_result",
          "data": {
            "text/html": [
              "<div>\n",
              "<style scoped>\n",
              "    .dataframe tbody tr th:only-of-type {\n",
              "        vertical-align: middle;\n",
              "    }\n",
              "\n",
              "    .dataframe tbody tr th {\n",
              "        vertical-align: top;\n",
              "    }\n",
              "\n",
              "    .dataframe thead th {\n",
              "        text-align: right;\n",
              "    }\n",
              "</style>\n",
              "<table border=\"1\" class=\"dataframe\">\n",
              "  <thead>\n",
              "    <tr style=\"text-align: right;\">\n",
              "      <th></th>\n",
              "      <th>Accuracy</th>\n",
              "      <th>Recall</th>\n",
              "      <th>Precision</th>\n",
              "      <th>F1</th>\n",
              "    </tr>\n",
              "  </thead>\n",
              "  <tbody>\n",
              "    <tr>\n",
              "      <th>0</th>\n",
              "      <td>0.691523</td>\n",
              "      <td>0.764153</td>\n",
              "      <td>0.771711</td>\n",
              "      <td>0.767913</td>\n",
              "    </tr>\n",
              "  </tbody>\n",
              "</table>\n",
              "</div>"
            ],
            "text/plain": [
              "   Accuracy    Recall  Precision        F1\n",
              "0  0.691523  0.764153   0.771711  0.767913"
            ]
          },
          "metadata": {},
          "execution_count": 65
        }
      ],
      "source": [
        "## Complete the code to check performance for test data\n",
        "bagging_classifier_model_test_perf = model_performance_classification_sklearn(\n",
        "    bagging_classifier, X_test, y_test\n",
        ")\n",
        "bagging_classifier_model_test_perf"
      ]
    },
    {
      "cell_type": "markdown",
      "id": "increased-civilian",
      "metadata": {
        "id": "increased-civilian"
      },
      "source": [
        "### Hyperparameter Tuning - Bagging Classifier"
      ]
    },
    {
      "cell_type": "code",
      "execution_count": 66,
      "id": "coastal-jefferson",
      "metadata": {
        "id": "coastal-jefferson",
        "colab": {
          "base_uri": "https://localhost:8080/"
        },
        "outputId": "2e9ea26e-955e-414f-bd63-0e432575239f"
      },
      "outputs": [
        {
          "output_type": "execute_result",
          "data": {
            "text/plain": [
              "BaggingClassifier(max_features=0.7, max_samples=0.7, n_estimators=100,\n",
              "                  random_state=1)"
            ]
          },
          "metadata": {},
          "execution_count": 66
        }
      ],
      "source": [
        "# Choose the type of classifier.\n",
        "bagging_estimator_tuned = BaggingClassifier(random_state=1)\n",
        "\n",
        "# Grid of parameters to choose from\n",
        "parameters = {\n",
        "    \"max_samples\": [0.7, 0.8, 0.9],\n",
        "    \"max_features\": [0.7, 0.8, 0.9],\n",
        "    \"n_estimators\": np.arange(90, 120, 10),\n",
        "}\n",
        "\n",
        "# Type of scoring used to compare parameter combinations\n",
        "acc_scorer = metrics.make_scorer(metrics.f1_score)\n",
        "\n",
        "# Run the grid search\n",
        "\n",
        "\n",
        "## Complete the code to run grid search with cv = 5\n",
        "grid_obj = GridSearchCV(bagging_estimator_tuned, parameters, scoring=acc_scorer, cv=5)\n",
        "\n",
        "## Complete the code to fit the grid_obj on train data\n",
        "grid_obj = grid_obj.fit(X_train, y_train)\n",
        "\n",
        "# Set the clf to the best combination of parameters\n",
        "bagging_estimator_tuned = grid_obj.best_estimator_\n",
        "\n",
        "# Fit the best algorithm to the data.\n",
        "bagging_estimator_tuned.fit(X_train, y_train)"
      ]
    },
    {
      "cell_type": "markdown",
      "id": "protecting-douglas",
      "metadata": {
        "id": "protecting-douglas"
      },
      "source": [
        "#### Checking model performance on training set"
      ]
    },
    {
      "cell_type": "code",
      "execution_count": 67,
      "id": "nominated-overhead",
      "metadata": {
        "id": "nominated-overhead",
        "colab": {
          "base_uri": "https://localhost:8080/",
          "height": 279
        },
        "outputId": "8947a29e-6746-46d1-b946-14026d556e60"
      },
      "outputs": [
        {
          "output_type": "display_data",
          "data": {
            "image/png": "[encoded data removed]",
            "text/plain": [
              "<Figure size 432x288 with 2 Axes>"
            ]
          },
          "metadata": {
            "needs_background": "light"
          }
        }
      ],
      "source": [
        "\"_______\"  ## Complete the code to create confusion matrix for train data on tuned estimator\n",
        "\n",
        "confusion_matrix_sklearn(bagging_estimator_tuned, X_train, y_train)"
      ]
    },
    {
      "cell_type": "code",
      "execution_count": 68,
      "id": "fundamental-newport",
      "metadata": {
        "id": "fundamental-newport",
        "colab": {
          "base_uri": "https://localhost:8080/",
          "height": 81
        },
        "outputId": "9c471d3a-255a-4aab-d0cd-88a2ce3f8ec1"
      },
      "outputs": [
        {
          "output_type": "execute_result",
          "data": {
            "text/html": [
              "<div>\n",
              "<style scoped>\n",
              "    .dataframe tbody tr th:only-of-type {\n",
              "        vertical-align: middle;\n",
              "    }\n",
              "\n",
              "    .dataframe tbody tr th {\n",
              "        vertical-align: top;\n",
              "    }\n",
              "\n",
              "    .dataframe thead th {\n",
              "        text-align: right;\n",
              "    }\n",
              "</style>\n",
              "<table border=\"1\" class=\"dataframe\">\n",
              "  <thead>\n",
              "    <tr style=\"text-align: right;\">\n",
              "      <th></th>\n",
              "      <th>Accuracy</th>\n",
              "      <th>Recall</th>\n",
              "      <th>Precision</th>\n",
              "      <th>F1</th>\n",
              "    </tr>\n",
              "  </thead>\n",
              "  <tbody>\n",
              "    <tr>\n",
              "      <th>0</th>\n",
              "      <td>0.996187</td>\n",
              "      <td>0.999916</td>\n",
              "      <td>0.994407</td>\n",
              "      <td>0.997154</td>\n",
              "    </tr>\n",
              "  </tbody>\n",
              "</table>\n",
              "</div>"
            ],
            "text/plain": [
              "   Accuracy    Recall  Precision        F1\n",
              "0  0.996187  0.999916   0.994407  0.997154"
            ]
          },
          "metadata": {},
          "execution_count": 68
        }
      ],
      "source": [
        "## Complete the code to check performance for train data on tuned estimator\n",
        "bagging_estimator_tuned_model_train_perf = model_performance_classification_sklearn(\n",
        "    bagging_estimator_tuned, X_train, y_train\n",
        ")\n",
        "bagging_estimator_tuned_model_train_perf"
      ]
    },
    {
      "cell_type": "markdown",
      "id": "elegant-bookmark",
      "metadata": {
        "id": "elegant-bookmark"
      },
      "source": [
        "#### Checking model performance on test set"
      ]
    },
    {
      "cell_type": "code",
      "execution_count": 69,
      "id": "later-setup",
      "metadata": {
        "id": "later-setup",
        "colab": {
          "base_uri": "https://localhost:8080/",
          "height": 280
        },
        "outputId": "11055ab7-f95f-46d5-ca5c-aaccc18800e3"
      },
      "outputs": [
        {
          "output_type": "display_data",
          "data": {
            "image/png": "[encoded data removed]",
            "text/plain": [
              "<Figure size 432x288 with 2 Axes>"
            ]
          },
          "metadata": {
            "needs_background": "light"
          }
        }
      ],
      "source": [
        "\"_______\"  ## Complete the code to create confusion matrix for test data on tuned estimator\n",
        "\n",
        "confusion_matrix_sklearn(bagging_estimator_tuned, X_test, y_test)"
      ]
    },
    {
      "cell_type": "code",
      "execution_count": 70,
      "id": "discrete-immigration",
      "metadata": {
        "id": "discrete-immigration",
        "colab": {
          "base_uri": "https://localhost:8080/",
          "height": 81
        },
        "outputId": "b579cce1-f0a0-4af1-a213-5eabee27f625"
      },
      "outputs": [
        {
          "output_type": "execute_result",
          "data": {
            "text/html": [
              "<div>\n",
              "<style scoped>\n",
              "    .dataframe tbody tr th:only-of-type {\n",
              "        vertical-align: middle;\n",
              "    }\n",
              "\n",
              "    .dataframe tbody tr th {\n",
              "        vertical-align: top;\n",
              "    }\n",
              "\n",
              "    .dataframe thead th {\n",
              "        text-align: right;\n",
              "    }\n",
              "</style>\n",
              "<table border=\"1\" class=\"dataframe\">\n",
              "  <thead>\n",
              "    <tr style=\"text-align: right;\">\n",
              "      <th></th>\n",
              "      <th>Accuracy</th>\n",
              "      <th>Recall</th>\n",
              "      <th>Precision</th>\n",
              "      <th>F1</th>\n",
              "    </tr>\n",
              "  </thead>\n",
              "  <tbody>\n",
              "    <tr>\n",
              "      <th>0</th>\n",
              "      <td>0.724228</td>\n",
              "      <td>0.895397</td>\n",
              "      <td>0.743857</td>\n",
              "      <td>0.812622</td>\n",
              "    </tr>\n",
              "  </tbody>\n",
              "</table>\n",
              "</div>"
            ],
            "text/plain": [
              "   Accuracy    Recall  Precision        F1\n",
              "0  0.724228  0.895397   0.743857  0.812622"
            ]
          },
          "metadata": {},
          "execution_count": 70
        }
      ],
      "source": [
        "## Complete the code to check performance for test data on tuned estimator\n",
        "\n",
        "bagging_estimator_tuned_model_test_perf = model_performance_classification_sklearn(\n",
        "    bagging_estimator_tuned, X_test, y_test\n",
        ")\n",
        "bagging_estimator_tuned_model_test_perf"
      ]
    },
    {
      "cell_type": "markdown",
      "id": "colonial-society",
      "metadata": {
        "id": "colonial-society"
      },
      "source": [
        "### Random Forest"
      ]
    },
    {
      "cell_type": "code",
      "execution_count": 71,
      "id": "outer-array",
      "metadata": {
        "id": "outer-array",
        "colab": {
          "base_uri": "https://localhost:8080/"
        },
        "outputId": "18a42435-4fbd-41c2-ed72-c9215b3d138b"
      },
      "outputs": [
        {
          "output_type": "execute_result",
          "data": {
            "text/plain": [
              "RandomForestClassifier(class_weight='balanced', random_state=1)"
            ]
          },
          "metadata": {},
          "execution_count": 71
        }
      ],
      "source": [
        "# Fitting the model\n",
        "# rf_estimator = '_______' ## Complete the code to define random forest with random state = 1 and class_weight = balanced\n",
        "# rf_estimator.'_______' ## Complete the code to fit random forest on the train data\n",
        "\n",
        "rf_estimator = RandomForestClassifier(random_state=1, class_weight=\"balanced\")\n",
        "rf_estimator.fit(X_train, y_train)"
      ]
    },
    {
      "cell_type": "markdown",
      "id": "possible-vinyl",
      "metadata": {
        "id": "possible-vinyl"
      },
      "source": [
        "#### Checking model performance on training set"
      ]
    },
    {
      "cell_type": "code",
      "execution_count": 72,
      "id": "nervous-ordering",
      "metadata": {
        "id": "nervous-ordering",
        "colab": {
          "base_uri": "https://localhost:8080/",
          "height": 279
        },
        "outputId": "5366f5c5-365b-4e41-fe22-9ee963b36088"
      },
      "outputs": [
        {
          "output_type": "display_data",
          "data": {
            "image/png": "[encoded data removed]",
            "text/plain": [
              "<Figure size 432x288 with 2 Axes>"
            ]
          },
          "metadata": {
            "needs_background": "light"
          }
        }
      ],
      "source": [
        "\"_______\"  ## Complete the code to create confusion matrix for train data\n",
        "\n",
        "confusion_matrix_sklearn(rf_estimator, X_train, y_train)"
      ]
    },
    {
      "cell_type": "code",
      "execution_count": 73,
      "id": "functioning-nigeria",
      "metadata": {
        "id": "functioning-nigeria",
        "colab": {
          "base_uri": "https://localhost:8080/",
          "height": 81
        },
        "outputId": "67263df7-622f-42df-91e6-4a8bc5a1d89e"
      },
      "outputs": [
        {
          "output_type": "execute_result",
          "data": {
            "text/html": [
              "<div>\n",
              "<style scoped>\n",
              "    .dataframe tbody tr th:only-of-type {\n",
              "        vertical-align: middle;\n",
              "    }\n",
              "\n",
              "    .dataframe tbody tr th {\n",
              "        vertical-align: top;\n",
              "    }\n",
              "\n",
              "    .dataframe thead th {\n",
              "        text-align: right;\n",
              "    }\n",
              "</style>\n",
              "<table border=\"1\" class=\"dataframe\">\n",
              "  <thead>\n",
              "    <tr style=\"text-align: right;\">\n",
              "      <th></th>\n",
              "      <th>Accuracy</th>\n",
              "      <th>Recall</th>\n",
              "      <th>Precision</th>\n",
              "      <th>F1</th>\n",
              "    </tr>\n",
              "  </thead>\n",
              "  <tbody>\n",
              "    <tr>\n",
              "      <th>0</th>\n",
              "      <td>1.0</td>\n",
              "      <td>1.0</td>\n",
              "      <td>1.0</td>\n",
              "      <td>1.0</td>\n",
              "    </tr>\n",
              "  </tbody>\n",
              "</table>\n",
              "</div>"
            ],
            "text/plain": [
              "   Accuracy  Recall  Precision   F1\n",
              "0       1.0     1.0        1.0  1.0"
            ]
          },
          "metadata": {},
          "execution_count": 73
        }
      ],
      "source": [
        "# Calculating different metrics\n",
        "## Complete the code to check performance on train data\n",
        "# rf_estimator_model_train_perf = model_performance_classification_sklearn('_______')\n",
        "# rf_estimator_model_train_perf\n",
        "\n",
        "\n",
        "rf_estimator_model_train_perf = model_performance_classification_sklearn(\n",
        "    rf_estimator, X_train, y_train\n",
        ")\n",
        "rf_estimator_model_train_perf"
      ]
    },
    {
      "cell_type": "markdown",
      "id": "theoretical-poverty",
      "metadata": {
        "id": "theoretical-poverty"
      },
      "source": [
        "#### Checking model performance on test set"
      ]
    },
    {
      "cell_type": "code",
      "execution_count": 74,
      "id": "meaning-crash",
      "metadata": {
        "id": "meaning-crash",
        "colab": {
          "base_uri": "https://localhost:8080/",
          "height": 279
        },
        "outputId": "6839bafe-7ca8-4fb9-a832-a89f1147cb39"
      },
      "outputs": [
        {
          "output_type": "display_data",
          "data": {
            "image/png": "[encoded data removed]",
            "text/plain": [
              "<Figure size 432x288 with 2 Axes>"
            ]
          },
          "metadata": {
            "needs_background": "light"
          }
        }
      ],
      "source": [
        "\"_______\"  ## Complete the code to create confusion matrix for test data\n",
        "\n",
        "confusion_matrix_sklearn(rf_estimator, X_test, y_test)"
      ]
    },
    {
      "cell_type": "code",
      "execution_count": 75,
      "id": "pending-light",
      "metadata": {
        "id": "pending-light",
        "colab": {
          "base_uri": "https://localhost:8080/",
          "height": 81
        },
        "outputId": "c46eabf3-136a-46a1-d9f4-4e94469291ea"
      },
      "outputs": [
        {
          "output_type": "execute_result",
          "data": {
            "text/html": [
              "<div>\n",
              "<style scoped>\n",
              "    .dataframe tbody tr th:only-of-type {\n",
              "        vertical-align: middle;\n",
              "    }\n",
              "\n",
              "    .dataframe tbody tr th {\n",
              "        vertical-align: top;\n",
              "    }\n",
              "\n",
              "    .dataframe thead th {\n",
              "        text-align: right;\n",
              "    }\n",
              "</style>\n",
              "<table border=\"1\" class=\"dataframe\">\n",
              "  <thead>\n",
              "    <tr style=\"text-align: right;\">\n",
              "      <th></th>\n",
              "      <th>Accuracy</th>\n",
              "      <th>Recall</th>\n",
              "      <th>Precision</th>\n",
              "      <th>F1</th>\n",
              "    </tr>\n",
              "  </thead>\n",
              "  <tbody>\n",
              "    <tr>\n",
              "      <th>0</th>\n",
              "      <td>0.727368</td>\n",
              "      <td>0.847209</td>\n",
              "      <td>0.768343</td>\n",
              "      <td>0.805851</td>\n",
              "    </tr>\n",
              "  </tbody>\n",
              "</table>\n",
              "</div>"
            ],
            "text/plain": [
              "   Accuracy    Recall  Precision        F1\n",
              "0  0.727368  0.847209   0.768343  0.805851"
            ]
          },
          "metadata": {},
          "execution_count": 75
        }
      ],
      "source": [
        "# rf_estimator_model_test_perf = model_performance_classification_sklearn(    \"_______\")\n",
        "## Complete the code to check performance for test data rf_estimator_model_test_perf\n",
        "\n",
        "\n",
        "rf_estimator_model_test_perf = model_performance_classification_sklearn(\n",
        "    rf_estimator, X_test, y_test\n",
        ")\n",
        "rf_estimator_model_test_perf"
      ]
    },
    {
      "cell_type": "markdown",
      "id": "beneficial-bosnia",
      "metadata": {
        "id": "beneficial-bosnia"
      },
      "source": [
        "### Hyperparameter Tuning - Random Forest"
      ]
    },
    {
      "cell_type": "code",
      "execution_count": 76,
      "id": "interstate-jonathan",
      "metadata": {
        "id": "interstate-jonathan",
        "colab": {
          "base_uri": "https://localhost:8080/"
        },
        "outputId": "ba5e54e3-5867-4676-df2c-c59fcdb651dc"
      },
      "outputs": [
        {
          "output_type": "execute_result",
          "data": {
            "text/plain": [
              "RandomForestClassifier(max_depth=10, max_features='sqrt', min_samples_split=7,\n",
              "                       n_estimators=20, oob_score=True, random_state=1)"
            ]
          },
          "metadata": {},
          "execution_count": 76
        }
      ],
      "source": [
        "# Choose the type of classifier.\n",
        "rf_tuned = RandomForestClassifier(random_state=1, oob_score=True, bootstrap=True)\n",
        "\n",
        "parameters = {\n",
        "    \"max_depth\": list(np.arange(5, 15, 5)),\n",
        "    \"max_features\": [\"sqrt\", \"log2\"],\n",
        "    \"min_samples_split\": [3, 5, 7],\n",
        "    \"n_estimators\": np.arange(10, 40, 10),\n",
        "}\n",
        "\n",
        "# Type of scoring used to compare parameter combinations\n",
        "acc_scorer = metrics.make_scorer(metrics.f1_score)\n",
        "\n",
        "# Run the grid search\n",
        "grid_obj = GridSearchCV(\n",
        "    rf_tuned, parameters, scoring=acc_scorer, cv=5, n_jobs=-1\n",
        ")  ## Complete the code to run grid search with cv = 5 and n_jobs = -1\n",
        "grid_obj = grid_obj.fit(\n",
        "    X_train, y_train\n",
        ")  ## Complete the code to fit the grid_obj on the train data\n",
        "\n",
        "# Set the clf to the best combination of parameters\n",
        "rf_tuned = grid_obj.best_estimator_\n",
        "\n",
        "# Fit the best algorithm to the data.\n",
        "rf_tuned.fit(X_train, y_train)"
      ]
    },
    {
      "cell_type": "markdown",
      "id": "joint-appendix",
      "metadata": {
        "id": "joint-appendix"
      },
      "source": [
        "#### Checking model performance on training set"
      ]
    },
    {
      "cell_type": "code",
      "execution_count": 77,
      "id": "broadband-issue",
      "metadata": {
        "id": "broadband-issue",
        "colab": {
          "base_uri": "https://localhost:8080/",
          "height": 279
        },
        "outputId": "903ea6a6-8b14-4580-ec22-cb705f57dcc6"
      },
      "outputs": [
        {
          "output_type": "display_data",
          "data": {
            "image/png": "[encoded data removed]",
            "text/plain": [
              "<Figure size 432x288 with 2 Axes>"
            ]
          },
          "metadata": {
            "needs_background": "light"
          }
        }
      ],
      "source": [
        "\"_______\"  ## Complete the code to create confusion matrix for train data on tuned estimator\n",
        "confusion_matrix_sklearn(rf_tuned, X_train, y_train)"
      ]
    },
    {
      "cell_type": "code",
      "execution_count": 78,
      "id": "minus-publication",
      "metadata": {
        "id": "minus-publication",
        "colab": {
          "base_uri": "https://localhost:8080/",
          "height": 81
        },
        "outputId": "4f64b2d4-6900-4394-d3f2-7445f86dc4eb"
      },
      "outputs": [
        {
          "output_type": "execute_result",
          "data": {
            "text/html": [
              "<div>\n",
              "<style scoped>\n",
              "    .dataframe tbody tr th:only-of-type {\n",
              "        vertical-align: middle;\n",
              "    }\n",
              "\n",
              "    .dataframe tbody tr th {\n",
              "        vertical-align: top;\n",
              "    }\n",
              "\n",
              "    .dataframe thead th {\n",
              "        text-align: right;\n",
              "    }\n",
              "</style>\n",
              "<table border=\"1\" class=\"dataframe\">\n",
              "  <thead>\n",
              "    <tr style=\"text-align: right;\">\n",
              "      <th></th>\n",
              "      <th>Accuracy</th>\n",
              "      <th>Recall</th>\n",
              "      <th>Precision</th>\n",
              "      <th>F1</th>\n",
              "    </tr>\n",
              "  </thead>\n",
              "  <tbody>\n",
              "    <tr>\n",
              "      <th>0</th>\n",
              "      <td>0.769119</td>\n",
              "      <td>0.91866</td>\n",
              "      <td>0.776556</td>\n",
              "      <td>0.841652</td>\n",
              "    </tr>\n",
              "  </tbody>\n",
              "</table>\n",
              "</div>"
            ],
            "text/plain": [
              "   Accuracy   Recall  Precision        F1\n",
              "0  0.769119  0.91866   0.776556  0.841652"
            ]
          },
          "metadata": {},
          "execution_count": 78
        }
      ],
      "source": [
        "## Complete the code to check performance for train data on tuned estimator\n",
        "# rf_tuned_model_train_perf = model_performance_classification_sklearn('_______')\n",
        "# rf_tuned_model_train_perf\n",
        "\n",
        "rf_tuned_model_train_perf = model_performance_classification_sklearn(\n",
        "    rf_tuned, X_train, y_train\n",
        ")\n",
        "rf_tuned_model_train_perf"
      ]
    },
    {
      "cell_type": "markdown",
      "id": "joined-newman",
      "metadata": {
        "id": "joined-newman"
      },
      "source": [
        "#### Checking model performance on test set"
      ]
    },
    {
      "cell_type": "code",
      "execution_count": 79,
      "id": "higher-memphis",
      "metadata": {
        "id": "higher-memphis",
        "colab": {
          "base_uri": "https://localhost:8080/",
          "height": 279
        },
        "outputId": "19aa8b7d-8a16-43d7-ba1d-1db8741d88b2"
      },
      "outputs": [
        {
          "output_type": "display_data",
          "data": {
            "image/png": "[encoded data removed]",
            "text/plain": [
              "<Figure size 432x288 with 2 Axes>"
            ]
          },
          "metadata": {
            "needs_background": "light"
          }
        }
      ],
      "source": [
        "'_______' ## Complete the code to create confusion matrix for test data on tuned estimator\n",
        "\n",
        "confusion_matrix_sklearn(rf_tuned, X_test, y_test)"
      ]
    },
    {
      "cell_type": "code",
      "execution_count": 80,
      "id": "processed-capital",
      "metadata": {
        "id": "processed-capital",
        "colab": {
          "base_uri": "https://localhost:8080/",
          "height": 81
        },
        "outputId": "cecb54fe-e958-436e-ef7e-4167ff9a667a"
      },
      "outputs": [
        {
          "output_type": "execute_result",
          "data": {
            "text/html": [
              "<div>\n",
              "<style scoped>\n",
              "    .dataframe tbody tr th:only-of-type {\n",
              "        vertical-align: middle;\n",
              "    }\n",
              "\n",
              "    .dataframe tbody tr th {\n",
              "        vertical-align: top;\n",
              "    }\n",
              "\n",
              "    .dataframe thead th {\n",
              "        text-align: right;\n",
              "    }\n",
              "</style>\n",
              "<table border=\"1\" class=\"dataframe\">\n",
              "  <thead>\n",
              "    <tr style=\"text-align: right;\">\n",
              "      <th></th>\n",
              "      <th>Accuracy</th>\n",
              "      <th>Recall</th>\n",
              "      <th>Precision</th>\n",
              "      <th>F1</th>\n",
              "    </tr>\n",
              "  </thead>\n",
              "  <tbody>\n",
              "    <tr>\n",
              "      <th>0</th>\n",
              "      <td>0.738095</td>\n",
              "      <td>0.898923</td>\n",
              "      <td>0.755391</td>\n",
              "      <td>0.82093</td>\n",
              "    </tr>\n",
              "  </tbody>\n",
              "</table>\n",
              "</div>"
            ],
            "text/plain": [
              "   Accuracy    Recall  Precision       F1\n",
              "0  0.738095  0.898923   0.755391  0.82093"
            ]
          },
          "metadata": {},
          "execution_count": 80
        }
      ],
      "source": [
        "## Complete the code to check performance for test data on tuned estimator\n",
        "# rf_tuned_model_test_perf = model_performance_classification_sklearn('_______')\n",
        "# rf_tuned_model_test_perf\n",
        "\n",
        "rf_tuned_model_test_perf = model_performance_classification_sklearn(\n",
        "    rf_tuned, X_test, y_test\n",
        ")\n",
        "rf_tuned_model_test_perf"
      ]
    },
    {
      "cell_type": "markdown",
      "id": "divine-legend",
      "metadata": {
        "id": "divine-legend"
      },
      "source": [
        "### AdaBoost Classifier"
      ]
    },
    {
      "cell_type": "code",
      "execution_count": 81,
      "id": "written-chicken",
      "metadata": {
        "id": "written-chicken",
        "colab": {
          "base_uri": "https://localhost:8080/"
        },
        "outputId": "b2237c67-c572-4937-fb88-2835934f7da6"
      },
      "outputs": [
        {
          "output_type": "execute_result",
          "data": {
            "text/plain": [
              "AdaBoostClassifier(random_state=1)"
            ]
          },
          "metadata": {},
          "execution_count": 81
        }
      ],
      "source": [
        "# ab_classifier = '_______' ## Complete the code to define AdaBoost Classifier with random state = 1\n",
        "# ab_classifier.'_______' ## Complete the code to fit AdaBoost Classifier on the train data\n",
        "\n",
        "ab_classifier = AdaBoostClassifier(random_state=1)\n",
        "ab_classifier.fit(X_train, y_train)"
      ]
    },
    {
      "cell_type": "markdown",
      "id": "grand-popularity",
      "metadata": {
        "id": "grand-popularity"
      },
      "source": [
        "#### Checking model performance on training set"
      ]
    },
    {
      "cell_type": "code",
      "execution_count": 82,
      "id": "fatty-primary",
      "metadata": {
        "id": "fatty-primary",
        "colab": {
          "base_uri": "https://localhost:8080/",
          "height": 279
        },
        "outputId": "8e0500ae-da5d-4c6f-beaa-d80d52b3eac2"
      },
      "outputs": [
        {
          "output_type": "display_data",
          "data": {
            "image/png": "[encoded data removed]",
            "text/plain": [
              "<Figure size 432x288 with 2 Axes>"
            ]
          },
          "metadata": {
            "needs_background": "light"
          }
        }
      ],
      "source": [
        "#'_______' ## Complete the code to create confusion matrix for train data\n",
        "\n",
        "confusion_matrix_sklearn(ab_classifier, X_train, y_train)"
      ]
    },
    {
      "cell_type": "code",
      "execution_count": 83,
      "id": "forty-blame",
      "metadata": {
        "id": "forty-blame",
        "colab": {
          "base_uri": "https://localhost:8080/",
          "height": 81
        },
        "outputId": "80805004-8e15-4505-f460-99b29f3cbe2a"
      },
      "outputs": [
        {
          "output_type": "execute_result",
          "data": {
            "text/html": [
              "<div>\n",
              "<style scoped>\n",
              "    .dataframe tbody tr th:only-of-type {\n",
              "        vertical-align: middle;\n",
              "    }\n",
              "\n",
              "    .dataframe tbody tr th {\n",
              "        vertical-align: top;\n",
              "    }\n",
              "\n",
              "    .dataframe thead th {\n",
              "        text-align: right;\n",
              "    }\n",
              "</style>\n",
              "<table border=\"1\" class=\"dataframe\">\n",
              "  <thead>\n",
              "    <tr style=\"text-align: right;\">\n",
              "      <th></th>\n",
              "      <th>Accuracy</th>\n",
              "      <th>Recall</th>\n",
              "      <th>Precision</th>\n",
              "      <th>F1</th>\n",
              "    </tr>\n",
              "  </thead>\n",
              "  <tbody>\n",
              "    <tr>\n",
              "      <th>0</th>\n",
              "      <td>0.738226</td>\n",
              "      <td>0.887182</td>\n",
              "      <td>0.760688</td>\n",
              "      <td>0.81908</td>\n",
              "    </tr>\n",
              "  </tbody>\n",
              "</table>\n",
              "</div>"
            ],
            "text/plain": [
              "   Accuracy    Recall  Precision       F1\n",
              "0  0.738226  0.887182   0.760688  0.81908"
            ]
          },
          "metadata": {},
          "execution_count": 83
        }
      ],
      "source": [
        "# ab_classifier_model_train_perf = model_performance_classification_sklearn('_______') ## Complete the code to check performance on train data\n",
        "# ab_classifier_model_train_perf\n",
        "\n",
        "\n",
        "ab_classifier_model_train_perf = model_performance_classification_sklearn(\n",
        "    ab_classifier, X_train, y_train\n",
        ")\n",
        "ab_classifier_model_train_perf"
      ]
    },
    {
      "cell_type": "markdown",
      "id": "french-breed",
      "metadata": {
        "id": "french-breed"
      },
      "source": [
        "#### Checking model performance on test set"
      ]
    },
    {
      "cell_type": "code",
      "execution_count": 84,
      "id": "enormous-musical",
      "metadata": {
        "id": "enormous-musical",
        "colab": {
          "base_uri": "https://localhost:8080/",
          "height": 282
        },
        "outputId": "18c85c12-101f-4a7f-d2df-2095c89e9996"
      },
      "outputs": [
        {
          "output_type": "display_data",
          "data": {
            "image/png": "[encoded data removed]",
            "text/plain": [
              "<Figure size 432x288 with 2 Axes>"
            ]
          },
          "metadata": {
            "needs_background": "light"
          }
        }
      ],
      "source": [
        "#'_______' ## Complete the code to create confusion matrix for test data\n",
        "\n",
        "confusion_matrix_sklearn(ab_classifier, X_test, y_test)"
      ]
    },
    {
      "cell_type": "code",
      "execution_count": 85,
      "id": "detailed-promise",
      "metadata": {
        "id": "detailed-promise",
        "colab": {
          "base_uri": "https://localhost:8080/",
          "height": 81
        },
        "outputId": "b210ace6-ee6b-4147-a46b-ed98f0d3b993"
      },
      "outputs": [
        {
          "output_type": "execute_result",
          "data": {
            "text/html": [
              "<div>\n",
              "<style scoped>\n",
              "    .dataframe tbody tr th:only-of-type {\n",
              "        vertical-align: middle;\n",
              "    }\n",
              "\n",
              "    .dataframe tbody tr th {\n",
              "        vertical-align: top;\n",
              "    }\n",
              "\n",
              "    .dataframe thead th {\n",
              "        text-align: right;\n",
              "    }\n",
              "</style>\n",
              "<table border=\"1\" class=\"dataframe\">\n",
              "  <thead>\n",
              "    <tr style=\"text-align: right;\">\n",
              "      <th></th>\n",
              "      <th>Accuracy</th>\n",
              "      <th>Recall</th>\n",
              "      <th>Precision</th>\n",
              "      <th>F1</th>\n",
              "    </tr>\n",
              "  </thead>\n",
              "  <tbody>\n",
              "    <tr>\n",
              "      <th>0</th>\n",
              "      <td>0.734301</td>\n",
              "      <td>0.885015</td>\n",
              "      <td>0.757799</td>\n",
              "      <td>0.816481</td>\n",
              "    </tr>\n",
              "  </tbody>\n",
              "</table>\n",
              "</div>"
            ],
            "text/plain": [
              "   Accuracy    Recall  Precision        F1\n",
              "0  0.734301  0.885015   0.757799  0.816481"
            ]
          },
          "metadata": {},
          "execution_count": 85
        }
      ],
      "source": [
        "# ab_classifier_model_test_perf = model_performance_classification_sklearn('_______') ## Complete the code to check performance for test data\n",
        "# ab_classifier_model_test_perf\n",
        "\n",
        "ab_classifier_model_test_perf = model_performance_classification_sklearn(\n",
        "    ab_classifier, X_test, y_test\n",
        ")\n",
        "ab_classifier_model_test_perf"
      ]
    },
    {
      "cell_type": "markdown",
      "id": "increased-sharing",
      "metadata": {
        "id": "increased-sharing"
      },
      "source": [
        "### Hyperparameter Tuning - AdaBoost Classifier"
      ]
    },
    {
      "cell_type": "code",
      "execution_count": 86,
      "id": "overall-grounds",
      "metadata": {
        "id": "overall-grounds",
        "colab": {
          "base_uri": "https://localhost:8080/"
        },
        "outputId": "4169faa9-3578-49da-f8b7-6a506b3e2492"
      },
      "outputs": [
        {
          "output_type": "execute_result",
          "data": {
            "text/plain": [
              "AdaBoostClassifier(base_estimator=DecisionTreeClassifier(class_weight='balanced',\n",
              "                                                         max_depth=1,\n",
              "                                                         random_state=1),\n",
              "                   learning_rate=0.1, n_estimators=90, random_state=1)"
            ]
          },
          "metadata": {},
          "execution_count": 86
        }
      ],
      "source": [
        "# Choose the type of classifier.\n",
        "abc_tuned = AdaBoostClassifier(random_state=1)\n",
        "\n",
        "# Grid of parameters to choose from\n",
        "parameters = {\n",
        "    # Let's try different max_depth for base_estimator\n",
        "    \"base_estimator\": [\n",
        "        DecisionTreeClassifier(max_depth=1, class_weight=\"balanced\", random_state=1),\n",
        "        DecisionTreeClassifier(max_depth=2, class_weight=\"balanced\", random_state=1),\n",
        "        DecisionTreeClassifier(max_depth=3, class_weight=\"balanced\", random_state=1),\n",
        "    ],\n",
        "    \"n_estimators\": np.arange(60, 100, 10),\n",
        "    \"learning_rate\": np.arange(0.1, 0.4, 0.1),\n",
        "}\n",
        "\n",
        "# Type of scoring used to compare parameter  combinations\n",
        "acc_scorer = metrics.make_scorer(metrics.f1_score)\n",
        "\n",
        "# Run the grid search\n",
        "# grid_obj = '_______' ## Complete the code to run grid search with cv = 5\n",
        "# grid_obj = grid_obj.'_______' ## Complete the code to fit the grid_obj on train data\n",
        "\n",
        "grid_obj = GridSearchCV(abc_tuned, parameters, scoring=scorer, cv=5)\n",
        "grid_obj = grid_obj.fit(X_train, y_train)\n",
        "\n",
        "\n",
        "# Set the clf to the best combination of parameters\n",
        "abc_tuned = grid_obj.best_estimator_\n",
        "\n",
        "# Fit the best algorithm to the data.\n",
        "abc_tuned.fit(X_train, y_train)"
      ]
    },
    {
      "cell_type": "markdown",
      "id": "adolescent-carroll",
      "metadata": {
        "id": "adolescent-carroll"
      },
      "source": [
        "#### Checking model performance on training set"
      ]
    },
    {
      "cell_type": "code",
      "execution_count": 120,
      "id": "excessive-drilling",
      "metadata": {
        "id": "excessive-drilling",
        "colab": {
          "base_uri": "https://localhost:8080/",
          "height": 279
        },
        "outputId": "12cf5a4f-5111-4b1b-cf2b-de49714a57ee"
      },
      "outputs": [
        {
          "output_type": "display_data",
          "data": {
            "image/png": "[encoded data removed]",
            "text/plain": [
              "<Figure size 432x288 with 2 Axes>"
            ]
          },
          "metadata": {
            "needs_background": "light"
          }
        }
      ],
      "source": [
        "#'_______' ## Complete the code to create confusion matrix for train data on tuned estimator \n",
        "\n",
        "confusion_matrix_sklearn(abc_tuned,X_train,y_train)\n",
        "\n"
      ]
    },
    {
      "cell_type": "code",
      "execution_count": 88,
      "id": "broadband-dealer",
      "metadata": {
        "id": "broadband-dealer",
        "colab": {
          "base_uri": "https://localhost:8080/",
          "height": 81
        },
        "outputId": "2c8be16a-f77e-49ad-e85e-9c6e70223740"
      },
      "outputs": [
        {
          "output_type": "execute_result",
          "data": {
            "text/html": [
              "<div>\n",
              "<style scoped>\n",
              "    .dataframe tbody tr th:only-of-type {\n",
              "        vertical-align: middle;\n",
              "    }\n",
              "\n",
              "    .dataframe tbody tr th {\n",
              "        vertical-align: top;\n",
              "    }\n",
              "\n",
              "    .dataframe thead th {\n",
              "        text-align: right;\n",
              "    }\n",
              "</style>\n",
              "<table border=\"1\" class=\"dataframe\">\n",
              "  <thead>\n",
              "    <tr style=\"text-align: right;\">\n",
              "      <th></th>\n",
              "      <th>Accuracy</th>\n",
              "      <th>Recall</th>\n",
              "      <th>Precision</th>\n",
              "      <th>F1</th>\n",
              "    </tr>\n",
              "  </thead>\n",
              "  <tbody>\n",
              "    <tr>\n",
              "      <th>0</th>\n",
              "      <td>0.719163</td>\n",
              "      <td>0.781415</td>\n",
              "      <td>0.79469</td>\n",
              "      <td>0.787997</td>\n",
              "    </tr>\n",
              "  </tbody>\n",
              "</table>\n",
              "</div>"
            ],
            "text/plain": [
              "   Accuracy    Recall  Precision        F1\n",
              "0  0.719163  0.781415    0.79469  0.787997"
            ]
          },
          "metadata": {},
          "execution_count": 88
        }
      ],
      "source": [
        "# abc_tuned_model_train_perf = model_performance_classification_sklearn('_______') ## Complete the code to check performance for train data on tuned estimator\n",
        "# abc_tuned_model_train_perf\n",
        "\n",
        "abc_tuned_model_train_perf = model_performance_classification_sklearn(\n",
        "    abc_tuned, X_train, y_train\n",
        ")\n",
        "abc_tuned_model_train_perf"
      ]
    },
    {
      "cell_type": "markdown",
      "id": "fitting-cameroon",
      "metadata": {
        "id": "fitting-cameroon"
      },
      "source": [
        "#### Checking model performance on test set"
      ]
    },
    {
      "cell_type": "code",
      "execution_count": 89,
      "id": "central-forest",
      "metadata": {
        "id": "central-forest",
        "colab": {
          "base_uri": "https://localhost:8080/",
          "height": 279
        },
        "outputId": "3f5ce297-8a15-4acf-d467-b93e92da3369"
      },
      "outputs": [
        {
          "output_type": "display_data",
          "data": {
            "image/png": "[encoded data removed]",
            "text/plain": [
              "<Figure size 432x288 with 2 Axes>"
            ]
          },
          "metadata": {
            "needs_background": "light"
          }
        }
      ],
      "source": [
        "#'_______' ## Complete the code to create confusion matrix for test data on tuned estimator\n",
        "\n",
        "confusion_matrix_sklearn(abc_tuned, X_test, y_test)"
      ]
    },
    {
      "cell_type": "code",
      "execution_count": 90,
      "id": "acting-edmonton",
      "metadata": {
        "id": "acting-edmonton",
        "colab": {
          "base_uri": "https://localhost:8080/"
        },
        "outputId": "cd2426bd-3161-4b64-edcf-8fa08a7526fc"
      },
      "outputs": [
        {
          "output_type": "stream",
          "name": "stdout",
          "text": [
            "   Accuracy    Recall  Precision        F1\n",
            "0  0.716641  0.781587    0.79151  0.786517\n"
          ]
        }
      ],
      "source": [
        "# abc_tuned_model_test_perf = model_performance_classification_sklearn('_______') ## Complete the code to check performance for test data on tuned estimator\n",
        "# abc_tuned_model_test_perf\n",
        "\n",
        "abc_tuned_model_test_perf = model_performance_classification_sklearn(\n",
        "    abc_tuned, X_test, y_test\n",
        ")\n",
        "print(abc_tuned_model_test_perf)"
      ]
    },
    {
      "cell_type": "markdown",
      "id": "married-terminal",
      "metadata": {
        "id": "married-terminal"
      },
      "source": [
        "### Gradient Boosting Classifier"
      ]
    },
    {
      "cell_type": "code",
      "execution_count": 91,
      "id": "indian-pierre",
      "metadata": {
        "id": "indian-pierre",
        "colab": {
          "base_uri": "https://localhost:8080/"
        },
        "outputId": "09663c32-1a82-4861-eb33-5964a2efe5ac"
      },
      "outputs": [
        {
          "output_type": "execute_result",
          "data": {
            "text/plain": [
              "GradientBoostingClassifier(random_state=1)"
            ]
          },
          "metadata": {},
          "execution_count": 91
        }
      ],
      "source": [
        "#gb_classifier = '_______' ## Complete the code to define Gradient Boosting Classifier with random state = 1\n",
        "#gb_classifier.'_______' ## Complete the code to fit Gradient Boosting Classifier on the train data\n",
        "\n",
        "gb_classifier = GradientBoostingClassifier(random_state=1)\n",
        "gb_classifier.fit(X_train,y_train)\n"
      ]
    },
    {
      "cell_type": "markdown",
      "id": "fiscal-language",
      "metadata": {
        "id": "fiscal-language"
      },
      "source": [
        "#### Checking model performance on training set"
      ]
    },
    {
      "cell_type": "code",
      "execution_count": 92,
      "id": "soviet-orange",
      "metadata": {
        "id": "soviet-orange",
        "colab": {
          "base_uri": "https://localhost:8080/",
          "height": 279
        },
        "outputId": "07f9dda6-4713-49b7-cae2-1c85af2bd78b"
      },
      "outputs": [
        {
          "output_type": "display_data",
          "data": {
            "image/png": "[encoded data removed]",
            "text/plain": [
              "<Figure size 432x288 with 2 Axes>"
            ]
          },
          "metadata": {
            "needs_background": "light"
          }
        }
      ],
      "source": [
        "#'_______' ## Complete the code to create confusion matrix for train data\n",
        "\n",
        "confusion_matrix_sklearn(gb_classifier, X_train, y_train)"
      ]
    },
    {
      "cell_type": "code",
      "execution_count": 93,
      "id": "respected-belief",
      "metadata": {
        "id": "respected-belief",
        "colab": {
          "base_uri": "https://localhost:8080/",
          "height": 81
        },
        "outputId": "b06b0a22-8acd-4244-d699-93724578b863"
      },
      "outputs": [
        {
          "output_type": "execute_result",
          "data": {
            "text/html": [
              "<div>\n",
              "<style scoped>\n",
              "    .dataframe tbody tr th:only-of-type {\n",
              "        vertical-align: middle;\n",
              "    }\n",
              "\n",
              "    .dataframe tbody tr th {\n",
              "        vertical-align: top;\n",
              "    }\n",
              "\n",
              "    .dataframe thead th {\n",
              "        text-align: right;\n",
              "    }\n",
              "</style>\n",
              "<table border=\"1\" class=\"dataframe\">\n",
              "  <thead>\n",
              "    <tr style=\"text-align: right;\">\n",
              "      <th></th>\n",
              "      <th>Accuracy</th>\n",
              "      <th>Recall</th>\n",
              "      <th>Precision</th>\n",
              "      <th>F1</th>\n",
              "    </tr>\n",
              "  </thead>\n",
              "  <tbody>\n",
              "    <tr>\n",
              "      <th>0</th>\n",
              "      <td>0.758802</td>\n",
              "      <td>0.88374</td>\n",
              "      <td>0.783042</td>\n",
              "      <td>0.830349</td>\n",
              "    </tr>\n",
              "  </tbody>\n",
              "</table>\n",
              "</div>"
            ],
            "text/plain": [
              "   Accuracy   Recall  Precision        F1\n",
              "0  0.758802  0.88374   0.783042  0.830349"
            ]
          },
          "metadata": {},
          "execution_count": 93
        }
      ],
      "source": [
        "#gb_classifier_model_train_perf = model_performance_classification_sklearn('_______') ## Complete the code to check performance on train data\n",
        "#gb_classifier_model_train_perf\n",
        "\n",
        "gb_classifier_model_train_perf=model_performance_classification_sklearn(gb_classifier,X_train,y_train)\n",
        "gb_classifier_model_train_perf\n"
      ]
    },
    {
      "cell_type": "markdown",
      "id": "tribal-rainbow",
      "metadata": {
        "id": "tribal-rainbow"
      },
      "source": [
        "#### Checking model performance on test set"
      ]
    },
    {
      "cell_type": "code",
      "execution_count": 94,
      "id": "uniform-procedure",
      "metadata": {
        "id": "uniform-procedure",
        "colab": {
          "base_uri": "https://localhost:8080/",
          "height": 279
        },
        "outputId": "ead5c70d-6dab-4e6e-8261-56f5afbe0c65"
      },
      "outputs": [
        {
          "output_type": "display_data",
          "data": {
            "image/png": "[encoded data removed]",
            "text/plain": [
              "<Figure size 432x288 with 2 Axes>"
            ]
          },
          "metadata": {
            "needs_background": "light"
          }
        }
      ],
      "source": [
        "#'_______' ## Complete the code to create confusion matrix for test data\n",
        "\n",
        "confusion_matrix_sklearn(gb_classifier, X_test, y_test)"
      ]
    },
    {
      "cell_type": "code",
      "execution_count": 95,
      "id": "blind-apparel",
      "metadata": {
        "id": "blind-apparel",
        "colab": {
          "base_uri": "https://localhost:8080/",
          "height": 81
        },
        "outputId": "4fb67d88-8534-415a-cf02-82c4a2d2a069"
      },
      "outputs": [
        {
          "output_type": "execute_result",
          "data": {
            "text/html": [
              "<div>\n",
              "<style scoped>\n",
              "    .dataframe tbody tr th:only-of-type {\n",
              "        vertical-align: middle;\n",
              "    }\n",
              "\n",
              "    .dataframe tbody tr th {\n",
              "        vertical-align: top;\n",
              "    }\n",
              "\n",
              "    .dataframe thead th {\n",
              "        text-align: right;\n",
              "    }\n",
              "</style>\n",
              "<table border=\"1\" class=\"dataframe\">\n",
              "  <thead>\n",
              "    <tr style=\"text-align: right;\">\n",
              "      <th></th>\n",
              "      <th>Accuracy</th>\n",
              "      <th>Recall</th>\n",
              "      <th>Precision</th>\n",
              "      <th>F1</th>\n",
              "    </tr>\n",
              "  </thead>\n",
              "  <tbody>\n",
              "    <tr>\n",
              "      <th>0</th>\n",
              "      <td>0.744767</td>\n",
              "      <td>0.876004</td>\n",
              "      <td>0.772366</td>\n",
              "      <td>0.820927</td>\n",
              "    </tr>\n",
              "  </tbody>\n",
              "</table>\n",
              "</div>"
            ],
            "text/plain": [
              "   Accuracy    Recall  Precision        F1\n",
              "0  0.744767  0.876004   0.772366  0.820927"
            ]
          },
          "metadata": {},
          "execution_count": 95
        }
      ],
      "source": [
        "# gb_classifier_model_test_perf = model_performance_classification_sklearn('_______') ## Complete the code to check performance for test data\n",
        "# gb_classifier_model_test_perf\n",
        "\n",
        "gb_classifier_model_test_perf = model_performance_classification_sklearn(\n",
        "    gb_classifier, X_test, y_test\n",
        ")\n",
        "gb_classifier_model_test_perf"
      ]
    },
    {
      "cell_type": "markdown",
      "id": "fuzzy-enemy",
      "metadata": {
        "id": "fuzzy-enemy"
      },
      "source": [
        "### Hyperparameter Tuning - Gradient Boosting Classifier"
      ]
    },
    {
      "cell_type": "code",
      "execution_count": 96,
      "id": "based-bishop",
      "metadata": {
        "id": "based-bishop",
        "colab": {
          "base_uri": "https://localhost:8080/"
        },
        "outputId": "d50a7e5a-7ec9-482f-e59b-91dbf0b28f8b"
      },
      "outputs": [
        {
          "output_type": "execute_result",
          "data": {
            "text/plain": [
              "GradientBoostingClassifier(init=AdaBoostClassifier(random_state=1),\n",
              "                           max_features=0.8, n_estimators=200, random_state=1,\n",
              "                           subsample=1)"
            ]
          },
          "metadata": {},
          "execution_count": 96
        }
      ],
      "source": [
        "# Choose the type of classifier.\n",
        "gbc_tuned = GradientBoostingClassifier(\n",
        "    init=AdaBoostClassifier(random_state=1), random_state=1\n",
        ")\n",
        "\n",
        "# Grid of parameters to choose from\n",
        "parameters = {\n",
        "    \"n_estimators\": [200, 250, 300],\n",
        "    \"subsample\": [0.8, 0.9, 1],\n",
        "    \"max_features\": [0.7, 0.8, 0.9, 1],\n",
        "    \"learning_rate\": np.arange(0.1, 0.4, 0.1),\n",
        "}\n",
        "\n",
        "# Type of scoring used to compare parameter combinations\n",
        "acc_scorer = metrics.make_scorer(metrics.f1_score)\n",
        "\n",
        "# Run the grid search\n",
        "# grid_obj = '_______' ## Complete the code to run grid search with cv = 5\n",
        "# grid_obj = grid_obj.'_______' ## Complete the code to fit the grid_obj on train data\n",
        "\n",
        "grid_obj = GridSearchCV(gbc_tuned, parameters, scoring=scorer, cv=5)\n",
        "grid_obj = grid_obj.fit(X_train, y_train)\n",
        "\n",
        "\n",
        "# Set the clf to the best combination of parameters\n",
        "gbc_tuned = grid_obj.best_estimator_\n",
        "\n",
        "# Fit the best algorithm to the data.\n",
        "gbc_tuned.fit(X_train, y_train)"
      ]
    },
    {
      "cell_type": "markdown",
      "id": "standard-islam",
      "metadata": {
        "id": "standard-islam"
      },
      "source": [
        "#### Checking model performance on training set"
      ]
    },
    {
      "cell_type": "code",
      "execution_count": 97,
      "id": "verbal-japanese",
      "metadata": {
        "id": "verbal-japanese",
        "colab": {
          "base_uri": "https://localhost:8080/",
          "height": 279
        },
        "outputId": "c72b5cd3-85fa-4f91-ddff-30fb6704c12b"
      },
      "outputs": [
        {
          "output_type": "display_data",
          "data": {
            "image/png": "[encoded data removed]",
            "text/plain": [
              "<Figure size 432x288 with 2 Axes>"
            ]
          },
          "metadata": {
            "needs_background": "light"
          }
        }
      ],
      "source": [
        "#'_______' ## Complete the code to create confusion matrix for train data on tuned estimator\n",
        "\n",
        "confusion_matrix_sklearn(gbc_tuned,X_train,y_train)"
      ]
    },
    {
      "cell_type": "code",
      "execution_count": 98,
      "id": "passive-accent",
      "metadata": {
        "id": "passive-accent",
        "colab": {
          "base_uri": "https://localhost:8080/",
          "height": 81
        },
        "outputId": "6b50a739-2e7e-4136-d885-4a37a3e0ccb9"
      },
      "outputs": [
        {
          "output_type": "execute_result",
          "data": {
            "text/html": [
              "<div>\n",
              "<style scoped>\n",
              "    .dataframe tbody tr th:only-of-type {\n",
              "        vertical-align: middle;\n",
              "    }\n",
              "\n",
              "    .dataframe tbody tr th {\n",
              "        vertical-align: top;\n",
              "    }\n",
              "\n",
              "    .dataframe thead th {\n",
              "        text-align: right;\n",
              "    }\n",
              "</style>\n",
              "<table border=\"1\" class=\"dataframe\">\n",
              "  <thead>\n",
              "    <tr style=\"text-align: right;\">\n",
              "      <th></th>\n",
              "      <th>Accuracy</th>\n",
              "      <th>Recall</th>\n",
              "      <th>Precision</th>\n",
              "      <th>F1</th>\n",
              "    </tr>\n",
              "  </thead>\n",
              "  <tbody>\n",
              "    <tr>\n",
              "      <th>0</th>\n",
              "      <td>0.764017</td>\n",
              "      <td>0.882649</td>\n",
              "      <td>0.789059</td>\n",
              "      <td>0.833234</td>\n",
              "    </tr>\n",
              "  </tbody>\n",
              "</table>\n",
              "</div>"
            ],
            "text/plain": [
              "   Accuracy    Recall  Precision        F1\n",
              "0  0.764017  0.882649   0.789059  0.833234"
            ]
          },
          "metadata": {},
          "execution_count": 98
        }
      ],
      "source": [
        "#gbc_tuned_model_train_perf = model_performance_classification_sklearn('_______') ## Complete the code to check performance for train data on tuned estimator\n",
        "#gbc_tuned_model_train_perf\n",
        "\n",
        "gbc_tuned_model_train_perf=model_performance_classification_sklearn(gbc_tuned,X_train,y_train)\n",
        "gbc_tuned_model_train_perf"
      ]
    },
    {
      "cell_type": "markdown",
      "id": "subsequent-royalty",
      "metadata": {
        "id": "subsequent-royalty"
      },
      "source": [
        "#### Checking model performance on test set"
      ]
    },
    {
      "cell_type": "code",
      "execution_count": 99,
      "id": "other-pharmaceutical",
      "metadata": {
        "id": "other-pharmaceutical",
        "colab": {
          "base_uri": "https://localhost:8080/",
          "height": 279
        },
        "outputId": "a5fccc84-da63-4558-82ab-c2dddc6f9757"
      },
      "outputs": [
        {
          "output_type": "display_data",
          "data": {
            "image/png": "[encoded data removed]",
            "text/plain": [
              "<Figure size 432x288 with 2 Axes>"
            ]
          },
          "metadata": {
            "needs_background": "light"
          }
        }
      ],
      "source": [
        "#'_______' ## Complete the code to create confusion matrix for test data on tuned estimator\n",
        "\n",
        "confusion_matrix_sklearn(gbc_tuned,X_test,y_test)"
      ]
    },
    {
      "cell_type": "code",
      "execution_count": 100,
      "id": "forward-perspective",
      "metadata": {
        "id": "forward-perspective",
        "colab": {
          "base_uri": "https://localhost:8080/",
          "height": 81
        },
        "outputId": "7aff7d62-e0e6-481e-d0fb-4edf42a5383b"
      },
      "outputs": [
        {
          "output_type": "execute_result",
          "data": {
            "text/html": [
              "<div>\n",
              "<style scoped>\n",
              "    .dataframe tbody tr th:only-of-type {\n",
              "        vertical-align: middle;\n",
              "    }\n",
              "\n",
              "    .dataframe tbody tr th {\n",
              "        vertical-align: top;\n",
              "    }\n",
              "\n",
              "    .dataframe thead th {\n",
              "        text-align: right;\n",
              "    }\n",
              "</style>\n",
              "<table border=\"1\" class=\"dataframe\">\n",
              "  <thead>\n",
              "    <tr style=\"text-align: right;\">\n",
              "      <th></th>\n",
              "      <th>Accuracy</th>\n",
              "      <th>Recall</th>\n",
              "      <th>Precision</th>\n",
              "      <th>F1</th>\n",
              "    </tr>\n",
              "  </thead>\n",
              "  <tbody>\n",
              "    <tr>\n",
              "      <th>0</th>\n",
              "      <td>0.743459</td>\n",
              "      <td>0.871303</td>\n",
              "      <td>0.773296</td>\n",
              "      <td>0.819379</td>\n",
              "    </tr>\n",
              "  </tbody>\n",
              "</table>\n",
              "</div>"
            ],
            "text/plain": [
              "   Accuracy    Recall  Precision        F1\n",
              "0  0.743459  0.871303   0.773296  0.819379"
            ]
          },
          "metadata": {},
          "execution_count": 100
        }
      ],
      "source": [
        "#gbc_tuned_model_test_perf = model_performance_classification_sklearn('_______') ## Complete the code to check performance for test data on tuned estimator\n",
        "#gbc_tuned_model_test_perf\n",
        "\n",
        "gbc_tuned_model_test_perf=model_performance_classification_sklearn(gbc_tuned,X_test,y_test)\n",
        "gbc_tuned_model_test_perf"
      ]
    },
    {
      "cell_type": "markdown",
      "id": "1415e2a1",
      "metadata": {
        "id": "1415e2a1"
      },
      "source": [
        "### Note - You can choose not to build XGBoost if you have any installation issue"
      ]
    },
    {
      "cell_type": "markdown",
      "id": "superior-letter",
      "metadata": {
        "id": "superior-letter"
      },
      "source": [
        "### XGBoost Classifier"
      ]
    },
    {
      "cell_type": "code",
      "execution_count": 101,
      "id": "laden-brighton",
      "metadata": {
        "id": "laden-brighton",
        "colab": {
          "base_uri": "https://localhost:8080/"
        },
        "outputId": "1f4275e4-bb12-463e-ebaa-a71596bbbbfe"
      },
      "outputs": [
        {
          "output_type": "execute_result",
          "data": {
            "text/plain": [
              "XGBClassifier(eval_metric='logloss', random_state=1)"
            ]
          },
          "metadata": {},
          "execution_count": 101
        }
      ],
      "source": [
        "#xgb_classifier = '_______' ## Complete the code to define XGBoost Classifier with random state = 1 and eval_metric=\"logloss\"\n",
        "#xgb_classifier.'_______' ## Complete the code to fit XGBoost Classifier on the train data\n",
        "\n",
        "xgb_classifier = XGBClassifier(random_state=1, eval_metric='logloss')\n",
        "xgb_classifier.fit(X_train,y_train)"
      ]
    },
    {
      "cell_type": "markdown",
      "id": "muslim-machine",
      "metadata": {
        "id": "muslim-machine"
      },
      "source": [
        "#### Checking model performance on training set"
      ]
    },
    {
      "cell_type": "code",
      "execution_count": 102,
      "id": "subsequent-dividend",
      "metadata": {
        "id": "subsequent-dividend",
        "colab": {
          "base_uri": "https://localhost:8080/",
          "height": 279
        },
        "outputId": "77077ecf-2a2f-48ac-bdd4-80242d5d52fb"
      },
      "outputs": [
        {
          "output_type": "display_data",
          "data": {
            "image/png": "[encoded data removed]",
            "text/plain": [
              "<Figure size 432x288 with 2 Axes>"
            ]
          },
          "metadata": {
            "needs_background": "light"
          }
        }
      ],
      "source": [
        "#'_______' ## Complete the code to create confusion matrix for train data\n",
        "\n",
        "confusion_matrix_sklearn(xgb_classifier,X_train,y_train)"
      ]
    },
    {
      "cell_type": "code",
      "execution_count": 103,
      "id": "creative-shock",
      "metadata": {
        "id": "creative-shock",
        "colab": {
          "base_uri": "https://localhost:8080/",
          "height": 81
        },
        "outputId": "e0630dcb-e2c3-4ebb-bbd0-4bac156c07a6"
      },
      "outputs": [
        {
          "output_type": "execute_result",
          "data": {
            "text/html": [
              "<div>\n",
              "<style scoped>\n",
              "    .dataframe tbody tr th:only-of-type {\n",
              "        vertical-align: middle;\n",
              "    }\n",
              "\n",
              "    .dataframe tbody tr th {\n",
              "        vertical-align: top;\n",
              "    }\n",
              "\n",
              "    .dataframe thead th {\n",
              "        text-align: right;\n",
              "    }\n",
              "</style>\n",
              "<table border=\"1\" class=\"dataframe\">\n",
              "  <thead>\n",
              "    <tr style=\"text-align: right;\">\n",
              "      <th></th>\n",
              "      <th>Accuracy</th>\n",
              "      <th>Recall</th>\n",
              "      <th>Precision</th>\n",
              "      <th>F1</th>\n",
              "    </tr>\n",
              "  </thead>\n",
              "  <tbody>\n",
              "    <tr>\n",
              "      <th>0</th>\n",
              "      <td>0.756279</td>\n",
              "      <td>0.883573</td>\n",
              "      <td>0.780513</td>\n",
              "      <td>0.828852</td>\n",
              "    </tr>\n",
              "  </tbody>\n",
              "</table>\n",
              "</div>"
            ],
            "text/plain": [
              "   Accuracy    Recall  Precision        F1\n",
              "0  0.756279  0.883573   0.780513  0.828852"
            ]
          },
          "metadata": {},
          "execution_count": 103
        }
      ],
      "source": [
        "#xgb_classifier_model_train_perf = model_performance_classification_sklearn('_______') ## Complete the code to check performance on train data\n",
        "#xgb_classifier_model_train_perf\n",
        "\n",
        "xgb_classifier_model_train_perf=model_performance_classification_sklearn(xgb_classifier,X_train,y_train)\n",
        "xgb_classifier_model_train_perf"
      ]
    },
    {
      "cell_type": "markdown",
      "id": "advised-rabbit",
      "metadata": {
        "id": "advised-rabbit"
      },
      "source": [
        "#### Checking model performance on test set"
      ]
    },
    {
      "cell_type": "code",
      "execution_count": 104,
      "id": "intense-delhi",
      "metadata": {
        "id": "intense-delhi",
        "colab": {
          "base_uri": "https://localhost:8080/",
          "height": 279
        },
        "outputId": "fa388cdf-9652-4026-8d22-ffedf5d2b3dc"
      },
      "outputs": [
        {
          "output_type": "display_data",
          "data": {
            "image/png": "[encoded data removed]",
            "text/plain": [
              "<Figure size 432x288 with 2 Axes>"
            ]
          },
          "metadata": {
            "needs_background": "light"
          }
        }
      ],
      "source": [
        "#'_______' ## Complete the code to create confusion matrix for test data\n",
        "confusion_matrix_sklearn(xgb_classifier,X_test,y_test)"
      ]
    },
    {
      "cell_type": "code",
      "execution_count": 105,
      "id": "conventional-hierarchy",
      "metadata": {
        "id": "conventional-hierarchy",
        "colab": {
          "base_uri": "https://localhost:8080/",
          "height": 81
        },
        "outputId": "b854aa45-3449-4711-b989-68c0c9512e87"
      },
      "outputs": [
        {
          "output_type": "execute_result",
          "data": {
            "text/html": [
              "<div>\n",
              "<style scoped>\n",
              "    .dataframe tbody tr th:only-of-type {\n",
              "        vertical-align: middle;\n",
              "    }\n",
              "\n",
              "    .dataframe tbody tr th {\n",
              "        vertical-align: top;\n",
              "    }\n",
              "\n",
              "    .dataframe thead th {\n",
              "        text-align: right;\n",
              "    }\n",
              "</style>\n",
              "<table border=\"1\" class=\"dataframe\">\n",
              "  <thead>\n",
              "    <tr style=\"text-align: right;\">\n",
              "      <th></th>\n",
              "      <th>Accuracy</th>\n",
              "      <th>Recall</th>\n",
              "      <th>Precision</th>\n",
              "      <th>F1</th>\n",
              "    </tr>\n",
              "  </thead>\n",
              "  <tbody>\n",
              "    <tr>\n",
              "      <th>0</th>\n",
              "      <td>0.744636</td>\n",
              "      <td>0.877375</td>\n",
              "      <td>0.771576</td>\n",
              "      <td>0.821082</td>\n",
              "    </tr>\n",
              "  </tbody>\n",
              "</table>\n",
              "</div>"
            ],
            "text/plain": [
              "   Accuracy    Recall  Precision        F1\n",
              "0  0.744636  0.877375   0.771576  0.821082"
            ]
          },
          "metadata": {},
          "execution_count": 105
        }
      ],
      "source": [
        "#xgb_classifier_model_test_perf = model_performance_classification_sklearn('_______') ## Complete the code to check performance for test data\n",
        "#xgb_classifier_model_test_perf\n",
        "\n",
        "xgb_classifier_model_test_perf=model_performance_classification_sklearn(xgb_classifier,X_test,y_test)\n",
        "xgb_classifier_model_test_perf"
      ]
    },
    {
      "cell_type": "markdown",
      "id": "mobile-chosen",
      "metadata": {
        "id": "mobile-chosen"
      },
      "source": [
        "### Hyperparameter Tuning - XGBoost Classifier"
      ]
    },
    {
      "cell_type": "code",
      "execution_count": 106,
      "id": "aerial-trunk",
      "metadata": {
        "id": "aerial-trunk",
        "colab": {
          "base_uri": "https://localhost:8080/"
        },
        "outputId": "495ecda1-e419-4f02-94b2-6fa024f23c03"
      },
      "outputs": [
        {
          "output_type": "execute_result",
          "data": {
            "text/plain": [
              "XGBClassifier(colsample_bylevel=0.9, colsample_bytree=0.9,\n",
              "              eval_metric='logloss', gamma=5, n_estimators=200, random_state=1)"
            ]
          },
          "metadata": {},
          "execution_count": 106
        }
      ],
      "source": [
        "# Choose the type of classifier.\n",
        "xgb_tuned = XGBClassifier(random_state=1, eval_metric=\"logloss\")\n",
        "\n",
        "# Grid of parameters to choose from\n",
        "parameters = {\n",
        "    \"n_estimators\": np.arange(150, 250, 50),\n",
        "    \"scale_pos_weight\": [1, 2],\n",
        "    \"subsample\": [0.7, 0.9, 1],\n",
        "    \"learning_rate\": np.arange(0.1, 0.4, 0.1),\n",
        "    \"gamma\": [1, 3, 5],\n",
        "    \"colsample_bytree\": [0.7, 0.8, 0.9],\n",
        "    \"colsample_bylevel\": [0.8, 0.9, 1],\n",
        "}\n",
        "\n",
        "# Type of scoring used to compare parameter combinations\n",
        "acc_scorer = metrics.make_scorer(metrics.f1_score)\n",
        "\n",
        "# Run the grid search\n",
        "#grid_obj = '_______' ## Complete the code to run grid search with cv = 5\n",
        "#grid_obj = grid_obj.'_______' ## Complete the code to fit the grid_obj on train data\n",
        "grid_obj = GridSearchCV(xgb_tuned, parameters,scoring=scorer,cv=5)\n",
        "grid_obj = grid_obj.fit(X_train, y_train)\n",
        "\n",
        "\n",
        "# Set the clf to the best combination of parameters\n",
        "xgb_tuned = grid_obj.best_estimator_\n",
        "\n",
        "# Fit the best algorithm to the data.\n",
        "xgb_tuned.fit(X_train, y_train)"
      ]
    },
    {
      "cell_type": "markdown",
      "id": "psychological-plenty",
      "metadata": {
        "id": "psychological-plenty"
      },
      "source": [
        "#### Checking model performance on training set"
      ]
    },
    {
      "cell_type": "code",
      "execution_count": 107,
      "id": "static-yesterday",
      "metadata": {
        "id": "static-yesterday",
        "colab": {
          "base_uri": "https://localhost:8080/",
          "height": 279
        },
        "outputId": "6ed6e33d-af2b-48d6-d58b-decb15aaa7e3"
      },
      "outputs": [
        {
          "output_type": "display_data",
          "data": {
            "image/png": "[encoded data removed]",
            "text/plain": [
              "<Figure size 432x288 with 2 Axes>"
            ]
          },
          "metadata": {
            "needs_background": "light"
          }
        }
      ],
      "source": [
        "#'_______' ## Complete the code to create confusion matrix for train data on tuned estimator\n",
        "\n",
        "confusion_matrix_sklearn(xgb_tuned,X_train,y_train)"
      ]
    },
    {
      "cell_type": "code",
      "execution_count": 108,
      "id": "premium-today",
      "metadata": {
        "id": "premium-today",
        "colab": {
          "base_uri": "https://localhost:8080/",
          "height": 81
        },
        "outputId": "b7f9bfc2-b7f8-4cda-d503-9b92f8d0220c"
      },
      "outputs": [
        {
          "output_type": "execute_result",
          "data": {
            "text/html": [
              "<div>\n",
              "<style scoped>\n",
              "    .dataframe tbody tr th:only-of-type {\n",
              "        vertical-align: middle;\n",
              "    }\n",
              "\n",
              "    .dataframe tbody tr th {\n",
              "        vertical-align: top;\n",
              "    }\n",
              "\n",
              "    .dataframe thead th {\n",
              "        text-align: right;\n",
              "    }\n",
              "</style>\n",
              "<table border=\"1\" class=\"dataframe\">\n",
              "  <thead>\n",
              "    <tr style=\"text-align: right;\">\n",
              "      <th></th>\n",
              "      <th>Accuracy</th>\n",
              "      <th>Recall</th>\n",
              "      <th>Precision</th>\n",
              "      <th>F1</th>\n",
              "    </tr>\n",
              "  </thead>\n",
              "  <tbody>\n",
              "    <tr>\n",
              "      <th>0</th>\n",
              "      <td>0.756504</td>\n",
              "      <td>0.883069</td>\n",
              "      <td>0.780995</td>\n",
              "      <td>0.828901</td>\n",
              "    </tr>\n",
              "  </tbody>\n",
              "</table>\n",
              "</div>"
            ],
            "text/plain": [
              "   Accuracy    Recall  Precision        F1\n",
              "0  0.756504  0.883069   0.780995  0.828901"
            ]
          },
          "metadata": {},
          "execution_count": 108
        }
      ],
      "source": [
        "#xgb_tuned_model_train_perf = model_performance_classification_sklearn('_______') ## Complete the code to check performance for train data on tuned estimator\n",
        "#xgb_tuned_model_train_perf\n",
        "\n",
        "xgb_tuned_model_train_perf=model_performance_classification_sklearn(xgb_tuned,X_train,y_train)\n",
        "xgb_tuned_model_train_perf"
      ]
    },
    {
      "cell_type": "markdown",
      "id": "awful-judgment",
      "metadata": {
        "id": "awful-judgment"
      },
      "source": [
        "#### Checking model performance on test set"
      ]
    },
    {
      "cell_type": "code",
      "execution_count": 109,
      "id": "thrown-toilet",
      "metadata": {
        "id": "thrown-toilet",
        "colab": {
          "base_uri": "https://localhost:8080/",
          "height": 279
        },
        "outputId": "a5935742-8945-49ac-fc19-870173f0b927"
      },
      "outputs": [
        {
          "output_type": "display_data",
          "data": {
            "image/png": "[encoded data removed]",
            "text/plain": [
              "<Figure size 432x288 with 2 Axes>"
            ]
          },
          "metadata": {
            "needs_background": "light"
          }
        }
      ],
      "source": [
        "#'_______' ## Complete the code to create confusion matrix for test data on tuned estimator\n",
        "\n",
        "confusion_matrix_sklearn(xgb_tuned,X_test,y_test)"
      ]
    },
    {
      "cell_type": "code",
      "execution_count": 110,
      "id": "available-irrigation",
      "metadata": {
        "id": "available-irrigation",
        "colab": {
          "base_uri": "https://localhost:8080/",
          "height": 81
        },
        "outputId": "7eca495a-50eb-4a65-bb47-5344038a5d5d"
      },
      "outputs": [
        {
          "output_type": "execute_result",
          "data": {
            "text/html": [
              "<div>\n",
              "<style scoped>\n",
              "    .dataframe tbody tr th:only-of-type {\n",
              "        vertical-align: middle;\n",
              "    }\n",
              "\n",
              "    .dataframe tbody tr th {\n",
              "        vertical-align: top;\n",
              "    }\n",
              "\n",
              "    .dataframe thead th {\n",
              "        text-align: right;\n",
              "    }\n",
              "</style>\n",
              "<table border=\"1\" class=\"dataframe\">\n",
              "  <thead>\n",
              "    <tr style=\"text-align: right;\">\n",
              "      <th></th>\n",
              "      <th>Accuracy</th>\n",
              "      <th>Recall</th>\n",
              "      <th>Precision</th>\n",
              "      <th>F1</th>\n",
              "    </tr>\n",
              "  </thead>\n",
              "  <tbody>\n",
              "    <tr>\n",
              "      <th>0</th>\n",
              "      <td>0.744244</td>\n",
              "      <td>0.8762</td>\n",
              "      <td>0.771739</td>\n",
              "      <td>0.820659</td>\n",
              "    </tr>\n",
              "  </tbody>\n",
              "</table>\n",
              "</div>"
            ],
            "text/plain": [
              "   Accuracy  Recall  Precision        F1\n",
              "0  0.744244  0.8762   0.771739  0.820659"
            ]
          },
          "metadata": {},
          "execution_count": 110
        }
      ],
      "source": [
        "#xgb_tuned_model_test_perf = model_performance_classification_sklearn('_______') ## Complete the code to check performance for test data on tuned estimator\n",
        "#xgb_tuned_model_test_perf\n",
        "\n",
        "xgb_tuned_model_test_perf=model_performance_classification_sklearn(xgb_tuned,X_test,y_test)\n",
        "xgb_tuned_model_test_perf"
      ]
    },
    {
      "cell_type": "markdown",
      "id": "disciplinary-manhattan",
      "metadata": {
        "id": "disciplinary-manhattan"
      },
      "source": [
        "### Stacking Classifier"
      ]
    },
    {
      "cell_type": "code",
      "execution_count": 111,
      "id": "massive-cincinnati",
      "metadata": {
        "id": "massive-cincinnati",
        "colab": {
          "base_uri": "https://localhost:8080/"
        },
        "outputId": "9e3f9462-4ea9-4a23-bf3a-58bccd451a26"
      },
      "outputs": [
        {
          "output_type": "execute_result",
          "data": {
            "text/plain": [
              "StackingClassifier(estimators=[('AdaBoost', AdaBoostClassifier(random_state=1)),\n",
              "                               ('Gradient Boosting',\n",
              "                                GradientBoostingClassifier(init=AdaBoostClassifier(random_state=1),\n",
              "                                                           max_features=0.8,\n",
              "                                                           n_estimators=200,\n",
              "                                                           random_state=1,\n",
              "                                                           subsample=1)),\n",
              "                               ('Random Forest',\n",
              "                                RandomForestClassifier(max_depth=10,\n",
              "                                                       max_features='sqrt',\n",
              "                                                       min_samples_split=7,\n",
              "                                                       n_estimators=20,\n",
              "                                                       oob_score=True,\n",
              "                                                       random_state=1))],\n",
              "                   final_estimator=XGBClassifier(colsample_bylevel=0.9,\n",
              "                                                 colsample_bytree=0.9,\n",
              "                                                 eval_metric='logloss', gamma=5,\n",
              "                                                 n_estimators=200,\n",
              "                                                 random_state=1))"
            ]
          },
          "metadata": {},
          "execution_count": 111
        }
      ],
      "source": [
        "estimators = [\n",
        "    (\"AdaBoost\", ab_classifier),\n",
        "    (\"Gradient Boosting\", gbc_tuned),\n",
        "    (\"Random Forest\", rf_tuned),\n",
        "]\n",
        "\n",
        "final_estimator = xgb_tuned\n",
        "\n",
        "#stacking_classifier = '_______' ## Complete the code to define Stacking Classifier\n",
        "\n",
        "#stacking_classifier.'_______' ## Complete the code to fit Stacking Classifier on the train data\n",
        "\n",
        "stacking_classifier= StackingClassifier(estimators=estimators,final_estimator=final_estimator)\n",
        "\n",
        "stacking_classifier.fit(X_train,y_train)\n"
      ]
    },
    {
      "cell_type": "markdown",
      "id": "greek-jefferson",
      "metadata": {
        "id": "greek-jefferson"
      },
      "source": [
        "#### Checking model performance on training set"
      ]
    },
    {
      "cell_type": "code",
      "execution_count": 112,
      "id": "under-brazilian",
      "metadata": {
        "id": "under-brazilian",
        "colab": {
          "base_uri": "https://localhost:8080/",
          "height": 279
        },
        "outputId": "fd2ca14a-fbc5-4bed-8433-249d93263341"
      },
      "outputs": [
        {
          "output_type": "display_data",
          "data": {
            "image/png": "[encoded data removed]",
            "text/plain": [
              "<Figure size 432x288 with 2 Axes>"
            ]
          },
          "metadata": {
            "needs_background": "light"
          }
        }
      ],
      "source": [
        "#'_______' ## Complete the code to create confusion matrix for train data\n",
        "\n",
        "confusion_matrix_sklearn(stacking_classifier,X_train,y_train)"
      ]
    },
    {
      "cell_type": "code",
      "execution_count": 113,
      "id": "apparent-greenhouse",
      "metadata": {
        "id": "apparent-greenhouse",
        "colab": {
          "base_uri": "https://localhost:8080/",
          "height": 81
        },
        "outputId": "44e814b2-28f4-4c3b-9eab-3bfe7dba8226"
      },
      "outputs": [
        {
          "output_type": "execute_result",
          "data": {
            "text/html": [
              "<div>\n",
              "<style scoped>\n",
              "    .dataframe tbody tr th:only-of-type {\n",
              "        vertical-align: middle;\n",
              "    }\n",
              "\n",
              "    .dataframe tbody tr th {\n",
              "        vertical-align: top;\n",
              "    }\n",
              "\n",
              "    .dataframe thead th {\n",
              "        text-align: right;\n",
              "    }\n",
              "</style>\n",
              "<table border=\"1\" class=\"dataframe\">\n",
              "  <thead>\n",
              "    <tr style=\"text-align: right;\">\n",
              "      <th></th>\n",
              "      <th>Accuracy</th>\n",
              "      <th>Recall</th>\n",
              "      <th>Precision</th>\n",
              "      <th>F1</th>\n",
              "    </tr>\n",
              "  </thead>\n",
              "  <tbody>\n",
              "    <tr>\n",
              "      <th>0</th>\n",
              "      <td>0.767549</td>\n",
              "      <td>0.891211</td>\n",
              "      <td>0.788372</td>\n",
              "      <td>0.836643</td>\n",
              "    </tr>\n",
              "  </tbody>\n",
              "</table>\n",
              "</div>"
            ],
            "text/plain": [
              "   Accuracy    Recall  Precision        F1\n",
              "0  0.767549  0.891211   0.788372  0.836643"
            ]
          },
          "metadata": {},
          "execution_count": 113
        }
      ],
      "source": [
        "#stacking_classifier_model_train_perf = model_performance_classification_sklearn('_______') ## Complete the code to check performance on train data\n",
        "#stacking_classifier_model_train_perf\n",
        "\n",
        "stacking_classifier_model_train_perf=model_performance_classification_sklearn(stacking_classifier,X_train,y_train)\n",
        "stacking_classifier_model_train_perf"
      ]
    },
    {
      "cell_type": "markdown",
      "id": "corrected-agency",
      "metadata": {
        "id": "corrected-agency"
      },
      "source": [
        "#### Checking model performance on test set"
      ]
    },
    {
      "cell_type": "code",
      "execution_count": 114,
      "id": "empty-agent",
      "metadata": {
        "id": "empty-agent",
        "colab": {
          "base_uri": "https://localhost:8080/",
          "height": 279
        },
        "outputId": "f36a67e2-3f11-4119-dd45-7b5c223d9b5b"
      },
      "outputs": [
        {
          "output_type": "display_data",
          "data": {
            "image/png": "[encoded data removed]",
            "text/plain": [
              "<Figure size 432x288 with 2 Axes>"
            ]
          },
          "metadata": {
            "needs_background": "light"
          }
        }
      ],
      "source": [
        "#'_______' ## Complete the code to create confusion matrix for test data\n",
        "\n",
        "confusion_matrix_sklearn(stacking_classifier,X_test,y_test)"
      ]
    },
    {
      "cell_type": "code",
      "execution_count": 115,
      "id": "quantitative-neighborhood",
      "metadata": {
        "id": "quantitative-neighborhood",
        "colab": {
          "base_uri": "https://localhost:8080/",
          "height": 81
        },
        "outputId": "ba009e7e-f2c5-49bb-a640-db202a5a8426"
      },
      "outputs": [
        {
          "output_type": "execute_result",
          "data": {
            "text/html": [
              "<div>\n",
              "<style scoped>\n",
              "    .dataframe tbody tr th:only-of-type {\n",
              "        vertical-align: middle;\n",
              "    }\n",
              "\n",
              "    .dataframe tbody tr th {\n",
              "        vertical-align: top;\n",
              "    }\n",
              "\n",
              "    .dataframe thead th {\n",
              "        text-align: right;\n",
              "    }\n",
              "</style>\n",
              "<table border=\"1\" class=\"dataframe\">\n",
              "  <thead>\n",
              "    <tr style=\"text-align: right;\">\n",
              "      <th></th>\n",
              "      <th>Accuracy</th>\n",
              "      <th>Recall</th>\n",
              "      <th>Precision</th>\n",
              "      <th>F1</th>\n",
              "    </tr>\n",
              "  </thead>\n",
              "  <tbody>\n",
              "    <tr>\n",
              "      <th>0</th>\n",
              "      <td>0.744898</td>\n",
              "      <td>0.878355</td>\n",
              "      <td>0.771375</td>\n",
              "      <td>0.821396</td>\n",
              "    </tr>\n",
              "  </tbody>\n",
              "</table>\n",
              "</div>"
            ],
            "text/plain": [
              "   Accuracy    Recall  Precision        F1\n",
              "0  0.744898  0.878355   0.771375  0.821396"
            ]
          },
          "metadata": {},
          "execution_count": 115
        }
      ],
      "source": [
        "#stacking_classifier_model_test_perf = model_performance_classification_sklearn('_______') ## Complete the code to check performance for test data\n",
        "#stacking_classifier_model_test_perf\n",
        "\n",
        "stacking_classifier_model_test_perf=model_performance_classification_sklearn(stacking_classifier,X_test,y_test)\n",
        "stacking_classifier_model_test_perf"
      ]
    },
    {
      "cell_type": "markdown",
      "id": "mechanical-clarity",
      "metadata": {
        "id": "mechanical-clarity"
      },
      "source": [
        "### Conclusion"
      ]
    },
    {
      "cell_type": "markdown",
      "id": "royal-panel",
      "metadata": {
        "id": "royal-panel"
      },
      "source": [
        "**Comparing all models**"
      ]
    },
    {
      "cell_type": "code",
      "execution_count": 121,
      "id": "future-irrigation",
      "metadata": {
        "id": "future-irrigation",
        "colab": {
          "base_uri": "https://localhost:8080/",
          "height": 265
        },
        "outputId": "11feb892-9750-4d1d-fe6e-71d7beeef4a8"
      },
      "outputs": [
        {
          "output_type": "stream",
          "name": "stdout",
          "text": [
            "Training performance comparison:\n"
          ]
        },
        {
          "output_type": "execute_result",
          "data": {
            "text/html": [
              "<div>\n",
              "<style scoped>\n",
              "    .dataframe tbody tr th:only-of-type {\n",
              "        vertical-align: middle;\n",
              "    }\n",
              "\n",
              "    .dataframe tbody tr th {\n",
              "        vertical-align: top;\n",
              "    }\n",
              "\n",
              "    .dataframe thead th {\n",
              "        text-align: right;\n",
              "    }\n",
              "</style>\n",
              "<table border=\"1\" class=\"dataframe\">\n",
              "  <thead>\n",
              "    <tr style=\"text-align: right;\">\n",
              "      <th></th>\n",
              "      <th>Decision Tree</th>\n",
              "      <th>Tuned Decision Tree</th>\n",
              "      <th>Bagging Classifier</th>\n",
              "      <th>Tuned Bagging Classifier</th>\n",
              "      <th>Random Forest</th>\n",
              "      <th>Tuned Random Forest</th>\n",
              "      <th>Adaboost Classifier</th>\n",
              "      <th>Tuned Adaboost Classifier</th>\n",
              "      <th>Gradient Boost Classifier</th>\n",
              "      <th>Tuned Gradient Boost Classifier</th>\n",
              "      <th>XGBoost Classifier</th>\n",
              "      <th>XGBoost Classifier Tuned</th>\n",
              "      <th>Stacking Classifier</th>\n",
              "    </tr>\n",
              "  </thead>\n",
              "  <tbody>\n",
              "    <tr>\n",
              "      <th>Accuracy</th>\n",
              "      <td>1.0</td>\n",
              "      <td>0.712548</td>\n",
              "      <td>0.985198</td>\n",
              "      <td>0.996187</td>\n",
              "      <td>1.0</td>\n",
              "      <td>0.769119</td>\n",
              "      <td>0.738226</td>\n",
              "      <td>0.719163</td>\n",
              "      <td>0.758802</td>\n",
              "      <td>0.764017</td>\n",
              "      <td>0.756279</td>\n",
              "      <td>0.756504</td>\n",
              "      <td>0.767549</td>\n",
              "    </tr>\n",
              "    <tr>\n",
              "      <th>Recall</th>\n",
              "      <td>1.0</td>\n",
              "      <td>0.931923</td>\n",
              "      <td>0.985982</td>\n",
              "      <td>0.999916</td>\n",
              "      <td>1.0</td>\n",
              "      <td>0.918660</td>\n",
              "      <td>0.887182</td>\n",
              "      <td>0.781415</td>\n",
              "      <td>0.883740</td>\n",
              "      <td>0.882649</td>\n",
              "      <td>0.883573</td>\n",
              "      <td>0.883069</td>\n",
              "      <td>0.891211</td>\n",
              "    </tr>\n",
              "    <tr>\n",
              "      <th>Precision</th>\n",
              "      <td>1.0</td>\n",
              "      <td>0.720067</td>\n",
              "      <td>0.991810</td>\n",
              "      <td>0.994407</td>\n",
              "      <td>1.0</td>\n",
              "      <td>0.776556</td>\n",
              "      <td>0.760688</td>\n",
              "      <td>0.794690</td>\n",
              "      <td>0.783042</td>\n",
              "      <td>0.789059</td>\n",
              "      <td>0.780513</td>\n",
              "      <td>0.780995</td>\n",
              "      <td>0.788372</td>\n",
              "    </tr>\n",
              "    <tr>\n",
              "      <th>F1</th>\n",
              "      <td>1.0</td>\n",
              "      <td>0.812411</td>\n",
              "      <td>0.988887</td>\n",
              "      <td>0.997154</td>\n",
              "      <td>1.0</td>\n",
              "      <td>0.841652</td>\n",
              "      <td>0.819080</td>\n",
              "      <td>0.787997</td>\n",
              "      <td>0.830349</td>\n",
              "      <td>0.833234</td>\n",
              "      <td>0.828852</td>\n",
              "      <td>0.828901</td>\n",
              "      <td>0.836643</td>\n",
              "    </tr>\n",
              "  </tbody>\n",
              "</table>\n",
              "</div>"
            ],
            "text/plain": [
              "           Decision Tree  Tuned Decision Tree  Bagging Classifier  \\\n",
              "Accuracy             1.0             0.712548            0.985198   \n",
              "Recall               1.0             0.931923            0.985982   \n",
              "Precision            1.0             0.720067            0.991810   \n",
              "F1                   1.0             0.812411            0.988887   \n",
              "\n",
              "           Tuned Bagging Classifier  Random Forest  Tuned Random Forest  \\\n",
              "Accuracy                   0.996187            1.0             0.769119   \n",
              "Recall                     0.999916            1.0             0.918660   \n",
              "Precision                  0.994407            1.0             0.776556   \n",
              "F1                         0.997154            1.0             0.841652   \n",
              "\n",
              "           Adaboost Classifier  Tuned Adaboost Classifier  \\\n",
              "Accuracy              0.738226                   0.719163   \n",
              "Recall                0.887182                   0.781415   \n",
              "Precision             0.760688                   0.794690   \n",
              "F1                    0.819080                   0.787997   \n",
              "\n",
              "           Gradient Boost Classifier  Tuned Gradient Boost Classifier  \\\n",
              "Accuracy                    0.758802                         0.764017   \n",
              "Recall                      0.883740                         0.882649   \n",
              "Precision                   0.783042                         0.789059   \n",
              "F1                          0.830349                         0.833234   \n",
              "\n",
              "           XGBoost Classifier  XGBoost Classifier Tuned  Stacking Classifier  \n",
              "Accuracy             0.756279                  0.756504             0.767549  \n",
              "Recall               0.883573                  0.883069             0.891211  \n",
              "Precision            0.780513                  0.780995             0.788372  \n",
              "F1                   0.828852                  0.828901             0.836643  "
            ]
          },
          "metadata": {},
          "execution_count": 121
        }
      ],
      "source": [
        "# training performance comparison\n",
        "\n",
        "models_train_comp_df = pd.concat(\n",
        "    [\n",
        "        decision_tree_perf_train.T,\n",
        "        dtree_estimator_model_train_perf.T,\n",
        "        bagging_classifier_model_train_perf.T,\n",
        "        bagging_estimator_tuned_model_train_perf.T,\n",
        "        rf_estimator_model_train_perf.T,\n",
        "        rf_tuned_model_train_perf.T,\n",
        "        ab_classifier_model_train_perf.T,\n",
        "        abc_tuned_model_train_perf.T,\n",
        "        gb_classifier_model_train_perf.T,\n",
        "        gbc_tuned_model_train_perf.T,\n",
        "        xgb_classifier_model_train_perf.T,\n",
        "        xgb_tuned_model_train_perf.T,\n",
        "        stacking_classifier_model_train_perf.T,\n",
        "    ],\n",
        "    axis=1,\n",
        ")\n",
        "models_train_comp_df.columns = [\n",
        "    \"Decision Tree\",\n",
        "    \"Tuned Decision Tree\",\n",
        "    \"Bagging Classifier\",\n",
        "    \"Tuned Bagging Classifier\",\n",
        "    \"Random Forest\",\n",
        "    \"Tuned Random Forest\",\n",
        "    \"Adaboost Classifier\",\n",
        "    \"Tuned Adaboost Classifier\",\n",
        "    \"Gradient Boost Classifier\",\n",
        "    \"Tuned Gradient Boost Classifier\",\n",
        "    \"XGBoost Classifier\",\n",
        "    \"XGBoost Classifier Tuned\",\n",
        "    \"Stacking Classifier\",\n",
        "]\n",
        "print(\"Training performance comparison:\")\n",
        "models_train_comp_df"
      ]
    },
    {
      "cell_type": "code",
      "execution_count": 124,
      "id": "collective-fireplace",
      "metadata": {
        "id": "collective-fireplace",
        "colab": {
          "base_uri": "https://localhost:8080/",
          "height": 265
        },
        "outputId": "e808892d-3cc1-4064-a559-0cb929f2b63b"
      },
      "outputs": [
        {
          "output_type": "stream",
          "name": "stdout",
          "text": [
            "testing performance comparison:\n"
          ]
        },
        {
          "output_type": "execute_result",
          "data": {
            "text/html": [
              "<div>\n",
              "<style scoped>\n",
              "    .dataframe tbody tr th:only-of-type {\n",
              "        vertical-align: middle;\n",
              "    }\n",
              "\n",
              "    .dataframe tbody tr th {\n",
              "        vertical-align: top;\n",
              "    }\n",
              "\n",
              "    .dataframe thead th {\n",
              "        text-align: right;\n",
              "    }\n",
              "</style>\n",
              "<table border=\"1\" class=\"dataframe\">\n",
              "  <thead>\n",
              "    <tr style=\"text-align: right;\">\n",
              "      <th></th>\n",
              "      <th>Decision Tree</th>\n",
              "      <th>Tuned Decision Tree</th>\n",
              "      <th>Bagging Classifier</th>\n",
              "      <th>Tuned Bagging Classifier</th>\n",
              "      <th>Random Forest</th>\n",
              "      <th>Tuned Random Forest</th>\n",
              "      <th>Adaboost Classifier</th>\n",
              "      <th>Tuned Adaboost Classifier</th>\n",
              "      <th>Gradient Boost Classifier</th>\n",
              "      <th>Tuned Gradient Boost Classifier</th>\n",
              "      <th>XGBoost Classifier</th>\n",
              "      <th>XGBoost Classifier Tuned</th>\n",
              "      <th>Stacking Classifier</th>\n",
              "    </tr>\n",
              "  </thead>\n",
              "  <tbody>\n",
              "    <tr>\n",
              "      <th>Accuracy</th>\n",
              "      <td>0.664835</td>\n",
              "      <td>0.706567</td>\n",
              "      <td>0.691523</td>\n",
              "      <td>0.724228</td>\n",
              "      <td>0.727368</td>\n",
              "      <td>0.738095</td>\n",
              "      <td>0.734301</td>\n",
              "      <td>0.716641</td>\n",
              "      <td>0.744767</td>\n",
              "      <td>0.743459</td>\n",
              "      <td>0.744636</td>\n",
              "      <td>0.744244</td>\n",
              "      <td>0.744898</td>\n",
              "    </tr>\n",
              "    <tr>\n",
              "      <th>Recall</th>\n",
              "      <td>0.742801</td>\n",
              "      <td>0.930852</td>\n",
              "      <td>0.764153</td>\n",
              "      <td>0.895397</td>\n",
              "      <td>0.847209</td>\n",
              "      <td>0.898923</td>\n",
              "      <td>0.885015</td>\n",
              "      <td>0.781587</td>\n",
              "      <td>0.876004</td>\n",
              "      <td>0.871303</td>\n",
              "      <td>0.877375</td>\n",
              "      <td>0.876200</td>\n",
              "      <td>0.878355</td>\n",
              "    </tr>\n",
              "    <tr>\n",
              "      <th>Precision</th>\n",
              "      <td>0.752232</td>\n",
              "      <td>0.715447</td>\n",
              "      <td>0.771711</td>\n",
              "      <td>0.743857</td>\n",
              "      <td>0.768343</td>\n",
              "      <td>0.755391</td>\n",
              "      <td>0.757799</td>\n",
              "      <td>0.791510</td>\n",
              "      <td>0.772366</td>\n",
              "      <td>0.773296</td>\n",
              "      <td>0.771576</td>\n",
              "      <td>0.771739</td>\n",
              "      <td>0.771375</td>\n",
              "    </tr>\n",
              "    <tr>\n",
              "      <th>F1</th>\n",
              "      <td>0.747487</td>\n",
              "      <td>0.809058</td>\n",
              "      <td>0.767913</td>\n",
              "      <td>0.812622</td>\n",
              "      <td>0.805851</td>\n",
              "      <td>0.820930</td>\n",
              "      <td>0.816481</td>\n",
              "      <td>0.786517</td>\n",
              "      <td>0.820927</td>\n",
              "      <td>0.819379</td>\n",
              "      <td>0.821082</td>\n",
              "      <td>0.820659</td>\n",
              "      <td>0.821396</td>\n",
              "    </tr>\n",
              "  </tbody>\n",
              "</table>\n",
              "</div>"
            ],
            "text/plain": [
              "           Decision Tree  Tuned Decision Tree  Bagging Classifier  \\\n",
              "Accuracy        0.664835             0.706567            0.691523   \n",
              "Recall          0.742801             0.930852            0.764153   \n",
              "Precision       0.752232             0.715447            0.771711   \n",
              "F1              0.747487             0.809058            0.767913   \n",
              "\n",
              "           Tuned Bagging Classifier  Random Forest  Tuned Random Forest  \\\n",
              "Accuracy                   0.724228       0.727368             0.738095   \n",
              "Recall                     0.895397       0.847209             0.898923   \n",
              "Precision                  0.743857       0.768343             0.755391   \n",
              "F1                         0.812622       0.805851             0.820930   \n",
              "\n",
              "           Adaboost Classifier  Tuned Adaboost Classifier  \\\n",
              "Accuracy              0.734301                   0.716641   \n",
              "Recall                0.885015                   0.781587   \n",
              "Precision             0.757799                   0.791510   \n",
              "F1                    0.816481                   0.786517   \n",
              "\n",
              "           Gradient Boost Classifier  Tuned Gradient Boost Classifier  \\\n",
              "Accuracy                    0.744767                         0.743459   \n",
              "Recall                      0.876004                         0.871303   \n",
              "Precision                   0.772366                         0.773296   \n",
              "F1                          0.820927                         0.819379   \n",
              "\n",
              "           XGBoost Classifier  XGBoost Classifier Tuned  Stacking Classifier  \n",
              "Accuracy             0.744636                  0.744244             0.744898  \n",
              "Recall               0.877375                  0.876200             0.878355  \n",
              "Precision            0.771576                  0.771739             0.771375  \n",
              "F1                   0.821082                  0.820659             0.821396  "
            ]
          },
          "metadata": {},
          "execution_count": 124
        }
      ],
      "source": [
        "# testing performance comparison\n",
        "\n",
        "#'_______' ## Complete the code to check performance for test data\n",
        "\n",
        "models_test_comp_df = pd.concat(\n",
        "    [\n",
        "       decision_tree_perf_test.T,\n",
        "        dtree_estimator_model_test_perf.T,\n",
        "        bagging_classifier_model_test_perf.T,\n",
        "        bagging_estimator_tuned_model_test_perf.T,\n",
        "        rf_estimator_model_test_perf.T,\n",
        "        rf_tuned_model_test_perf.T,\n",
        "        ab_classifier_model_test_perf.T,\n",
        "        abc_tuned_model_test_perf.T,\n",
        "        gb_classifier_model_test_perf.T,\n",
        "        gbc_tuned_model_test_perf.T,\n",
        "        xgb_classifier_model_test_perf.T,\n",
        "        xgb_tuned_model_test_perf.T,\n",
        "        stacking_classifier_model_test_perf.T,\n",
        "    ],\n",
        "    axis=1,\n",
        ")\n",
        "models_test_comp_df.columns = [\n",
        "    \"Decision Tree\",\n",
        "    \"Tuned Decision Tree\",\n",
        "    \"Bagging Classifier\",\n",
        "    \"Tuned Bagging Classifier\",\n",
        "    \"Random Forest\",\n",
        "    \"Tuned Random Forest\",\n",
        "    \"Adaboost Classifier\",\n",
        "    \"Tuned Adaboost Classifier\",\n",
        "    \"Gradient Boost Classifier\",\n",
        "    \"Tuned Gradient Boost Classifier\",\n",
        "    \"XGBoost Classifier\",\n",
        "    \"XGBoost Classifier Tuned\",\n",
        "    \"Stacking Classifier\",\n",
        "]\n",
        "print(\"testing performance comparison:\")\n",
        "models_test_comp_df"
      ]
    },
    {
      "cell_type": "markdown",
      "id": "stone-venezuela",
      "metadata": {
        "id": "stone-venezuela"
      },
      "source": [
        "### Important features of the final model"
      ]
    },
    {
      "cell_type": "code",
      "execution_count": 118,
      "id": "forty-mayor",
      "metadata": {
        "id": "forty-mayor",
        "colab": {
          "base_uri": "https://localhost:8080/",
          "height": 730
        },
        "outputId": "c850c42e-a0bb-495b-8cf1-8a0435a17e3d"
      },
      "outputs": [
        {
          "output_type": "display_data",
          "data": {
            "image/png": "[encoded data removed]",
            "text/plain": [
              "<Figure size 864x864 with 1 Axes>"
            ]
          },
          "metadata": {
            "needs_background": "light"
          }
        }
      ],
      "source": [
        "feature_names = X_train.columns\n",
        "importances = rf_tuned.feature_importances_\n",
        "indices = np.argsort(importances)\n",
        "\n",
        "plt.figure(figsize=(12, 12))\n",
        "plt.title(\"Feature Importances\")\n",
        "plt.barh(range(len(indices)), importances[indices], color=\"violet\", align=\"center\")\n",
        "plt.yticks(range(len(indices)), [feature_names[i] for i in indices])\n",
        "plt.xlabel(\"Relative Importance\")\n",
        "plt.show()"
      ]
    },
    {
      "cell_type": "markdown",
      "id": "congressional-knock",
      "metadata": {
        "id": "congressional-knock"
      },
      "source": [
        "### Recommendations"
      ]
    }
  ],
  "metadata": {
    "colab": {
      "name": "DSBA_Project_ET_EasyVisa_Low_Code Project 5 JOHN NOBLE .ipynb",
      "provenance": [],
      "collapsed_sections": [],
      "machine_shape": "hm",
      "include_colab_link": true
    },
    "kernelspec": {
      "display_name": "Python 3 (ipykernel)",
      "language": "python",
      "name": "python3"
    },
    "language_info": {
      "codemirror_mode": {
        "name": "ipython",
        "version": 3
      },
      "file_extension": ".py",
      "mimetype": "text/x-python",
      "name": "python",
      "nbconvert_exporter": "python",
      "pygments_lexer": "ipython3",
      "version": "3.9.7"
    },
    "accelerator": "GPU"
  },
  "nbformat": 4,
  "nbformat_minor": 5
}