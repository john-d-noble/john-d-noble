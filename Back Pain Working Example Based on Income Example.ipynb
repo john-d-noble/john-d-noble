{
 "cells": [
  {
   "cell_type": "markdown",
   "id": "emerging-diagnosis",
   "metadata": {
    "id": "HXJ7MT8d9WJL"
   },
   "source": [
    "## Income Group Classification"
   ]
  },
  {
   "cell_type": "markdown",
   "id": "prostate-workplace",
   "metadata": {
    "id": "2pM66Y9j9WJQ"
   },
   "source": [
    "Context\n",
    "\n",
    "Low back pain is a major cause of morbidity in the developed world, affecting 40% of people at some point in their lives. Back pain can be caused by a variety of problems with any parts of the complex, interconnected network of spinal muscles, nerves, bones, discs, or tendons in the lumbar spine.\n",
    "\n",
    "An irritation or problem with any of these structures can cause lower back pain and/or pain that radiates or is referred to other parts of the body. Many lower back problems also cause back muscle spasms, which don't sound like much but can cause severe pain and disability.\n",
    "\n",
    "While lower back pain is extremely common, the symptoms and severity of lower back pain vary greatly.\n",
    "\n",
    "The spine of each patient was classified as - normal or abnormal, by practitioners, using the collected physical spine details/data.\n",
    "Objective:\n",
    "\n",
    "The objective is to build a predictive model on this data to help predict back pain.\n",
    "Dataset:\n",
    "\n",
    "    Pelvic_incidence: angle between a line perpendicular to the sacral plate at its midpoint and a line connecting this point to the femoral head axis.\n",
    "    Pelvic tilt: is a position-dependent parameter defined as the angle created by a line running from the sacral endplate midpoint to the center of the bifemoral heads and the vertical axis\n",
    "    Lumbar_lordosis_angle: is defined by the angle between the upper plane of the L1 lumbar vertebrae and the upper plane of the S1 sacral vertebrae.\n",
    "    Sacral_slope: is defined as the angle between the horizontal and the sacral plate, and is a critical spinal parameter in the analysis of sagittal balance.\n",
    "    Pelvic_radius: The distance from the hip axis to the posterior-superior corner of the S1 endplate\n",
    "    Degree_spondylolisthesis: spondylolisthesis is a forward slip of one vertebra. Spondylolisthesis usually occurs towards the base of your spine in the lumbar area. The degree of spondylolisthesis describes the severity of the vertebral body slipped forward.\n",
    "    Pelvic_slope: is the angle between a vertical line and the CS segment\n",
    "    Direct_tilt: No Information\n",
    "    Thoracic_slope: thoracic angle between T1 slope and neck tilt\n",
    "    Cervical_tilt:n angle formed between the vertical line from the center of T1UEP and the line from the center of T1UEP to the center of the C2 vertebra\n",
    "    Sacrum_angle: is the angle formed by the true conjugate with the two pieces of the sacrum.\n",
    "    Scoliosis_slope: Scoliosis is a sideways curvature of the spine it represents the angle formed from the curvature of the spine\n",
    "    Status:- Normal or Abnormal\n",
    "\n"
   ]
  },
  {
   "cell_type": "markdown",
   "id": "crazy-operations",
   "metadata": {
    "id": "ZzsW_RNeuNEx"
   },
   "source": [
    "### Loading Libraries"
   ]
  },
  {
   "cell_type": "code",
   "execution_count": 1,
   "id": "handled-ordinance",
   "metadata": {},
   "outputs": [
    {
     "name": "stderr",
     "output_type": "stream",
     "text": [
      "Generating grammar tables from /Users/johnnoble/opt/anaconda3/lib/python3.8/site-packages/blib2to3/Grammar.txt\n",
      "Writing grammar tables to /Users/johnnoble/Library/Caches/black/19.10b0/Grammar3.8.12.final.0.pickle\n",
      "Writing failed: [Errno 2] No such file or directory: '/Users/johnnoble/Library/Caches/black/19.10b0/tmpqm0lx07c'\n",
      "Generating grammar tables from /Users/johnnoble/opt/anaconda3/lib/python3.8/site-packages/blib2to3/PatternGrammar.txt\n",
      "Writing grammar tables to /Users/johnnoble/Library/Caches/black/19.10b0/PatternGrammar3.8.12.final.0.pickle\n",
      "Writing failed: [Errno 2] No such file or directory: '/Users/johnnoble/Library/Caches/black/19.10b0/tmpbm0itoh9'\n"
     ]
    },
    {
     "data": {
      "application/javascript": [
       "\n",
       "            setTimeout(function() {\n",
       "                var nbb_cell_id = 1;\n",
       "                var nbb_unformatted_code = \"# this will help in making the Python code more structured automatically (good coding practice)\\n%load_ext nb_black\\n\\nimport warnings\\n\\nwarnings.filterwarnings(\\\"ignore\\\")\\nfrom statsmodels.tools.sm_exceptions import ConvergenceWarning\\n\\nwarnings.simplefilter(\\\"ignore\\\", ConvergenceWarning)\\n\\n# Libraries to help with reading and manipulating data\\n\\nimport pandas as pd\\nimport numpy as np\\n\\n# Library to split data\\nfrom sklearn.model_selection import train_test_split\\n\\n# libaries to help with data visualization\\nimport matplotlib.pyplot as plt\\nimport seaborn as sns\\n\\n# Removes the limit for the number of displayed columns\\npd.set_option(\\\"display.max_columns\\\", None)\\n# Sets the limit for the number of displayed rows\\npd.set_option(\\\"display.max_rows\\\", 200)\\n\\n\\n# To build model for prediction\\nimport statsmodels.stats.api as sms\\nfrom statsmodels.stats.outliers_influence import variance_inflation_factor\\nimport statsmodels.api as sm\\nfrom statsmodels.tools.tools import add_constant\\nfrom sklearn.linear_model import LogisticRegression\\n\\n\\n# To get diferent metric scores\\nfrom sklearn.metrics import (\\n    f1_score,\\n    accuracy_score,\\n    recall_score,\\n    precision_score,\\n    confusion_matrix,\\n    roc_auc_score,\\n    plot_confusion_matrix,\\n    precision_recall_curve,\\n    roc_curve,\\n)\";\n",
       "                var nbb_formatted_code = \"# this will help in making the Python code more structured automatically (good coding practice)\\n%load_ext nb_black\\n\\nimport warnings\\n\\nwarnings.filterwarnings(\\\"ignore\\\")\\nfrom statsmodels.tools.sm_exceptions import ConvergenceWarning\\n\\nwarnings.simplefilter(\\\"ignore\\\", ConvergenceWarning)\\n\\n# Libraries to help with reading and manipulating data\\n\\nimport pandas as pd\\nimport numpy as np\\n\\n# Library to split data\\nfrom sklearn.model_selection import train_test_split\\n\\n# libaries to help with data visualization\\nimport matplotlib.pyplot as plt\\nimport seaborn as sns\\n\\n# Removes the limit for the number of displayed columns\\npd.set_option(\\\"display.max_columns\\\", None)\\n# Sets the limit for the number of displayed rows\\npd.set_option(\\\"display.max_rows\\\", 200)\\n\\n\\n# To build model for prediction\\nimport statsmodels.stats.api as sms\\nfrom statsmodels.stats.outliers_influence import variance_inflation_factor\\nimport statsmodels.api as sm\\nfrom statsmodels.tools.tools import add_constant\\nfrom sklearn.linear_model import LogisticRegression\\n\\n\\n# To get diferent metric scores\\nfrom sklearn.metrics import (\\n    f1_score,\\n    accuracy_score,\\n    recall_score,\\n    precision_score,\\n    confusion_matrix,\\n    roc_auc_score,\\n    plot_confusion_matrix,\\n    precision_recall_curve,\\n    roc_curve,\\n)\";\n",
       "                var nbb_cells = Jupyter.notebook.get_cells();\n",
       "                for (var i = 0; i < nbb_cells.length; ++i) {\n",
       "                    if (nbb_cells[i].input_prompt_number == nbb_cell_id) {\n",
       "                        if (nbb_cells[i].get_text() == nbb_unformatted_code) {\n",
       "                             nbb_cells[i].set_text(nbb_formatted_code);\n",
       "                        }\n",
       "                        break;\n",
       "                    }\n",
       "                }\n",
       "            }, 500);\n",
       "            "
      ],
      "text/plain": [
       "<IPython.core.display.Javascript object>"
      ]
     },
     "metadata": {},
     "output_type": "display_data"
    }
   ],
   "source": [
    "# this will help in making the Python code more structured automatically (good coding practice)\n",
    "%load_ext nb_black\n",
    "\n",
    "import warnings\n",
    "\n",
    "warnings.filterwarnings(\"ignore\")\n",
    "from statsmodels.tools.sm_exceptions import ConvergenceWarning\n",
    "\n",
    "warnings.simplefilter(\"ignore\", ConvergenceWarning)\n",
    "\n",
    "# Libraries to help with reading and manipulating data\n",
    "\n",
    "import pandas as pd\n",
    "import numpy as np\n",
    "\n",
    "# Library to split data\n",
    "from sklearn.model_selection import train_test_split\n",
    "\n",
    "# libaries to help with data visualization\n",
    "import matplotlib.pyplot as plt\n",
    "import seaborn as sns\n",
    "\n",
    "# Removes the limit for the number of displayed columns\n",
    "pd.set_option(\"display.max_columns\", None)\n",
    "# Sets the limit for the number of displayed rows\n",
    "pd.set_option(\"display.max_rows\", 200)\n",
    "\n",
    "\n",
    "# To build model for prediction\n",
    "import statsmodels.stats.api as sms\n",
    "from statsmodels.stats.outliers_influence import variance_inflation_factor\n",
    "import statsmodels.api as sm\n",
    "from statsmodels.tools.tools import add_constant\n",
    "from sklearn.linear_model import LogisticRegression\n",
    "\n",
    "\n",
    "# To get diferent metric scores\n",
    "from sklearn.metrics import (\n",
    "    f1_score,\n",
    "    accuracy_score,\n",
    "    recall_score,\n",
    "    precision_score,\n",
    "    confusion_matrix,\n",
    "    roc_auc_score,\n",
    "    plot_confusion_matrix,\n",
    "    precision_recall_curve,\n",
    "    roc_curve,\n",
    ")"
   ]
  },
  {
   "cell_type": "markdown",
   "id": "decreased-cambodia",
   "metadata": {},
   "source": [
    "### Note: The first section of the notebook is the section that has been covered multiple times in the previous case studies.  For this discussion this part can be skipped and we can directly refer to this **<a href = #link1>summary</a>** of data cleaning steps and observations from EDA."
   ]
  },
  {
   "cell_type": "markdown",
   "id": "renewable-instrumentation",
   "metadata": {
    "id": "sAccTEIqj9VV"
   },
   "source": [
    "### Load data"
   ]
  },
  {
   "cell_type": "code",
   "execution_count": 21,
   "id": "alpha-endorsement",
   "metadata": {
    "id": "STzpWgWu9WJZ"
   },
   "outputs": [
    {
     "data": {
      "application/javascript": [
       "\n",
       "            setTimeout(function() {\n",
       "                var nbb_cell_id = 21;\n",
       "                var nbb_unformatted_code = \"who = pd.read_csv(\\\"backpain.csv\\\")\";\n",
       "                var nbb_formatted_code = \"who = pd.read_csv(\\\"backpain.csv\\\")\";\n",
       "                var nbb_cells = Jupyter.notebook.get_cells();\n",
       "                for (var i = 0; i < nbb_cells.length; ++i) {\n",
       "                    if (nbb_cells[i].input_prompt_number == nbb_cell_id) {\n",
       "                        if (nbb_cells[i].get_text() == nbb_unformatted_code) {\n",
       "                             nbb_cells[i].set_text(nbb_formatted_code);\n",
       "                        }\n",
       "                        break;\n",
       "                    }\n",
       "                }\n",
       "            }, 500);\n",
       "            "
      ],
      "text/plain": [
       "<IPython.core.display.Javascript object>"
      ]
     },
     "metadata": {},
     "output_type": "display_data"
    }
   ],
   "source": [
    "who = pd.read_csv(\"backpain.csv\")"
   ]
  },
  {
   "cell_type": "code",
   "execution_count": 22,
   "id": "fifty-prime",
   "metadata": {},
   "outputs": [
    {
     "data": {
      "application/javascript": [
       "\n",
       "            setTimeout(function() {\n",
       "                var nbb_cell_id = 22;\n",
       "                var nbb_unformatted_code = \"# copying data to another variable to avoid any changes to original data\\ndata = who.copy()\";\n",
       "                var nbb_formatted_code = \"# copying data to another variable to avoid any changes to original data\\ndata = who.copy()\";\n",
       "                var nbb_cells = Jupyter.notebook.get_cells();\n",
       "                for (var i = 0; i < nbb_cells.length; ++i) {\n",
       "                    if (nbb_cells[i].input_prompt_number == nbb_cell_id) {\n",
       "                        if (nbb_cells[i].get_text() == nbb_unformatted_code) {\n",
       "                             nbb_cells[i].set_text(nbb_formatted_code);\n",
       "                        }\n",
       "                        break;\n",
       "                    }\n",
       "                }\n",
       "            }, 500);\n",
       "            "
      ],
      "text/plain": [
       "<IPython.core.display.Javascript object>"
      ]
     },
     "metadata": {},
     "output_type": "display_data"
    }
   ],
   "source": [
    "# copying data to another variable to avoid any changes to original data\n",
    "data = who.copy()"
   ]
  },
  {
   "cell_type": "markdown",
   "id": "egyptian-workstation",
   "metadata": {},
   "source": [
    "### View the first and last 5 rows of the dataset."
   ]
  },
  {
   "cell_type": "code",
   "execution_count": 23,
   "id": "interpreted-publisher",
   "metadata": {
    "colab": {
     "base_uri": "https://localhost:8080/",
     "height": 306
    },
    "id": "frKZJfik9WJc",
    "outputId": "80196792-f0f7-4482-d9be-ba731e441e23"
   },
   "outputs": [
    {
     "data": {
      "text/html": [
       "<div><div id=78acc0d6-c452-4299-a088-bb04ee3654c1 style=\"display:none; background-color:#9D6CFF; color:white; width:200px; height:30px; padding-left:5px; border-radius:4px; flex-direction:row; justify-content:space-around; align-items:center;\" onmouseover=\"this.style.backgroundColor='#BA9BF8'\" onmouseout=\"this.style.backgroundColor='#9D6CFF'\" onclick=\"window.commands?.execute('create-mitosheet-from-dataframe-output');\">See Full Dataframe in Mito</div> <script> if (window.commands.hasCommand('create-mitosheet-from-dataframe-output')) document.getElementById('78acc0d6-c452-4299-a088-bb04ee3654c1').style.display = 'flex' </script> <table border=\"1\" class=\"dataframe\">\n",
       "  <thead>\n",
       "    <tr style=\"text-align: right;\">\n",
       "      <th></th>\n",
       "      <th>pelvic_incidence</th>\n",
       "      <th>pelvic tilt</th>\n",
       "      <th>lumbar_lordosis_angle</th>\n",
       "      <th>sacral_slope</th>\n",
       "      <th>pelvic_radius</th>\n",
       "      <th>degree_spondylolisthesis</th>\n",
       "      <th>pelvic_slope</th>\n",
       "      <th>Direct_tilt</th>\n",
       "      <th>thoracic_slope</th>\n",
       "      <th>cervical_tilt</th>\n",
       "      <th>sacrum_angle</th>\n",
       "      <th>scoliosis_slope</th>\n",
       "      <th>Status</th>\n",
       "    </tr>\n",
       "  </thead>\n",
       "  <tbody>\n",
       "    <tr>\n",
       "      <th>0</th>\n",
       "      <td>63.027818</td>\n",
       "      <td>22.552586</td>\n",
       "      <td>39.609117</td>\n",
       "      <td>40.475232</td>\n",
       "      <td>98.672917</td>\n",
       "      <td>-0.254400</td>\n",
       "      <td>0.744503</td>\n",
       "      <td>12.5661</td>\n",
       "      <td>14.5386</td>\n",
       "      <td>15.30468</td>\n",
       "      <td>-28.658501</td>\n",
       "      <td>43.5123</td>\n",
       "      <td>Abnormal</td>\n",
       "    </tr>\n",
       "    <tr>\n",
       "      <th>1</th>\n",
       "      <td>39.056951</td>\n",
       "      <td>10.060991</td>\n",
       "      <td>25.015378</td>\n",
       "      <td>28.995960</td>\n",
       "      <td>114.405425</td>\n",
       "      <td>4.564259</td>\n",
       "      <td>0.415186</td>\n",
       "      <td>12.8874</td>\n",
       "      <td>17.5323</td>\n",
       "      <td>16.78486</td>\n",
       "      <td>-25.530607</td>\n",
       "      <td>16.1102</td>\n",
       "      <td>Abnormal</td>\n",
       "    </tr>\n",
       "    <tr>\n",
       "      <th>2</th>\n",
       "      <td>68.832021</td>\n",
       "      <td>22.218482</td>\n",
       "      <td>50.092194</td>\n",
       "      <td>46.613539</td>\n",
       "      <td>105.985135</td>\n",
       "      <td>-3.530317</td>\n",
       "      <td>0.474889</td>\n",
       "      <td>26.8343</td>\n",
       "      <td>17.4861</td>\n",
       "      <td>16.65897</td>\n",
       "      <td>-29.031888</td>\n",
       "      <td>19.2221</td>\n",
       "      <td>Abnormal</td>\n",
       "    </tr>\n",
       "    <tr>\n",
       "      <th>3</th>\n",
       "      <td>69.297008</td>\n",
       "      <td>24.652878</td>\n",
       "      <td>44.311238</td>\n",
       "      <td>44.644130</td>\n",
       "      <td>101.868495</td>\n",
       "      <td>11.211523</td>\n",
       "      <td>0.369345</td>\n",
       "      <td>23.5603</td>\n",
       "      <td>12.7074</td>\n",
       "      <td>11.42447</td>\n",
       "      <td>-30.470246</td>\n",
       "      <td>18.8329</td>\n",
       "      <td>Abnormal</td>\n",
       "    </tr>\n",
       "    <tr>\n",
       "      <th>4</th>\n",
       "      <td>49.712859</td>\n",
       "      <td>9.652075</td>\n",
       "      <td>28.317406</td>\n",
       "      <td>40.060784</td>\n",
       "      <td>108.168725</td>\n",
       "      <td>7.918501</td>\n",
       "      <td>0.543360</td>\n",
       "      <td>35.4940</td>\n",
       "      <td>15.9546</td>\n",
       "      <td>8.87237</td>\n",
       "      <td>-16.378376</td>\n",
       "      <td>24.9171</td>\n",
       "      <td>Abnormal</td>\n",
       "    </tr>\n",
       "  </tbody>\n",
       "</table></div>"
      ],
      "text/plain": [
       "   pelvic_incidence  pelvic tilt  lumbar_lordosis_angle  sacral_slope  \\\n",
       "0         63.027818    22.552586              39.609117     40.475232   \n",
       "1         39.056951    10.060991              25.015378     28.995960   \n",
       "2         68.832021    22.218482              50.092194     46.613539   \n",
       "3         69.297008    24.652878              44.311238     44.644130   \n",
       "4         49.712859     9.652075              28.317406     40.060784   \n",
       "\n",
       "   pelvic_radius  degree_spondylolisthesis  pelvic_slope  Direct_tilt  \\\n",
       "0      98.672917                 -0.254400      0.744503      12.5661   \n",
       "1     114.405425                  4.564259      0.415186      12.8874   \n",
       "2     105.985135                 -3.530317      0.474889      26.8343   \n",
       "3     101.868495                 11.211523      0.369345      23.5603   \n",
       "4     108.168725                  7.918501      0.543360      35.4940   \n",
       "\n",
       "   thoracic_slope  cervical_tilt  sacrum_angle  scoliosis_slope    Status  \n",
       "0         14.5386       15.30468    -28.658501          43.5123  Abnormal  \n",
       "1         17.5323       16.78486    -25.530607          16.1102  Abnormal  \n",
       "2         17.4861       16.65897    -29.031888          19.2221  Abnormal  \n",
       "3         12.7074       11.42447    -30.470246          18.8329  Abnormal  \n",
       "4         15.9546        8.87237    -16.378376          24.9171  Abnormal  "
      ]
     },
     "execution_count": 23,
     "metadata": {},
     "output_type": "execute_result"
    },
    {
     "data": {
      "application/javascript": [
       "\n",
       "            setTimeout(function() {\n",
       "                var nbb_cell_id = 23;\n",
       "                var nbb_unformatted_code = \"data.head()\";\n",
       "                var nbb_formatted_code = \"data.head()\";\n",
       "                var nbb_cells = Jupyter.notebook.get_cells();\n",
       "                for (var i = 0; i < nbb_cells.length; ++i) {\n",
       "                    if (nbb_cells[i].input_prompt_number == nbb_cell_id) {\n",
       "                        if (nbb_cells[i].get_text() == nbb_unformatted_code) {\n",
       "                             nbb_cells[i].set_text(nbb_formatted_code);\n",
       "                        }\n",
       "                        break;\n",
       "                    }\n",
       "                }\n",
       "            }, 500);\n",
       "            "
      ],
      "text/plain": [
       "<IPython.core.display.Javascript object>"
      ]
     },
     "metadata": {},
     "output_type": "display_data"
    }
   ],
   "source": [
    "data.head()"
   ]
  },
  {
   "cell_type": "code",
   "execution_count": 24,
   "id": "cultural-reviewer",
   "metadata": {},
   "outputs": [
    {
     "data": {
      "text/html": [
       "<div><div id=3d9814a1-4451-422b-a40e-457b3ee97800 style=\"display:none; background-color:#9D6CFF; color:white; width:200px; height:30px; padding-left:5px; border-radius:4px; flex-direction:row; justify-content:space-around; align-items:center;\" onmouseover=\"this.style.backgroundColor='#BA9BF8'\" onmouseout=\"this.style.backgroundColor='#9D6CFF'\" onclick=\"window.commands?.execute('create-mitosheet-from-dataframe-output');\">See Full Dataframe in Mito</div> <script> if (window.commands.hasCommand('create-mitosheet-from-dataframe-output')) document.getElementById('3d9814a1-4451-422b-a40e-457b3ee97800').style.display = 'flex' </script> <table border=\"1\" class=\"dataframe\">\n",
       "  <thead>\n",
       "    <tr style=\"text-align: right;\">\n",
       "      <th></th>\n",
       "      <th>pelvic_incidence</th>\n",
       "      <th>pelvic tilt</th>\n",
       "      <th>lumbar_lordosis_angle</th>\n",
       "      <th>sacral_slope</th>\n",
       "      <th>pelvic_radius</th>\n",
       "      <th>degree_spondylolisthesis</th>\n",
       "      <th>pelvic_slope</th>\n",
       "      <th>Direct_tilt</th>\n",
       "      <th>thoracic_slope</th>\n",
       "      <th>cervical_tilt</th>\n",
       "      <th>sacrum_angle</th>\n",
       "      <th>scoliosis_slope</th>\n",
       "      <th>Status</th>\n",
       "    </tr>\n",
       "  </thead>\n",
       "  <tbody>\n",
       "    <tr>\n",
       "      <th>305</th>\n",
       "      <td>47.903565</td>\n",
       "      <td>13.616688</td>\n",
       "      <td>36.000000</td>\n",
       "      <td>34.286877</td>\n",
       "      <td>117.449062</td>\n",
       "      <td>-4.245395</td>\n",
       "      <td>0.129744</td>\n",
       "      <td>7.8433</td>\n",
       "      <td>14.7484</td>\n",
       "      <td>8.51707</td>\n",
       "      <td>-15.728927</td>\n",
       "      <td>11.5472</td>\n",
       "      <td>Normal</td>\n",
       "    </tr>\n",
       "    <tr>\n",
       "      <th>306</th>\n",
       "      <td>53.936748</td>\n",
       "      <td>20.721496</td>\n",
       "      <td>29.220534</td>\n",
       "      <td>33.215251</td>\n",
       "      <td>114.365845</td>\n",
       "      <td>-0.421010</td>\n",
       "      <td>0.047913</td>\n",
       "      <td>19.1986</td>\n",
       "      <td>18.1972</td>\n",
       "      <td>7.08745</td>\n",
       "      <td>6.013843</td>\n",
       "      <td>43.8693</td>\n",
       "      <td>Normal</td>\n",
       "    </tr>\n",
       "    <tr>\n",
       "      <th>307</th>\n",
       "      <td>61.446597</td>\n",
       "      <td>22.694968</td>\n",
       "      <td>46.170347</td>\n",
       "      <td>38.751628</td>\n",
       "      <td>125.670725</td>\n",
       "      <td>-2.707880</td>\n",
       "      <td>0.081070</td>\n",
       "      <td>16.2059</td>\n",
       "      <td>13.5565</td>\n",
       "      <td>8.89572</td>\n",
       "      <td>3.564463</td>\n",
       "      <td>18.4151</td>\n",
       "      <td>Normal</td>\n",
       "    </tr>\n",
       "    <tr>\n",
       "      <th>308</th>\n",
       "      <td>45.252792</td>\n",
       "      <td>8.693157</td>\n",
       "      <td>41.583126</td>\n",
       "      <td>36.559635</td>\n",
       "      <td>118.545842</td>\n",
       "      <td>0.214750</td>\n",
       "      <td>0.159251</td>\n",
       "      <td>14.7334</td>\n",
       "      <td>16.0928</td>\n",
       "      <td>9.75922</td>\n",
       "      <td>5.767308</td>\n",
       "      <td>33.7192</td>\n",
       "      <td>Normal</td>\n",
       "    </tr>\n",
       "    <tr>\n",
       "      <th>309</th>\n",
       "      <td>33.841641</td>\n",
       "      <td>5.073991</td>\n",
       "      <td>36.641233</td>\n",
       "      <td>28.767649</td>\n",
       "      <td>123.945244</td>\n",
       "      <td>-0.199249</td>\n",
       "      <td>0.674504</td>\n",
       "      <td>19.3825</td>\n",
       "      <td>17.6963</td>\n",
       "      <td>13.72929</td>\n",
       "      <td>1.783007</td>\n",
       "      <td>40.6049</td>\n",
       "      <td>Normal</td>\n",
       "    </tr>\n",
       "  </tbody>\n",
       "</table></div>"
      ],
      "text/plain": [
       "     pelvic_incidence  pelvic tilt  lumbar_lordosis_angle  sacral_slope  \\\n",
       "305         47.903565    13.616688              36.000000     34.286877   \n",
       "306         53.936748    20.721496              29.220534     33.215251   \n",
       "307         61.446597    22.694968              46.170347     38.751628   \n",
       "308         45.252792     8.693157              41.583126     36.559635   \n",
       "309         33.841641     5.073991              36.641233     28.767649   \n",
       "\n",
       "     pelvic_radius  degree_spondylolisthesis  pelvic_slope  Direct_tilt  \\\n",
       "305     117.449062                 -4.245395      0.129744       7.8433   \n",
       "306     114.365845                 -0.421010      0.047913      19.1986   \n",
       "307     125.670725                 -2.707880      0.081070      16.2059   \n",
       "308     118.545842                  0.214750      0.159251      14.7334   \n",
       "309     123.945244                 -0.199249      0.674504      19.3825   \n",
       "\n",
       "     thoracic_slope  cervical_tilt  sacrum_angle  scoliosis_slope  Status  \n",
       "305         14.7484        8.51707    -15.728927          11.5472  Normal  \n",
       "306         18.1972        7.08745      6.013843          43.8693  Normal  \n",
       "307         13.5565        8.89572      3.564463          18.4151  Normal  \n",
       "308         16.0928        9.75922      5.767308          33.7192  Normal  \n",
       "309         17.6963       13.72929      1.783007          40.6049  Normal  "
      ]
     },
     "execution_count": 24,
     "metadata": {},
     "output_type": "execute_result"
    },
    {
     "data": {
      "application/javascript": [
       "\n",
       "            setTimeout(function() {\n",
       "                var nbb_cell_id = 24;\n",
       "                var nbb_unformatted_code = \"data.tail()\";\n",
       "                var nbb_formatted_code = \"data.tail()\";\n",
       "                var nbb_cells = Jupyter.notebook.get_cells();\n",
       "                for (var i = 0; i < nbb_cells.length; ++i) {\n",
       "                    if (nbb_cells[i].input_prompt_number == nbb_cell_id) {\n",
       "                        if (nbb_cells[i].get_text() == nbb_unformatted_code) {\n",
       "                             nbb_cells[i].set_text(nbb_formatted_code);\n",
       "                        }\n",
       "                        break;\n",
       "                    }\n",
       "                }\n",
       "            }, 500);\n",
       "            "
      ],
      "text/plain": [
       "<IPython.core.display.Javascript object>"
      ]
     },
     "metadata": {},
     "output_type": "display_data"
    }
   ],
   "source": [
    "data.tail()"
   ]
  },
  {
   "cell_type": "markdown",
   "id": "another-punishment",
   "metadata": {
    "colab_type": "text",
    "id": "dEuSu6e4hU2e"
   },
   "source": [
    "### Understand the shape of the dataset."
   ]
  },
  {
   "cell_type": "code",
   "execution_count": 25,
   "id": "second-jewel",
   "metadata": {},
   "outputs": [
    {
     "data": {
      "text/plain": [
       "(310, 13)"
      ]
     },
     "execution_count": 25,
     "metadata": {},
     "output_type": "execute_result"
    },
    {
     "data": {
      "application/javascript": [
       "\n",
       "            setTimeout(function() {\n",
       "                var nbb_cell_id = 25;\n",
       "                var nbb_unformatted_code = \"data.shape\";\n",
       "                var nbb_formatted_code = \"data.shape\";\n",
       "                var nbb_cells = Jupyter.notebook.get_cells();\n",
       "                for (var i = 0; i < nbb_cells.length; ++i) {\n",
       "                    if (nbb_cells[i].input_prompt_number == nbb_cell_id) {\n",
       "                        if (nbb_cells[i].get_text() == nbb_unformatted_code) {\n",
       "                             nbb_cells[i].set_text(nbb_formatted_code);\n",
       "                        }\n",
       "                        break;\n",
       "                    }\n",
       "                }\n",
       "            }, 500);\n",
       "            "
      ],
      "text/plain": [
       "<IPython.core.display.Javascript object>"
      ]
     },
     "metadata": {},
     "output_type": "display_data"
    }
   ],
   "source": [
    "data.shape"
   ]
  },
  {
   "cell_type": "markdown",
   "id": "abroad-virgin",
   "metadata": {},
   "source": [
    "* The dataset has 32561 rows and 14 columns "
   ]
  },
  {
   "cell_type": "markdown",
   "id": "brutal-question",
   "metadata": {
    "colab_type": "text",
    "id": "mwAu-vEwhU2m"
   },
   "source": [
    "### Check the data types of the columns for the dataset."
   ]
  },
  {
   "cell_type": "code",
   "execution_count": 26,
   "id": "sitting-rough",
   "metadata": {
    "colab": {
     "base_uri": "https://localhost:8080/"
    },
    "id": "UXqzxZrw9WJg",
    "outputId": "4d1e0b70-4911-4e63-d263-6168fa386b65",
    "scrolled": false
   },
   "outputs": [
    {
     "name": "stdout",
     "output_type": "stream",
     "text": [
      "<class 'pandas.core.frame.DataFrame'>\n",
      "RangeIndex: 310 entries, 0 to 309\n",
      "Data columns (total 13 columns):\n",
      " #   Column                    Non-Null Count  Dtype  \n",
      "---  ------                    --------------  -----  \n",
      " 0   pelvic_incidence          310 non-null    float64\n",
      " 1   pelvic tilt               310 non-null    float64\n",
      " 2   lumbar_lordosis_angle     310 non-null    float64\n",
      " 3   sacral_slope              310 non-null    float64\n",
      " 4   pelvic_radius             310 non-null    float64\n",
      " 5   degree_spondylolisthesis  310 non-null    float64\n",
      " 6   pelvic_slope              310 non-null    float64\n",
      " 7   Direct_tilt               310 non-null    float64\n",
      " 8   thoracic_slope            310 non-null    float64\n",
      " 9   cervical_tilt             310 non-null    float64\n",
      " 10  sacrum_angle              310 non-null    float64\n",
      " 11  scoliosis_slope           310 non-null    float64\n",
      " 12  Status                    310 non-null    object \n",
      "dtypes: float64(12), object(1)\n",
      "memory usage: 31.6+ KB\n"
     ]
    },
    {
     "data": {
      "application/javascript": [
       "\n",
       "            setTimeout(function() {\n",
       "                var nbb_cell_id = 26;\n",
       "                var nbb_unformatted_code = \"data.info()\";\n",
       "                var nbb_formatted_code = \"data.info()\";\n",
       "                var nbb_cells = Jupyter.notebook.get_cells();\n",
       "                for (var i = 0; i < nbb_cells.length; ++i) {\n",
       "                    if (nbb_cells[i].input_prompt_number == nbb_cell_id) {\n",
       "                        if (nbb_cells[i].get_text() == nbb_unformatted_code) {\n",
       "                             nbb_cells[i].set_text(nbb_formatted_code);\n",
       "                        }\n",
       "                        break;\n",
       "                    }\n",
       "                }\n",
       "            }, 500);\n",
       "            "
      ],
      "text/plain": [
       "<IPython.core.display.Javascript object>"
      ]
     },
     "metadata": {},
     "output_type": "display_data"
    }
   ],
   "source": [
    "data.info()"
   ]
  },
  {
   "cell_type": "markdown",
   "id": "dental-marketplace",
   "metadata": {
    "id": "kkceeszl9WJj"
   },
   "source": [
    "* We see that names of the columns have spaces, dots, and dash which we will remove as they should not be present in column names. We are doing this to maintain uniformity among the column names.\n",
    "* Dependent variable is the salary which is of categorical type.\n",
    "* age, capital gain, and capital loss are of integer type while other variables are of categorical type.\n",
    "* There are no missing values in the dataset."
   ]
  },
  {
   "cell_type": "code",
   "execution_count": 27,
   "id": "marked-funeral",
   "metadata": {
    "id": "BMXZrEVsuZcc"
   },
   "outputs": [
    {
     "data": {
      "application/javascript": [
       "\n",
       "            setTimeout(function() {\n",
       "                var nbb_cell_id = 27;\n",
       "                var nbb_unformatted_code = \"# fixing the names of columns as there are dots, spaces  in columns names\\ndata.columns = [col.replace(\\\" \\\", \\\"_\\\") for col in data.columns]\\ndata.columns = [col.replace(\\\"-\\\", \\\"_\\\") for col in data.columns]\\ndata.columns = [col.replace(\\\".\\\", \\\"\\\") for col in data.columns]\";\n",
       "                var nbb_formatted_code = \"# fixing the names of columns as there are dots, spaces  in columns names\\ndata.columns = [col.replace(\\\" \\\", \\\"_\\\") for col in data.columns]\\ndata.columns = [col.replace(\\\"-\\\", \\\"_\\\") for col in data.columns]\\ndata.columns = [col.replace(\\\".\\\", \\\"\\\") for col in data.columns]\";\n",
       "                var nbb_cells = Jupyter.notebook.get_cells();\n",
       "                for (var i = 0; i < nbb_cells.length; ++i) {\n",
       "                    if (nbb_cells[i].input_prompt_number == nbb_cell_id) {\n",
       "                        if (nbb_cells[i].get_text() == nbb_unformatted_code) {\n",
       "                             nbb_cells[i].set_text(nbb_formatted_code);\n",
       "                        }\n",
       "                        break;\n",
       "                    }\n",
       "                }\n",
       "            }, 500);\n",
       "            "
      ],
      "text/plain": [
       "<IPython.core.display.Javascript object>"
      ]
     },
     "metadata": {},
     "output_type": "display_data"
    }
   ],
   "source": [
    "# fixing the names of columns as there are dots, spaces  in columns names\n",
    "data.columns = [col.replace(\" \", \"_\") for col in data.columns]\n",
    "data.columns = [col.replace(\"-\", \"_\") for col in data.columns]\n",
    "data.columns = [col.replace(\".\", \"\") for col in data.columns]"
   ]
  },
  {
   "cell_type": "code",
   "execution_count": 28,
   "id": "polished-floating",
   "metadata": {
    "colab": {
     "base_uri": "https://localhost:8080/"
    },
    "id": "3BUEfwoqudEU",
    "outputId": "4f861321-21f4-4fac-f144-1a3486e49f1f"
   },
   "outputs": [
    {
     "name": "stdout",
     "output_type": "stream",
     "text": [
      "Index(['pelvic_incidence', 'pelvic_tilt', 'lumbar_lordosis_angle',\n",
      "       'sacral_slope', 'pelvic_radius', 'degree_spondylolisthesis',\n",
      "       'pelvic_slope', 'Direct_tilt', 'thoracic_slope', 'cervical_tilt',\n",
      "       'sacrum_angle', 'scoliosis_slope', 'Status'],\n",
      "      dtype='object')\n"
     ]
    },
    {
     "data": {
      "application/javascript": [
       "\n",
       "            setTimeout(function() {\n",
       "                var nbb_cell_id = 28;\n",
       "                var nbb_unformatted_code = \"print(data.columns)\";\n",
       "                var nbb_formatted_code = \"print(data.columns)\";\n",
       "                var nbb_cells = Jupyter.notebook.get_cells();\n",
       "                for (var i = 0; i < nbb_cells.length; ++i) {\n",
       "                    if (nbb_cells[i].input_prompt_number == nbb_cell_id) {\n",
       "                        if (nbb_cells[i].get_text() == nbb_unformatted_code) {\n",
       "                             nbb_cells[i].set_text(nbb_formatted_code);\n",
       "                        }\n",
       "                        break;\n",
       "                    }\n",
       "                }\n",
       "            }, 500);\n",
       "            "
      ],
      "text/plain": [
       "<IPython.core.display.Javascript object>"
      ]
     },
     "metadata": {},
     "output_type": "display_data"
    }
   ],
   "source": [
    "print(data.columns)"
   ]
  },
  {
   "cell_type": "markdown",
   "id": "internal-concept",
   "metadata": {
    "id": "dGTJS089uj3d"
   },
   "source": [
    "* The column names are fixed"
   ]
  },
  {
   "cell_type": "markdown",
   "id": "sealed-platform",
   "metadata": {
    "colab_type": "text",
    "id": "7E1orwlJhU20"
   },
   "source": [
    "### Summary of the dataset."
   ]
  },
  {
   "cell_type": "code",
   "execution_count": 29,
   "id": "unusual-industry",
   "metadata": {
    "colab": {
     "base_uri": "https://localhost:8080/",
     "height": 427
    },
    "id": "zWfoZeXv9WJm",
    "outputId": "a775bf9f-9a96-476d-889d-1ae4c5c616fe"
   },
   "outputs": [
    {
     "data": {
      "text/html": [
       "<div><div id=2280256a-2ebf-42e3-a9c6-5ac416ef59a6 style=\"display:none; background-color:#9D6CFF; color:white; width:200px; height:30px; padding-left:5px; border-radius:4px; flex-direction:row; justify-content:space-around; align-items:center;\" onmouseover=\"this.style.backgroundColor='#BA9BF8'\" onmouseout=\"this.style.backgroundColor='#9D6CFF'\" onclick=\"window.commands?.execute('create-mitosheet-from-dataframe-output');\">See Full Dataframe in Mito</div> <script> if (window.commands.hasCommand('create-mitosheet-from-dataframe-output')) document.getElementById('2280256a-2ebf-42e3-a9c6-5ac416ef59a6').style.display = 'flex' </script> <table border=\"1\" class=\"dataframe\">\n",
       "  <thead>\n",
       "    <tr style=\"text-align: right;\">\n",
       "      <th></th>\n",
       "      <th>count</th>\n",
       "      <th>mean</th>\n",
       "      <th>std</th>\n",
       "      <th>min</th>\n",
       "      <th>25%</th>\n",
       "      <th>50%</th>\n",
       "      <th>75%</th>\n",
       "      <th>max</th>\n",
       "    </tr>\n",
       "  </thead>\n",
       "  <tbody>\n",
       "    <tr>\n",
       "      <th>pelvic_incidence</th>\n",
       "      <td>310.0</td>\n",
       "      <td>60.496653</td>\n",
       "      <td>17.236520</td>\n",
       "      <td>26.147921</td>\n",
       "      <td>46.430294</td>\n",
       "      <td>58.691038</td>\n",
       "      <td>72.877696</td>\n",
       "      <td>129.834041</td>\n",
       "    </tr>\n",
       "    <tr>\n",
       "      <th>pelvic_tilt</th>\n",
       "      <td>310.0</td>\n",
       "      <td>17.542822</td>\n",
       "      <td>10.008330</td>\n",
       "      <td>-6.554948</td>\n",
       "      <td>10.667069</td>\n",
       "      <td>16.357689</td>\n",
       "      <td>22.120395</td>\n",
       "      <td>49.431864</td>\n",
       "    </tr>\n",
       "    <tr>\n",
       "      <th>lumbar_lordosis_angle</th>\n",
       "      <td>310.0</td>\n",
       "      <td>51.930930</td>\n",
       "      <td>18.554064</td>\n",
       "      <td>14.000000</td>\n",
       "      <td>37.000000</td>\n",
       "      <td>49.562398</td>\n",
       "      <td>63.000000</td>\n",
       "      <td>125.742385</td>\n",
       "    </tr>\n",
       "    <tr>\n",
       "      <th>sacral_slope</th>\n",
       "      <td>310.0</td>\n",
       "      <td>42.953831</td>\n",
       "      <td>13.423102</td>\n",
       "      <td>13.366931</td>\n",
       "      <td>33.347122</td>\n",
       "      <td>42.404912</td>\n",
       "      <td>52.695888</td>\n",
       "      <td>121.429566</td>\n",
       "    </tr>\n",
       "    <tr>\n",
       "      <th>pelvic_radius</th>\n",
       "      <td>310.0</td>\n",
       "      <td>117.920655</td>\n",
       "      <td>13.317377</td>\n",
       "      <td>70.082575</td>\n",
       "      <td>110.709196</td>\n",
       "      <td>118.268178</td>\n",
       "      <td>125.467674</td>\n",
       "      <td>163.071041</td>\n",
       "    </tr>\n",
       "    <tr>\n",
       "      <th>degree_spondylolisthesis</th>\n",
       "      <td>310.0</td>\n",
       "      <td>26.296694</td>\n",
       "      <td>37.559027</td>\n",
       "      <td>-11.058179</td>\n",
       "      <td>1.603727</td>\n",
       "      <td>11.767934</td>\n",
       "      <td>41.287352</td>\n",
       "      <td>418.543082</td>\n",
       "    </tr>\n",
       "    <tr>\n",
       "      <th>pelvic_slope</th>\n",
       "      <td>310.0</td>\n",
       "      <td>0.472979</td>\n",
       "      <td>0.285787</td>\n",
       "      <td>0.003220</td>\n",
       "      <td>0.224367</td>\n",
       "      <td>0.475989</td>\n",
       "      <td>0.704846</td>\n",
       "      <td>0.998827</td>\n",
       "    </tr>\n",
       "    <tr>\n",
       "      <th>Direct_tilt</th>\n",
       "      <td>310.0</td>\n",
       "      <td>21.321526</td>\n",
       "      <td>8.639423</td>\n",
       "      <td>7.027000</td>\n",
       "      <td>13.054400</td>\n",
       "      <td>21.907150</td>\n",
       "      <td>28.954075</td>\n",
       "      <td>36.743900</td>\n",
       "    </tr>\n",
       "    <tr>\n",
       "      <th>thoracic_slope</th>\n",
       "      <td>310.0</td>\n",
       "      <td>13.064511</td>\n",
       "      <td>3.399713</td>\n",
       "      <td>7.037800</td>\n",
       "      <td>10.417800</td>\n",
       "      <td>12.938450</td>\n",
       "      <td>15.889525</td>\n",
       "      <td>19.324000</td>\n",
       "    </tr>\n",
       "    <tr>\n",
       "      <th>cervical_tilt</th>\n",
       "      <td>310.0</td>\n",
       "      <td>11.933317</td>\n",
       "      <td>2.893265</td>\n",
       "      <td>7.030600</td>\n",
       "      <td>9.541140</td>\n",
       "      <td>11.953835</td>\n",
       "      <td>14.371810</td>\n",
       "      <td>16.821080</td>\n",
       "    </tr>\n",
       "    <tr>\n",
       "      <th>sacrum_angle</th>\n",
       "      <td>310.0</td>\n",
       "      <td>-14.053139</td>\n",
       "      <td>12.225582</td>\n",
       "      <td>-35.287375</td>\n",
       "      <td>-24.289522</td>\n",
       "      <td>-14.622856</td>\n",
       "      <td>-3.497094</td>\n",
       "      <td>6.972071</td>\n",
       "    </tr>\n",
       "    <tr>\n",
       "      <th>scoliosis_slope</th>\n",
       "      <td>310.0</td>\n",
       "      <td>25.645981</td>\n",
       "      <td>10.450558</td>\n",
       "      <td>7.007900</td>\n",
       "      <td>17.189075</td>\n",
       "      <td>24.931950</td>\n",
       "      <td>33.979600</td>\n",
       "      <td>44.341200</td>\n",
       "    </tr>\n",
       "  </tbody>\n",
       "</table></div>"
      ],
      "text/plain": [
       "                          count        mean        std        min         25%  \\\n",
       "pelvic_incidence          310.0   60.496653  17.236520  26.147921   46.430294   \n",
       "pelvic_tilt               310.0   17.542822  10.008330  -6.554948   10.667069   \n",
       "lumbar_lordosis_angle     310.0   51.930930  18.554064  14.000000   37.000000   \n",
       "sacral_slope              310.0   42.953831  13.423102  13.366931   33.347122   \n",
       "pelvic_radius             310.0  117.920655  13.317377  70.082575  110.709196   \n",
       "degree_spondylolisthesis  310.0   26.296694  37.559027 -11.058179    1.603727   \n",
       "pelvic_slope              310.0    0.472979   0.285787   0.003220    0.224367   \n",
       "Direct_tilt               310.0   21.321526   8.639423   7.027000   13.054400   \n",
       "thoracic_slope            310.0   13.064511   3.399713   7.037800   10.417800   \n",
       "cervical_tilt             310.0   11.933317   2.893265   7.030600    9.541140   \n",
       "sacrum_angle              310.0  -14.053139  12.225582 -35.287375  -24.289522   \n",
       "scoliosis_slope           310.0   25.645981  10.450558   7.007900   17.189075   \n",
       "\n",
       "                                 50%         75%         max  \n",
       "pelvic_incidence           58.691038   72.877696  129.834041  \n",
       "pelvic_tilt                16.357689   22.120395   49.431864  \n",
       "lumbar_lordosis_angle      49.562398   63.000000  125.742385  \n",
       "sacral_slope               42.404912   52.695888  121.429566  \n",
       "pelvic_radius             118.268178  125.467674  163.071041  \n",
       "degree_spondylolisthesis   11.767934   41.287352  418.543082  \n",
       "pelvic_slope                0.475989    0.704846    0.998827  \n",
       "Direct_tilt                21.907150   28.954075   36.743900  \n",
       "thoracic_slope             12.938450   15.889525   19.324000  \n",
       "cervical_tilt              11.953835   14.371810   16.821080  \n",
       "sacrum_angle              -14.622856   -3.497094    6.972071  \n",
       "scoliosis_slope            24.931950   33.979600   44.341200  "
      ]
     },
     "execution_count": 29,
     "metadata": {},
     "output_type": "execute_result"
    },
    {
     "data": {
      "application/javascript": [
       "\n",
       "            setTimeout(function() {\n",
       "                var nbb_cell_id = 29;\n",
       "                var nbb_unformatted_code = \"data.describe().T\";\n",
       "                var nbb_formatted_code = \"data.describe().T\";\n",
       "                var nbb_cells = Jupyter.notebook.get_cells();\n",
       "                for (var i = 0; i < nbb_cells.length; ++i) {\n",
       "                    if (nbb_cells[i].input_prompt_number == nbb_cell_id) {\n",
       "                        if (nbb_cells[i].get_text() == nbb_unformatted_code) {\n",
       "                             nbb_cells[i].set_text(nbb_formatted_code);\n",
       "                        }\n",
       "                        break;\n",
       "                    }\n",
       "                }\n",
       "            }, 500);\n",
       "            "
      ],
      "text/plain": [
       "<IPython.core.display.Javascript object>"
      ]
     },
     "metadata": {},
     "output_type": "display_data"
    }
   ],
   "source": [
    "data.describe().T"
   ]
  },
  {
   "cell_type": "markdown",
   "id": "grand-trainer",
   "metadata": {
    "id": "4qAJgcnu9WJz"
   },
   "source": [
    "**Lets us look at different levels in categorical variables**"
   ]
  },
  {
   "cell_type": "code",
   "execution_count": 30,
   "id": "governing-shaft",
   "metadata": {},
   "outputs": [
    {
     "data": {
      "text/plain": [
       "Index(['Status'], dtype='object')"
      ]
     },
     "execution_count": 30,
     "metadata": {},
     "output_type": "execute_result"
    },
    {
     "data": {
      "application/javascript": [
       "\n",
       "            setTimeout(function() {\n",
       "                var nbb_cell_id = 30;\n",
       "                var nbb_unformatted_code = \"# filtering object type columns\\ncat_columns = data.describe(include=[\\\"object\\\"]).columns\\ncat_columns\";\n",
       "                var nbb_formatted_code = \"# filtering object type columns\\ncat_columns = data.describe(include=[\\\"object\\\"]).columns\\ncat_columns\";\n",
       "                var nbb_cells = Jupyter.notebook.get_cells();\n",
       "                for (var i = 0; i < nbb_cells.length; ++i) {\n",
       "                    if (nbb_cells[i].input_prompt_number == nbb_cell_id) {\n",
       "                        if (nbb_cells[i].get_text() == nbb_unformatted_code) {\n",
       "                             nbb_cells[i].set_text(nbb_formatted_code);\n",
       "                        }\n",
       "                        break;\n",
       "                    }\n",
       "                }\n",
       "            }, 500);\n",
       "            "
      ],
      "text/plain": [
       "<IPython.core.display.Javascript object>"
      ]
     },
     "metadata": {},
     "output_type": "display_data"
    }
   ],
   "source": [
    "# filtering object type columns\n",
    "cat_columns = data.describe(include=[\"object\"]).columns\n",
    "cat_columns"
   ]
  },
  {
   "cell_type": "code",
   "execution_count": 31,
   "id": "sapphire-reunion",
   "metadata": {
    "scrolled": false
   },
   "outputs": [
    {
     "name": "stdout",
     "output_type": "stream",
     "text": [
      "Unique values in Status are :\n",
      "Abnormal    210\n",
      "Normal      100\n",
      "Name: Status, dtype: int64\n",
      "**************************************************\n"
     ]
    },
    {
     "data": {
      "application/javascript": [
       "\n",
       "            setTimeout(function() {\n",
       "                var nbb_cell_id = 31;\n",
       "                var nbb_unformatted_code = \"for i in cat_columns:\\n    print(\\\"Unique values in\\\", i, \\\"are :\\\")\\n    print(data[i].value_counts())\\n    print(\\\"*\\\" * 50)\";\n",
       "                var nbb_formatted_code = \"for i in cat_columns:\\n    print(\\\"Unique values in\\\", i, \\\"are :\\\")\\n    print(data[i].value_counts())\\n    print(\\\"*\\\" * 50)\";\n",
       "                var nbb_cells = Jupyter.notebook.get_cells();\n",
       "                for (var i = 0; i < nbb_cells.length; ++i) {\n",
       "                    if (nbb_cells[i].input_prompt_number == nbb_cell_id) {\n",
       "                        if (nbb_cells[i].get_text() == nbb_unformatted_code) {\n",
       "                             nbb_cells[i].set_text(nbb_formatted_code);\n",
       "                        }\n",
       "                        break;\n",
       "                    }\n",
       "                }\n",
       "            }, 500);\n",
       "            "
      ],
      "text/plain": [
       "<IPython.core.display.Javascript object>"
      ]
     },
     "metadata": {},
     "output_type": "display_data"
    }
   ],
   "source": [
    "for i in cat_columns:\n",
    "    print(\"Unique values in\", i, \"are :\")\n",
    "    print(data[i].value_counts())\n",
    "    print(\"*\" * 50)"
   ]
  },
  {
   "cell_type": "code",
   "execution_count": 33,
   "id": "eb569455",
   "metadata": {},
   "outputs": [
    {
     "data": {
      "application/javascript": [
       "\n",
       "            setTimeout(function() {\n",
       "                var nbb_cell_id = 33;\n",
       "                var nbb_unformatted_code = \"## DATA PREPROCESSING\\n# replace the \\u2018status' column contains\\n# the values 'abnormal' and 'normal'  with\\n# 1 and  0 :\\ndata[\\\"Status\\\"] = data[\\\"Status\\\"].map({\\\"Abnormal\\\": 1, \\\"Normal\\\": 0})\";\n",
       "                var nbb_formatted_code = \"## DATA PREPROCESSING\\n# replace the \\u2018status' column contains\\n# the values 'abnormal' and 'normal'  with\\n# 1 and  0 :\\ndata[\\\"Status\\\"] = data[\\\"Status\\\"].map({\\\"Abnormal\\\": 1, \\\"Normal\\\": 0})\";\n",
       "                var nbb_cells = Jupyter.notebook.get_cells();\n",
       "                for (var i = 0; i < nbb_cells.length; ++i) {\n",
       "                    if (nbb_cells[i].input_prompt_number == nbb_cell_id) {\n",
       "                        if (nbb_cells[i].get_text() == nbb_unformatted_code) {\n",
       "                             nbb_cells[i].set_text(nbb_formatted_code);\n",
       "                        }\n",
       "                        break;\n",
       "                    }\n",
       "                }\n",
       "            }, 500);\n",
       "            "
      ],
      "text/plain": [
       "<IPython.core.display.Javascript object>"
      ]
     },
     "metadata": {},
     "output_type": "display_data"
    }
   ],
   "source": [
    "## DATA PREPROCESSING\n",
    "# replace the ‘status' column contains\n",
    "# the values 'abnormal' and 'normal'  with\n",
    "# 1 and  0 :\n",
    "data[\"Status\"] = data[\"Status\"].map({\"Abnormal\": 1, \"Normal\": 0})"
   ]
  },
  {
   "cell_type": "markdown",
   "id": "peaceful-header",
   "metadata": {
    "id": "L7Drz5w_9WKV"
   },
   "source": [
    "## Univariate Analysis"
   ]
  },
  {
   "cell_type": "code",
   "execution_count": 34,
   "id": "possible-mathematics",
   "metadata": {
    "id": "hEBzp-zs9WKV"
   },
   "outputs": [
    {
     "data": {
      "application/javascript": [
       "\n",
       "            setTimeout(function() {\n",
       "                var nbb_cell_id = 34;\n",
       "                var nbb_unformatted_code = \"def histogram_boxplot(data, feature, figsize=(12, 7), kde=False, bins=None):\\n    \\\"\\\"\\\"\\n    Boxplot and histogram combined\\n\\n    data: dataframe\\n    feature: dataframe column\\n    figsize: size of figure (default (12,7))\\n    kde: whether to show the density curve (default False)\\n    bins: number of bins for histogram (default None)\\n    \\\"\\\"\\\"\\n    f2, (ax_box2, ax_hist2) = plt.subplots(\\n        nrows=2,  # Number of rows of the subplot grid= 2\\n        sharex=True,  # x-axis will be shared among all subplots\\n        gridspec_kw={\\\"height_ratios\\\": (0.25, 0.75)},\\n        figsize=figsize,\\n    )  # creating the 2 subplots\\n    sns.boxplot(\\n        data=data, x=feature, ax=ax_box2, showmeans=True, color=\\\"violet\\\"\\n    )  # boxplot will be created and a star will indicate the mean value of the column\\n    sns.histplot(\\n        data=data, x=feature, kde=kde, ax=ax_hist2, bins=bins, palette=\\\"winter\\\"\\n    ) if bins else sns.histplot(\\n        data=data, x=feature, kde=kde, ax=ax_hist2\\n    )  # For histogram\\n    ax_hist2.axvline(\\n        data[feature].mean(), color=\\\"green\\\", linestyle=\\\"--\\\"\\n    )  # Add mean to the histogram\\n    ax_hist2.axvline(\\n        data[feature].median(), color=\\\"black\\\", linestyle=\\\"-\\\"\\n    )  # Add median to the histogram\";\n",
       "                var nbb_formatted_code = \"def histogram_boxplot(data, feature, figsize=(12, 7), kde=False, bins=None):\\n    \\\"\\\"\\\"\\n    Boxplot and histogram combined\\n\\n    data: dataframe\\n    feature: dataframe column\\n    figsize: size of figure (default (12,7))\\n    kde: whether to show the density curve (default False)\\n    bins: number of bins for histogram (default None)\\n    \\\"\\\"\\\"\\n    f2, (ax_box2, ax_hist2) = plt.subplots(\\n        nrows=2,  # Number of rows of the subplot grid= 2\\n        sharex=True,  # x-axis will be shared among all subplots\\n        gridspec_kw={\\\"height_ratios\\\": (0.25, 0.75)},\\n        figsize=figsize,\\n    )  # creating the 2 subplots\\n    sns.boxplot(\\n        data=data, x=feature, ax=ax_box2, showmeans=True, color=\\\"violet\\\"\\n    )  # boxplot will be created and a star will indicate the mean value of the column\\n    sns.histplot(\\n        data=data, x=feature, kde=kde, ax=ax_hist2, bins=bins, palette=\\\"winter\\\"\\n    ) if bins else sns.histplot(\\n        data=data, x=feature, kde=kde, ax=ax_hist2\\n    )  # For histogram\\n    ax_hist2.axvline(\\n        data[feature].mean(), color=\\\"green\\\", linestyle=\\\"--\\\"\\n    )  # Add mean to the histogram\\n    ax_hist2.axvline(\\n        data[feature].median(), color=\\\"black\\\", linestyle=\\\"-\\\"\\n    )  # Add median to the histogram\";\n",
       "                var nbb_cells = Jupyter.notebook.get_cells();\n",
       "                for (var i = 0; i < nbb_cells.length; ++i) {\n",
       "                    if (nbb_cells[i].input_prompt_number == nbb_cell_id) {\n",
       "                        if (nbb_cells[i].get_text() == nbb_unformatted_code) {\n",
       "                             nbb_cells[i].set_text(nbb_formatted_code);\n",
       "                        }\n",
       "                        break;\n",
       "                    }\n",
       "                }\n",
       "            }, 500);\n",
       "            "
      ],
      "text/plain": [
       "<IPython.core.display.Javascript object>"
      ]
     },
     "metadata": {},
     "output_type": "display_data"
    }
   ],
   "source": [
    "def histogram_boxplot(data, feature, figsize=(12, 7), kde=False, bins=None):\n",
    "    \"\"\"\n",
    "    Boxplot and histogram combined\n",
    "\n",
    "    data: dataframe\n",
    "    feature: dataframe column\n",
    "    figsize: size of figure (default (12,7))\n",
    "    kde: whether to show the density curve (default False)\n",
    "    bins: number of bins for histogram (default None)\n",
    "    \"\"\"\n",
    "    f2, (ax_box2, ax_hist2) = plt.subplots(\n",
    "        nrows=2,  # Number of rows of the subplot grid= 2\n",
    "        sharex=True,  # x-axis will be shared among all subplots\n",
    "        gridspec_kw={\"height_ratios\": (0.25, 0.75)},\n",
    "        figsize=figsize,\n",
    "    )  # creating the 2 subplots\n",
    "    sns.boxplot(\n",
    "        data=data, x=feature, ax=ax_box2, showmeans=True, color=\"violet\"\n",
    "    )  # boxplot will be created and a star will indicate the mean value of the column\n",
    "    sns.histplot(\n",
    "        data=data, x=feature, kde=kde, ax=ax_hist2, bins=bins, palette=\"winter\"\n",
    "    ) if bins else sns.histplot(\n",
    "        data=data, x=feature, kde=kde, ax=ax_hist2\n",
    "    )  # For histogram\n",
    "    ax_hist2.axvline(\n",
    "        data[feature].mean(), color=\"green\", linestyle=\"--\"\n",
    "    )  # Add mean to the histogram\n",
    "    ax_hist2.axvline(\n",
    "        data[feature].median(), color=\"black\", linestyle=\"-\"\n",
    "    )  # Add median to the histogram"
   ]
  },
  {
   "cell_type": "code",
   "execution_count": 35,
   "id": "appropriate-conversion",
   "metadata": {},
   "outputs": [
    {
     "data": {
      "text/plain": [
       "array([[<AxesSubplot:title={'center':'Direct_tilt'}>,\n",
       "        <AxesSubplot:title={'center':'cervical_tilt'}>],\n",
       "       [<AxesSubplot:title={'center':'degree_spondylolisthesis'}>,\n",
       "        <AxesSubplot:title={'center':'lumbar_lordosis_angle'}>],\n",
       "       [<AxesSubplot:title={'center':'pelvic_incidence'}>,\n",
       "        <AxesSubplot:title={'center':'pelvic_radius'}>],\n",
       "       [<AxesSubplot:title={'center':'pelvic_slope'}>,\n",
       "        <AxesSubplot:title={'center':'pelvic_tilt'}>],\n",
       "       [<AxesSubplot:title={'center':'sacral_slope'}>,\n",
       "        <AxesSubplot:title={'center':'sacrum_angle'}>],\n",
       "       [<AxesSubplot:title={'center':'scoliosis_slope'}>,\n",
       "        <AxesSubplot:title={'center':'thoracic_slope'}>],\n",
       "       [<AxesSubplot:>, <AxesSubplot:>],\n",
       "       [<AxesSubplot:>, <AxesSubplot:>],\n",
       "       [<AxesSubplot:>, <AxesSubplot:>],\n",
       "       [<AxesSubplot:>, <AxesSubplot:>],\n",
       "       [<AxesSubplot:>, <AxesSubplot:>],\n",
       "       [<AxesSubplot:>, <AxesSubplot:>],\n",
       "       [<AxesSubplot:>, <AxesSubplot:>],\n",
       "       [<AxesSubplot:>, <AxesSubplot:>]], dtype=object)"
      ]
     },
     "execution_count": 35,
     "metadata": {},
     "output_type": "execute_result"
    },
    {
     "data": {
      "image/png": "[encoded data removed]",
      "text/plain": [
       "<Figure size 864x2160 with 28 Axes>"
      ]
     },
     "metadata": {
      "needs_background": "light"
     },
     "output_type": "display_data"
    },
    {
     "data": {
      "application/javascript": [
       "\n",
       "            setTimeout(function() {\n",
       "                var nbb_cell_id = 35;\n",
       "                var nbb_unformatted_code = \"columns = list(data)[0:-1]  # Excluding Outcome column which has only\\ndata[columns].hist(stacked=False, bins=100, figsize=(12, 30), layout=(14, 2))\\n# Histogram of first 8 columns\";\n",
       "                var nbb_formatted_code = \"columns = list(data)[0:-1]  # Excluding Outcome column which has only\\ndata[columns].hist(stacked=False, bins=100, figsize=(12, 30), layout=(14, 2))\\n# Histogram of first 8 columns\";\n",
       "                var nbb_cells = Jupyter.notebook.get_cells();\n",
       "                for (var i = 0; i < nbb_cells.length; ++i) {\n",
       "                    if (nbb_cells[i].input_prompt_number == nbb_cell_id) {\n",
       "                        if (nbb_cells[i].get_text() == nbb_unformatted_code) {\n",
       "                             nbb_cells[i].set_text(nbb_formatted_code);\n",
       "                        }\n",
       "                        break;\n",
       "                    }\n",
       "                }\n",
       "            }, 500);\n",
       "            "
      ],
      "text/plain": [
       "<IPython.core.display.Javascript object>"
      ]
     },
     "metadata": {},
     "output_type": "display_data"
    }
   ],
   "source": [
    "columns = list(data)[0:-1]  # Excluding Outcome column which has only\n",
    "data[columns].hist(stacked=False, bins=100, figsize=(12, 30), layout=(14, 2))\n",
    "# Histogram of first 8 columns"
   ]
  },
  {
   "cell_type": "code",
   "execution_count": 37,
   "id": "played-mistake",
   "metadata": {},
   "outputs": [
    {
     "data": {
      "application/javascript": [
       "\n",
       "            setTimeout(function() {\n",
       "                var nbb_cell_id = 37;\n",
       "                var nbb_unformatted_code = \"# function to create labeled barplots\\n\\n\\ndef labeled_barplot(data, feature, perc=False, n=None):\\n    \\\"\\\"\\\"\\n    Barplot with percentage at the top\\n\\n    data: dataframe\\n    feature: dataframe column\\n    perc: whether to display percentages instead of count (default is False)\\n    n: displays the top n category levels (default is None, i.e., display all levels)\\n    \\\"\\\"\\\"\\n\\n    total = len(data[feature])  # length of the column\\n    count = data[feature].nunique()\\n    if n is None:\\n        plt.figure(figsize=(count + 1, 5))\\n    else:\\n        plt.figure(figsize=(n + 1, 5))\\n\\n    plt.xticks(rotation=90, fontsize=15)\\n    ax = sns.countplot(\\n        data=data,\\n        x=feature,\\n        palette=\\\"Paired\\\",\\n        order=data[feature].value_counts().index[:n].sort_values(),\\n    )\\n\\n    for p in ax.patches:\\n        if perc == True:\\n            label = \\\"{:.1f}%\\\".format(\\n                100 * p.get_height() / total\\n            )  # percentage of each class of the category\\n        else:\\n            label = p.get_height()  # count of each level of the category\\n\\n        x = p.get_x() + p.get_width() / 2  # width of the plot\\n        y = p.get_height()  # height of the plot\\n\\n        ax.annotate(\\n            label,\\n            (x, y),\\n            ha=\\\"center\\\",\\n            va=\\\"center\\\",\\n            size=12,\\n            xytext=(0, 5),\\n            textcoords=\\\"offset points\\\",\\n        )  # annotate the percentage\\n\\n    plt.show()  # show the plot\";\n",
       "                var nbb_formatted_code = \"# function to create labeled barplots\\n\\n\\ndef labeled_barplot(data, feature, perc=False, n=None):\\n    \\\"\\\"\\\"\\n    Barplot with percentage at the top\\n\\n    data: dataframe\\n    feature: dataframe column\\n    perc: whether to display percentages instead of count (default is False)\\n    n: displays the top n category levels (default is None, i.e., display all levels)\\n    \\\"\\\"\\\"\\n\\n    total = len(data[feature])  # length of the column\\n    count = data[feature].nunique()\\n    if n is None:\\n        plt.figure(figsize=(count + 1, 5))\\n    else:\\n        plt.figure(figsize=(n + 1, 5))\\n\\n    plt.xticks(rotation=90, fontsize=15)\\n    ax = sns.countplot(\\n        data=data,\\n        x=feature,\\n        palette=\\\"Paired\\\",\\n        order=data[feature].value_counts().index[:n].sort_values(),\\n    )\\n\\n    for p in ax.patches:\\n        if perc == True:\\n            label = \\\"{:.1f}%\\\".format(\\n                100 * p.get_height() / total\\n            )  # percentage of each class of the category\\n        else:\\n            label = p.get_height()  # count of each level of the category\\n\\n        x = p.get_x() + p.get_width() / 2  # width of the plot\\n        y = p.get_height()  # height of the plot\\n\\n        ax.annotate(\\n            label,\\n            (x, y),\\n            ha=\\\"center\\\",\\n            va=\\\"center\\\",\\n            size=12,\\n            xytext=(0, 5),\\n            textcoords=\\\"offset points\\\",\\n        )  # annotate the percentage\\n\\n    plt.show()  # show the plot\";\n",
       "                var nbb_cells = Jupyter.notebook.get_cells();\n",
       "                for (var i = 0; i < nbb_cells.length; ++i) {\n",
       "                    if (nbb_cells[i].input_prompt_number == nbb_cell_id) {\n",
       "                        if (nbb_cells[i].get_text() == nbb_unformatted_code) {\n",
       "                             nbb_cells[i].set_text(nbb_formatted_code);\n",
       "                        }\n",
       "                        break;\n",
       "                    }\n",
       "                }\n",
       "            }, 500);\n",
       "            "
      ],
      "text/plain": [
       "<IPython.core.display.Javascript object>"
      ]
     },
     "metadata": {},
     "output_type": "display_data"
    }
   ],
   "source": [
    "# function to create labeled barplots\n",
    "\n",
    "\n",
    "def labeled_barplot(data, feature, perc=False, n=None):\n",
    "    \"\"\"\n",
    "    Barplot with percentage at the top\n",
    "\n",
    "    data: dataframe\n",
    "    feature: dataframe column\n",
    "    perc: whether to display percentages instead of count (default is False)\n",
    "    n: displays the top n category levels (default is None, i.e., display all levels)\n",
    "    \"\"\"\n",
    "\n",
    "    total = len(data[feature])  # length of the column\n",
    "    count = data[feature].nunique()\n",
    "    if n is None:\n",
    "        plt.figure(figsize=(count + 1, 5))\n",
    "    else:\n",
    "        plt.figure(figsize=(n + 1, 5))\n",
    "\n",
    "    plt.xticks(rotation=90, fontsize=15)\n",
    "    ax = sns.countplot(\n",
    "        data=data,\n",
    "        x=feature,\n",
    "        palette=\"Paired\",\n",
    "        order=data[feature].value_counts().index[:n].sort_values(),\n",
    "    )\n",
    "\n",
    "    for p in ax.patches:\n",
    "        if perc == True:\n",
    "            label = \"{:.1f}%\".format(\n",
    "                100 * p.get_height() / total\n",
    "            )  # percentage of each class of the category\n",
    "        else:\n",
    "            label = p.get_height()  # count of each level of the category\n",
    "\n",
    "        x = p.get_x() + p.get_width() / 2  # width of the plot\n",
    "        y = p.get_height()  # height of the plot\n",
    "\n",
    "        ax.annotate(\n",
    "            label,\n",
    "            (x, y),\n",
    "            ha=\"center\",\n",
    "            va=\"center\",\n",
    "            size=12,\n",
    "            xytext=(0, 5),\n",
    "            textcoords=\"offset points\",\n",
    "        )  # annotate the percentage\n",
    "\n",
    "    plt.show()  # show the plot"
   ]
  },
  {
   "cell_type": "markdown",
   "id": "liquid-sauce",
   "metadata": {
    "id": "O7aOYV_y9WKp"
   },
   "source": [
    "### Observations on workclass"
   ]
  },
  {
   "cell_type": "code",
   "execution_count": null,
   "id": "radio-parliament",
   "metadata": {},
   "outputs": [],
   "source": [
    "labeled_barplot(data, \"workclass\", perc=True)"
   ]
  },
  {
   "cell_type": "markdown",
   "id": "secondary-scroll",
   "metadata": {},
   "source": [
    "* ~70% of the observations are from the Private sector working class.\n",
    "* As expected from the number of hours per week."
   ]
  },
  {
   "cell_type": "markdown",
   "id": "quick-living",
   "metadata": {
    "id": "O7aOYV_y9WKp"
   },
   "source": [
    "### Observations on marital_status"
   ]
  },
  {
   "cell_type": "code",
   "execution_count": null,
   "id": "handy-bangkok",
   "metadata": {},
   "outputs": [],
   "source": [
    "labeled_barplot(data, \"marital_status\", perc=True)"
   ]
  },
  {
   "cell_type": "markdown",
   "id": "norman-person",
   "metadata": {},
   "source": [
    "* 46.1% of the observations in the dataset are married followed by 32.8% of the people who never married."
   ]
  },
  {
   "cell_type": "markdown",
   "id": "featured-exemption",
   "metadata": {
    "id": "O7aOYV_y9WKp"
   },
   "source": [
    "### Observations on native_country"
   ]
  },
  {
   "cell_type": "code",
   "execution_count": null,
   "id": "received-sailing",
   "metadata": {},
   "outputs": [],
   "source": [
    "labeled_barplot(data, \"native_country\", perc=True)"
   ]
  },
  {
   "cell_type": "markdown",
   "id": "healthy-slide",
   "metadata": {},
   "source": [
    "* 94% of the people are native to north_america followed by 2.1% Asians."
   ]
  },
  {
   "cell_type": "markdown",
   "id": "elect-passenger",
   "metadata": {
    "id": "O7aOYV_y9WKp"
   },
   "source": [
    "### Observations on salary"
   ]
  },
  {
   "cell_type": "code",
   "execution_count": null,
   "id": "modular-assist",
   "metadata": {},
   "outputs": [],
   "source": [
    "labeled_barplot(data, \"salary\", perc=True)"
   ]
  },
  {
   "cell_type": "markdown",
   "id": "spoken-polls",
   "metadata": {
    "id": "Zjfs5yc39WKr"
   },
   "source": [
    "* ~24% of the observations have a salary above 50K and while ~76% have a salary below 50K"
   ]
  },
  {
   "cell_type": "markdown",
   "id": "national-creativity",
   "metadata": {
    "id": "3jS63iRW9WKs"
   },
   "source": [
    "## Bivariate analysis"
   ]
  },
  {
   "cell_type": "code",
   "execution_count": 38,
   "id": "geological-yeast",
   "metadata": {},
   "outputs": [
    {
     "data": {
      "image/png": "[encoded data removed]",
      "text/plain": [
       "<Figure size 1080x504 with 2 Axes>"
      ]
     },
     "metadata": {
      "needs_background": "light"
     },
     "output_type": "display_data"
    },
    {
     "data": {
      "application/javascript": [
       "\n",
       "            setTimeout(function() {\n",
       "                var nbb_cell_id = 38;\n",
       "                var nbb_unformatted_code = \"plt.figure(figsize=(15, 7))\\nsns.heatmap(data.corr(), annot=True, vmin=-1, vmax=1, fmt=\\\".2f\\\", cmap=\\\"Spectral\\\")\\nplt.show()\";\n",
       "                var nbb_formatted_code = \"plt.figure(figsize=(15, 7))\\nsns.heatmap(data.corr(), annot=True, vmin=-1, vmax=1, fmt=\\\".2f\\\", cmap=\\\"Spectral\\\")\\nplt.show()\";\n",
       "                var nbb_cells = Jupyter.notebook.get_cells();\n",
       "                for (var i = 0; i < nbb_cells.length; ++i) {\n",
       "                    if (nbb_cells[i].input_prompt_number == nbb_cell_id) {\n",
       "                        if (nbb_cells[i].get_text() == nbb_unformatted_code) {\n",
       "                             nbb_cells[i].set_text(nbb_formatted_code);\n",
       "                        }\n",
       "                        break;\n",
       "                    }\n",
       "                }\n",
       "            }, 500);\n",
       "            "
      ],
      "text/plain": [
       "<IPython.core.display.Javascript object>"
      ]
     },
     "metadata": {},
     "output_type": "display_data"
    }
   ],
   "source": [
    "plt.figure(figsize=(15, 7))\n",
    "sns.heatmap(data.corr(), annot=True, vmin=-1, vmax=1, fmt=\".2f\", cmap=\"Spectral\")\n",
    "plt.show()"
   ]
  },
  {
   "cell_type": "markdown",
   "id": "skilled-tractor",
   "metadata": {},
   "source": [
    "* There is no significant correlation between the columns."
   ]
  },
  {
   "cell_type": "code",
   "execution_count": null,
   "id": "breeding-orlando",
   "metadata": {},
   "outputs": [],
   "source": [
    "### Function to plot stacked bar charts for categorical columns\n",
    "def stacked_plot(x):\n",
    "    sns.set()\n",
    "    ## crosstab\n",
    "    tab1 = pd.crosstab(x, data[\"salary\"], margins=True).sort_values(\n",
    "        by=\" >50K\", ascending=False\n",
    "    )\n",
    "    print(tab1)\n",
    "    print(\"-\" * 120)\n",
    "    ## visualising the cross tab\n",
    "    tab = pd.crosstab(x, data[\"salary\"], normalize=\"index\").sort_values(\n",
    "        by=\" >50K\", ascending=False\n",
    "    )\n",
    "    tab.plot(kind=\"bar\", stacked=True, figsize=(17, 7))\n",
    "    plt.legend(\n",
    "        loc=\"lower left\", frameon=False,\n",
    "    )\n",
    "    plt.legend(loc=\"upper left\", bbox_to_anchor=(1, 1))\n",
    "    plt.show()"
   ]
  },
  {
   "cell_type": "code",
   "execution_count": 39,
   "id": "ordinary-short",
   "metadata": {},
   "outputs": [
    {
     "data": {
      "application/javascript": [
       "\n",
       "            setTimeout(function() {\n",
       "                var nbb_cell_id = 39;\n",
       "                var nbb_unformatted_code = \"def stacked_barplot(data, predictor, target):\\n    \\\"\\\"\\\"\\n    Print the category counts and plot a stacked bar chart\\n\\n    data: dataframe\\n    predictor: independent variable\\n    target: target variable\\n    \\\"\\\"\\\"\\n    count = data[predictor].nunique()\\n    sorter = data[target].value_counts().index[-1]\\n    tab1 = pd.crosstab(data[predictor], data[target], margins=True).sort_values(\\n        by=sorter, ascending=False\\n    )\\n    print(tab1)\\n    print(\\\"-\\\" * 120)\\n    tab = pd.crosstab(data[predictor], data[target], normalize=\\\"index\\\").sort_values(\\n        by=sorter, ascending=False\\n    )\\n    tab.plot(kind=\\\"bar\\\", stacked=True, figsize=(count + 5, 5))\\n    plt.legend(\\n        loc=\\\"lower left\\\", frameon=False,\\n    )\\n    plt.legend(loc=\\\"upper left\\\", bbox_to_anchor=(1, 1))\\n    plt.show()\";\n",
       "                var nbb_formatted_code = \"def stacked_barplot(data, predictor, target):\\n    \\\"\\\"\\\"\\n    Print the category counts and plot a stacked bar chart\\n\\n    data: dataframe\\n    predictor: independent variable\\n    target: target variable\\n    \\\"\\\"\\\"\\n    count = data[predictor].nunique()\\n    sorter = data[target].value_counts().index[-1]\\n    tab1 = pd.crosstab(data[predictor], data[target], margins=True).sort_values(\\n        by=sorter, ascending=False\\n    )\\n    print(tab1)\\n    print(\\\"-\\\" * 120)\\n    tab = pd.crosstab(data[predictor], data[target], normalize=\\\"index\\\").sort_values(\\n        by=sorter, ascending=False\\n    )\\n    tab.plot(kind=\\\"bar\\\", stacked=True, figsize=(count + 5, 5))\\n    plt.legend(\\n        loc=\\\"lower left\\\", frameon=False,\\n    )\\n    plt.legend(loc=\\\"upper left\\\", bbox_to_anchor=(1, 1))\\n    plt.show()\";\n",
       "                var nbb_cells = Jupyter.notebook.get_cells();\n",
       "                for (var i = 0; i < nbb_cells.length; ++i) {\n",
       "                    if (nbb_cells[i].input_prompt_number == nbb_cell_id) {\n",
       "                        if (nbb_cells[i].get_text() == nbb_unformatted_code) {\n",
       "                             nbb_cells[i].set_text(nbb_formatted_code);\n",
       "                        }\n",
       "                        break;\n",
       "                    }\n",
       "                }\n",
       "            }, 500);\n",
       "            "
      ],
      "text/plain": [
       "<IPython.core.display.Javascript object>"
      ]
     },
     "metadata": {},
     "output_type": "display_data"
    }
   ],
   "source": [
    "def stacked_barplot(data, predictor, target):\n",
    "    \"\"\"\n",
    "    Print the category counts and plot a stacked bar chart\n",
    "\n",
    "    data: dataframe\n",
    "    predictor: independent variable\n",
    "    target: target variable\n",
    "    \"\"\"\n",
    "    count = data[predictor].nunique()\n",
    "    sorter = data[target].value_counts().index[-1]\n",
    "    tab1 = pd.crosstab(data[predictor], data[target], margins=True).sort_values(\n",
    "        by=sorter, ascending=False\n",
    "    )\n",
    "    print(tab1)\n",
    "    print(\"-\" * 120)\n",
    "    tab = pd.crosstab(data[predictor], data[target], normalize=\"index\").sort_values(\n",
    "        by=sorter, ascending=False\n",
    "    )\n",
    "    tab.plot(kind=\"bar\", stacked=True, figsize=(count + 5, 5))\n",
    "    plt.legend(\n",
    "        loc=\"lower left\", frameon=False,\n",
    "    )\n",
    "    plt.legend(loc=\"upper left\", bbox_to_anchor=(1, 1))\n",
    "    plt.show()"
   ]
  },
  {
   "cell_type": "code",
   "execution_count": null,
   "id": "supposed-hierarchy",
   "metadata": {},
   "outputs": [],
   "source": [
    "stacked_barplot(data, \"sex\", \"salary\")"
   ]
  },
  {
   "cell_type": "markdown",
   "id": "suffering-valley",
   "metadata": {},
   "source": [
    "* ~25% of the males have salary >50K whereas only ~15% of the females have salary >50K.\n",
    "* This shows the pay gap that exists in society and the government should investigate further on it to formulate policy to ensure equal pay."
   ]
  },
  {
   "cell_type": "markdown",
   "id": "continuous-reset",
   "metadata": {
    "id": "ui3naO159WKs"
   },
   "source": [
    "### salary vs education"
   ]
  },
  {
   "cell_type": "code",
   "execution_count": null,
   "id": "featured-equation",
   "metadata": {},
   "outputs": [],
   "source": [
    "stacked_barplot(data, \"education\", \"salary\")"
   ]
  },
  {
   "cell_type": "markdown",
   "id": "boxed-diesel",
   "metadata": {
    "id": "-bVs_9Ju9WKu"
   },
   "source": [
    "* ~70% of the people of are Doctorate, graduate from Professional school program (Prof-school) have a salary above $50K.\n",
    "* This clearly shows a positive relationship between education and salary, the higher the education higher is the salary."
   ]
  },
  {
   "cell_type": "markdown",
   "id": "great-worry",
   "metadata": {
    "id": "XgAfyOaHm6Ew"
   },
   "source": [
    "### salary vs occupation"
   ]
  },
  {
   "cell_type": "code",
   "execution_count": null,
   "id": "modified-blink",
   "metadata": {},
   "outputs": [],
   "source": [
    "stacked_barplot(data, \"occupation\", \"salary\")"
   ]
  },
  {
   "cell_type": "markdown",
   "id": "affiliated-recipient",
   "metadata": {
    "id": "Dj5NDHpblxjt"
   },
   "source": [
    "- ~50% of the people whose occupation is of Executive Manager, Professor-speciality have a salary above $50,000\n",
    "- People with occupations like Private house service,handlers-cleaners, farming-fishing have a higher likelihood of having below 50K salary."
   ]
  },
  {
   "cell_type": "markdown",
   "id": "prepared-tuesday",
   "metadata": {
    "id": "WpbA5Fuq9WKu"
   },
   "source": [
    "### salary vs race"
   ]
  },
  {
   "cell_type": "code",
   "execution_count": null,
   "id": "alpine-voluntary",
   "metadata": {},
   "outputs": [],
   "source": [
    "stacked_barplot(data, \"race\", \"salary\")"
   ]
  },
  {
   "cell_type": "markdown",
   "id": "medium-zoning",
   "metadata": {
    "id": "rt0uyR4W9WKw"
   },
   "source": [
    "* 25% of the White and Asia-Pacific people have a salary more than 50K salary as compared to people from other race."
   ]
  },
  {
   "cell_type": "markdown",
   "id": "optical-samuel",
   "metadata": {
    "id": "HIB_dcZu9WK0"
   },
   "source": [
    "### salary vs workclass"
   ]
  },
  {
   "cell_type": "code",
   "execution_count": null,
   "id": "induced-bargain",
   "metadata": {},
   "outputs": [],
   "source": [
    "stacked_barplot(data, \"workclass\", \"salary\")"
   ]
  },
  {
   "cell_type": "markdown",
   "id": "laden-touch",
   "metadata": {
    "id": "urxkoDCM9WK3"
   },
   "source": [
    "* ~50% of the self-employed people have a salary above 50K followed by ~40% of the federal govt employee who has salary more than 50K.\n",
    "* ~20% of the people working in the private sector earn more than 50K."
   ]
  },
  {
   "cell_type": "markdown",
   "id": "welcome-afternoon",
   "metadata": {
    "id": "eDOk11FY9WK4"
   },
   "source": [
    "### salary vs marital_status"
   ]
  },
  {
   "cell_type": "code",
   "execution_count": null,
   "id": "objective-client",
   "metadata": {},
   "outputs": [],
   "source": [
    "stacked_barplot(data, \"marital_status\", \"salary\")"
   ]
  },
  {
   "cell_type": "markdown",
   "id": "built-escape",
   "metadata": {
    "id": "7P8Dx-hV9WK6"
   },
   "source": [
    "* Married people have a higher likelihood of getting a salary above 50K compared to Never Married and Not married people."
   ]
  },
  {
   "cell_type": "code",
   "execution_count": 40,
   "id": "clean-harvey",
   "metadata": {},
   "outputs": [
    {
     "data": {
      "application/javascript": [
       "\n",
       "            setTimeout(function() {\n",
       "                var nbb_cell_id = 40;\n",
       "                var nbb_unformatted_code = \"### function to plot distributions wrt target\\n\\n\\ndef distribution_plot_wrt_target(data, predictor, target):\\n\\n    fig, axs = plt.subplots(2, 2, figsize=(12, 10))\\n\\n    target_uniq = data[target].unique()\\n\\n    axs[0, 0].set_title(\\\"Distribution of target for target=\\\" + str(target_uniq[0]))\\n    sns.histplot(\\n        data=data[data[target] == target_uniq[0]],\\n        x=predictor,\\n        kde=True,\\n        ax=axs[0, 0],\\n        color=\\\"teal\\\",\\n        stat=\\\"density\\\",\\n    )\\n\\n    axs[0, 1].set_title(\\\"Distribution of target for target=\\\" + str(target_uniq[1]))\\n    sns.histplot(\\n        data=data[data[target] == target_uniq[1]],\\n        x=predictor,\\n        kde=True,\\n        ax=axs[0, 1],\\n        color=\\\"orange\\\",\\n        stat=\\\"density\\\",\\n    )\\n\\n    axs[1, 0].set_title(\\\"Boxplot w.r.t target\\\")\\n    sns.boxplot(data=data, x=target, y=predictor, ax=axs[1, 0], palette=\\\"gist_rainbow\\\")\\n\\n    axs[1, 1].set_title(\\\"Boxplot (without outliers) w.r.t target\\\")\\n    sns.boxplot(\\n        data=data,\\n        x=target,\\n        y=predictor,\\n        ax=axs[1, 1],\\n        showfliers=False, #change to True to show outliers\\n        palette=\\\"gist_rainbow\\\",\\n    )\\n\\n    plt.tight_layout()\\n    plt.show()\";\n",
       "                var nbb_formatted_code = \"### function to plot distributions wrt target\\n\\n\\ndef distribution_plot_wrt_target(data, predictor, target):\\n\\n    fig, axs = plt.subplots(2, 2, figsize=(12, 10))\\n\\n    target_uniq = data[target].unique()\\n\\n    axs[0, 0].set_title(\\\"Distribution of target for target=\\\" + str(target_uniq[0]))\\n    sns.histplot(\\n        data=data[data[target] == target_uniq[0]],\\n        x=predictor,\\n        kde=True,\\n        ax=axs[0, 0],\\n        color=\\\"teal\\\",\\n        stat=\\\"density\\\",\\n    )\\n\\n    axs[0, 1].set_title(\\\"Distribution of target for target=\\\" + str(target_uniq[1]))\\n    sns.histplot(\\n        data=data[data[target] == target_uniq[1]],\\n        x=predictor,\\n        kde=True,\\n        ax=axs[0, 1],\\n        color=\\\"orange\\\",\\n        stat=\\\"density\\\",\\n    )\\n\\n    axs[1, 0].set_title(\\\"Boxplot w.r.t target\\\")\\n    sns.boxplot(data=data, x=target, y=predictor, ax=axs[1, 0], palette=\\\"gist_rainbow\\\")\\n\\n    axs[1, 1].set_title(\\\"Boxplot (without outliers) w.r.t target\\\")\\n    sns.boxplot(\\n        data=data,\\n        x=target,\\n        y=predictor,\\n        ax=axs[1, 1],\\n        showfliers=False,  # change to True to show outliers\\n        palette=\\\"gist_rainbow\\\",\\n    )\\n\\n    plt.tight_layout()\\n    plt.show()\";\n",
       "                var nbb_cells = Jupyter.notebook.get_cells();\n",
       "                for (var i = 0; i < nbb_cells.length; ++i) {\n",
       "                    if (nbb_cells[i].input_prompt_number == nbb_cell_id) {\n",
       "                        if (nbb_cells[i].get_text() == nbb_unformatted_code) {\n",
       "                             nbb_cells[i].set_text(nbb_formatted_code);\n",
       "                        }\n",
       "                        break;\n",
       "                    }\n",
       "                }\n",
       "            }, 500);\n",
       "            "
      ],
      "text/plain": [
       "<IPython.core.display.Javascript object>"
      ]
     },
     "metadata": {},
     "output_type": "display_data"
    }
   ],
   "source": [
    "### function to plot distributions wrt target\n",
    "\n",
    "\n",
    "def distribution_plot_wrt_target(data, predictor, target):\n",
    "\n",
    "    fig, axs = plt.subplots(2, 2, figsize=(12, 10))\n",
    "\n",
    "    target_uniq = data[target].unique()\n",
    "\n",
    "    axs[0, 0].set_title(\"Distribution of target for target=\" + str(target_uniq[0]))\n",
    "    sns.histplot(\n",
    "        data=data[data[target] == target_uniq[0]],\n",
    "        x=predictor,\n",
    "        kde=True,\n",
    "        ax=axs[0, 0],\n",
    "        color=\"teal\",\n",
    "        stat=\"density\",\n",
    "    )\n",
    "\n",
    "    axs[0, 1].set_title(\"Distribution of target for target=\" + str(target_uniq[1]))\n",
    "    sns.histplot(\n",
    "        data=data[data[target] == target_uniq[1]],\n",
    "        x=predictor,\n",
    "        kde=True,\n",
    "        ax=axs[0, 1],\n",
    "        color=\"orange\",\n",
    "        stat=\"density\",\n",
    "    )\n",
    "\n",
    "    axs[1, 0].set_title(\"Boxplot w.r.t target\")\n",
    "    sns.boxplot(data=data, x=target, y=predictor, ax=axs[1, 0], palette=\"gist_rainbow\")\n",
    "\n",
    "    axs[1, 1].set_title(\"Boxplot (without outliers) w.r.t target\")\n",
    "    sns.boxplot(\n",
    "        data=data,\n",
    "        x=target,\n",
    "        y=predictor,\n",
    "        ax=axs[1, 1],\n",
    "        showfliers=False,  # change to True to show outliers\n",
    "        palette=\"gist_rainbow\",\n",
    "    )\n",
    "\n",
    "    plt.tight_layout()\n",
    "    plt.show()"
   ]
  },
  {
   "cell_type": "markdown",
   "id": "verbal-elder",
   "metadata": {
    "id": "Tf7AqU6K9WLB"
   },
   "source": [
    "### salary vs age"
   ]
  },
  {
   "cell_type": "code",
   "execution_count": null,
   "id": "cardiovascular-twenty",
   "metadata": {
    "scrolled": false
   },
   "outputs": [],
   "source": [
    "distribution_plot_wrt_target(data, \"age\", \"salary\")"
   ]
  },
  {
   "cell_type": "markdown",
   "id": "thorough-limit",
   "metadata": {
    "id": "hbZSjGGJ9WLD"
   },
   "source": [
    "* People who more than 50K salary are generally older having an average age of around 48 years.\n",
    "* People who have less than 50K salary have an average age of around 36."
   ]
  },
  {
   "cell_type": "markdown",
   "id": "empirical-density",
   "metadata": {},
   "source": [
    "### salary vs working_hours_per_week"
   ]
  },
  {
   "cell_type": "code",
   "execution_count": null,
   "id": "latest-matrix",
   "metadata": {
    "colab": {
     "base_uri": "https://localhost:8080/",
     "height": 487
    },
    "id": "3nNI4bsv9WLM",
    "outputId": "f062e838-197e-467e-ba65-b41167656e17"
   },
   "outputs": [],
   "source": [
    "distribution_plot_wrt_target(data, \"working_hours_per_week\", \"salary\")"
   ]
  },
  {
   "cell_type": "markdown",
   "id": "binary-sensitivity",
   "metadata": {
    "id": "NtJBle6f9WLP"
   },
   "source": [
    "* Majority of people having above 50K salary work around 40 hours per week.\n",
    "* Those having >50K salary have a higher range of working hours as compared to the ones with <=50K, but there are outliers present."
   ]
  },
  {
   "cell_type": "code",
   "execution_count": null,
   "id": "vietnamese-depression",
   "metadata": {},
   "outputs": [],
   "source": [
    "# lets see how working hours per week vary across different occupation\n",
    "plt.figure(figsize=(15, 12))\n",
    "sns.boxplot(\n",
    "    y=\"workclass\", x=\"working_hours_per_week\", data=data, hue=\"salary\", showfliers=False\n",
    ")\n",
    "plt.show()"
   ]
  },
  {
   "cell_type": "markdown",
   "id": "formed-auction",
   "metadata": {},
   "source": [
    "* Private sector employees work for more hours to get a salary above 50K.\n",
    "* There's large variability in the working hours of self-employed people which makes sense as they might be working at their ease.\n",
    "* Without pay and never worked will have no income or less than 50K income.\n",
    "* The number of working hours for many government employees is concentrated at 40 hrs a week, which makes sense as government employees generally have fixed working hours."
   ]
  },
  {
   "cell_type": "markdown",
   "id": "dominant-maple",
   "metadata": {},
   "source": [
    "### <a id='link1'>Summary of EDA</a>\n",
    "**Data Description:**\n",
    "\n",
    "* Dependent variable is the salary which is of categorical data type.\n",
    "* age, capital gain, and capital loss are of integer type while other variables are of categorical type\n",
    "* There are no missing values in the dataset.\n",
    "\n",
    "**Data Cleaning:**\n",
    "\n",
    "* We observed that all the observations where workclass = ? the values in the occupation are ? \n",
    "* The strong pattern between workclass and occupation makes sense as both of these variables capture similar information.\n",
    "* There is no strong correlation of ? observations in occupation and workclass with native_country.\n",
    "* For now we will replaced these ?'s with the 'unknown' category.\n",
    "* There are 42 distinct countries in the data set, which were reduced to their respective continents to reduce the dimension of data and we now have only 5 distinct values in the data.\n",
    "* We reduced the distinct groups of marital_status to three categories: Married, Not-Married and Never-Married.\n",
    "\n",
    "**Observations from EDA:**\n",
    "\n",
    "* `age`: Average age of people in the dataset is 38 years, age has a wide range from 17 to 90 years.\n",
    "* `education_no_of_years`: The average education in years is 10 years. There's a large difference between the minimum value and 25th percentile which indicates that there might be outliers present in this variable.\n",
    "* `capital_gain`: There's a huge difference in the 75th percentile and maximum value of capital_gain indicating the presence of outliers. Also, 75% of the observations are 0.\n",
    "* `capital_loss`: Same as capital gain there's a huge difference in the 75th percentile and maximum value indicating the presence of outliers. Also, 75% of the observations are 0.\n",
    "* `working_hours_per_week`: On average people work for 40 hours a week. A vast difference in minimum value and 25th percentile, as well as 75th percentile and the maximum value, indicates that there might be outliers present in the variable.\n",
    "* `fnlwght`: fnlwght is right-skewed. It has lots of outliers on the right side which we can cap.\n",
    "* `working_hours_per_week`: Most of the data is concentrated around 40 working hours this gives a sense that most of the observations in data might be salaried employees working 8hrs 5 days a week. Some of the observations are clear outliers like working  1 hour a week which needs to be treated.\n",
    "* `workclass`: ~70% of the observations are from the Private sector working class.\n",
    "* `marita_status`: 47.3% of the observations in the dataset are married followed by 32.8% of the people who never married.\n",
    "* `race`: * 94% of the people are native to north_america followed by 2.1% Asians.\n",
    "* `salary vs sex`: ~25% of the males have salary >50K whereas only ~15% of the females have salary >50K.\n",
    "* `salary vs occupation`: - ~50% of the people whose occupation is of Executive Manager, Professor-speciality have a salary above 50,000 dollars. People with occupations like Private house service,handlers-cleaners, farming-fishing have a higher likelihood of having below 50K salary.\n",
    "* `salary vs education`: ~70% of the people of are Doctorate, graduate from Professional school program (Prof-school) have a salary above 50K dollars\n",
    "* `salary vs workclass`: ~50% of the self-employed people have a salary above 50K followed by ~40% of the federal govt employee who has salary more than 50K. ~20% of the people working in the private sector earn more than 50K.\n",
    "* `salary vs working_hours_per_week`: Majority of people having above 50K salary work around 40 hours per week.\n",
    "* Private sector employees work for more hours to get a salary above 50K.\n",
    "* There's large variability in the working hours of self-employed people which makes sense as they might be working at their ease."
   ]
  },
  {
   "cell_type": "markdown",
   "id": "f8671315",
   "metadata": {},
   "source": [
    "### Actions for data pre-processing:\n",
    "\n",
    "* Many variables have outliers that need to be treated.\n",
    "* We can drop capital_gain and capital_loss as most of the observations are 0 in these variables, and if the government already knows a person's capital gain or loss it will be easier for them to classify a person into a salary group."
   ]
  },
  {
   "cell_type": "markdown",
   "id": "strong-spain",
   "metadata": {},
   "source": [
    "### Data Pre-Processing"
   ]
  },
  {
   "cell_type": "markdown",
   "id": "german-assessment",
   "metadata": {
    "id": "7Wd46Gf29WLe"
   },
   "source": [
    "* Dropping capital_gain and capital_loss\n",
    "* There are many outliers in the data which we will treat (perform capping of outliers).\n",
    "* All the values smaller than the lower whisker will be assigned the value of the lower whisker, and all the values above the upper whisker will be assigned the value of the upper whisker."
   ]
  },
  {
   "cell_type": "markdown",
   "id": "fifty-lottery",
   "metadata": {},
   "source": [
    "**Dropping capital_gain and capital_loss**"
   ]
  },
  {
   "cell_type": "code",
   "execution_count": null,
   "id": "identified-class",
   "metadata": {},
   "outputs": [],
   "source": [
    "data.drop([\"capital_gain\", \"capital_loss\"], axis=1, inplace=True)"
   ]
  },
  {
   "cell_type": "markdown",
   "id": "seasonal-catalyst",
   "metadata": {},
   "source": [
    "**Outliers detection using boxplot**"
   ]
  },
  {
   "cell_type": "code",
   "execution_count": 41,
   "id": "national-transsexual",
   "metadata": {
    "colab": {
     "base_uri": "https://localhost:8080/",
     "height": 774
    },
    "id": "1lWp2Zl99WLe",
    "outputId": "679650a3-78e6-4bf8-c93a-b7f5f1c49be6"
   },
   "outputs": [
    {
     "data": {
      "image/png": "[encoded data removed]",
      "text/plain": [
       "<Figure size 1440x2160 with 13 Axes>"
      ]
     },
     "metadata": {
      "needs_background": "light"
     },
     "output_type": "display_data"
    },
    {
     "data": {
      "application/javascript": [
       "\n",
       "            setTimeout(function() {\n",
       "                var nbb_cell_id = 41;\n",
       "                var nbb_unformatted_code = \"numerical_col = data.select_dtypes(include=np.number).columns.tolist()\\nplt.figure(figsize=(20, 30))\\n\\nfor i, variable in enumerate(numerical_col):\\n    plt.subplot(5, 4, i + 1)\\n    plt.boxplot(data[variable], whis=1.5)\\n    plt.tight_layout()\\n    plt.title(variable)\\n\\nplt.show()\";\n",
       "                var nbb_formatted_code = \"numerical_col = data.select_dtypes(include=np.number).columns.tolist()\\nplt.figure(figsize=(20, 30))\\n\\nfor i, variable in enumerate(numerical_col):\\n    plt.subplot(5, 4, i + 1)\\n    plt.boxplot(data[variable], whis=1.5)\\n    plt.tight_layout()\\n    plt.title(variable)\\n\\nplt.show()\";\n",
       "                var nbb_cells = Jupyter.notebook.get_cells();\n",
       "                for (var i = 0; i < nbb_cells.length; ++i) {\n",
       "                    if (nbb_cells[i].input_prompt_number == nbb_cell_id) {\n",
       "                        if (nbb_cells[i].get_text() == nbb_unformatted_code) {\n",
       "                             nbb_cells[i].set_text(nbb_formatted_code);\n",
       "                        }\n",
       "                        break;\n",
       "                    }\n",
       "                }\n",
       "            }, 500);\n",
       "            "
      ],
      "text/plain": [
       "<IPython.core.display.Javascript object>"
      ]
     },
     "metadata": {},
     "output_type": "display_data"
    }
   ],
   "source": [
    "numerical_col = data.select_dtypes(include=np.number).columns.tolist()\n",
    "plt.figure(figsize=(20, 30))\n",
    "\n",
    "for i, variable in enumerate(numerical_col):\n",
    "    plt.subplot(5, 4, i + 1)\n",
    "    plt.boxplot(data[variable], whis=1.5)\n",
    "    plt.tight_layout()\n",
    "    plt.title(variable)\n",
    "\n",
    "plt.show()"
   ]
  },
  {
   "cell_type": "markdown",
   "id": "annual-penalty",
   "metadata": {
    "id": "i9gv73Cj9WLg"
   },
   "source": [
    "* Age and fnlwgt have upper outliers. \n",
    "* education_no_years has lower outliers. \n",
    "* working_hours_per_week has both upper and lower outliers."
   ]
  },
  {
   "cell_type": "markdown",
   "id": "matched-field",
   "metadata": {
    "id": "wlGTPLQA9WLg"
   },
   "source": [
    "### Treating Outliers"
   ]
  },
  {
   "cell_type": "code",
   "execution_count": 42,
   "id": "tested-status",
   "metadata": {
    "id": "aCAdMuMm9WLh"
   },
   "outputs": [
    {
     "data": {
      "application/javascript": [
       "\n",
       "            setTimeout(function() {\n",
       "                var nbb_cell_id = 42;\n",
       "                var nbb_unformatted_code = \"# functions to treat outliers by flooring and capping\\n\\n\\ndef treat_outliers(df, col):\\n    \\\"\\\"\\\"\\n    Treats outliers in a variable\\n\\n    df: dataframe\\n    col: dataframe column\\n    \\\"\\\"\\\"\\n    Q1 = df[col].quantile(0.25)  # 25th quantile\\n    Q3 = df[col].quantile(0.75)  # 75th quantile\\n    IQR = Q3 - Q1\\n    Lower_Whisker = Q1 - 1.5 * IQR\\n    Upper_Whisker = Q3 + 1.5 * IQR\\n\\n    # all the values smaller than Lower_Whisker will be assigned the value of Lower_Whisker\\n    # all the values greater than Upper_Whisker will be assigned the value of Upper_Whisker\\n    df[col] = np.clip(df[col], Lower_Whisker, Upper_Whisker)\\n\\n    return df\\n\\n\\ndef treat_outliers_all(df, col_list):\\n    \\\"\\\"\\\"\\n    Treat outliers in a list of variables\\n\\n    df: dataframe\\n    col_list: list of dataframe columns\\n    \\\"\\\"\\\"\\n    for c in col_list:\\n        df = treat_outliers(df, c)\\n\\n    return df\";\n",
       "                var nbb_formatted_code = \"# functions to treat outliers by flooring and capping\\n\\n\\ndef treat_outliers(df, col):\\n    \\\"\\\"\\\"\\n    Treats outliers in a variable\\n\\n    df: dataframe\\n    col: dataframe column\\n    \\\"\\\"\\\"\\n    Q1 = df[col].quantile(0.25)  # 25th quantile\\n    Q3 = df[col].quantile(0.75)  # 75th quantile\\n    IQR = Q3 - Q1\\n    Lower_Whisker = Q1 - 1.5 * IQR\\n    Upper_Whisker = Q3 + 1.5 * IQR\\n\\n    # all the values smaller than Lower_Whisker will be assigned the value of Lower_Whisker\\n    # all the values greater than Upper_Whisker will be assigned the value of Upper_Whisker\\n    df[col] = np.clip(df[col], Lower_Whisker, Upper_Whisker)\\n\\n    return df\\n\\n\\ndef treat_outliers_all(df, col_list):\\n    \\\"\\\"\\\"\\n    Treat outliers in a list of variables\\n\\n    df: dataframe\\n    col_list: list of dataframe columns\\n    \\\"\\\"\\\"\\n    for c in col_list:\\n        df = treat_outliers(df, c)\\n\\n    return df\";\n",
       "                var nbb_cells = Jupyter.notebook.get_cells();\n",
       "                for (var i = 0; i < nbb_cells.length; ++i) {\n",
       "                    if (nbb_cells[i].input_prompt_number == nbb_cell_id) {\n",
       "                        if (nbb_cells[i].get_text() == nbb_unformatted_code) {\n",
       "                             nbb_cells[i].set_text(nbb_formatted_code);\n",
       "                        }\n",
       "                        break;\n",
       "                    }\n",
       "                }\n",
       "            }, 500);\n",
       "            "
      ],
      "text/plain": [
       "<IPython.core.display.Javascript object>"
      ]
     },
     "metadata": {},
     "output_type": "display_data"
    }
   ],
   "source": [
    "# functions to treat outliers by flooring and capping\n",
    "\n",
    "\n",
    "def treat_outliers(df, col):\n",
    "    \"\"\"\n",
    "    Treats outliers in a variable\n",
    "\n",
    "    df: dataframe\n",
    "    col: dataframe column\n",
    "    \"\"\"\n",
    "    Q1 = df[col].quantile(0.25)  # 25th quantile\n",
    "    Q3 = df[col].quantile(0.75)  # 75th quantile\n",
    "    IQR = Q3 - Q1\n",
    "    Lower_Whisker = Q1 - 1.5 * IQR\n",
    "    Upper_Whisker = Q3 + 1.5 * IQR\n",
    "\n",
    "    # all the values smaller than Lower_Whisker will be assigned the value of Lower_Whisker\n",
    "    # all the values greater than Upper_Whisker will be assigned the value of Upper_Whisker\n",
    "    df[col] = np.clip(df[col], Lower_Whisker, Upper_Whisker)\n",
    "\n",
    "    return df\n",
    "\n",
    "\n",
    "def treat_outliers_all(df, col_list):\n",
    "    \"\"\"\n",
    "    Treat outliers in a list of variables\n",
    "\n",
    "    df: dataframe\n",
    "    col_list: list of dataframe columns\n",
    "    \"\"\"\n",
    "    for c in col_list:\n",
    "        df = treat_outliers(df, c)\n",
    "\n",
    "    return df"
   ]
  },
  {
   "cell_type": "code",
   "execution_count": 43,
   "id": "ordinary-recruitment",
   "metadata": {
    "id": "A8b4w_FX9WLj"
   },
   "outputs": [
    {
     "data": {
      "application/javascript": [
       "\n",
       "            setTimeout(function() {\n",
       "                var nbb_cell_id = 43;\n",
       "                var nbb_unformatted_code = \"numerical_col = data.select_dtypes(include=np.number).columns.tolist()\\ndata = treat_outliers_all(data, numerical_col)\";\n",
       "                var nbb_formatted_code = \"numerical_col = data.select_dtypes(include=np.number).columns.tolist()\\ndata = treat_outliers_all(data, numerical_col)\";\n",
       "                var nbb_cells = Jupyter.notebook.get_cells();\n",
       "                for (var i = 0; i < nbb_cells.length; ++i) {\n",
       "                    if (nbb_cells[i].input_prompt_number == nbb_cell_id) {\n",
       "                        if (nbb_cells[i].get_text() == nbb_unformatted_code) {\n",
       "                             nbb_cells[i].set_text(nbb_formatted_code);\n",
       "                        }\n",
       "                        break;\n",
       "                    }\n",
       "                }\n",
       "            }, 500);\n",
       "            "
      ],
      "text/plain": [
       "<IPython.core.display.Javascript object>"
      ]
     },
     "metadata": {},
     "output_type": "display_data"
    }
   ],
   "source": [
    "numerical_col = data.select_dtypes(include=np.number).columns.tolist()\n",
    "data = treat_outliers_all(data, numerical_col)"
   ]
  },
  {
   "cell_type": "code",
   "execution_count": 44,
   "id": "rocky-limitation",
   "metadata": {},
   "outputs": [
    {
     "data": {
      "image/png": "[encoded data removed]",
      "text/plain": [
       "<Figure size 1440x2160 with 13 Axes>"
      ]
     },
     "metadata": {
      "needs_background": "light"
     },
     "output_type": "display_data"
    },
    {
     "data": {
      "application/javascript": [
       "\n",
       "            setTimeout(function() {\n",
       "                var nbb_cell_id = 44;\n",
       "                var nbb_unformatted_code = \"# let's look at box plot to see if outliers have been treated or not\\nplt.figure(figsize=(20, 30))\\n\\nfor i, variable in enumerate(numerical_col):\\n    plt.subplot(5, 4, i + 1)\\n    plt.boxplot(data[variable], whis=1.5)\\n    plt.tight_layout()\\n    plt.title(variable)\\n\\nplt.show()\";\n",
       "                var nbb_formatted_code = \"# let's look at box plot to see if outliers have been treated or not\\nplt.figure(figsize=(20, 30))\\n\\nfor i, variable in enumerate(numerical_col):\\n    plt.subplot(5, 4, i + 1)\\n    plt.boxplot(data[variable], whis=1.5)\\n    plt.tight_layout()\\n    plt.title(variable)\\n\\nplt.show()\";\n",
       "                var nbb_cells = Jupyter.notebook.get_cells();\n",
       "                for (var i = 0; i < nbb_cells.length; ++i) {\n",
       "                    if (nbb_cells[i].input_prompt_number == nbb_cell_id) {\n",
       "                        if (nbb_cells[i].get_text() == nbb_unformatted_code) {\n",
       "                             nbb_cells[i].set_text(nbb_formatted_code);\n",
       "                        }\n",
       "                        break;\n",
       "                    }\n",
       "                }\n",
       "            }, 500);\n",
       "            "
      ],
      "text/plain": [
       "<IPython.core.display.Javascript object>"
      ]
     },
     "metadata": {},
     "output_type": "display_data"
    }
   ],
   "source": [
    "# let's look at box plot to see if outliers have been treated or not\n",
    "plt.figure(figsize=(20, 30))\n",
    "\n",
    "for i, variable in enumerate(numerical_col):\n",
    "    plt.subplot(5, 4, i + 1)\n",
    "    plt.boxplot(data[variable], whis=1.5)\n",
    "    plt.tight_layout()\n",
    "    plt.title(variable)\n",
    "\n",
    "plt.show()"
   ]
  },
  {
   "cell_type": "markdown",
   "id": "prescribed-focus",
   "metadata": {},
   "source": [
    "### Data Preparation"
   ]
  },
  {
   "cell_type": "markdown",
   "id": "cellular-david",
   "metadata": {},
   "source": [
    "**Encoding >50K as 0 and <=50K as 1 as government wants to find underprivileged section of society.**"
   ]
  },
  {
   "cell_type": "markdown",
   "id": "lesbian-soldier",
   "metadata": {},
   "source": [
    "**Creating training and test sets.**"
   ]
  },
  {
   "cell_type": "code",
   "execution_count": 46,
   "id": "metallic-latex",
   "metadata": {},
   "outputs": [
    {
     "data": {
      "application/javascript": [
       "\n",
       "            setTimeout(function() {\n",
       "                var nbb_cell_id = 46;\n",
       "                var nbb_unformatted_code = \"X = data.drop([\\\"Status\\\"], axis=1)\\nY = data[\\\"Status\\\"]\\n\\nX = pd.get_dummies(X, drop_first=True)\\n\\n# Splitting data in train and test sets\\nX_train, X_test, y_train, y_test = train_test_split(\\n    X, Y, test_size=0.30, random_state=1\\n)\";\n",
       "                var nbb_formatted_code = \"X = data.drop([\\\"Status\\\"], axis=1)\\nY = data[\\\"Status\\\"]\\n\\nX = pd.get_dummies(X, drop_first=True)\\n\\n# Splitting data in train and test sets\\nX_train, X_test, y_train, y_test = train_test_split(\\n    X, Y, test_size=0.30, random_state=1\\n)\";\n",
       "                var nbb_cells = Jupyter.notebook.get_cells();\n",
       "                for (var i = 0; i < nbb_cells.length; ++i) {\n",
       "                    if (nbb_cells[i].input_prompt_number == nbb_cell_id) {\n",
       "                        if (nbb_cells[i].get_text() == nbb_unformatted_code) {\n",
       "                             nbb_cells[i].set_text(nbb_formatted_code);\n",
       "                        }\n",
       "                        break;\n",
       "                    }\n",
       "                }\n",
       "            }, 500);\n",
       "            "
      ],
      "text/plain": [
       "<IPython.core.display.Javascript object>"
      ]
     },
     "metadata": {},
     "output_type": "display_data"
    }
   ],
   "source": [
    "X = data.drop([\"Status\"], axis=1)\n",
    "Y = data[\"Status\"]\n",
    "\n",
    "X = pd.get_dummies(X, drop_first=True)\n",
    "\n",
    "# Splitting data in train and test sets\n",
    "X_train, X_test, y_train, y_test = train_test_split(\n",
    "    X, Y, test_size=0.30, random_state=1\n",
    ")"
   ]
  },
  {
   "cell_type": "code",
   "execution_count": 47,
   "id": "organized-worth",
   "metadata": {},
   "outputs": [
    {
     "name": "stdout",
     "output_type": "stream",
     "text": [
      "Shape of Training set :  (217, 12)\n",
      "Shape of test set :  (93, 12)\n",
      "Percentage of classes in training set:\n",
      "1    0.663594\n",
      "0    0.336406\n",
      "Name: Status, dtype: float64\n",
      "Percentage of classes in test set:\n",
      "1    0.709677\n",
      "0    0.290323\n",
      "Name: Status, dtype: float64\n"
     ]
    },
    {
     "data": {
      "application/javascript": [
       "\n",
       "            setTimeout(function() {\n",
       "                var nbb_cell_id = 47;\n",
       "                var nbb_unformatted_code = \"print(\\\"Shape of Training set : \\\", X_train.shape)\\nprint(\\\"Shape of test set : \\\", X_test.shape)\\nprint(\\\"Percentage of classes in training set:\\\")\\nprint(y_train.value_counts(normalize=True))\\nprint(\\\"Percentage of classes in test set:\\\")\\nprint(y_test.value_counts(normalize=True))\";\n",
       "                var nbb_formatted_code = \"print(\\\"Shape of Training set : \\\", X_train.shape)\\nprint(\\\"Shape of test set : \\\", X_test.shape)\\nprint(\\\"Percentage of classes in training set:\\\")\\nprint(y_train.value_counts(normalize=True))\\nprint(\\\"Percentage of classes in test set:\\\")\\nprint(y_test.value_counts(normalize=True))\";\n",
       "                var nbb_cells = Jupyter.notebook.get_cells();\n",
       "                for (var i = 0; i < nbb_cells.length; ++i) {\n",
       "                    if (nbb_cells[i].input_prompt_number == nbb_cell_id) {\n",
       "                        if (nbb_cells[i].get_text() == nbb_unformatted_code) {\n",
       "                             nbb_cells[i].set_text(nbb_formatted_code);\n",
       "                        }\n",
       "                        break;\n",
       "                    }\n",
       "                }\n",
       "            }, 500);\n",
       "            "
      ],
      "text/plain": [
       "<IPython.core.display.Javascript object>"
      ]
     },
     "metadata": {},
     "output_type": "display_data"
    }
   ],
   "source": [
    "print(\"Shape of Training set : \", X_train.shape)\n",
    "print(\"Shape of test set : \", X_test.shape)\n",
    "print(\"Percentage of classes in training set:\")\n",
    "print(y_train.value_counts(normalize=True))\n",
    "print(\"Percentage of classes in test set:\")\n",
    "print(y_test.value_counts(normalize=True))"
   ]
  },
  {
   "cell_type": "markdown",
   "id": "developing-survival",
   "metadata": {},
   "source": [
    "### Building the model"
   ]
  },
  {
   "cell_type": "markdown",
   "id": "elect-domain",
   "metadata": {},
   "source": [
    "### Model evaluation criterion\n",
    "\n",
    "### Model can make wrong predictions as:\n",
    "1. Predicting a person has a salary <=50K but in reality the salary of the person is >50K.\n",
    "2. Predicting a person doesn't have a salary <=50K but in reality the salary of the person is <=50k.\n",
    "\n",
    "### Which case is more important? \n",
    "* Both the cases are important as:\n",
    "\n",
    "* If we predict a person has a salary <=50K but actually the salary is >50K then a wrong person will be getting the benefits of the scheme and government might lose resources.\n",
    "\n",
    "* If we predict a person doesn't have a salary <=50K but actually the salary is <=50K that person will not be able to avail the benefits of the scheme constituting to opportunity loss.\n",
    "\n",
    "\n",
    "### How to reduce this loss i.e need to reduce False Negatives? ##Not TOP BE USED FOR DRUG OR CRIMINAL CASES\n",
    "*  `f1_score` should be maximized, the greater the f1_score higher the chances of identifying both the classes correctly."
   ]
  },
  {
   "cell_type": "markdown",
   "id": "industrial-merchant",
   "metadata": {},
   "source": [
    "#### First, let's create functions to calculate different metrics and confusion matrix so that we don't have to use the same code repeatedly for each model.\n",
    "* The model_performance_classification_statsmodels function will be used to check the model performance of models. \n",
    "* The confusion_matrix_statsmodels function will be used to plot confusion matrix."
   ]
  },
  {
   "cell_type": "code",
   "execution_count": 48,
   "id": "pregnant-madagascar",
   "metadata": {},
   "outputs": [
    {
     "data": {
      "application/javascript": [
       "\n",
       "            setTimeout(function() {\n",
       "                var nbb_cell_id = 48;\n",
       "                var nbb_unformatted_code = \"# defining a function to compute different metrics to check performance of a classification model built using statsmodels\\ndef model_performance_classification_statsmodels(\\n    model, predictors, target, threshold=0.5\\n):\\n    \\\"\\\"\\\"\\n    Function to compute different metrics to check classification model performance\\n\\n    model: classifier\\n    predictors: independent variables\\n    target: dependent variable\\n    threshold: threshold for classifying the observation as class 1\\n    \\\"\\\"\\\"\\n\\n    # checking which probabilities are greater than threshold\\n    pred_temp = model.predict(predictors) > threshold\\n    # rounding off the above values to get classes\\n    pred = np.round(pred_temp)\\n\\n    acc = accuracy_score(target, pred)  # to compute Accuracy\\n    recall = recall_score(target, pred)  # to compute Recall\\n    precision = precision_score(target, pred)  # to compute Precision\\n    f1 = f1_score(target, pred)  # to compute F1-score\\n\\n    # creating a dataframe of metrics\\n    df_perf = pd.DataFrame(\\n        {\\\"Accuracy\\\": acc, \\\"Recall\\\": recall, \\\"Precision\\\": precision, \\\"F1\\\": f1,},\\n        index=[0],\\n    )\\n\\n    return df_perf\";\n",
       "                var nbb_formatted_code = \"# defining a function to compute different metrics to check performance of a classification model built using statsmodels\\ndef model_performance_classification_statsmodels(\\n    model, predictors, target, threshold=0.5\\n):\\n    \\\"\\\"\\\"\\n    Function to compute different metrics to check classification model performance\\n\\n    model: classifier\\n    predictors: independent variables\\n    target: dependent variable\\n    threshold: threshold for classifying the observation as class 1\\n    \\\"\\\"\\\"\\n\\n    # checking which probabilities are greater than threshold\\n    pred_temp = model.predict(predictors) > threshold\\n    # rounding off the above values to get classes\\n    pred = np.round(pred_temp)\\n\\n    acc = accuracy_score(target, pred)  # to compute Accuracy\\n    recall = recall_score(target, pred)  # to compute Recall\\n    precision = precision_score(target, pred)  # to compute Precision\\n    f1 = f1_score(target, pred)  # to compute F1-score\\n\\n    # creating a dataframe of metrics\\n    df_perf = pd.DataFrame(\\n        {\\\"Accuracy\\\": acc, \\\"Recall\\\": recall, \\\"Precision\\\": precision, \\\"F1\\\": f1,},\\n        index=[0],\\n    )\\n\\n    return df_perf\";\n",
       "                var nbb_cells = Jupyter.notebook.get_cells();\n",
       "                for (var i = 0; i < nbb_cells.length; ++i) {\n",
       "                    if (nbb_cells[i].input_prompt_number == nbb_cell_id) {\n",
       "                        if (nbb_cells[i].get_text() == nbb_unformatted_code) {\n",
       "                             nbb_cells[i].set_text(nbb_formatted_code);\n",
       "                        }\n",
       "                        break;\n",
       "                    }\n",
       "                }\n",
       "            }, 500);\n",
       "            "
      ],
      "text/plain": [
       "<IPython.core.display.Javascript object>"
      ]
     },
     "metadata": {},
     "output_type": "display_data"
    }
   ],
   "source": [
    "# defining a function to compute different metrics to check performance of a classification model built using statsmodels\n",
    "def model_performance_classification_statsmodels(\n",
    "    model, predictors, target, threshold=0.5\n",
    "):\n",
    "    \"\"\"\n",
    "    Function to compute different metrics to check classification model performance\n",
    "\n",
    "    model: classifier\n",
    "    predictors: independent variables\n",
    "    target: dependent variable\n",
    "    threshold: threshold for classifying the observation as class 1\n",
    "    \"\"\"\n",
    "\n",
    "    # checking which probabilities are greater than threshold\n",
    "    pred_temp = model.predict(predictors) > threshold\n",
    "    # rounding off the above values to get classes\n",
    "    pred = np.round(pred_temp)\n",
    "\n",
    "    acc = accuracy_score(target, pred)  # to compute Accuracy\n",
    "    recall = recall_score(target, pred)  # to compute Recall\n",
    "    precision = precision_score(target, pred)  # to compute Precision\n",
    "    f1 = f1_score(target, pred)  # to compute F1-score\n",
    "\n",
    "    # creating a dataframe of metrics\n",
    "    df_perf = pd.DataFrame(\n",
    "        {\"Accuracy\": acc, \"Recall\": recall, \"Precision\": precision, \"F1\": f1,},\n",
    "        index=[0],\n",
    "    )\n",
    "\n",
    "    return df_perf"
   ]
  },
  {
   "cell_type": "code",
   "execution_count": 49,
   "id": "adjacent-community",
   "metadata": {},
   "outputs": [
    {
     "data": {
      "application/javascript": [
       "\n",
       "            setTimeout(function() {\n",
       "                var nbb_cell_id = 49;\n",
       "                var nbb_unformatted_code = \"# defining a function to plot the confusion_matrix of a classification model\\n\\n\\ndef confusion_matrix_statsmodels(model, predictors, target, threshold=0.5):\\n    \\\"\\\"\\\"\\n    To plot the confusion_matrix with percentages\\n\\n    model: classifier\\n    predictors: independent variables\\n    target: dependent variable\\n    threshold: threshold for classifying the observation as class 1\\n    \\\"\\\"\\\"\\n    y_pred = model.predict(predictors) > threshold\\n    cm = confusion_matrix(target, y_pred)\\n    labels = np.asarray(\\n        [\\n            [\\\"{0:0.0f}\\\".format(item) + \\\"\\\\n{0:.2%}\\\".format(item / cm.flatten().sum())]\\n            for item in cm.flatten()\\n        ]\\n    ).reshape(2, 2)\\n\\n    plt.figure(figsize=(6, 4))\\n    sns.heatmap(cm, annot=labels, fmt=\\\"\\\")\\n    plt.ylabel(\\\"True label\\\")\\n    plt.xlabel(\\\"Predicted label\\\")\";\n",
       "                var nbb_formatted_code = \"# defining a function to plot the confusion_matrix of a classification model\\n\\n\\ndef confusion_matrix_statsmodels(model, predictors, target, threshold=0.5):\\n    \\\"\\\"\\\"\\n    To plot the confusion_matrix with percentages\\n\\n    model: classifier\\n    predictors: independent variables\\n    target: dependent variable\\n    threshold: threshold for classifying the observation as class 1\\n    \\\"\\\"\\\"\\n    y_pred = model.predict(predictors) > threshold\\n    cm = confusion_matrix(target, y_pred)\\n    labels = np.asarray(\\n        [\\n            [\\\"{0:0.0f}\\\".format(item) + \\\"\\\\n{0:.2%}\\\".format(item / cm.flatten().sum())]\\n            for item in cm.flatten()\\n        ]\\n    ).reshape(2, 2)\\n\\n    plt.figure(figsize=(6, 4))\\n    sns.heatmap(cm, annot=labels, fmt=\\\"\\\")\\n    plt.ylabel(\\\"True label\\\")\\n    plt.xlabel(\\\"Predicted label\\\")\";\n",
       "                var nbb_cells = Jupyter.notebook.get_cells();\n",
       "                for (var i = 0; i < nbb_cells.length; ++i) {\n",
       "                    if (nbb_cells[i].input_prompt_number == nbb_cell_id) {\n",
       "                        if (nbb_cells[i].get_text() == nbb_unformatted_code) {\n",
       "                             nbb_cells[i].set_text(nbb_formatted_code);\n",
       "                        }\n",
       "                        break;\n",
       "                    }\n",
       "                }\n",
       "            }, 500);\n",
       "            "
      ],
      "text/plain": [
       "<IPython.core.display.Javascript object>"
      ]
     },
     "metadata": {},
     "output_type": "display_data"
    }
   ],
   "source": [
    "# defining a function to plot the confusion_matrix of a classification model\n",
    "\n",
    "\n",
    "def confusion_matrix_statsmodels(model, predictors, target, threshold=0.5):\n",
    "    \"\"\"\n",
    "    To plot the confusion_matrix with percentages\n",
    "\n",
    "    model: classifier\n",
    "    predictors: independent variables\n",
    "    target: dependent variable\n",
    "    threshold: threshold for classifying the observation as class 1\n",
    "    \"\"\"\n",
    "    y_pred = model.predict(predictors) > threshold\n",
    "    cm = confusion_matrix(target, y_pred)\n",
    "    labels = np.asarray(\n",
    "        [\n",
    "            [\"{0:0.0f}\".format(item) + \"\\n{0:.2%}\".format(item / cm.flatten().sum())]\n",
    "            for item in cm.flatten()\n",
    "        ]\n",
    "    ).reshape(2, 2)\n",
    "\n",
    "    plt.figure(figsize=(6, 4))\n",
    "    sns.heatmap(cm, annot=labels, fmt=\"\")\n",
    "    plt.ylabel(\"True label\")\n",
    "    plt.xlabel(\"Predicted label\")"
   ]
  },
  {
   "cell_type": "markdown",
   "id": "waiting-clinic",
   "metadata": {},
   "source": [
    "### Logistic Regression (with Sklearn library)"
   ]
  },
  {
   "cell_type": "code",
   "execution_count": 50,
   "id": "judicial-acrylic",
   "metadata": {},
   "outputs": [
    {
     "data": {
      "application/javascript": [
       "\n",
       "            setTimeout(function() {\n",
       "                var nbb_cell_id = 50;\n",
       "                var nbb_unformatted_code = \"# There are different solvers available in Sklearn logistic regression\\n# The newton-cg solver is faster for high-dimensional data\\n\\nlg = LogisticRegression(solver=\\\"newton-cg\\\", random_state=1)\\nmodel = lg.fit(X_train, y_train)\";\n",
       "                var nbb_formatted_code = \"# There are different solvers available in Sklearn logistic regression\\n# The newton-cg solver is faster for high-dimensional data\\n\\nlg = LogisticRegression(solver=\\\"newton-cg\\\", random_state=1)\\nmodel = lg.fit(X_train, y_train)\";\n",
       "                var nbb_cells = Jupyter.notebook.get_cells();\n",
       "                for (var i = 0; i < nbb_cells.length; ++i) {\n",
       "                    if (nbb_cells[i].input_prompt_number == nbb_cell_id) {\n",
       "                        if (nbb_cells[i].get_text() == nbb_unformatted_code) {\n",
       "                             nbb_cells[i].set_text(nbb_formatted_code);\n",
       "                        }\n",
       "                        break;\n",
       "                    }\n",
       "                }\n",
       "            }, 500);\n",
       "            "
      ],
      "text/plain": [
       "<IPython.core.display.Javascript object>"
      ]
     },
     "metadata": {},
     "output_type": "display_data"
    }
   ],
   "source": [
    "# There are different solvers available in Sklearn logistic regression\n",
    "# The newton-cg solver is faster for high-dimensional data\n",
    "\n",
    "lg = LogisticRegression(solver=\"newton-cg\", random_state=1)\n",
    "model = lg.fit(X_train, y_train)"
   ]
  },
  {
   "cell_type": "markdown",
   "id": "economic-degree",
   "metadata": {},
   "source": [
    "#### Checking model performance on training set"
   ]
  },
  {
   "cell_type": "code",
   "execution_count": 51,
   "id": "healthy-catalog",
   "metadata": {},
   "outputs": [
    {
     "data": {
      "application/javascript": [
       "\n",
       "            setTimeout(function() {\n",
       "                var nbb_cell_id = 51;\n",
       "                var nbb_unformatted_code = \"# predicting on training set\\ny_pred_train = lg.predict(X_train)\";\n",
       "                var nbb_formatted_code = \"# predicting on training set\\ny_pred_train = lg.predict(X_train)\";\n",
       "                var nbb_cells = Jupyter.notebook.get_cells();\n",
       "                for (var i = 0; i < nbb_cells.length; ++i) {\n",
       "                    if (nbb_cells[i].input_prompt_number == nbb_cell_id) {\n",
       "                        if (nbb_cells[i].get_text() == nbb_unformatted_code) {\n",
       "                             nbb_cells[i].set_text(nbb_formatted_code);\n",
       "                        }\n",
       "                        break;\n",
       "                    }\n",
       "                }\n",
       "            }, 500);\n",
       "            "
      ],
      "text/plain": [
       "<IPython.core.display.Javascript object>"
      ]
     },
     "metadata": {},
     "output_type": "display_data"
    }
   ],
   "source": [
    "# predicting on training set\n",
    "y_pred_train = lg.predict(X_train)"
   ]
  },
  {
   "cell_type": "code",
   "execution_count": 52,
   "id": "appropriate-rabbit",
   "metadata": {},
   "outputs": [
    {
     "name": "stdout",
     "output_type": "stream",
     "text": [
      "Training set performance:\n",
      "Accuracy: 0.847926267281106\n",
      "Precision: 0.8881118881118881\n",
      "Recall: 0.8819444444444444\n",
      "F1: 0.8850174216027875\n"
     ]
    },
    {
     "data": {
      "application/javascript": [
       "\n",
       "            setTimeout(function() {\n",
       "                var nbb_cell_id = 52;\n",
       "                var nbb_unformatted_code = \"print(\\\"Training set performance:\\\")\\nprint(\\\"Accuracy:\\\", accuracy_score(y_train, y_pred_train))\\nprint(\\\"Precision:\\\", precision_score(y_train, y_pred_train))\\nprint(\\\"Recall:\\\", recall_score(y_train, y_pred_train))\\nprint(\\\"F1:\\\", f1_score(y_train, y_pred_train))\";\n",
       "                var nbb_formatted_code = \"print(\\\"Training set performance:\\\")\\nprint(\\\"Accuracy:\\\", accuracy_score(y_train, y_pred_train))\\nprint(\\\"Precision:\\\", precision_score(y_train, y_pred_train))\\nprint(\\\"Recall:\\\", recall_score(y_train, y_pred_train))\\nprint(\\\"F1:\\\", f1_score(y_train, y_pred_train))\";\n",
       "                var nbb_cells = Jupyter.notebook.get_cells();\n",
       "                for (var i = 0; i < nbb_cells.length; ++i) {\n",
       "                    if (nbb_cells[i].input_prompt_number == nbb_cell_id) {\n",
       "                        if (nbb_cells[i].get_text() == nbb_unformatted_code) {\n",
       "                             nbb_cells[i].set_text(nbb_formatted_code);\n",
       "                        }\n",
       "                        break;\n",
       "                    }\n",
       "                }\n",
       "            }, 500);\n",
       "            "
      ],
      "text/plain": [
       "<IPython.core.display.Javascript object>"
      ]
     },
     "metadata": {},
     "output_type": "display_data"
    }
   ],
   "source": [
    "print(\"Training set performance:\")\n",
    "print(\"Accuracy:\", accuracy_score(y_train, y_pred_train))\n",
    "print(\"Precision:\", precision_score(y_train, y_pred_train))\n",
    "print(\"Recall:\", recall_score(y_train, y_pred_train))\n",
    "print(\"F1:\", f1_score(y_train, y_pred_train))"
   ]
  },
  {
   "cell_type": "markdown",
   "id": "classical-ladder",
   "metadata": {},
   "source": [
    "#### Checking performance on test set"
   ]
  },
  {
   "cell_type": "code",
   "execution_count": 53,
   "id": "prescription-basic",
   "metadata": {},
   "outputs": [
    {
     "data": {
      "application/javascript": [
       "\n",
       "            setTimeout(function() {\n",
       "                var nbb_cell_id = 53;\n",
       "                var nbb_unformatted_code = \"# predicting on the test set\\ny_pred_test = lg.predict(X_test)\";\n",
       "                var nbb_formatted_code = \"# predicting on the test set\\ny_pred_test = lg.predict(X_test)\";\n",
       "                var nbb_cells = Jupyter.notebook.get_cells();\n",
       "                for (var i = 0; i < nbb_cells.length; ++i) {\n",
       "                    if (nbb_cells[i].input_prompt_number == nbb_cell_id) {\n",
       "                        if (nbb_cells[i].get_text() == nbb_unformatted_code) {\n",
       "                             nbb_cells[i].set_text(nbb_formatted_code);\n",
       "                        }\n",
       "                        break;\n",
       "                    }\n",
       "                }\n",
       "            }, 500);\n",
       "            "
      ],
      "text/plain": [
       "<IPython.core.display.Javascript object>"
      ]
     },
     "metadata": {},
     "output_type": "display_data"
    }
   ],
   "source": [
    "# predicting on the test set\n",
    "y_pred_test = lg.predict(X_test)"
   ]
  },
  {
   "cell_type": "code",
   "execution_count": 54,
   "id": "smoking-kruger",
   "metadata": {},
   "outputs": [
    {
     "name": "stdout",
     "output_type": "stream",
     "text": [
      "Test set performance:\n",
      "Accuracy: 0.8709677419354839\n",
      "Precision: 0.921875\n",
      "Recall: 0.8939393939393939\n",
      "F1: 0.9076923076923077\n"
     ]
    },
    {
     "data": {
      "application/javascript": [
       "\n",
       "            setTimeout(function() {\n",
       "                var nbb_cell_id = 54;\n",
       "                var nbb_unformatted_code = \"print(\\\"Test set performance:\\\")\\nprint(\\\"Accuracy:\\\", accuracy_score(y_test, y_pred_test))\\nprint(\\\"Precision:\\\", precision_score(y_test, y_pred_test))\\nprint(\\\"Recall:\\\", recall_score(y_test, y_pred_test))\\nprint(\\\"F1:\\\", f1_score(y_test, y_pred_test))\";\n",
       "                var nbb_formatted_code = \"print(\\\"Test set performance:\\\")\\nprint(\\\"Accuracy:\\\", accuracy_score(y_test, y_pred_test))\\nprint(\\\"Precision:\\\", precision_score(y_test, y_pred_test))\\nprint(\\\"Recall:\\\", recall_score(y_test, y_pred_test))\\nprint(\\\"F1:\\\", f1_score(y_test, y_pred_test))\";\n",
       "                var nbb_cells = Jupyter.notebook.get_cells();\n",
       "                for (var i = 0; i < nbb_cells.length; ++i) {\n",
       "                    if (nbb_cells[i].input_prompt_number == nbb_cell_id) {\n",
       "                        if (nbb_cells[i].get_text() == nbb_unformatted_code) {\n",
       "                             nbb_cells[i].set_text(nbb_formatted_code);\n",
       "                        }\n",
       "                        break;\n",
       "                    }\n",
       "                }\n",
       "            }, 500);\n",
       "            "
      ],
      "text/plain": [
       "<IPython.core.display.Javascript object>"
      ]
     },
     "metadata": {},
     "output_type": "display_data"
    }
   ],
   "source": [
    "print(\"Test set performance:\")\n",
    "print(\"Accuracy:\", accuracy_score(y_test, y_pred_test))\n",
    "print(\"Precision:\", precision_score(y_test, y_pred_test))\n",
    "print(\"Recall:\", recall_score(y_test, y_pred_test))\n",
    "print(\"F1:\", f1_score(y_test, y_pred_test))"
   ]
  },
  {
   "cell_type": "markdown",
   "id": "early-neighborhood",
   "metadata": {},
   "source": [
    "**Observations**\n",
    "\n",
    "- The training and testing f1_scores are 0.89.\n",
    "\n",
    "- f1_score on the train and test sets are comparable.\n",
    "\n",
    "- This shows that the model is showing generalised results."
   ]
  },
  {
   "cell_type": "markdown",
   "id": "north-practice",
   "metadata": {},
   "source": [
    "- We have build a logistic regression model which shows good performance on the train and test sets but to identify significant variables we will have to build a logistic regression model using the statsmodels library."
   ]
  },
  {
   "cell_type": "markdown",
   "id": "million-currency",
   "metadata": {},
   "source": [
    "- We will now perform logistic regression using statsmodels, a Python module that provides functions for the estimation of many statistical models, as well as for conducting statistical tests, and statistical data exploration.\n",
    "\n",
    "- Using statsmodels, we will be able to check the statistical validity of our model - identify the significant predictors from p-values that we get for each predictor variable."
   ]
  },
  {
   "cell_type": "markdown",
   "id": "copyrighted-toronto",
   "metadata": {},
   "source": [
    "### Logistic Regression (with statsmodels library)"
   ]
  },
  {
   "cell_type": "code",
   "execution_count": 56,
   "id": "jewish-sheriff",
   "metadata": {},
   "outputs": [
    {
     "data": {
      "application/javascript": [
       "\n",
       "            setTimeout(function() {\n",
       "                var nbb_cell_id = 56;\n",
       "                var nbb_unformatted_code = \"X = data.drop([\\\"Status\\\"], axis=1)\\nY = data[\\\"Status\\\"]\\n\\nX = pd.get_dummies(X, drop_first=True)\\n\\n# adding constant\\nX = sm.add_constant(X)\\n\\n# Splitting data in train and test sets\\nX_train, X_test, y_train, y_test = train_test_split(\\n    X, Y, test_size=0.30, random_state=1\\n)\";\n",
       "                var nbb_formatted_code = \"X = data.drop([\\\"Status\\\"], axis=1)\\nY = data[\\\"Status\\\"]\\n\\nX = pd.get_dummies(X, drop_first=True)\\n\\n# adding constant\\nX = sm.add_constant(X)\\n\\n# Splitting data in train and test sets\\nX_train, X_test, y_train, y_test = train_test_split(\\n    X, Y, test_size=0.30, random_state=1\\n)\";\n",
       "                var nbb_cells = Jupyter.notebook.get_cells();\n",
       "                for (var i = 0; i < nbb_cells.length; ++i) {\n",
       "                    if (nbb_cells[i].input_prompt_number == nbb_cell_id) {\n",
       "                        if (nbb_cells[i].get_text() == nbb_unformatted_code) {\n",
       "                             nbb_cells[i].set_text(nbb_formatted_code);\n",
       "                        }\n",
       "                        break;\n",
       "                    }\n",
       "                }\n",
       "            }, 500);\n",
       "            "
      ],
      "text/plain": [
       "<IPython.core.display.Javascript object>"
      ]
     },
     "metadata": {},
     "output_type": "display_data"
    }
   ],
   "source": [
    "X = data.drop([\"Status\"], axis=1)\n",
    "Y = data[\"Status\"]\n",
    "\n",
    "X = pd.get_dummies(X, drop_first=True)\n",
    "\n",
    "# adding constant\n",
    "X = sm.add_constant(X)\n",
    "\n",
    "# Splitting data in train and test sets\n",
    "X_train, X_test, y_train, y_test = train_test_split(\n",
    "    X, Y, test_size=0.30, random_state=1\n",
    ")"
   ]
  },
  {
   "cell_type": "code",
   "execution_count": 57,
   "id": "automated-grenada",
   "metadata": {},
   "outputs": [
    {
     "name": "stdout",
     "output_type": "stream",
     "text": [
      "                           Logit Regression Results                           \n",
      "==============================================================================\n",
      "Dep. Variable:                 Status   No. Observations:                  217\n",
      "Model:                          Logit   Df Residuals:                      204\n",
      "Method:                           MLE   Df Model:                           12\n",
      "Date:                Tue, 02 Nov 2021   Pseudo R-squ.:                  0.5425\n",
      "Time:                        14:25:45   Log-Likelihood:                -63.397\n",
      "converged:                      False   LL-Null:                       -138.58\n",
      "Covariance Type:            nonrobust   LLR p-value:                 4.773e-26\n",
      "============================================================================================\n",
      "                               coef    std err          z      P>|z|      [0.025      0.975]\n",
      "--------------------------------------------------------------------------------------------\n",
      "const                       22.0653      4.966      4.443      0.000      12.331      31.799\n",
      "pelvic_incidence            14.8961   9217.199      0.002      0.999   -1.81e+04    1.81e+04\n",
      "pelvic_tilt                -14.8057   9217.199     -0.002      0.999   -1.81e+04    1.81e+04\n",
      "lumbar_lordosis_angle       -0.0167      0.028     -0.594      0.552      -0.072       0.038\n",
      "sacral_slope               -14.9967   9217.199     -0.002      0.999   -1.81e+04    1.81e+04\n",
      "pelvic_radius               -0.1560      0.035     -4.474      0.000      -0.224      -0.088\n",
      "degree_spondylolisthesis     0.1507      0.026      5.865      0.000       0.100       0.201\n",
      "pelvic_slope                -0.2118      0.826     -0.257      0.798      -1.830       1.407\n",
      "Direct_tilt                  0.0129      0.027      0.474      0.635      -0.041       0.066\n",
      "thoracic_slope              -0.0810      0.069     -1.174      0.241      -0.216       0.054\n",
      "cervical_tilt               -0.0262      0.078     -0.338      0.736      -0.178       0.126\n",
      "sacrum_angle                 0.0124      0.019      0.642      0.521      -0.025       0.050\n",
      "scoliosis_slope              0.0092      0.023      0.398      0.690      -0.036       0.054\n",
      "============================================================================================\n",
      "\n",
      "Possibly complete quasi-separation: A fraction 0.11 of observations can be\n",
      "perfectly predicted. This might indicate that there is complete\n",
      "quasi-separation. In this case some parameters will not be identified.\n"
     ]
    },
    {
     "data": {
      "application/javascript": [
       "\n",
       "            setTimeout(function() {\n",
       "                var nbb_cell_id = 57;\n",
       "                var nbb_unformatted_code = \"# fitting logistic regression model\\nlogit = sm.Logit(y_train, X_train.astype(float))\\nlg = logit.fit(disp=False)\\n\\nprint(lg.summary())\";\n",
       "                var nbb_formatted_code = \"# fitting logistic regression model\\nlogit = sm.Logit(y_train, X_train.astype(float))\\nlg = logit.fit(disp=False)\\n\\nprint(lg.summary())\";\n",
       "                var nbb_cells = Jupyter.notebook.get_cells();\n",
       "                for (var i = 0; i < nbb_cells.length; ++i) {\n",
       "                    if (nbb_cells[i].input_prompt_number == nbb_cell_id) {\n",
       "                        if (nbb_cells[i].get_text() == nbb_unformatted_code) {\n",
       "                             nbb_cells[i].set_text(nbb_formatted_code);\n",
       "                        }\n",
       "                        break;\n",
       "                    }\n",
       "                }\n",
       "            }, 500);\n",
       "            "
      ],
      "text/plain": [
       "<IPython.core.display.Javascript object>"
      ]
     },
     "metadata": {},
     "output_type": "display_data"
    }
   ],
   "source": [
    "# fitting logistic regression model\n",
    "logit = sm.Logit(y_train, X_train.astype(float))\n",
    "lg = logit.fit(disp=False)\n",
    "\n",
    "print(lg.summary())"
   ]
  },
  {
   "cell_type": "code",
   "execution_count": 58,
   "id": "harmful-fisher",
   "metadata": {},
   "outputs": [
    {
     "name": "stdout",
     "output_type": "stream",
     "text": [
      "Training performance:\n"
     ]
    },
    {
     "data": {
      "text/html": [
       "<div><div id=88fd13c2-e855-4116-aa87-73a0e13999c4 style=\"display:none; background-color:#9D6CFF; color:white; width:200px; height:30px; padding-left:5px; border-radius:4px; flex-direction:row; justify-content:space-around; align-items:center;\" onmouseover=\"this.style.backgroundColor='#BA9BF8'\" onmouseout=\"this.style.backgroundColor='#9D6CFF'\" onclick=\"window.commands?.execute('create-mitosheet-from-dataframe-output');\">See Full Dataframe in Mito</div> <script> if (window.commands.hasCommand('create-mitosheet-from-dataframe-output')) document.getElementById('88fd13c2-e855-4116-aa87-73a0e13999c4').style.display = 'flex' </script> <table border=\"1\" class=\"dataframe\">\n",
       "  <thead>\n",
       "    <tr style=\"text-align: right;\">\n",
       "      <th></th>\n",
       "      <th>Accuracy</th>\n",
       "      <th>Recall</th>\n",
       "      <th>Precision</th>\n",
       "      <th>F1</th>\n",
       "    </tr>\n",
       "  </thead>\n",
       "  <tbody>\n",
       "    <tr>\n",
       "      <th>0</th>\n",
       "      <td>0.847926</td>\n",
       "      <td>0.881944</td>\n",
       "      <td>0.888112</td>\n",
       "      <td>0.885017</td>\n",
       "    </tr>\n",
       "  </tbody>\n",
       "</table></div>"
      ],
      "text/plain": [
       "   Accuracy    Recall  Precision        F1\n",
       "0  0.847926  0.881944   0.888112  0.885017"
      ]
     },
     "execution_count": 58,
     "metadata": {},
     "output_type": "execute_result"
    },
    {
     "data": {
      "application/javascript": [
       "\n",
       "            setTimeout(function() {\n",
       "                var nbb_cell_id = 58;\n",
       "                var nbb_unformatted_code = \"print(\\\"Training performance:\\\")\\nmodel_performance_classification_statsmodels(lg, X_train, y_train)\";\n",
       "                var nbb_formatted_code = \"print(\\\"Training performance:\\\")\\nmodel_performance_classification_statsmodels(lg, X_train, y_train)\";\n",
       "                var nbb_cells = Jupyter.notebook.get_cells();\n",
       "                for (var i = 0; i < nbb_cells.length; ++i) {\n",
       "                    if (nbb_cells[i].input_prompt_number == nbb_cell_id) {\n",
       "                        if (nbb_cells[i].get_text() == nbb_unformatted_code) {\n",
       "                             nbb_cells[i].set_text(nbb_formatted_code);\n",
       "                        }\n",
       "                        break;\n",
       "                    }\n",
       "                }\n",
       "            }, 500);\n",
       "            "
      ],
      "text/plain": [
       "<IPython.core.display.Javascript object>"
      ]
     },
     "metadata": {},
     "output_type": "display_data"
    }
   ],
   "source": [
    "print(\"Training performance:\")\n",
    "model_performance_classification_statsmodels(lg, X_train, y_train)"
   ]
  },
  {
   "cell_type": "markdown",
   "id": "secret-language",
   "metadata": {},
   "source": [
    "**Observations**\n",
    "\n",
    "- Negative values of the coefficient shows that probability of customer being a defaulter decreases with the increase of corresponding attribute value.\n",
    "\n",
    "- Positive values of the coefficient show that that probability of customer being a defaulter increases with the increase of corresponding attribute value.\n",
    "\n",
    "- p-value of a variable indicates if the variable is significant or not. If we consider the significance level to be 0.05 (5%), then any variable with a p-value less than 0.05 would be considered significant.\n",
    "\n",
    "- But these variables might contain multicollinearity, which will affect the p-values.\n",
    "\n",
    "* We will have to remove multicollinearity from the data to get reliable coefficients and p-values.\n",
    "\n",
    "* There are different ways of detecting (or testing) multi-collinearity, one such way is the Variation Inflation Factor."
   ]
  },
  {
   "cell_type": "markdown",
   "id": "imposed-procedure",
   "metadata": {},
   "source": [
    "### Additional Information on VIF\n",
    "\n",
    "* **Variance  Inflation  factor**:  Variance  inflation  factors  measure  the  inflation  in  the variances of the regression coefficients estimates due to collinearities that exist among the  predictors.  It  is  a  measure  of  how  much  the  variance  of  the  estimated  regression coefficient βk is “inflated”by  the  existence  of  correlation  among  the  predictor variables in the model. \n",
    "\n",
    "* General Rule of thumb: If VIF is 1 then there is no correlation among the kth predictor and the remaining predictor variables, and  hence  the variance of β̂k is not inflated at all. Whereas if VIF exceeds 5, we say there is moderate VIF and if it is 10 or exceeding 10, it shows signs of high multi-collinearity. But the purpose of the analysis should dictate which threshold to use. "
   ]
  },
  {
   "cell_type": "markdown",
   "id": "alike-powder",
   "metadata": {},
   "source": [
    "### Multicollinearity"
   ]
  },
  {
   "cell_type": "code",
   "execution_count": 59,
   "id": "average-portal",
   "metadata": {},
   "outputs": [
    {
     "name": "stdout",
     "output_type": "stream",
     "text": [
      "Series before feature selection: \n",
      "\n",
      "const                       202.097377\n",
      "pelvic_incidence            102.686512\n",
      "pelvic_tilt                  35.258784\n",
      "lumbar_lordosis_angle         3.146304\n",
      "sacral_slope                 67.517845\n",
      "pelvic_radius                 1.230648\n",
      "degree_spondylolisthesis      2.452256\n",
      "pelvic_slope                  1.025490\n",
      "Direct_tilt                   1.061246\n",
      "thoracic_slope                1.020343\n",
      "cervical_tilt                 1.064705\n",
      "sacrum_angle                  1.054556\n",
      "scoliosis_slope               1.021446\n",
      "dtype: float64\n",
      "\n"
     ]
    },
    {
     "data": {
      "application/javascript": [
       "\n",
       "            setTimeout(function() {\n",
       "                var nbb_cell_id = 59;\n",
       "                var nbb_unformatted_code = \"vif_series = pd.Series(\\n    [variance_inflation_factor(X_train.values, i) for i in range(X_train.shape[1])],\\n    index=X_train.columns,\\n    dtype=float,\\n)\\nprint(\\\"Series before feature selection: \\\\n\\\\n{}\\\\n\\\".format(vif_series))\";\n",
       "                var nbb_formatted_code = \"vif_series = pd.Series(\\n    [variance_inflation_factor(X_train.values, i) for i in range(X_train.shape[1])],\\n    index=X_train.columns,\\n    dtype=float,\\n)\\nprint(\\\"Series before feature selection: \\\\n\\\\n{}\\\\n\\\".format(vif_series))\";\n",
       "                var nbb_cells = Jupyter.notebook.get_cells();\n",
       "                for (var i = 0; i < nbb_cells.length; ++i) {\n",
       "                    if (nbb_cells[i].input_prompt_number == nbb_cell_id) {\n",
       "                        if (nbb_cells[i].get_text() == nbb_unformatted_code) {\n",
       "                             nbb_cells[i].set_text(nbb_formatted_code);\n",
       "                        }\n",
       "                        break;\n",
       "                    }\n",
       "                }\n",
       "            }, 500);\n",
       "            "
      ],
      "text/plain": [
       "<IPython.core.display.Javascript object>"
      ]
     },
     "metadata": {},
     "output_type": "display_data"
    }
   ],
   "source": [
    "vif_series = pd.Series(\n",
    "    [variance_inflation_factor(X_train.values, i) for i in range(X_train.shape[1])],\n",
    "    index=X_train.columns,\n",
    "    dtype=float,\n",
    ")\n",
    "print(\"Series before feature selection: \\n\\n{}\\n\".format(vif_series))"
   ]
  },
  {
   "cell_type": "markdown",
   "id": "optical-michael",
   "metadata": {},
   "source": [
    "* As we saw in our earlier analysis that wherever workclass has ? or unknown values occupation is also ? or unknown.\n",
    "* The high correlation between these variables has been highlighted in the VIF values as well.\n",
    "* We will drop occupation_Unknown as we get the same information from workclass_Unknown.\n",
    "* education_no_of_years, education, and some categorical levels of Occupation, Workclass, relationship, native_country, and race also exhibit high multicollinearity."
   ]
  },
  {
   "cell_type": "markdown",
   "id": "julian-territory",
   "metadata": {},
   "source": [
    "#### Removing occupation_Unknown"
   ]
  },
  {
   "cell_type": "code",
   "execution_count": 60,
   "id": "reverse-parker",
   "metadata": {},
   "outputs": [
    {
     "name": "stdout",
     "output_type": "stream",
     "text": [
      "Series before feature selection: \n",
      "\n",
      "const                       200.044918\n",
      "pelvic_incidence              3.576654\n",
      "pelvic_tilt                   1.817806\n",
      "lumbar_lordosis_angle         2.752717\n",
      "pelvic_radius                 1.220605\n",
      "degree_spondylolisthesis      2.290195\n",
      "pelvic_slope                  1.025490\n",
      "Direct_tilt                   1.061239\n",
      "thoracic_slope                1.007160\n",
      "cervical_tilt                 1.059423\n",
      "sacrum_angle                  1.048361\n",
      "scoliosis_slope               1.020588\n",
      "dtype: float64\n",
      "\n"
     ]
    },
    {
     "data": {
      "application/javascript": [
       "\n",
       "            setTimeout(function() {\n",
       "                var nbb_cell_id = 60;\n",
       "                var nbb_unformatted_code = \"X_train1 = X_train.drop(\\\"sacral_slope\\\", axis=1)\\nvif_series2 = pd.Series(\\n    [variance_inflation_factor(X_train1.values, i) for i in range(X_train1.shape[1])],\\n    index=X_train1.columns,\\n)\\nprint(\\\"Series before feature selection: \\\\n\\\\n{}\\\\n\\\".format(vif_series2))\";\n",
       "                var nbb_formatted_code = \"X_train1 = X_train.drop(\\\"sacral_slope\\\", axis=1)\\nvif_series2 = pd.Series(\\n    [variance_inflation_factor(X_train1.values, i) for i in range(X_train1.shape[1])],\\n    index=X_train1.columns,\\n)\\nprint(\\\"Series before feature selection: \\\\n\\\\n{}\\\\n\\\".format(vif_series2))\";\n",
       "                var nbb_cells = Jupyter.notebook.get_cells();\n",
       "                for (var i = 0; i < nbb_cells.length; ++i) {\n",
       "                    if (nbb_cells[i].input_prompt_number == nbb_cell_id) {\n",
       "                        if (nbb_cells[i].get_text() == nbb_unformatted_code) {\n",
       "                             nbb_cells[i].set_text(nbb_formatted_code);\n",
       "                        }\n",
       "                        break;\n",
       "                    }\n",
       "                }\n",
       "            }, 500);\n",
       "            "
      ],
      "text/plain": [
       "<IPython.core.display.Javascript object>"
      ]
     },
     "metadata": {},
     "output_type": "display_data"
    }
   ],
   "source": [
    "X_train1 = X_train.drop(\"sacral_slope\", axis=1)\n",
    "vif_series2 = pd.Series(\n",
    "    [variance_inflation_factor(X_train1.values, i) for i in range(X_train1.shape[1])],\n",
    "    index=X_train1.columns,\n",
    ")\n",
    "print(\"Series before feature selection: \\n\\n{}\\n\".format(vif_series2))"
   ]
  },
  {
   "cell_type": "markdown",
   "id": "regulated-fleet",
   "metadata": {},
   "source": [
    "* Removal of occupation_Unknown has fixed multicollinearity in workclass column.\n",
    "* education_no_of_years and education also capture similar information and hence it is understandable that they have high VIF values.\n",
    "* Now dropping education_no_of_years, and education to see which variable has a significant impact on the model's performance."
   ]
  },
  {
   "cell_type": "markdown",
   "id": "civic-democracy",
   "metadata": {},
   "source": [
    "#### Dropping education_no_of_years"
   ]
  },
  {
   "cell_type": "code",
   "execution_count": null,
   "id": "speaking-sunglasses",
   "metadata": {},
   "outputs": [],
   "source": [
    "X_train2 = X_train1.drop(\"education_no_of_years\", axis=1)\n",
    "vif_series3 = pd.Series(\n",
    "    [variance_inflation_factor(X_train2.values, i) for i in range(X_train2.shape[1])],\n",
    "    index=X_train2.columns,\n",
    ")\n",
    "print(\"Series before feature selection: \\n\\n{}\\n\".format(vif_series3))"
   ]
  },
  {
   "cell_type": "markdown",
   "id": "legal-demonstration",
   "metadata": {},
   "source": [
    "* Dropping education_no_of_years fixes the multicollinearity in education column."
   ]
  },
  {
   "cell_type": "code",
   "execution_count": 62,
   "id": "available-entity",
   "metadata": {},
   "outputs": [
    {
     "name": "stdout",
     "output_type": "stream",
     "text": [
      "Optimization terminated successfully.\n",
      "         Current function value: 0.292179\n",
      "         Iterations 9\n",
      "Training performance:\n"
     ]
    },
    {
     "data": {
      "text/html": [
       "<div><div id=0ab816b0-f174-47a6-a37c-8087bac09f75 style=\"display:none; background-color:#9D6CFF; color:white; width:200px; height:30px; padding-left:5px; border-radius:4px; flex-direction:row; justify-content:space-around; align-items:center;\" onmouseover=\"this.style.backgroundColor='#BA9BF8'\" onmouseout=\"this.style.backgroundColor='#9D6CFF'\" onclick=\"window.commands?.execute('create-mitosheet-from-dataframe-output');\">See Full Dataframe in Mito</div> <script> if (window.commands.hasCommand('create-mitosheet-from-dataframe-output')) document.getElementById('0ab816b0-f174-47a6-a37c-8087bac09f75').style.display = 'flex' </script> <table border=\"1\" class=\"dataframe\">\n",
       "  <thead>\n",
       "    <tr style=\"text-align: right;\">\n",
       "      <th></th>\n",
       "      <th>Accuracy</th>\n",
       "      <th>Recall</th>\n",
       "      <th>Precision</th>\n",
       "      <th>F1</th>\n",
       "    </tr>\n",
       "  </thead>\n",
       "  <tbody>\n",
       "    <tr>\n",
       "      <th>0</th>\n",
       "      <td>0.847926</td>\n",
       "      <td>0.881944</td>\n",
       "      <td>0.888112</td>\n",
       "      <td>0.885017</td>\n",
       "    </tr>\n",
       "  </tbody>\n",
       "</table></div>"
      ],
      "text/plain": [
       "   Accuracy    Recall  Precision        F1\n",
       "0  0.847926  0.881944   0.888112  0.885017"
      ]
     },
     "execution_count": 62,
     "metadata": {},
     "output_type": "execute_result"
    },
    {
     "data": {
      "application/javascript": [
       "\n",
       "            setTimeout(function() {\n",
       "                var nbb_cell_id = 62;\n",
       "                var nbb_unformatted_code = \"logit2 = sm.Logit(y_train, X_train1.astype(float))\\nlg2 = logit2.fit()\\n\\nprint(\\\"Training performance:\\\")\\nmodel_performance_classification_statsmodels(lg2, X_train1, y_train)\";\n",
       "                var nbb_formatted_code = \"logit2 = sm.Logit(y_train, X_train1.astype(float))\\nlg2 = logit2.fit()\\n\\nprint(\\\"Training performance:\\\")\\nmodel_performance_classification_statsmodels(lg2, X_train1, y_train)\";\n",
       "                var nbb_cells = Jupyter.notebook.get_cells();\n",
       "                for (var i = 0; i < nbb_cells.length; ++i) {\n",
       "                    if (nbb_cells[i].input_prompt_number == nbb_cell_id) {\n",
       "                        if (nbb_cells[i].get_text() == nbb_unformatted_code) {\n",
       "                             nbb_cells[i].set_text(nbb_formatted_code);\n",
       "                        }\n",
       "                        break;\n",
       "                    }\n",
       "                }\n",
       "            }, 500);\n",
       "            "
      ],
      "text/plain": [
       "<IPython.core.display.Javascript object>"
      ]
     },
     "metadata": {},
     "output_type": "display_data"
    }
   ],
   "source": [
    "logit2 = sm.Logit(y_train, X_train1.astype(float))\n",
    "lg2 = logit2.fit()\n",
    "\n",
    "print(\"Training performance:\")\n",
    "model_performance_classification_statsmodels(lg2, X_train1, y_train)"
   ]
  },
  {
   "cell_type": "markdown",
   "id": "measured-validity",
   "metadata": {},
   "source": [
    "* No significant change in the model performance."
   ]
  },
  {
   "cell_type": "markdown",
   "id": "stylish-ethernet",
   "metadata": {},
   "source": [
    "#### Dropping education"
   ]
  },
  {
   "cell_type": "code",
   "execution_count": null,
   "id": "moving-blade",
   "metadata": {},
   "outputs": [],
   "source": [
    "X_train3 = X_train1.drop(\n",
    "    [\n",
    "        \"education_ 11th\",\n",
    "        \"education_ 12th\",\n",
    "        \"education_ 1st-4th\",\n",
    "        \"education_ 5th-6th\",\n",
    "        \"education_ 7th-8th\",\n",
    "        \"education_ 9th\",\n",
    "        \"education_ Assoc-acdm\",\n",
    "        \"education_ Assoc-voc\",\n",
    "        \"education_ Bachelors\",\n",
    "        \"education_ Doctorate\",\n",
    "        \"education_ HS-grad\",\n",
    "        \"education_ Masters\",\n",
    "        \"education_ Preschool\",\n",
    "        \"education_ Prof-school\",\n",
    "        \"education_ Some-college\",\n",
    "    ],\n",
    "    axis=1,\n",
    ")\n",
    "vif_series4 = pd.Series(\n",
    "    [variance_inflation_factor(X_train3.values, i) for i in range(X_train3.shape[1])],\n",
    "    index=X_train3.columns,\n",
    ")\n",
    "print(\"Series before feature selection: \\n\\n{}\\n\".format(vif_series4))"
   ]
  },
  {
   "cell_type": "code",
   "execution_count": null,
   "id": "related-subcommittee",
   "metadata": {},
   "outputs": [],
   "source": [
    "logit3 = sm.Logit(y_train, X_train3.astype(float))\n",
    "lg3 = logit3.fit()\n",
    "\n",
    "print(\"Training performance:\")\n",
    "model_performance_classification_statsmodels(lg3, X_train3, y_train)"
   ]
  },
  {
   "cell_type": "markdown",
   "id": "painful-property",
   "metadata": {},
   "source": [
    "* No significant change in the model performance."
   ]
  },
  {
   "cell_type": "markdown",
   "id": "terminal-helen",
   "metadata": {},
   "source": [
    "**Observations:**\n",
    "1. Dropping education_no_of_years and education doesn't have a significant impact on the model performance.\n",
    "2. We can choose any model to proceed to the next steps.\n",
    "3. Here, we will go with the lg2 model - where we dropped education_no_of_years as the education column captures more specific information.\n",
    "4. Some of the categorical levels of a variable have VIF>5 which can simply be ignored."
   ]
  },
  {
   "cell_type": "markdown",
   "id": "satisfied-unknown",
   "metadata": {},
   "source": [
    "#### Summary of the model without education_no_of_years"
   ]
  },
  {
   "cell_type": "code",
   "execution_count": 63,
   "id": "bridal-genetics",
   "metadata": {},
   "outputs": [
    {
     "name": "stdout",
     "output_type": "stream",
     "text": [
      "                           Logit Regression Results                           \n",
      "==============================================================================\n",
      "Dep. Variable:                 Status   No. Observations:                  217\n",
      "Model:                          Logit   Df Residuals:                      205\n",
      "Method:                           MLE   Df Model:                           11\n",
      "Date:                Tue, 02 Nov 2021   Pseudo R-squ.:                  0.5425\n",
      "Time:                        14:28:46   Log-Likelihood:                -63.403\n",
      "converged:                       True   LL-Null:                       -138.58\n",
      "Covariance Type:            nonrobust   LLR p-value:                 1.260e-26\n",
      "============================================================================================\n",
      "                               coef    std err          z      P>|z|      [0.025      0.975]\n",
      "--------------------------------------------------------------------------------------------\n",
      "const                       22.0750      4.967      4.444      0.000      12.339      31.811\n",
      "pelvic_incidence            -0.1006      0.037     -2.696      0.007      -0.174      -0.027\n",
      "pelvic_tilt                  0.1912      0.049      3.874      0.000       0.094       0.288\n",
      "lumbar_lordosis_angle       -0.0168      0.028     -0.596      0.551      -0.072       0.038\n",
      "pelvic_radius               -0.1561      0.035     -4.475      0.000      -0.224      -0.088\n",
      "degree_spondylolisthesis     0.1508      0.026      5.874      0.000       0.100       0.201\n",
      "pelvic_slope                -0.2115      0.826     -0.256      0.798      -1.830       1.407\n",
      "Direct_tilt                  0.0129      0.027      0.474      0.636      -0.041       0.066\n",
      "thoracic_slope              -0.0812      0.069     -1.177      0.239      -0.216       0.054\n",
      "cervical_tilt               -0.0263      0.078     -0.338      0.735      -0.178       0.126\n",
      "sacrum_angle                 0.0124      0.019      0.642      0.521      -0.025       0.050\n",
      "scoliosis_slope              0.0092      0.023      0.398      0.691      -0.036       0.054\n",
      "============================================================================================\n"
     ]
    },
    {
     "data": {
      "application/javascript": [
       "\n",
       "            setTimeout(function() {\n",
       "                var nbb_cell_id = 63;\n",
       "                var nbb_unformatted_code = \"print(lg2.summary())\";\n",
       "                var nbb_formatted_code = \"print(lg2.summary())\";\n",
       "                var nbb_cells = Jupyter.notebook.get_cells();\n",
       "                for (var i = 0; i < nbb_cells.length; ++i) {\n",
       "                    if (nbb_cells[i].input_prompt_number == nbb_cell_id) {\n",
       "                        if (nbb_cells[i].get_text() == nbb_unformatted_code) {\n",
       "                             nbb_cells[i].set_text(nbb_formatted_code);\n",
       "                        }\n",
       "                        break;\n",
       "                    }\n",
       "                }\n",
       "            }, 500);\n",
       "            "
      ],
      "text/plain": [
       "<IPython.core.display.Javascript object>"
      ]
     },
     "metadata": {},
     "output_type": "display_data"
    }
   ],
   "source": [
    "print(lg2.summary())"
   ]
  },
  {
   "cell_type": "markdown",
   "id": "mobile-parts",
   "metadata": {},
   "source": [
    "* In the case of 'race' all the attributes have a high p-value which means it is not significant therefore we can drop the complete variable.\n",
    "* For other attributes present in the data, the p-values are high only for few dummy variables and since only one (or some) of the categorical levels have a high p-value we will drop them iteratively as sometimes p-values change after dropping a variable. So, we'll not drop all variables at once.\n",
    "\n",
    "* Instead, we will do the following repeatedly using a loop:\n",
    "  - Build a model, check the p-values of the variables, and drop the column with the highest p-value.\n",
    "  - Create a new model without the dropped feature, check the p-values of the variables, and drop the column with the highest p-value.\n",
    "  - Repeat the above two steps till there are no columns with p-value > 0.05.\n",
    "\n",
    "\n",
    "Note: The above process can also be done manually by picking one variable at a time that has a high p-value, dropping it, and building a model again. But that might be a little tedious and using a loop will be more efficient."
   ]
  },
  {
   "cell_type": "markdown",
   "id": "compatible-myrtle",
   "metadata": {},
   "source": [
    "**Dropping Race**"
   ]
  },
  {
   "cell_type": "code",
   "execution_count": null,
   "id": "blocked-white",
   "metadata": {},
   "outputs": [],
   "source": [
    "X_train4 = X_train2.drop(\n",
    "    [\"race_ Asian-Pac-Islander\", \"race_ Black\", \"race_ Other\", \"race_ White\"], axis=1\n",
    ")\n",
    "\n",
    "logit4 = sm.Logit(y_train, X_train4.astype(float))\n",
    "lg4 = logit4.fit()\n",
    "\n",
    "print(lg4.summary())"
   ]
  },
  {
   "cell_type": "code",
   "execution_count": null,
   "id": "alpha-living",
   "metadata": {},
   "outputs": [],
   "source": [
    "# running a loop to drop variables with high p-value\n",
    "\n",
    "# initial list of columns\n",
    "cols = X_train4.columns.tolist()\n",
    "\n",
    "# setting an initial max p-value\n",
    "max_p_value = 1\n",
    "\n",
    "while len(cols) > 0:\n",
    "    # defining the train set\n",
    "    X_train_aux = X_train4[cols]\n",
    "\n",
    "    # fitting the model\n",
    "    model = sm.Logit(y_train, X_train_aux).fit(disp=False)\n",
    "\n",
    "    # getting the p-values and the maximum p-value\n",
    "    p_values = model.pvalues\n",
    "    max_p_value = max(p_values)\n",
    "\n",
    "    # name of the variable with maximum p-value\n",
    "    feature_with_p_max = p_values.idxmax()\n",
    "\n",
    "    if max_p_value > 0.05:\n",
    "        cols.remove(feature_with_p_max)\n",
    "    else:\n",
    "        break\n",
    "\n",
    "selected_features = cols\n",
    "print(selected_features)"
   ]
  },
  {
   "cell_type": "code",
   "execution_count": null,
   "id": "retired-grant",
   "metadata": {},
   "outputs": [],
   "source": [
    "X_train5 = X_train4[selected_features]"
   ]
  },
  {
   "cell_type": "code",
   "execution_count": null,
   "id": "complete-amsterdam",
   "metadata": {},
   "outputs": [],
   "source": [
    "logit5 = sm.Logit(y_train, X_train5.astype(float))\n",
    "lg5 = logit5.fit(disp=False)\n",
    "\n",
    "print(lg5.summary())"
   ]
  },
  {
   "cell_type": "markdown",
   "id": "capable-mystery",
   "metadata": {},
   "source": [
    "**Now no feature has p-value greater than 0.05, so we'll consider the features in *X_train5* as the final ones and *lg5* as final model.**"
   ]
  },
  {
   "cell_type": "markdown",
   "id": "minus-above",
   "metadata": {},
   "source": [
    "### Coefficient interpretations\n",
    "\n",
    "* Coefficient of some levels of education, workclass, and native country are positive an increase in these will lead to increase in chances of a person having <=50K salary. \n",
    "\n",
    "* Coefficient of age,fnlwgt,marital_status, working_hours_per_week,some levels of education, workclass, and native country are negative increase in these will lead to decrease in chances of a person having <=50K salary."
   ]
  },
  {
   "cell_type": "markdown",
   "id": "impressed-arrangement",
   "metadata": {},
   "source": [
    "###  Converting coefficients to odds\n",
    "* The coefficients of the logistic regression model are in terms of log(odd), to find the odds we have to take the exponential of the coefficients. \n",
    "* Therefore, **odds =  exp(b)**\n",
    "* The percentage change in odds is given as **odds = (exp(b) - 1) * 100**"
   ]
  },
  {
   "cell_type": "code",
   "execution_count": 65,
   "id": "intermediate-empire",
   "metadata": {},
   "outputs": [
    {
     "data": {
      "text/html": [
       "<div><div id=a301bd3a-1f4c-40e6-b0df-0a974367864d style=\"display:none; background-color:#9D6CFF; color:white; width:200px; height:30px; padding-left:5px; border-radius:4px; flex-direction:row; justify-content:space-around; align-items:center;\" onmouseover=\"this.style.backgroundColor='#BA9BF8'\" onmouseout=\"this.style.backgroundColor='#9D6CFF'\" onclick=\"window.commands?.execute('create-mitosheet-from-dataframe-output');\">See Full Dataframe in Mito</div> <script> if (window.commands.hasCommand('create-mitosheet-from-dataframe-output')) document.getElementById('a301bd3a-1f4c-40e6-b0df-0a974367864d').style.display = 'flex' </script> <table border=\"1\" class=\"dataframe\">\n",
       "  <thead>\n",
       "    <tr style=\"text-align: right;\">\n",
       "      <th></th>\n",
       "      <th>const</th>\n",
       "      <th>pelvic_incidence</th>\n",
       "      <th>pelvic_tilt</th>\n",
       "      <th>lumbar_lordosis_angle</th>\n",
       "      <th>pelvic_radius</th>\n",
       "      <th>degree_spondylolisthesis</th>\n",
       "      <th>pelvic_slope</th>\n",
       "      <th>Direct_tilt</th>\n",
       "      <th>thoracic_slope</th>\n",
       "      <th>cervical_tilt</th>\n",
       "      <th>sacrum_angle</th>\n",
       "      <th>scoliosis_slope</th>\n",
       "    </tr>\n",
       "  </thead>\n",
       "  <tbody>\n",
       "    <tr>\n",
       "      <th>Odds</th>\n",
       "      <td>3.864182e+09</td>\n",
       "      <td>0.904297</td>\n",
       "      <td>1.210744</td>\n",
       "      <td>0.983366</td>\n",
       "      <td>0.855486</td>\n",
       "      <td>1.162798</td>\n",
       "      <td>0.809386</td>\n",
       "      <td>1.013008</td>\n",
       "      <td>0.922009</td>\n",
       "      <td>0.974077</td>\n",
       "      <td>1.012483</td>\n",
       "      <td>1.009206</td>\n",
       "    </tr>\n",
       "    <tr>\n",
       "      <th>Change_odd%</th>\n",
       "      <td>3.864182e+11</td>\n",
       "      <td>-9.570300</td>\n",
       "      <td>21.074423</td>\n",
       "      <td>-1.663410</td>\n",
       "      <td>-14.451420</td>\n",
       "      <td>16.279760</td>\n",
       "      <td>-19.061366</td>\n",
       "      <td>1.300799</td>\n",
       "      <td>-7.799056</td>\n",
       "      <td>-2.592283</td>\n",
       "      <td>1.248349</td>\n",
       "      <td>0.920585</td>\n",
       "    </tr>\n",
       "  </tbody>\n",
       "</table></div>"
      ],
      "text/plain": [
       "                    const  pelvic_incidence  pelvic_tilt  \\\n",
       "Odds         3.864182e+09          0.904297     1.210744   \n",
       "Change_odd%  3.864182e+11         -9.570300    21.074423   \n",
       "\n",
       "             lumbar_lordosis_angle  pelvic_radius  degree_spondylolisthesis  \\\n",
       "Odds                      0.983366       0.855486                  1.162798   \n",
       "Change_odd%              -1.663410     -14.451420                 16.279760   \n",
       "\n",
       "             pelvic_slope  Direct_tilt  thoracic_slope  cervical_tilt  \\\n",
       "Odds             0.809386     1.013008        0.922009       0.974077   \n",
       "Change_odd%    -19.061366     1.300799       -7.799056      -2.592283   \n",
       "\n",
       "             sacrum_angle  scoliosis_slope  \n",
       "Odds             1.012483         1.009206  \n",
       "Change_odd%      1.248349         0.920585  "
      ]
     },
     "execution_count": 65,
     "metadata": {},
     "output_type": "execute_result"
    },
    {
     "data": {
      "application/javascript": [
       "\n",
       "            setTimeout(function() {\n",
       "                var nbb_cell_id = 65;\n",
       "                var nbb_unformatted_code = \"# converting coefficients to odds\\nodds = np.exp(lg2.params)\\n\\n# finding the percentage change\\nperc_change_odds = (np.exp(lg2.params) - 1) * 100\\n\\n# removing limit from number of columns to display\\npd.set_option(\\\"display.max_columns\\\", None)\\n\\n# adding the odds to a dataframe\\npd.DataFrame({\\\"Odds\\\": odds, \\\"Change_odd%\\\": perc_change_odds}, index=X_train1.columns).T\";\n",
       "                var nbb_formatted_code = \"# converting coefficients to odds\\nodds = np.exp(lg2.params)\\n\\n# finding the percentage change\\nperc_change_odds = (np.exp(lg2.params) - 1) * 100\\n\\n# removing limit from number of columns to display\\npd.set_option(\\\"display.max_columns\\\", None)\\n\\n# adding the odds to a dataframe\\npd.DataFrame({\\\"Odds\\\": odds, \\\"Change_odd%\\\": perc_change_odds}, index=X_train1.columns).T\";\n",
       "                var nbb_cells = Jupyter.notebook.get_cells();\n",
       "                for (var i = 0; i < nbb_cells.length; ++i) {\n",
       "                    if (nbb_cells[i].input_prompt_number == nbb_cell_id) {\n",
       "                        if (nbb_cells[i].get_text() == nbb_unformatted_code) {\n",
       "                             nbb_cells[i].set_text(nbb_formatted_code);\n",
       "                        }\n",
       "                        break;\n",
       "                    }\n",
       "                }\n",
       "            }, 500);\n",
       "            "
      ],
      "text/plain": [
       "<IPython.core.display.Javascript object>"
      ]
     },
     "metadata": {},
     "output_type": "display_data"
    }
   ],
   "source": [
    "# converting coefficients to odds\n",
    "odds = np.exp(lg2.params)\n",
    "\n",
    "# finding the percentage change\n",
    "perc_change_odds = (np.exp(lg2.params) - 1) * 100\n",
    "\n",
    "# removing limit from number of columns to display\n",
    "pd.set_option(\"display.max_columns\", None)\n",
    "\n",
    "# adding the odds to a dataframe\n",
    "pd.DataFrame({\"Odds\": odds, \"Change_odd%\": perc_change_odds}, index=X_train1.columns).T"
   ]
  },
  {
   "cell_type": "markdown",
   "id": "oriented-afternoon",
   "metadata": {},
   "source": [
    "### Coefficient interpretations\n",
    "\n",
    "* `age`: Holding all other features constant a 1 unit change in Age will decrease the odds of a person having salary <=50k by 0.97 times or a 2.90% decrease in odds of having salary <=50K.\n",
    "* `working_hours_per_week`: Holding all other features constant a 1 unit change in the working_hours_per_week will decrease the odds of a person having salary <=50k by 0.93 times or a decrease of 6.6% decrease in odds of having salary <=50K.\n",
    "* The odds of a person whose marital status is married having a salary <=50K is 0.075 less than the person who was never married or 92.2% fewer odds of having salary <=50K. Similarly, The odds of a person whose marital status is not_married having a salary <=50K is 0.65 times less than the person who was never married or 34.04% less odds of having a salary <=50K than the person who was never married. [keeping Never_married category as a reference].\n",
    "* The odds of a person having salary <=50K is 0.47 times less than the person who has done education 1st-9th, 11th or Preschool or 52.67% fewer odds of having salary <=50K. Similarly, The odds of a person who has a Doctorate having a salary <=50K is 0.04 times less than the person who has done education 1st-9th or Preschool or 95.94% less odds of having a salary <=50K. [keeping  education_ 1st-4th,education_ 5th-6th, education_ 7th-8th, education_ 9th, education_ 11th, education_ Preschool category as a reference].\n",
    "\n",
    "`Interpretation for other attributes can be done similarly.`"
   ]
  },
  {
   "cell_type": "markdown",
   "id": "incorporated-southeast",
   "metadata": {},
   "source": [
    "#### Checking model performance on the training set"
   ]
  },
  {
   "cell_type": "code",
   "execution_count": 66,
   "id": "circular-bracelet",
   "metadata": {},
   "outputs": [
    {
     "data": {
      "image/png": "[encoded data removed]",
      "text/plain": [
       "<Figure size 432x288 with 2 Axes>"
      ]
     },
     "metadata": {
      "needs_background": "light"
     },
     "output_type": "display_data"
    },
    {
     "data": {
      "application/javascript": [
       "\n",
       "            setTimeout(function() {\n",
       "                var nbb_cell_id = 66;\n",
       "                var nbb_unformatted_code = \"# creating confusion matrix\\nconfusion_matrix_statsmodels(lg2, X_train1, y_train)\";\n",
       "                var nbb_formatted_code = \"# creating confusion matrix\\nconfusion_matrix_statsmodels(lg2, X_train1, y_train)\";\n",
       "                var nbb_cells = Jupyter.notebook.get_cells();\n",
       "                for (var i = 0; i < nbb_cells.length; ++i) {\n",
       "                    if (nbb_cells[i].input_prompt_number == nbb_cell_id) {\n",
       "                        if (nbb_cells[i].get_text() == nbb_unformatted_code) {\n",
       "                             nbb_cells[i].set_text(nbb_formatted_code);\n",
       "                        }\n",
       "                        break;\n",
       "                    }\n",
       "                }\n",
       "            }, 500);\n",
       "            "
      ],
      "text/plain": [
       "<IPython.core.display.Javascript object>"
      ]
     },
     "metadata": {},
     "output_type": "display_data"
    }
   ],
   "source": [
    "# creating confusion matrix\n",
    "confusion_matrix_statsmodels(lg2, X_train1, y_train)"
   ]
  },
  {
   "cell_type": "code",
   "execution_count": 67,
   "id": "coastal-sheffield",
   "metadata": {},
   "outputs": [
    {
     "name": "stdout",
     "output_type": "stream",
     "text": [
      "Training performance:\n"
     ]
    },
    {
     "data": {
      "text/html": [
       "<div><div id=426b06e6-68a4-4458-b8e4-56e20e1ad864 style=\"display:none; background-color:#9D6CFF; color:white; width:200px; height:30px; padding-left:5px; border-radius:4px; flex-direction:row; justify-content:space-around; align-items:center;\" onmouseover=\"this.style.backgroundColor='#BA9BF8'\" onmouseout=\"this.style.backgroundColor='#9D6CFF'\" onclick=\"window.commands?.execute('create-mitosheet-from-dataframe-output');\">See Full Dataframe in Mito</div> <script> if (window.commands.hasCommand('create-mitosheet-from-dataframe-output')) document.getElementById('426b06e6-68a4-4458-b8e4-56e20e1ad864').style.display = 'flex' </script> <table border=\"1\" class=\"dataframe\">\n",
       "  <thead>\n",
       "    <tr style=\"text-align: right;\">\n",
       "      <th></th>\n",
       "      <th>Accuracy</th>\n",
       "      <th>Recall</th>\n",
       "      <th>Precision</th>\n",
       "      <th>F1</th>\n",
       "    </tr>\n",
       "  </thead>\n",
       "  <tbody>\n",
       "    <tr>\n",
       "      <th>0</th>\n",
       "      <td>0.847926</td>\n",
       "      <td>0.881944</td>\n",
       "      <td>0.888112</td>\n",
       "      <td>0.885017</td>\n",
       "    </tr>\n",
       "  </tbody>\n",
       "</table></div>"
      ],
      "text/plain": [
       "   Accuracy    Recall  Precision        F1\n",
       "0  0.847926  0.881944   0.888112  0.885017"
      ]
     },
     "execution_count": 67,
     "metadata": {},
     "output_type": "execute_result"
    },
    {
     "data": {
      "application/javascript": [
       "\n",
       "            setTimeout(function() {\n",
       "                var nbb_cell_id = 67;\n",
       "                var nbb_unformatted_code = \"log_reg_model_train_perf = model_performance_classification_statsmodels(\\n    lg2, X_train1, y_train\\n)\\n\\nprint(\\\"Training performance:\\\")\\nlog_reg_model_train_perf\";\n",
       "                var nbb_formatted_code = \"log_reg_model_train_perf = model_performance_classification_statsmodels(\\n    lg2, X_train1, y_train\\n)\\n\\nprint(\\\"Training performance:\\\")\\nlog_reg_model_train_perf\";\n",
       "                var nbb_cells = Jupyter.notebook.get_cells();\n",
       "                for (var i = 0; i < nbb_cells.length; ++i) {\n",
       "                    if (nbb_cells[i].input_prompt_number == nbb_cell_id) {\n",
       "                        if (nbb_cells[i].get_text() == nbb_unformatted_code) {\n",
       "                             nbb_cells[i].set_text(nbb_formatted_code);\n",
       "                        }\n",
       "                        break;\n",
       "                    }\n",
       "                }\n",
       "            }, 500);\n",
       "            "
      ],
      "text/plain": [
       "<IPython.core.display.Javascript object>"
      ]
     },
     "metadata": {},
     "output_type": "display_data"
    }
   ],
   "source": [
    "log_reg_model_train_perf = model_performance_classification_statsmodels(\n",
    "    lg2, X_train1, y_train\n",
    ")\n",
    "\n",
    "print(\"Training performance:\")\n",
    "log_reg_model_train_perf"
   ]
  },
  {
   "cell_type": "markdown",
   "id": "alone-relay",
   "metadata": {},
   "source": [
    "#### ROC-AUC"
   ]
  },
  {
   "cell_type": "markdown",
   "id": "furnished-dragon",
   "metadata": {},
   "source": [
    "* ROC-AUC on training set"
   ]
  },
  {
   "cell_type": "code",
   "execution_count": 68,
   "id": "welcome-flood",
   "metadata": {},
   "outputs": [
    {
     "data": {
      "image/png": "[encoded data removed]",
      "text/plain": [
       "<Figure size 504x360 with 1 Axes>"
      ]
     },
     "metadata": {
      "needs_background": "light"
     },
     "output_type": "display_data"
    },
    {
     "data": {
      "application/javascript": [
       "\n",
       "            setTimeout(function() {\n",
       "                var nbb_cell_id = 68;\n",
       "                var nbb_unformatted_code = \"logit_roc_auc_train = roc_auc_score(y_train, lg2.predict(X_train1))\\nfpr, tpr, thresholds = roc_curve(y_train, lg2.predict(X_train1))\\nplt.figure(figsize=(7, 5))\\nplt.plot(fpr, tpr, label=\\\"Logistic Regression (area = %0.2f)\\\" % logit_roc_auc_train)\\nplt.plot([0, 1], [0, 1], \\\"r--\\\")\\nplt.xlim([0.0, 1.0])\\nplt.ylim([0.0, 1.05])\\nplt.xlabel(\\\"False Positive Rate\\\")\\nplt.ylabel(\\\"True Positive Rate\\\")\\nplt.title(\\\"Receiver operating characteristic\\\")\\nplt.legend(loc=\\\"lower right\\\")\\nplt.show()\";\n",
       "                var nbb_formatted_code = \"logit_roc_auc_train = roc_auc_score(y_train, lg2.predict(X_train1))\\nfpr, tpr, thresholds = roc_curve(y_train, lg2.predict(X_train1))\\nplt.figure(figsize=(7, 5))\\nplt.plot(fpr, tpr, label=\\\"Logistic Regression (area = %0.2f)\\\" % logit_roc_auc_train)\\nplt.plot([0, 1], [0, 1], \\\"r--\\\")\\nplt.xlim([0.0, 1.0])\\nplt.ylim([0.0, 1.05])\\nplt.xlabel(\\\"False Positive Rate\\\")\\nplt.ylabel(\\\"True Positive Rate\\\")\\nplt.title(\\\"Receiver operating characteristic\\\")\\nplt.legend(loc=\\\"lower right\\\")\\nplt.show()\";\n",
       "                var nbb_cells = Jupyter.notebook.get_cells();\n",
       "                for (var i = 0; i < nbb_cells.length; ++i) {\n",
       "                    if (nbb_cells[i].input_prompt_number == nbb_cell_id) {\n",
       "                        if (nbb_cells[i].get_text() == nbb_unformatted_code) {\n",
       "                             nbb_cells[i].set_text(nbb_formatted_code);\n",
       "                        }\n",
       "                        break;\n",
       "                    }\n",
       "                }\n",
       "            }, 500);\n",
       "            "
      ],
      "text/plain": [
       "<IPython.core.display.Javascript object>"
      ]
     },
     "metadata": {},
     "output_type": "display_data"
    }
   ],
   "source": [
    "logit_roc_auc_train = roc_auc_score(y_train, lg2.predict(X_train1))\n",
    "fpr, tpr, thresholds = roc_curve(y_train, lg2.predict(X_train1))\n",
    "plt.figure(figsize=(7, 5))\n",
    "plt.plot(fpr, tpr, label=\"Logistic Regression (area = %0.2f)\" % logit_roc_auc_train)\n",
    "plt.plot([0, 1], [0, 1], \"r--\")\n",
    "plt.xlim([0.0, 1.0])\n",
    "plt.ylim([0.0, 1.05])\n",
    "plt.xlabel(\"False Positive Rate\")\n",
    "plt.ylabel(\"True Positive Rate\")\n",
    "plt.title(\"Receiver operating characteristic\")\n",
    "plt.legend(loc=\"lower right\")\n",
    "plt.show()"
   ]
  },
  {
   "cell_type": "markdown",
   "id": "fiscal-poetry",
   "metadata": {},
   "source": [
    "* Logistic Regression model is giving a good performance on training set."
   ]
  },
  {
   "cell_type": "markdown",
   "id": "duplicate-chocolate",
   "metadata": {},
   "source": [
    "### Model Performance Improvement"
   ]
  },
  {
   "cell_type": "markdown",
   "id": "binary-withdrawal",
   "metadata": {},
   "source": [
    "* Let's see if the f1 score can be improved further, by changing the model threshold using AUC-ROC Curve."
   ]
  },
  {
   "cell_type": "markdown",
   "id": "disturbed-dividend",
   "metadata": {},
   "source": [
    "### Optimal threshold using AUC-ROC curve"
   ]
  },
  {
   "cell_type": "code",
   "execution_count": 69,
   "id": "informal-retention",
   "metadata": {},
   "outputs": [
    {
     "name": "stdout",
     "output_type": "stream",
     "text": [
      "0.7154305473078173\n"
     ]
    },
    {
     "data": {
      "application/javascript": [
       "\n",
       "            setTimeout(function() {\n",
       "                var nbb_cell_id = 69;\n",
       "                var nbb_unformatted_code = \"# Optimal threshold as per AUC-ROC curve\\n# The optimal cut off would be where tpr is high and fpr is low\\nfpr, tpr, thresholds = roc_curve(y_train, lg2.predict(X_train1))\\n\\noptimal_idx = np.argmax(tpr - fpr)\\noptimal_threshold_auc_roc = thresholds[optimal_idx]\\nprint(optimal_threshold_auc_roc)\";\n",
       "                var nbb_formatted_code = \"# Optimal threshold as per AUC-ROC curve\\n# The optimal cut off would be where tpr is high and fpr is low\\nfpr, tpr, thresholds = roc_curve(y_train, lg2.predict(X_train1))\\n\\noptimal_idx = np.argmax(tpr - fpr)\\noptimal_threshold_auc_roc = thresholds[optimal_idx]\\nprint(optimal_threshold_auc_roc)\";\n",
       "                var nbb_cells = Jupyter.notebook.get_cells();\n",
       "                for (var i = 0; i < nbb_cells.length; ++i) {\n",
       "                    if (nbb_cells[i].input_prompt_number == nbb_cell_id) {\n",
       "                        if (nbb_cells[i].get_text() == nbb_unformatted_code) {\n",
       "                             nbb_cells[i].set_text(nbb_formatted_code);\n",
       "                        }\n",
       "                        break;\n",
       "                    }\n",
       "                }\n",
       "            }, 500);\n",
       "            "
      ],
      "text/plain": [
       "<IPython.core.display.Javascript object>"
      ]
     },
     "metadata": {},
     "output_type": "display_data"
    }
   ],
   "source": [
    "# Optimal threshold as per AUC-ROC curve\n",
    "# The optimal cut off would be where tpr is high and fpr is low\n",
    "fpr, tpr, thresholds = roc_curve(y_train, lg2.predict(X_train1))\n",
    "\n",
    "optimal_idx = np.argmax(tpr - fpr)\n",
    "optimal_threshold_auc_roc = thresholds[optimal_idx]\n",
    "print(optimal_threshold_auc_roc)"
   ]
  },
  {
   "cell_type": "markdown",
   "id": "urban-rwanda",
   "metadata": {},
   "source": [
    "#### Checking model performance on training set"
   ]
  },
  {
   "cell_type": "code",
   "execution_count": 70,
   "id": "hawaiian-johns",
   "metadata": {},
   "outputs": [
    {
     "data": {
      "image/png": "[encoded data removed]",
      "text/plain": [
       "<Figure size 432x288 with 2 Axes>"
      ]
     },
     "metadata": {
      "needs_background": "light"
     },
     "output_type": "display_data"
    },
    {
     "data": {
      "application/javascript": [
       "\n",
       "            setTimeout(function() {\n",
       "                var nbb_cell_id = 70;\n",
       "                var nbb_unformatted_code = \"# creating confusion matrix\\nconfusion_matrix_statsmodels(\\n    lg2, X_train1, y_train, threshold=optimal_threshold_auc_roc\\n)\";\n",
       "                var nbb_formatted_code = \"# creating confusion matrix\\nconfusion_matrix_statsmodels(\\n    lg2, X_train1, y_train, threshold=optimal_threshold_auc_roc\\n)\";\n",
       "                var nbb_cells = Jupyter.notebook.get_cells();\n",
       "                for (var i = 0; i < nbb_cells.length; ++i) {\n",
       "                    if (nbb_cells[i].input_prompt_number == nbb_cell_id) {\n",
       "                        if (nbb_cells[i].get_text() == nbb_unformatted_code) {\n",
       "                             nbb_cells[i].set_text(nbb_formatted_code);\n",
       "                        }\n",
       "                        break;\n",
       "                    }\n",
       "                }\n",
       "            }, 500);\n",
       "            "
      ],
      "text/plain": [
       "<IPython.core.display.Javascript object>"
      ]
     },
     "metadata": {},
     "output_type": "display_data"
    }
   ],
   "source": [
    "# creating confusion matrix\n",
    "confusion_matrix_statsmodels(\n",
    "    lg2, X_train1, y_train, threshold=optimal_threshold_auc_roc\n",
    ")"
   ]
  },
  {
   "cell_type": "code",
   "execution_count": 71,
   "id": "unexpected-minister",
   "metadata": {
    "scrolled": false
   },
   "outputs": [
    {
     "name": "stdout",
     "output_type": "stream",
     "text": [
      "Training performance:\n"
     ]
    },
    {
     "data": {
      "text/html": [
       "<div><div id=63e9f66a-af8e-4ceb-9cee-5cec1c7ab9f4 style=\"display:none; background-color:#9D6CFF; color:white; width:200px; height:30px; padding-left:5px; border-radius:4px; flex-direction:row; justify-content:space-around; align-items:center;\" onmouseover=\"this.style.backgroundColor='#BA9BF8'\" onmouseout=\"this.style.backgroundColor='#9D6CFF'\" onclick=\"window.commands?.execute('create-mitosheet-from-dataframe-output');\">See Full Dataframe in Mito</div> <script> if (window.commands.hasCommand('create-mitosheet-from-dataframe-output')) document.getElementById('63e9f66a-af8e-4ceb-9cee-5cec1c7ab9f4').style.display = 'flex' </script> <table border=\"1\" class=\"dataframe\">\n",
       "  <thead>\n",
       "    <tr style=\"text-align: right;\">\n",
       "      <th></th>\n",
       "      <th>Accuracy</th>\n",
       "      <th>Recall</th>\n",
       "      <th>Precision</th>\n",
       "      <th>F1</th>\n",
       "    </tr>\n",
       "  </thead>\n",
       "  <tbody>\n",
       "    <tr>\n",
       "      <th>0</th>\n",
       "      <td>0.843318</td>\n",
       "      <td>0.805556</td>\n",
       "      <td>0.95082</td>\n",
       "      <td>0.87218</td>\n",
       "    </tr>\n",
       "  </tbody>\n",
       "</table></div>"
      ],
      "text/plain": [
       "   Accuracy    Recall  Precision       F1\n",
       "0  0.843318  0.805556    0.95082  0.87218"
      ]
     },
     "execution_count": 71,
     "metadata": {},
     "output_type": "execute_result"
    },
    {
     "data": {
      "application/javascript": [
       "\n",
       "            setTimeout(function() {\n",
       "                var nbb_cell_id = 71;\n",
       "                var nbb_unformatted_code = \"# checking model performance for this model\\nlog_reg_model_train_perf_threshold_auc_roc = model_performance_classification_statsmodels(\\n    lg2, X_train1, y_train, threshold=optimal_threshold_auc_roc\\n)\\nprint(\\\"Training performance:\\\")\\nlog_reg_model_train_perf_threshold_auc_roc\";\n",
       "                var nbb_formatted_code = \"# checking model performance for this model\\nlog_reg_model_train_perf_threshold_auc_roc = model_performance_classification_statsmodels(\\n    lg2, X_train1, y_train, threshold=optimal_threshold_auc_roc\\n)\\nprint(\\\"Training performance:\\\")\\nlog_reg_model_train_perf_threshold_auc_roc\";\n",
       "                var nbb_cells = Jupyter.notebook.get_cells();\n",
       "                for (var i = 0; i < nbb_cells.length; ++i) {\n",
       "                    if (nbb_cells[i].input_prompt_number == nbb_cell_id) {\n",
       "                        if (nbb_cells[i].get_text() == nbb_unformatted_code) {\n",
       "                             nbb_cells[i].set_text(nbb_formatted_code);\n",
       "                        }\n",
       "                        break;\n",
       "                    }\n",
       "                }\n",
       "            }, 500);\n",
       "            "
      ],
      "text/plain": [
       "<IPython.core.display.Javascript object>"
      ]
     },
     "metadata": {},
     "output_type": "display_data"
    }
   ],
   "source": [
    "# checking model performance for this model\n",
    "log_reg_model_train_perf_threshold_auc_roc = model_performance_classification_statsmodels(\n",
    "    lg2, X_train1, y_train, threshold=optimal_threshold_auc_roc\n",
    ")\n",
    "print(\"Training performance:\")\n",
    "log_reg_model_train_perf_threshold_auc_roc"
   ]
  },
  {
   "cell_type": "markdown",
   "id": "nonprofit-engineering",
   "metadata": {},
   "source": [
    "* Precision of model has increased but the other metrics have reduced.\n",
    "* The model is still giving a good performance."
   ]
  },
  {
   "cell_type": "markdown",
   "id": "documented-channels",
   "metadata": {},
   "source": [
    "#### Let's use Precision-Recall curve and see if we can find a better threshold"
   ]
  },
  {
   "cell_type": "code",
   "execution_count": 72,
   "id": "scientific-plain",
   "metadata": {},
   "outputs": [
    {
     "data": {
      "image/png": "[encoded data removed]",
      "text/plain": [
       "<Figure size 720x504 with 1 Axes>"
      ]
     },
     "metadata": {
      "needs_background": "light"
     },
     "output_type": "display_data"
    },
    {
     "data": {
      "application/javascript": [
       "\n",
       "            setTimeout(function() {\n",
       "                var nbb_cell_id = 72;\n",
       "                var nbb_unformatted_code = \"y_scores = lg2.predict(X_train1)\\nprec, rec, tre = precision_recall_curve(y_train, y_scores,)\\n\\n\\ndef plot_prec_recall_vs_tresh(precisions, recalls, thresholds):\\n    plt.plot(thresholds, precisions[:-1], \\\"b--\\\", label=\\\"precision\\\")\\n    plt.plot(thresholds, recalls[:-1], \\\"g--\\\", label=\\\"recall\\\")\\n    plt.xlabel(\\\"Threshold\\\")\\n    plt.legend(loc=\\\"upper left\\\")\\n    plt.ylim([0, 1])\\n\\n\\nplt.figure(figsize=(10, 7))\\nplot_prec_recall_vs_tresh(prec, rec, tre)\\nplt.show()\";\n",
       "                var nbb_formatted_code = \"y_scores = lg2.predict(X_train1)\\nprec, rec, tre = precision_recall_curve(y_train, y_scores,)\\n\\n\\ndef plot_prec_recall_vs_tresh(precisions, recalls, thresholds):\\n    plt.plot(thresholds, precisions[:-1], \\\"b--\\\", label=\\\"precision\\\")\\n    plt.plot(thresholds, recalls[:-1], \\\"g--\\\", label=\\\"recall\\\")\\n    plt.xlabel(\\\"Threshold\\\")\\n    plt.legend(loc=\\\"upper left\\\")\\n    plt.ylim([0, 1])\\n\\n\\nplt.figure(figsize=(10, 7))\\nplot_prec_recall_vs_tresh(prec, rec, tre)\\nplt.show()\";\n",
       "                var nbb_cells = Jupyter.notebook.get_cells();\n",
       "                for (var i = 0; i < nbb_cells.length; ++i) {\n",
       "                    if (nbb_cells[i].input_prompt_number == nbb_cell_id) {\n",
       "                        if (nbb_cells[i].get_text() == nbb_unformatted_code) {\n",
       "                             nbb_cells[i].set_text(nbb_formatted_code);\n",
       "                        }\n",
       "                        break;\n",
       "                    }\n",
       "                }\n",
       "            }, 500);\n",
       "            "
      ],
      "text/plain": [
       "<IPython.core.display.Javascript object>"
      ]
     },
     "metadata": {},
     "output_type": "display_data"
    }
   ],
   "source": [
    "y_scores = lg2.predict(X_train1)\n",
    "prec, rec, tre = precision_recall_curve(y_train, y_scores,)\n",
    "\n",
    "\n",
    "def plot_prec_recall_vs_tresh(precisions, recalls, thresholds):\n",
    "    plt.plot(thresholds, precisions[:-1], \"b--\", label=\"precision\")\n",
    "    plt.plot(thresholds, recalls[:-1], \"g--\", label=\"recall\")\n",
    "    plt.xlabel(\"Threshold\")\n",
    "    plt.legend(loc=\"upper left\")\n",
    "    plt.ylim([0, 1])\n",
    "\n",
    "\n",
    "plt.figure(figsize=(10, 7))\n",
    "plot_prec_recall_vs_tresh(prec, rec, tre)\n",
    "plt.show()"
   ]
  },
  {
   "cell_type": "markdown",
   "id": "double-cholesterol",
   "metadata": {},
   "source": [
    "* At the threshold of 0.58, we get balanced recall and precision."
   ]
  },
  {
   "cell_type": "code",
   "execution_count": 74,
   "id": "continuous-hostel",
   "metadata": {},
   "outputs": [
    {
     "data": {
      "application/javascript": [
       "\n",
       "            setTimeout(function() {\n",
       "                var nbb_cell_id = 74;\n",
       "                var nbb_unformatted_code = \"# setting the threshold\\noptimal_threshold_curve = 0.48\";\n",
       "                var nbb_formatted_code = \"# setting the threshold\\noptimal_threshold_curve = 0.48\";\n",
       "                var nbb_cells = Jupyter.notebook.get_cells();\n",
       "                for (var i = 0; i < nbb_cells.length; ++i) {\n",
       "                    if (nbb_cells[i].input_prompt_number == nbb_cell_id) {\n",
       "                        if (nbb_cells[i].get_text() == nbb_unformatted_code) {\n",
       "                             nbb_cells[i].set_text(nbb_formatted_code);\n",
       "                        }\n",
       "                        break;\n",
       "                    }\n",
       "                }\n",
       "            }, 500);\n",
       "            "
      ],
      "text/plain": [
       "<IPython.core.display.Javascript object>"
      ]
     },
     "metadata": {},
     "output_type": "display_data"
    }
   ],
   "source": [
    "# setting the threshold\n",
    "optimal_threshold_curve = 0.48"
   ]
  },
  {
   "cell_type": "markdown",
   "id": "sudden-jerusalem",
   "metadata": {},
   "source": [
    "#### Checking model performance on training set"
   ]
  },
  {
   "cell_type": "code",
   "execution_count": 75,
   "id": "direct-scientist",
   "metadata": {},
   "outputs": [
    {
     "data": {
      "image/png": "[encoded data removed]",
      "text/plain": [
       "<Figure size 432x288 with 2 Axes>"
      ]
     },
     "metadata": {
      "needs_background": "light"
     },
     "output_type": "display_data"
    },
    {
     "data": {
      "application/javascript": [
       "\n",
       "            setTimeout(function() {\n",
       "                var nbb_cell_id = 75;\n",
       "                var nbb_unformatted_code = \"# creating confusion matrix\\nconfusion_matrix_statsmodels(lg2, X_train1, y_train, threshold=optimal_threshold_curve)\";\n",
       "                var nbb_formatted_code = \"# creating confusion matrix\\nconfusion_matrix_statsmodels(lg2, X_train1, y_train, threshold=optimal_threshold_curve)\";\n",
       "                var nbb_cells = Jupyter.notebook.get_cells();\n",
       "                for (var i = 0; i < nbb_cells.length; ++i) {\n",
       "                    if (nbb_cells[i].input_prompt_number == nbb_cell_id) {\n",
       "                        if (nbb_cells[i].get_text() == nbb_unformatted_code) {\n",
       "                             nbb_cells[i].set_text(nbb_formatted_code);\n",
       "                        }\n",
       "                        break;\n",
       "                    }\n",
       "                }\n",
       "            }, 500);\n",
       "            "
      ],
      "text/plain": [
       "<IPython.core.display.Javascript object>"
      ]
     },
     "metadata": {},
     "output_type": "display_data"
    }
   ],
   "source": [
    "# creating confusion matrix\n",
    "confusion_matrix_statsmodels(lg2, X_train1, y_train, threshold=optimal_threshold_curve)"
   ]
  },
  {
   "cell_type": "code",
   "execution_count": 77,
   "id": "rough-double",
   "metadata": {},
   "outputs": [
    {
     "name": "stdout",
     "output_type": "stream",
     "text": [
      "Training performance:\n"
     ]
    },
    {
     "data": {
      "text/html": [
       "<div><div id=e304804d-f425-4e11-9b29-003013320a0b style=\"display:none; background-color:#9D6CFF; color:white; width:200px; height:30px; padding-left:5px; border-radius:4px; flex-direction:row; justify-content:space-around; align-items:center;\" onmouseover=\"this.style.backgroundColor='#BA9BF8'\" onmouseout=\"this.style.backgroundColor='#9D6CFF'\" onclick=\"window.commands?.execute('create-mitosheet-from-dataframe-output');\">See Full Dataframe in Mito</div> <script> if (window.commands.hasCommand('create-mitosheet-from-dataframe-output')) document.getElementById('e304804d-f425-4e11-9b29-003013320a0b').style.display = 'flex' </script> <table border=\"1\" class=\"dataframe\">\n",
       "  <thead>\n",
       "    <tr style=\"text-align: right;\">\n",
       "      <th></th>\n",
       "      <th>Accuracy</th>\n",
       "      <th>Recall</th>\n",
       "      <th>Precision</th>\n",
       "      <th>F1</th>\n",
       "    </tr>\n",
       "  </thead>\n",
       "  <tbody>\n",
       "    <tr>\n",
       "      <th>0</th>\n",
       "      <td>0.847926</td>\n",
       "      <td>0.881944</td>\n",
       "      <td>0.888112</td>\n",
       "      <td>0.885017</td>\n",
       "    </tr>\n",
       "  </tbody>\n",
       "</table></div>"
      ],
      "text/plain": [
       "   Accuracy    Recall  Precision        F1\n",
       "0  0.847926  0.881944   0.888112  0.885017"
      ]
     },
     "execution_count": 77,
     "metadata": {},
     "output_type": "execute_result"
    },
    {
     "data": {
      "application/javascript": [
       "\n",
       "            setTimeout(function() {\n",
       "                var nbb_cell_id = 77;\n",
       "                var nbb_unformatted_code = \"log_reg_model_train_perf_threshold_curve = model_performance_classification_statsmodels(\\n    lg2, X_train1, y_train, threshold=optimal_threshold_curve\\n)\\nprint(\\\"Training performance:\\\")\\nlog_reg_model_train_perf_threshold_curve\";\n",
       "                var nbb_formatted_code = \"log_reg_model_train_perf_threshold_curve = model_performance_classification_statsmodels(\\n    lg2, X_train1, y_train, threshold=optimal_threshold_curve\\n)\\nprint(\\\"Training performance:\\\")\\nlog_reg_model_train_perf_threshold_curve\";\n",
       "                var nbb_cells = Jupyter.notebook.get_cells();\n",
       "                for (var i = 0; i < nbb_cells.length; ++i) {\n",
       "                    if (nbb_cells[i].input_prompt_number == nbb_cell_id) {\n",
       "                        if (nbb_cells[i].get_text() == nbb_unformatted_code) {\n",
       "                             nbb_cells[i].set_text(nbb_formatted_code);\n",
       "                        }\n",
       "                        break;\n",
       "                    }\n",
       "                }\n",
       "            }, 500);\n",
       "            "
      ],
      "text/plain": [
       "<IPython.core.display.Javascript object>"
      ]
     },
     "metadata": {},
     "output_type": "display_data"
    }
   ],
   "source": [
    "log_reg_model_train_perf_threshold_curve = model_performance_classification_statsmodels(\n",
    "    lg2, X_train1, y_train, threshold=optimal_threshold_curve\n",
    ")\n",
    "print(\"Training performance:\")\n",
    "log_reg_model_train_perf_threshold_curve"
   ]
  },
  {
   "cell_type": "markdown",
   "id": "shared-calibration",
   "metadata": {},
   "source": [
    "* Model is performing well on training set.\n",
    "* There's not much improvement in the model performance as the default threshold is 0.50 and here we get 0.58 as the optimal threshold."
   ]
  },
  {
   "cell_type": "markdown",
   "id": "statutory-gasoline",
   "metadata": {},
   "source": [
    "### Model Performance Summary"
   ]
  },
  {
   "cell_type": "code",
   "execution_count": 79,
   "id": "modular-husband",
   "metadata": {},
   "outputs": [
    {
     "name": "stdout",
     "output_type": "stream",
     "text": [
      "Training performance comparison:\n"
     ]
    },
    {
     "data": {
      "text/html": [
       "<div><div id=288820b6-ce25-40b0-9f88-616fce695925 style=\"display:none; background-color:#9D6CFF; color:white; width:200px; height:30px; padding-left:5px; border-radius:4px; flex-direction:row; justify-content:space-around; align-items:center;\" onmouseover=\"this.style.backgroundColor='#BA9BF8'\" onmouseout=\"this.style.backgroundColor='#9D6CFF'\" onclick=\"window.commands?.execute('create-mitosheet-from-dataframe-output');\">See Full Dataframe in Mito</div> <script> if (window.commands.hasCommand('create-mitosheet-from-dataframe-output')) document.getElementById('288820b6-ce25-40b0-9f88-616fce695925').style.display = 'flex' </script> <table border=\"1\" class=\"dataframe\">\n",
       "  <thead>\n",
       "    <tr style=\"text-align: right;\">\n",
       "      <th></th>\n",
       "      <th>Logistic Regression sklearn</th>\n",
       "      <th>Logistic Regression-0.76 Threshold</th>\n",
       "      <th>Logistic Regression-0.48 Threshold</th>\n",
       "    </tr>\n",
       "  </thead>\n",
       "  <tbody>\n",
       "    <tr>\n",
       "      <th>Accuracy</th>\n",
       "      <td>0.847926</td>\n",
       "      <td>0.843318</td>\n",
       "      <td>0.847926</td>\n",
       "    </tr>\n",
       "    <tr>\n",
       "      <th>Recall</th>\n",
       "      <td>0.881944</td>\n",
       "      <td>0.805556</td>\n",
       "      <td>0.881944</td>\n",
       "    </tr>\n",
       "    <tr>\n",
       "      <th>Precision</th>\n",
       "      <td>0.888112</td>\n",
       "      <td>0.950820</td>\n",
       "      <td>0.888112</td>\n",
       "    </tr>\n",
       "    <tr>\n",
       "      <th>F1</th>\n",
       "      <td>0.885017</td>\n",
       "      <td>0.872180</td>\n",
       "      <td>0.885017</td>\n",
       "    </tr>\n",
       "  </tbody>\n",
       "</table></div>"
      ],
      "text/plain": [
       "           Logistic Regression sklearn  Logistic Regression-0.76 Threshold  \\\n",
       "Accuracy                      0.847926                            0.843318   \n",
       "Recall                        0.881944                            0.805556   \n",
       "Precision                     0.888112                            0.950820   \n",
       "F1                            0.885017                            0.872180   \n",
       "\n",
       "           Logistic Regression-0.48 Threshold  \n",
       "Accuracy                             0.847926  \n",
       "Recall                               0.881944  \n",
       "Precision                            0.888112  \n",
       "F1                                   0.885017  "
      ]
     },
     "execution_count": 79,
     "metadata": {},
     "output_type": "execute_result"
    },
    {
     "data": {
      "application/javascript": [
       "\n",
       "            setTimeout(function() {\n",
       "                var nbb_cell_id = 79;\n",
       "                var nbb_unformatted_code = \"# training performance comparison\\n\\nmodels_train_comp_df = pd.concat(\\n    [\\n        log_reg_model_train_perf.T,\\n        log_reg_model_train_perf_threshold_auc_roc.T,\\n        log_reg_model_train_perf_threshold_curve.T,\\n    ],\\n    axis=1,\\n)\\nmodels_train_comp_df.columns = [\\n    \\\"Logistic Regression sklearn\\\",\\n    \\\"Logistic Regression-0.76 Threshold\\\",\\n    \\\"Logistic Regression-0.48 Threshold\\\",\\n]\\n\\nprint(\\\"Training performance comparison:\\\")\\nmodels_train_comp_df\";\n",
       "                var nbb_formatted_code = \"# training performance comparison\\n\\nmodels_train_comp_df = pd.concat(\\n    [\\n        log_reg_model_train_perf.T,\\n        log_reg_model_train_perf_threshold_auc_roc.T,\\n        log_reg_model_train_perf_threshold_curve.T,\\n    ],\\n    axis=1,\\n)\\nmodels_train_comp_df.columns = [\\n    \\\"Logistic Regression sklearn\\\",\\n    \\\"Logistic Regression-0.76 Threshold\\\",\\n    \\\"Logistic Regression-0.48 Threshold\\\",\\n]\\n\\nprint(\\\"Training performance comparison:\\\")\\nmodels_train_comp_df\";\n",
       "                var nbb_cells = Jupyter.notebook.get_cells();\n",
       "                for (var i = 0; i < nbb_cells.length; ++i) {\n",
       "                    if (nbb_cells[i].input_prompt_number == nbb_cell_id) {\n",
       "                        if (nbb_cells[i].get_text() == nbb_unformatted_code) {\n",
       "                             nbb_cells[i].set_text(nbb_formatted_code);\n",
       "                        }\n",
       "                        break;\n",
       "                    }\n",
       "                }\n",
       "            }, 500);\n",
       "            "
      ],
      "text/plain": [
       "<IPython.core.display.Javascript object>"
      ]
     },
     "metadata": {},
     "output_type": "display_data"
    }
   ],
   "source": [
    "# training performance comparison\n",
    "\n",
    "models_train_comp_df = pd.concat(\n",
    "    [\n",
    "        log_reg_model_train_perf.T,\n",
    "        log_reg_model_train_perf_threshold_auc_roc.T,\n",
    "        log_reg_model_train_perf_threshold_curve.T,\n",
    "    ],\n",
    "    axis=1,\n",
    ")\n",
    "models_train_comp_df.columns = [\n",
    "    \"Logistic Regression sklearn\",\n",
    "    \"Logistic Regression-0.76 Threshold\",\n",
    "    \"Logistic Regression-0.48 Threshold\",\n",
    "]\n",
    "\n",
    "print(\"Training performance comparison:\")\n",
    "models_train_comp_df"
   ]
  },
  {
   "cell_type": "markdown",
   "id": "incredible-lloyd",
   "metadata": {},
   "source": [
    "### Let's check the performance on the test set"
   ]
  },
  {
   "cell_type": "markdown",
   "id": "dynamic-fossil",
   "metadata": {},
   "source": [
    "**Dropping the columns from the test set that were dropped from the training set**"
   ]
  },
  {
   "cell_type": "code",
   "execution_count": 80,
   "id": "incorporated-suffering",
   "metadata": {},
   "outputs": [
    {
     "data": {
      "application/javascript": [
       "\n",
       "            setTimeout(function() {\n",
       "                var nbb_cell_id = 80;\n",
       "                var nbb_unformatted_code = \"X_test1 = X_test[list(X_train1.columns)]\";\n",
       "                var nbb_formatted_code = \"X_test1 = X_test[list(X_train1.columns)]\";\n",
       "                var nbb_cells = Jupyter.notebook.get_cells();\n",
       "                for (var i = 0; i < nbb_cells.length; ++i) {\n",
       "                    if (nbb_cells[i].input_prompt_number == nbb_cell_id) {\n",
       "                        if (nbb_cells[i].get_text() == nbb_unformatted_code) {\n",
       "                             nbb_cells[i].set_text(nbb_formatted_code);\n",
       "                        }\n",
       "                        break;\n",
       "                    }\n",
       "                }\n",
       "            }, 500);\n",
       "            "
      ],
      "text/plain": [
       "<IPython.core.display.Javascript object>"
      ]
     },
     "metadata": {},
     "output_type": "display_data"
    }
   ],
   "source": [
    "X_test1 = X_test[list(X_train1.columns)]"
   ]
  },
  {
   "cell_type": "markdown",
   "id": "light-embassy",
   "metadata": {},
   "source": [
    "**Using model with default threshold**"
   ]
  },
  {
   "cell_type": "code",
   "execution_count": 81,
   "id": "covered-forest",
   "metadata": {},
   "outputs": [
    {
     "data": {
      "image/png": "[encoded data removed]",
      "text/plain": [
       "<Figure size 432x288 with 2 Axes>"
      ]
     },
     "metadata": {
      "needs_background": "light"
     },
     "output_type": "display_data"
    },
    {
     "data": {
      "application/javascript": [
       "\n",
       "            setTimeout(function() {\n",
       "                var nbb_cell_id = 81;\n",
       "                var nbb_unformatted_code = \"# creating confusion matrix\\nconfusion_matrix_statsmodels(lg2, X_test1, y_test)\";\n",
       "                var nbb_formatted_code = \"# creating confusion matrix\\nconfusion_matrix_statsmodels(lg2, X_test1, y_test)\";\n",
       "                var nbb_cells = Jupyter.notebook.get_cells();\n",
       "                for (var i = 0; i < nbb_cells.length; ++i) {\n",
       "                    if (nbb_cells[i].input_prompt_number == nbb_cell_id) {\n",
       "                        if (nbb_cells[i].get_text() == nbb_unformatted_code) {\n",
       "                             nbb_cells[i].set_text(nbb_formatted_code);\n",
       "                        }\n",
       "                        break;\n",
       "                    }\n",
       "                }\n",
       "            }, 500);\n",
       "            "
      ],
      "text/plain": [
       "<IPython.core.display.Javascript object>"
      ]
     },
     "metadata": {},
     "output_type": "display_data"
    }
   ],
   "source": [
    "# creating confusion matrix\n",
    "confusion_matrix_statsmodels(lg2, X_test1, y_test)"
   ]
  },
  {
   "cell_type": "code",
   "execution_count": 82,
   "id": "descending-snowboard",
   "metadata": {},
   "outputs": [
    {
     "name": "stdout",
     "output_type": "stream",
     "text": [
      "Test performance:\n"
     ]
    },
    {
     "data": {
      "text/html": [
       "<div><div id=8dfe223d-28a0-442e-9e4c-e57804d0069e style=\"display:none; background-color:#9D6CFF; color:white; width:200px; height:30px; padding-left:5px; border-radius:4px; flex-direction:row; justify-content:space-around; align-items:center;\" onmouseover=\"this.style.backgroundColor='#BA9BF8'\" onmouseout=\"this.style.backgroundColor='#9D6CFF'\" onclick=\"window.commands?.execute('create-mitosheet-from-dataframe-output');\">See Full Dataframe in Mito</div> <script> if (window.commands.hasCommand('create-mitosheet-from-dataframe-output')) document.getElementById('8dfe223d-28a0-442e-9e4c-e57804d0069e').style.display = 'flex' </script> <table border=\"1\" class=\"dataframe\">\n",
       "  <thead>\n",
       "    <tr style=\"text-align: right;\">\n",
       "      <th></th>\n",
       "      <th>Accuracy</th>\n",
       "      <th>Recall</th>\n",
       "      <th>Precision</th>\n",
       "      <th>F1</th>\n",
       "    </tr>\n",
       "  </thead>\n",
       "  <tbody>\n",
       "    <tr>\n",
       "      <th>0</th>\n",
       "      <td>0.870968</td>\n",
       "      <td>0.893939</td>\n",
       "      <td>0.921875</td>\n",
       "      <td>0.907692</td>\n",
       "    </tr>\n",
       "  </tbody>\n",
       "</table></div>"
      ],
      "text/plain": [
       "   Accuracy    Recall  Precision        F1\n",
       "0  0.870968  0.893939   0.921875  0.907692"
      ]
     },
     "execution_count": 82,
     "metadata": {},
     "output_type": "execute_result"
    },
    {
     "data": {
      "application/javascript": [
       "\n",
       "            setTimeout(function() {\n",
       "                var nbb_cell_id = 82;\n",
       "                var nbb_unformatted_code = \"log_reg_model_test_perf = model_performance_classification_statsmodels(\\n    lg2, X_test1, y_test\\n)\\n\\nprint(\\\"Test performance:\\\")\\nlog_reg_model_test_perf\";\n",
       "                var nbb_formatted_code = \"log_reg_model_test_perf = model_performance_classification_statsmodels(\\n    lg2, X_test1, y_test\\n)\\n\\nprint(\\\"Test performance:\\\")\\nlog_reg_model_test_perf\";\n",
       "                var nbb_cells = Jupyter.notebook.get_cells();\n",
       "                for (var i = 0; i < nbb_cells.length; ++i) {\n",
       "                    if (nbb_cells[i].input_prompt_number == nbb_cell_id) {\n",
       "                        if (nbb_cells[i].get_text() == nbb_unformatted_code) {\n",
       "                             nbb_cells[i].set_text(nbb_formatted_code);\n",
       "                        }\n",
       "                        break;\n",
       "                    }\n",
       "                }\n",
       "            }, 500);\n",
       "            "
      ],
      "text/plain": [
       "<IPython.core.display.Javascript object>"
      ]
     },
     "metadata": {},
     "output_type": "display_data"
    }
   ],
   "source": [
    "log_reg_model_test_perf = model_performance_classification_statsmodels(\n",
    "    lg2, X_test1, y_test\n",
    ")\n",
    "\n",
    "print(\"Test performance:\")\n",
    "log_reg_model_test_perf"
   ]
  },
  {
   "cell_type": "markdown",
   "id": "colonial-imaging",
   "metadata": {},
   "source": [
    "* ROC curve on test set"
   ]
  },
  {
   "cell_type": "code",
   "execution_count": 83,
   "id": "through-impact",
   "metadata": {},
   "outputs": [
    {
     "data": {
      "image/png": "[encoded data removed]",
      "text/plain": [
       "<Figure size 504x360 with 1 Axes>"
      ]
     },
     "metadata": {
      "needs_background": "light"
     },
     "output_type": "display_data"
    },
    {
     "data": {
      "application/javascript": [
       "\n",
       "            setTimeout(function() {\n",
       "                var nbb_cell_id = 83;\n",
       "                var nbb_unformatted_code = \"logit_roc_auc_train = roc_auc_score(y_test, lg2.predict(X_test1))\\nfpr, tpr, thresholds = roc_curve(y_test, lg2.predict(X_test1))\\nplt.figure(figsize=(7, 5))\\nplt.plot(fpr, tpr, label=\\\"Logistic Regression (area = %0.2f)\\\" % logit_roc_auc_train)\\nplt.plot([0, 1], [0, 1], \\\"r--\\\")\\nplt.xlim([0.0, 1.0])\\nplt.ylim([0.0, 1.05])\\nplt.xlabel(\\\"False Positive Rate\\\")\\nplt.ylabel(\\\"True Positive Rate\\\")\\nplt.title(\\\"Receiver operating characteristic\\\")\\nplt.legend(loc=\\\"lower right\\\")\\nplt.show()\";\n",
       "                var nbb_formatted_code = \"logit_roc_auc_train = roc_auc_score(y_test, lg2.predict(X_test1))\\nfpr, tpr, thresholds = roc_curve(y_test, lg2.predict(X_test1))\\nplt.figure(figsize=(7, 5))\\nplt.plot(fpr, tpr, label=\\\"Logistic Regression (area = %0.2f)\\\" % logit_roc_auc_train)\\nplt.plot([0, 1], [0, 1], \\\"r--\\\")\\nplt.xlim([0.0, 1.0])\\nplt.ylim([0.0, 1.05])\\nplt.xlabel(\\\"False Positive Rate\\\")\\nplt.ylabel(\\\"True Positive Rate\\\")\\nplt.title(\\\"Receiver operating characteristic\\\")\\nplt.legend(loc=\\\"lower right\\\")\\nplt.show()\";\n",
       "                var nbb_cells = Jupyter.notebook.get_cells();\n",
       "                for (var i = 0; i < nbb_cells.length; ++i) {\n",
       "                    if (nbb_cells[i].input_prompt_number == nbb_cell_id) {\n",
       "                        if (nbb_cells[i].get_text() == nbb_unformatted_code) {\n",
       "                             nbb_cells[i].set_text(nbb_formatted_code);\n",
       "                        }\n",
       "                        break;\n",
       "                    }\n",
       "                }\n",
       "            }, 500);\n",
       "            "
      ],
      "text/plain": [
       "<IPython.core.display.Javascript object>"
      ]
     },
     "metadata": {},
     "output_type": "display_data"
    }
   ],
   "source": [
    "logit_roc_auc_train = roc_auc_score(y_test, lg2.predict(X_test1))\n",
    "fpr, tpr, thresholds = roc_curve(y_test, lg2.predict(X_test1))\n",
    "plt.figure(figsize=(7, 5))\n",
    "plt.plot(fpr, tpr, label=\"Logistic Regression (area = %0.2f)\" % logit_roc_auc_train)\n",
    "plt.plot([0, 1], [0, 1], \"r--\")\n",
    "plt.xlim([0.0, 1.0])\n",
    "plt.ylim([0.0, 1.05])\n",
    "plt.xlabel(\"False Positive Rate\")\n",
    "plt.ylabel(\"True Positive Rate\")\n",
    "plt.title(\"Receiver operating characteristic\")\n",
    "plt.legend(loc=\"lower right\")\n",
    "plt.show()"
   ]
  },
  {
   "cell_type": "markdown",
   "id": "described-procedure",
   "metadata": {},
   "source": [
    "**Using model with threshold=0.76** "
   ]
  },
  {
   "cell_type": "code",
   "execution_count": 84,
   "id": "adjustable-jonathan",
   "metadata": {},
   "outputs": [
    {
     "data": {
      "image/png": "[encoded data removed]",
      "text/plain": [
       "<Figure size 432x288 with 2 Axes>"
      ]
     },
     "metadata": {
      "needs_background": "light"
     },
     "output_type": "display_data"
    },
    {
     "data": {
      "application/javascript": [
       "\n",
       "            setTimeout(function() {\n",
       "                var nbb_cell_id = 84;\n",
       "                var nbb_unformatted_code = \"# creating confusion matrix\\nconfusion_matrix_statsmodels(lg2, X_test1, y_test, threshold=optimal_threshold_auc_roc)\";\n",
       "                var nbb_formatted_code = \"# creating confusion matrix\\nconfusion_matrix_statsmodels(lg2, X_test1, y_test, threshold=optimal_threshold_auc_roc)\";\n",
       "                var nbb_cells = Jupyter.notebook.get_cells();\n",
       "                for (var i = 0; i < nbb_cells.length; ++i) {\n",
       "                    if (nbb_cells[i].input_prompt_number == nbb_cell_id) {\n",
       "                        if (nbb_cells[i].get_text() == nbb_unformatted_code) {\n",
       "                             nbb_cells[i].set_text(nbb_formatted_code);\n",
       "                        }\n",
       "                        break;\n",
       "                    }\n",
       "                }\n",
       "            }, 500);\n",
       "            "
      ],
      "text/plain": [
       "<IPython.core.display.Javascript object>"
      ]
     },
     "metadata": {},
     "output_type": "display_data"
    }
   ],
   "source": [
    "# creating confusion matrix\n",
    "confusion_matrix_statsmodels(lg2, X_test1, y_test, threshold=optimal_threshold_auc_roc)"
   ]
  },
  {
   "cell_type": "code",
   "execution_count": 85,
   "id": "lovely-dinner",
   "metadata": {},
   "outputs": [
    {
     "name": "stdout",
     "output_type": "stream",
     "text": [
      "Test performance:\n"
     ]
    },
    {
     "data": {
      "text/html": [
       "<div><div id=be383539-76fb-49dc-bf3a-5b26a32c40e5 style=\"display:none; background-color:#9D6CFF; color:white; width:200px; height:30px; padding-left:5px; border-radius:4px; flex-direction:row; justify-content:space-around; align-items:center;\" onmouseover=\"this.style.backgroundColor='#BA9BF8'\" onmouseout=\"this.style.backgroundColor='#9D6CFF'\" onclick=\"window.commands?.execute('create-mitosheet-from-dataframe-output');\">See Full Dataframe in Mito</div> <script> if (window.commands.hasCommand('create-mitosheet-from-dataframe-output')) document.getElementById('be383539-76fb-49dc-bf3a-5b26a32c40e5').style.display = 'flex' </script> <table border=\"1\" class=\"dataframe\">\n",
       "  <thead>\n",
       "    <tr style=\"text-align: right;\">\n",
       "      <th></th>\n",
       "      <th>Accuracy</th>\n",
       "      <th>Recall</th>\n",
       "      <th>Precision</th>\n",
       "      <th>F1</th>\n",
       "    </tr>\n",
       "  </thead>\n",
       "  <tbody>\n",
       "    <tr>\n",
       "      <th>0</th>\n",
       "      <td>0.817204</td>\n",
       "      <td>0.80303</td>\n",
       "      <td>0.929825</td>\n",
       "      <td>0.861789</td>\n",
       "    </tr>\n",
       "  </tbody>\n",
       "</table></div>"
      ],
      "text/plain": [
       "   Accuracy   Recall  Precision        F1\n",
       "0  0.817204  0.80303   0.929825  0.861789"
      ]
     },
     "execution_count": 85,
     "metadata": {},
     "output_type": "execute_result"
    },
    {
     "data": {
      "application/javascript": [
       "\n",
       "            setTimeout(function() {\n",
       "                var nbb_cell_id = 85;\n",
       "                var nbb_unformatted_code = \"# checking model performance for this model\\nlog_reg_model_test_perf_threshold_auc_roc = model_performance_classification_statsmodels(\\n    lg2, X_test1, y_test, threshold=optimal_threshold_auc_roc\\n)\\nprint(\\\"Test performance:\\\")\\nlog_reg_model_test_perf_threshold_auc_roc\";\n",
       "                var nbb_formatted_code = \"# checking model performance for this model\\nlog_reg_model_test_perf_threshold_auc_roc = model_performance_classification_statsmodels(\\n    lg2, X_test1, y_test, threshold=optimal_threshold_auc_roc\\n)\\nprint(\\\"Test performance:\\\")\\nlog_reg_model_test_perf_threshold_auc_roc\";\n",
       "                var nbb_cells = Jupyter.notebook.get_cells();\n",
       "                for (var i = 0; i < nbb_cells.length; ++i) {\n",
       "                    if (nbb_cells[i].input_prompt_number == nbb_cell_id) {\n",
       "                        if (nbb_cells[i].get_text() == nbb_unformatted_code) {\n",
       "                             nbb_cells[i].set_text(nbb_formatted_code);\n",
       "                        }\n",
       "                        break;\n",
       "                    }\n",
       "                }\n",
       "            }, 500);\n",
       "            "
      ],
      "text/plain": [
       "<IPython.core.display.Javascript object>"
      ]
     },
     "metadata": {},
     "output_type": "display_data"
    }
   ],
   "source": [
    "# checking model performance for this model\n",
    "log_reg_model_test_perf_threshold_auc_roc = model_performance_classification_statsmodels(\n",
    "    lg2, X_test1, y_test, threshold=optimal_threshold_auc_roc\n",
    ")\n",
    "print(\"Test performance:\")\n",
    "log_reg_model_test_perf_threshold_auc_roc"
   ]
  },
  {
   "cell_type": "markdown",
   "id": "practical-person",
   "metadata": {},
   "source": [
    "**Using model with threshold = 0.58**"
   ]
  },
  {
   "cell_type": "code",
   "execution_count": 86,
   "id": "metropolitan-burning",
   "metadata": {},
   "outputs": [
    {
     "data": {
      "image/png": "[encoded data removed]",
      "text/plain": [
       "<Figure size 432x288 with 2 Axes>"
      ]
     },
     "metadata": {
      "needs_background": "light"
     },
     "output_type": "display_data"
    },
    {
     "data": {
      "application/javascript": [
       "\n",
       "            setTimeout(function() {\n",
       "                var nbb_cell_id = 86;\n",
       "                var nbb_unformatted_code = \"# creating confusion matrix\\nconfusion_matrix_statsmodels(lg2, X_test1, y_test, threshold=optimal_threshold_curve)\";\n",
       "                var nbb_formatted_code = \"# creating confusion matrix\\nconfusion_matrix_statsmodels(lg2, X_test1, y_test, threshold=optimal_threshold_curve)\";\n",
       "                var nbb_cells = Jupyter.notebook.get_cells();\n",
       "                for (var i = 0; i < nbb_cells.length; ++i) {\n",
       "                    if (nbb_cells[i].input_prompt_number == nbb_cell_id) {\n",
       "                        if (nbb_cells[i].get_text() == nbb_unformatted_code) {\n",
       "                             nbb_cells[i].set_text(nbb_formatted_code);\n",
       "                        }\n",
       "                        break;\n",
       "                    }\n",
       "                }\n",
       "            }, 500);\n",
       "            "
      ],
      "text/plain": [
       "<IPython.core.display.Javascript object>"
      ]
     },
     "metadata": {},
     "output_type": "display_data"
    }
   ],
   "source": [
    "# creating confusion matrix\n",
    "confusion_matrix_statsmodels(lg2, X_test1, y_test, threshold=optimal_threshold_curve)"
   ]
  },
  {
   "cell_type": "code",
   "execution_count": 87,
   "id": "rough-requirement",
   "metadata": {},
   "outputs": [
    {
     "name": "stdout",
     "output_type": "stream",
     "text": [
      "Test performance:\n"
     ]
    },
    {
     "data": {
      "text/html": [
       "<div><div id=efe7c8e0-2795-4f8d-8c39-336162a24c3b style=\"display:none; background-color:#9D6CFF; color:white; width:200px; height:30px; padding-left:5px; border-radius:4px; flex-direction:row; justify-content:space-around; align-items:center;\" onmouseover=\"this.style.backgroundColor='#BA9BF8'\" onmouseout=\"this.style.backgroundColor='#9D6CFF'\" onclick=\"window.commands?.execute('create-mitosheet-from-dataframe-output');\">See Full Dataframe in Mito</div> <script> if (window.commands.hasCommand('create-mitosheet-from-dataframe-output')) document.getElementById('efe7c8e0-2795-4f8d-8c39-336162a24c3b').style.display = 'flex' </script> <table border=\"1\" class=\"dataframe\">\n",
       "  <thead>\n",
       "    <tr style=\"text-align: right;\">\n",
       "      <th></th>\n",
       "      <th>Accuracy</th>\n",
       "      <th>Recall</th>\n",
       "      <th>Precision</th>\n",
       "      <th>F1</th>\n",
       "    </tr>\n",
       "  </thead>\n",
       "  <tbody>\n",
       "    <tr>\n",
       "      <th>0</th>\n",
       "      <td>0.860215</td>\n",
       "      <td>0.893939</td>\n",
       "      <td>0.907692</td>\n",
       "      <td>0.900763</td>\n",
       "    </tr>\n",
       "  </tbody>\n",
       "</table></div>"
      ],
      "text/plain": [
       "   Accuracy    Recall  Precision        F1\n",
       "0  0.860215  0.893939   0.907692  0.900763"
      ]
     },
     "execution_count": 87,
     "metadata": {},
     "output_type": "execute_result"
    },
    {
     "data": {
      "application/javascript": [
       "\n",
       "            setTimeout(function() {\n",
       "                var nbb_cell_id = 87;\n",
       "                var nbb_unformatted_code = \"log_reg_model_test_perf_threshold_curve = model_performance_classification_statsmodels(\\n    lg2, X_test1, y_test, threshold=optimal_threshold_curve\\n)\\nprint(\\\"Test performance:\\\")\\nlog_reg_model_test_perf_threshold_curve\";\n",
       "                var nbb_formatted_code = \"log_reg_model_test_perf_threshold_curve = model_performance_classification_statsmodels(\\n    lg2, X_test1, y_test, threshold=optimal_threshold_curve\\n)\\nprint(\\\"Test performance:\\\")\\nlog_reg_model_test_perf_threshold_curve\";\n",
       "                var nbb_cells = Jupyter.notebook.get_cells();\n",
       "                for (var i = 0; i < nbb_cells.length; ++i) {\n",
       "                    if (nbb_cells[i].input_prompt_number == nbb_cell_id) {\n",
       "                        if (nbb_cells[i].get_text() == nbb_unformatted_code) {\n",
       "                             nbb_cells[i].set_text(nbb_formatted_code);\n",
       "                        }\n",
       "                        break;\n",
       "                    }\n",
       "                }\n",
       "            }, 500);\n",
       "            "
      ],
      "text/plain": [
       "<IPython.core.display.Javascript object>"
      ]
     },
     "metadata": {},
     "output_type": "display_data"
    }
   ],
   "source": [
    "log_reg_model_test_perf_threshold_curve = model_performance_classification_statsmodels(\n",
    "    lg2, X_test1, y_test, threshold=optimal_threshold_curve\n",
    ")\n",
    "print(\"Test performance:\")\n",
    "log_reg_model_test_perf_threshold_curve"
   ]
  },
  {
   "cell_type": "markdown",
   "id": "welsh-terrace",
   "metadata": {},
   "source": [
    "### Model performance summary"
   ]
  },
  {
   "cell_type": "code",
   "execution_count": 88,
   "id": "assumed-metadata",
   "metadata": {},
   "outputs": [
    {
     "name": "stdout",
     "output_type": "stream",
     "text": [
      "Training performance comparison:\n"
     ]
    },
    {
     "data": {
      "text/html": [
       "<div><div id=862c2db0-52b5-4e42-a65f-c5d9761ab6c0 style=\"display:none; background-color:#9D6CFF; color:white; width:200px; height:30px; padding-left:5px; border-radius:4px; flex-direction:row; justify-content:space-around; align-items:center;\" onmouseover=\"this.style.backgroundColor='#BA9BF8'\" onmouseout=\"this.style.backgroundColor='#9D6CFF'\" onclick=\"window.commands?.execute('create-mitosheet-from-dataframe-output');\">See Full Dataframe in Mito</div> <script> if (window.commands.hasCommand('create-mitosheet-from-dataframe-output')) document.getElementById('862c2db0-52b5-4e42-a65f-c5d9761ab6c0').style.display = 'flex' </script> <table border=\"1\" class=\"dataframe\">\n",
       "  <thead>\n",
       "    <tr style=\"text-align: right;\">\n",
       "      <th></th>\n",
       "      <th>Logistic Regression sklearn</th>\n",
       "      <th>Logistic Regression-0.76 Threshold</th>\n",
       "      <th>Logistic Regression-0.58 Threshold</th>\n",
       "    </tr>\n",
       "  </thead>\n",
       "  <tbody>\n",
       "    <tr>\n",
       "      <th>Accuracy</th>\n",
       "      <td>0.847926</td>\n",
       "      <td>0.843318</td>\n",
       "      <td>0.847926</td>\n",
       "    </tr>\n",
       "    <tr>\n",
       "      <th>Recall</th>\n",
       "      <td>0.881944</td>\n",
       "      <td>0.805556</td>\n",
       "      <td>0.881944</td>\n",
       "    </tr>\n",
       "    <tr>\n",
       "      <th>Precision</th>\n",
       "      <td>0.888112</td>\n",
       "      <td>0.950820</td>\n",
       "      <td>0.888112</td>\n",
       "    </tr>\n",
       "    <tr>\n",
       "      <th>F1</th>\n",
       "      <td>0.885017</td>\n",
       "      <td>0.872180</td>\n",
       "      <td>0.885017</td>\n",
       "    </tr>\n",
       "  </tbody>\n",
       "</table></div>"
      ],
      "text/plain": [
       "           Logistic Regression sklearn  Logistic Regression-0.76 Threshold  \\\n",
       "Accuracy                      0.847926                            0.843318   \n",
       "Recall                        0.881944                            0.805556   \n",
       "Precision                     0.888112                            0.950820   \n",
       "F1                            0.885017                            0.872180   \n",
       "\n",
       "           Logistic Regression-0.58 Threshold  \n",
       "Accuracy                             0.847926  \n",
       "Recall                               0.881944  \n",
       "Precision                            0.888112  \n",
       "F1                                   0.885017  "
      ]
     },
     "execution_count": 88,
     "metadata": {},
     "output_type": "execute_result"
    },
    {
     "data": {
      "application/javascript": [
       "\n",
       "            setTimeout(function() {\n",
       "                var nbb_cell_id = 88;\n",
       "                var nbb_unformatted_code = \"# training performance comparison\\n\\nmodels_train_comp_df = pd.concat(\\n    [\\n        log_reg_model_train_perf.T,\\n        log_reg_model_train_perf_threshold_auc_roc.T,\\n        log_reg_model_train_perf_threshold_curve.T,\\n    ],\\n    axis=1,\\n)\\nmodels_train_comp_df.columns = [\\n    \\\"Logistic Regression sklearn\\\",\\n    \\\"Logistic Regression-0.76 Threshold\\\",\\n    \\\"Logistic Regression-0.58 Threshold\\\",\\n]\\n\\nprint(\\\"Training performance comparison:\\\")\\nmodels_train_comp_df\";\n",
       "                var nbb_formatted_code = \"# training performance comparison\\n\\nmodels_train_comp_df = pd.concat(\\n    [\\n        log_reg_model_train_perf.T,\\n        log_reg_model_train_perf_threshold_auc_roc.T,\\n        log_reg_model_train_perf_threshold_curve.T,\\n    ],\\n    axis=1,\\n)\\nmodels_train_comp_df.columns = [\\n    \\\"Logistic Regression sklearn\\\",\\n    \\\"Logistic Regression-0.76 Threshold\\\",\\n    \\\"Logistic Regression-0.58 Threshold\\\",\\n]\\n\\nprint(\\\"Training performance comparison:\\\")\\nmodels_train_comp_df\";\n",
       "                var nbb_cells = Jupyter.notebook.get_cells();\n",
       "                for (var i = 0; i < nbb_cells.length; ++i) {\n",
       "                    if (nbb_cells[i].input_prompt_number == nbb_cell_id) {\n",
       "                        if (nbb_cells[i].get_text() == nbb_unformatted_code) {\n",
       "                             nbb_cells[i].set_text(nbb_formatted_code);\n",
       "                        }\n",
       "                        break;\n",
       "                    }\n",
       "                }\n",
       "            }, 500);\n",
       "            "
      ],
      "text/plain": [
       "<IPython.core.display.Javascript object>"
      ]
     },
     "metadata": {},
     "output_type": "display_data"
    }
   ],
   "source": [
    "# training performance comparison\n",
    "\n",
    "models_train_comp_df = pd.concat(\n",
    "    [\n",
    "        log_reg_model_train_perf.T,\n",
    "        log_reg_model_train_perf_threshold_auc_roc.T,\n",
    "        log_reg_model_train_perf_threshold_curve.T,\n",
    "    ],\n",
    "    axis=1,\n",
    ")\n",
    "models_train_comp_df.columns = [\n",
    "    \"Logistic Regression sklearn\",\n",
    "    \"Logistic Regression-0.76 Threshold\",\n",
    "    \"Logistic Regression-0.58 Threshold\",\n",
    "]\n",
    "\n",
    "print(\"Training performance comparison:\")\n",
    "models_train_comp_df"
   ]
  },
  {
   "cell_type": "code",
   "execution_count": 89,
   "id": "palestinian-plymouth",
   "metadata": {},
   "outputs": [
    {
     "name": "stdout",
     "output_type": "stream",
     "text": [
      "Test set performance comparison:\n"
     ]
    },
    {
     "data": {
      "text/html": [
       "<div><div id=743abcb3-bf1d-4911-bdf6-805fa93829e7 style=\"display:none; background-color:#9D6CFF; color:white; width:200px; height:30px; padding-left:5px; border-radius:4px; flex-direction:row; justify-content:space-around; align-items:center;\" onmouseover=\"this.style.backgroundColor='#BA9BF8'\" onmouseout=\"this.style.backgroundColor='#9D6CFF'\" onclick=\"window.commands?.execute('create-mitosheet-from-dataframe-output');\">See Full Dataframe in Mito</div> <script> if (window.commands.hasCommand('create-mitosheet-from-dataframe-output')) document.getElementById('743abcb3-bf1d-4911-bdf6-805fa93829e7').style.display = 'flex' </script> <table border=\"1\" class=\"dataframe\">\n",
       "  <thead>\n",
       "    <tr style=\"text-align: right;\">\n",
       "      <th></th>\n",
       "      <th>Logistic Regression sklearn</th>\n",
       "      <th>Logistic Regression-0.76 Threshold</th>\n",
       "      <th>Logistic Regression-0.58 Threshold</th>\n",
       "    </tr>\n",
       "  </thead>\n",
       "  <tbody>\n",
       "    <tr>\n",
       "      <th>Accuracy</th>\n",
       "      <td>0.870968</td>\n",
       "      <td>0.817204</td>\n",
       "      <td>0.860215</td>\n",
       "    </tr>\n",
       "    <tr>\n",
       "      <th>Recall</th>\n",
       "      <td>0.893939</td>\n",
       "      <td>0.803030</td>\n",
       "      <td>0.893939</td>\n",
       "    </tr>\n",
       "    <tr>\n",
       "      <th>Precision</th>\n",
       "      <td>0.921875</td>\n",
       "      <td>0.929825</td>\n",
       "      <td>0.907692</td>\n",
       "    </tr>\n",
       "    <tr>\n",
       "      <th>F1</th>\n",
       "      <td>0.907692</td>\n",
       "      <td>0.861789</td>\n",
       "      <td>0.900763</td>\n",
       "    </tr>\n",
       "  </tbody>\n",
       "</table></div>"
      ],
      "text/plain": [
       "           Logistic Regression sklearn  Logistic Regression-0.76 Threshold  \\\n",
       "Accuracy                      0.870968                            0.817204   \n",
       "Recall                        0.893939                            0.803030   \n",
       "Precision                     0.921875                            0.929825   \n",
       "F1                            0.907692                            0.861789   \n",
       "\n",
       "           Logistic Regression-0.58 Threshold  \n",
       "Accuracy                             0.860215  \n",
       "Recall                               0.893939  \n",
       "Precision                            0.907692  \n",
       "F1                                   0.900763  "
      ]
     },
     "execution_count": 89,
     "metadata": {},
     "output_type": "execute_result"
    },
    {
     "data": {
      "application/javascript": [
       "\n",
       "            setTimeout(function() {\n",
       "                var nbb_cell_id = 89;\n",
       "                var nbb_unformatted_code = \"# testing performance comparison\\n\\nmodels_test_comp_df = pd.concat(\\n    [\\n        log_reg_model_test_perf.T,\\n        log_reg_model_test_perf_threshold_auc_roc.T,\\n        log_reg_model_test_perf_threshold_curve.T,\\n    ],\\n    axis=1,\\n)\\nmodels_test_comp_df.columns = [\\n    \\\"Logistic Regression sklearn\\\",\\n    \\\"Logistic Regression-0.76 Threshold\\\",\\n    \\\"Logistic Regression-0.58 Threshold\\\",\\n]\\n\\nprint(\\\"Test set performance comparison:\\\")\\nmodels_test_comp_df\";\n",
       "                var nbb_formatted_code = \"# testing performance comparison\\n\\nmodels_test_comp_df = pd.concat(\\n    [\\n        log_reg_model_test_perf.T,\\n        log_reg_model_test_perf_threshold_auc_roc.T,\\n        log_reg_model_test_perf_threshold_curve.T,\\n    ],\\n    axis=1,\\n)\\nmodels_test_comp_df.columns = [\\n    \\\"Logistic Regression sklearn\\\",\\n    \\\"Logistic Regression-0.76 Threshold\\\",\\n    \\\"Logistic Regression-0.58 Threshold\\\",\\n]\\n\\nprint(\\\"Test set performance comparison:\\\")\\nmodels_test_comp_df\";\n",
       "                var nbb_cells = Jupyter.notebook.get_cells();\n",
       "                for (var i = 0; i < nbb_cells.length; ++i) {\n",
       "                    if (nbb_cells[i].input_prompt_number == nbb_cell_id) {\n",
       "                        if (nbb_cells[i].get_text() == nbb_unformatted_code) {\n",
       "                             nbb_cells[i].set_text(nbb_formatted_code);\n",
       "                        }\n",
       "                        break;\n",
       "                    }\n",
       "                }\n",
       "            }, 500);\n",
       "            "
      ],
      "text/plain": [
       "<IPython.core.display.Javascript object>"
      ]
     },
     "metadata": {},
     "output_type": "display_data"
    }
   ],
   "source": [
    "# testing performance comparison\n",
    "\n",
    "models_test_comp_df = pd.concat(\n",
    "    [\n",
    "        log_reg_model_test_perf.T,\n",
    "        log_reg_model_test_perf_threshold_auc_roc.T,\n",
    "        log_reg_model_test_perf_threshold_curve.T,\n",
    "    ],\n",
    "    axis=1,\n",
    ")\n",
    "models_test_comp_df.columns = [\n",
    "    \"Logistic Regression sklearn\",\n",
    "    \"Logistic Regression-0.76 Threshold\",\n",
    "    \"Logistic Regression-0.58 Threshold\",\n",
    "]\n",
    "\n",
    "print(\"Test set performance comparison:\")\n",
    "models_test_comp_df"
   ]
  },
  {
   "cell_type": "markdown",
   "id": "increasing-narrow",
   "metadata": {},
   "source": [
    "### Conclusion\n",
    "* We have been able to build a predictive model that can be used by the government to find the citizens having less than 50K salary with an f1_score of 0.89 on the training set and formulate policies accordingly.\n",
    "\n",
    "* All the logistic regression models have given a generalized performance on the training and test set.\n",
    "\n",
    "* Coefficient of some levels of education, workclass, and native country are positive an increase in these will lead to increase in chances of a person having <=50K salary. \n",
    "\n",
    "* Coefficient of age,fnlwgt,marital_status, working_hours_per_week,some levels of education, workclass, and native country are negative increase in these will lead to decrease in chances of a person having <=50K salary."
   ]
  },
  {
   "cell_type": "markdown",
   "id": "greek-houston",
   "metadata": {
    "id": "1KnLoSD0mLQg"
   },
   "source": [
    "### Recommendations\n",
    "\n",
    "- The government should promote education among citizens, they should make policies to make education accessible to all, as we say in our analysis that people who have higher education are more likely to have a salary above 50,000 Dollars. \n",
    "- Working hours is one of the significant predictors of salary, The government should implement laws to ensure that people are paid fairly for their work and are not overworked for the increase in salaries. This would improve work-life balance.\n",
    "- People who invest more are more likely to have a salary above 50k, government should initiate investment schemes and facilitate ease of investment so that people can plan and invest in resources.\n",
    "- As we saw in our analysis that Asian-Pac-Islander and White people are paid more than other races, there should be reforms to ensure that the salary criterion of employees is independent of their race.\n",
    "- Reforms should be made for private-sector employees so that they are paid fairly for their work.\n",
    "- Policy formulated by the government should be considerate of equal pay and counter the pay gap that exists in society."
   ]
  }
 ],
 "metadata": {
  "interpreter": {
   "hash": "c43e31b770425af9cec964d60c806d16710fabbaf7d2fed44acebdb254f9f068"
  },
  "kernelspec": {
   "display_name": "Python 3 (ipykernel)",
   "language": "python",
   "name": "python3"
  },
  "language_info": {
   "codemirror_mode": {
    "name": "ipython",
    "version": 3
   },
   "file_extension": ".py",
   "mimetype": "text/x-python",
   "name": "python",
   "nbconvert_exporter": "python",
   "pygments_lexer": "ipython3",
   "version": "3.8.12"
  },
  "varInspector": {
   "cols": {
    "lenName": 16,
    "lenType": 16,
    "lenVar": 40
   },
   "kernels_config": {
    "python": {
     "delete_cmd_postfix": "",
     "delete_cmd_prefix": "del ",
     "library": "var_list.py",
     "varRefreshCmd": "print(var_dic_list())"
    },
    "r": {
     "delete_cmd_postfix": ") ",
     "delete_cmd_prefix": "rm(",
     "library": "var_list.r",
     "varRefreshCmd": "cat(var_dic_list()) "
    }
   },
   "types_to_exclude": [
    "module",
    "function",
    "builtin_function_or_method",
    "instance",
    "_Feature"
   ],
   "window_display": false
  }
 },
 "nbformat": 4,
 "nbformat_minor": 5
}
