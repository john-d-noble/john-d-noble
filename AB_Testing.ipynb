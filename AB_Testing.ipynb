{
 "cells": [
  {
   "cell_type": "markdown",
   "metadata": {},
   "source": [
    "# A/B Testing — A complete guide to statistical testing\n",
    "\n",
    "This notebook shows worked examples for the article \n",
    "<a href=\"https://francescocasalegno.github.io/blog/post_abtesting.html\">\n",
    "\"A/B Testing — A complete guide to statistical testing\"</a>.\n",
    "\n",
    "The structure of this notebook is as follows.\n",
    "\n",
    "- **[1. Discrete metrics](#h1)**\n",
    "  - [1.1 Fisher's exact test](#h1.1)\n",
    "  - [1.2 Pearson's chi-squared test](#h1.2)\n",
    "- **[2. Continous metrics](#h2)**\n",
    "  - [2.1 Z-test](#h2.1)\n",
    "  - [2.2 Student's t-test](#h2.2)\n",
    "  - [2.3 Welch's t-test](#h2.3)\n",
    "  - [2.4 Mann-Whitney U test](#h2.4)\n",
    "- **[3. Data distrbution VS Stats distribution](#h3)**"
   ]
  },
  {
   "cell_type": "code",
   "execution_count": 4,
   "metadata": {},
   "outputs": [],
   "source": [
    "import matplotlib.pyplot as plt\n",
    "import numpy as np\n",
    "import pandas as pd\n",
    "from scipy.special import binom\n",
    "from scipy.stats import chi2_contingency, mannwhitneyu, norm, t, ttest_ind\n",
    "\n",
    "%matplotlib inline"
   ]
  },
  {
   "cell_type": "markdown",
   "metadata": {},
   "source": [
    "# 1. Discrete Metrics <a class=\"anchor\" id=\"h1\"></a>\n",
    "\n",
    "Let's consider first discrete metrics, e.g. click-though rate. We randomly show visitors one of two possible designs of an advertisement, and based on how many of them click on it we need to determine whether our data significantly contradict the hypothesis that the two designs are equivalently efficient."
   ]
  },
  {
   "cell_type": "code",
   "execution_count": 5,
   "metadata": {},
   "outputs": [
    {
     "name": "stdout",
     "output_type": "stream",
     "text": [
      "- Observations:\n",
      "  - Version A: = [1 0 0 1 1 1 1 0 0 0 1 0 0 1 1]\n",
      "  - Version B: = [0 0 0 0 0 1 0 0 0 0 1 0 0 0 0 1 0 0 1]\n",
      "\n",
      "- Contingency table:\n"
     ]
    },
    {
     "data": {
      "text/html": [
       "<div>\n",
       "<style scoped>\n",
       "    .dataframe tbody tr th:only-of-type {\n",
       "        vertical-align: middle;\n",
       "    }\n",
       "\n",
       "    .dataframe tbody tr th {\n",
       "        vertical-align: top;\n",
       "    }\n",
       "\n",
       "    .dataframe thead th {\n",
       "        text-align: right;\n",
       "    }\n",
       "</style>\n",
       "<table border=\"1\" class=\"dataframe\">\n",
       "  <thead>\n",
       "    <tr style=\"text-align: right;\">\n",
       "      <th></th>\n",
       "      <th>A</th>\n",
       "      <th>B</th>\n",
       "    </tr>\n",
       "  </thead>\n",
       "  <tbody>\n",
       "    <tr>\n",
       "      <th>click</th>\n",
       "      <td>7</td>\n",
       "      <td>15</td>\n",
       "    </tr>\n",
       "    <tr>\n",
       "      <th>no click</th>\n",
       "      <td>8</td>\n",
       "      <td>4</td>\n",
       "    </tr>\n",
       "  </tbody>\n",
       "</table>\n",
       "</div>"
      ],
      "text/plain": [
       "          A   B\n",
       "click     7  15\n",
       "no click  8   4"
      ]
     },
     "metadata": {},
     "output_type": "display_data"
    }
   ],
   "source": [
    "np.random.seed(42)\n",
    "\n",
    "x = np.random.binomial(n=1, p=0.6, size=15)\n",
    "y = np.random.binomial(n=1, p=0.4, size=19)\n",
    "\n",
    "_, (a, c) = np.unique(x, return_counts=True)\n",
    "_, (b, d) = np.unique(y, return_counts=True)\n",
    "\n",
    "df = pd.DataFrame(data=[[a, b], [c, d]], \n",
    "                 index=[\"click\", \"no click\"], \n",
    "                 columns=[\"A\", \"B\"])\n",
    "m = df.values\n",
    "\n",
    "print(\"- Observations:\")\n",
    "print(f\"  - Version A: = {x}\")\n",
    "print(f\"  - Version B: = {y}\")\n",
    "print(\"\")\n",
    "print(\"- Contingency table:\")\n",
    "display(df)"
   ]
  },
  {
   "cell_type": "markdown",
   "metadata": {},
   "source": [
    "## 1.1 Fisher's exact test <a class=\"anchor\" id=\"h1.1\"></a>\n",
    "\n",
    "Since we have a 2x2 contingency table we can use Fisher's exact test to compute an exact p-value and test our hypothesis. "
   ]
  },
  {
   "cell_type": "code",
   "execution_count": 6,
   "metadata": {},
   "outputs": [],
   "source": [
    "def hypergeom(k, K, n, N):\n",
    "    \"\"\"Probability mass funciton of the hypergeometric distribution.\"\"\"\n",
    "    return binom(K, k) * binom(N-K, n-k) / binom(N, n)\n",
    "\n",
    "\n",
    "def fisher_prob(m):\n",
    "    \"\"\"Probability of a given observed contingency table according to Fisher's exact test.\"\"\"\n",
    "    ((a, b), (c ,d)) = m\n",
    "    k = a\n",
    "    K = a+b\n",
    "    n = a+c\n",
    "    N = a+b+c+d\n",
    "    return hypergeom(k, K, n, N)\n",
    "\n",
    "def fisher_probs_histogram(m):\n",
    "    \"\"\"Computes prob mass function histogram accroding to Fisher's exact test.\"\"\"\n",
    "    neg_val = -min(m[0,0], m[1,1])\n",
    "    pos_val = min(m[1,0], m[1,0])\n",
    "    probs = []\n",
    "    for k in range(neg_val, pos_val+1):\n",
    "        m1 = m + np.array([[1, -1], [-1, 1]]) * k\n",
    "        probs.append(fisher_prob(m1))\n",
    "    return probs"
   ]
  },
  {
   "cell_type": "code",
   "execution_count": 7,
   "metadata": {},
   "outputs": [
    {
     "name": "stdout",
     "output_type": "stream",
     "text": [
      "- Fisher's exact test: p-val = 7.5%\n"
     ]
    },
    {
     "data": {
      "image/png": "[encoded data removed]",
      "text/plain": [
       "<Figure size 432x216 with 1 Axes>"
      ]
     },
     "metadata": {
      "needs_background": "light"
     },
     "output_type": "display_data"
    }
   ],
   "source": [
    "bars_h = np.array(fisher_probs_histogram(m))\n",
    "\n",
    "f, ax = plt.subplots(figsize=(6, 3))\n",
    "ii = np.arange(len(bars_h))\n",
    "ax.bar(ii, bars_h)\n",
    "idxs = bars_h <= fisher_prob(m)\n",
    "ax.bar(ii[idxs], bars_h[idxs], color='r')\n",
    "ax.set_ylabel(\"prob density\")\n",
    "p_val = bars_h[idxs].sum()\n",
    "neg_val = -min(m[0,0], m[1,1])\n",
    "pos_val = min(m[1,0], m[1,0])\n",
    "ax.bar(ii[-neg_val], bars_h[-neg_val], color='orange')\n",
    "\n",
    "ax.set_xticks(ii)\n",
    "ax.set_xticklabels(np.arange(neg_val, pos_val+1))\n",
    "f.tight_layout()\n",
    "print(f\"- Fisher's exact test: p-val = {100*p_val:.1f}%\")\n"
   ]
  },
  {
   "cell_type": "markdown",
   "metadata": {},
   "source": [
    "## 1.2 Pearson's chi-squared test <a class=\"anchor\" id=\"h1.2\"></a>\n",
    "\n",
    "Fisher's exact test has the important advantage of computing exact p-values. But if we have a large sample size, it may be computationally inefficient. In this case, we can use Pearson's chi-squared test to compute an approximate p-value."
   ]
  },
  {
   "cell_type": "code",
   "execution_count": 8,
   "metadata": {},
   "outputs": [
    {
     "name": "stdout",
     "output_type": "stream",
     "text": [
      "- Pearson's chi-squared t-test:\n",
      "   - χ2 value: 3.825\n",
      "   - p-value: 5.1%\n"
     ]
    }
   ],
   "source": [
    "chi2_val, p_val = chi2_contingency(m, correction=False)[:2]\n",
    "\n",
    "print(\"- Pearson's chi-squared t-test:\")\n",
    "print(f\"   - χ2 value: {chi2_val:.3f}\")\n",
    "print(f\"   - p-value: {p_val*100:.1f}%\")"
   ]
  },
  {
   "cell_type": "markdown",
   "metadata": {},
   "source": [
    "# 2. Continuous metrics <a class=\"anchor\" id=\"h2\"></a>\n",
    "\n",
    "Let's now consider the case of a continuous metrics, e.g. average revenue per user. We randomly show visitors of our website one of two possible layouts of products for sale, and based on how much revenue each user generated in a month we want to determine whether our data significantly contradict the hypothesis that the two website layouts are equivalently efficient."
   ]
  },
  {
   "cell_type": "code",
   "execution_count": 9,
   "metadata": {},
   "outputs": [
    {
     "name": "stdout",
     "output_type": "stream",
     "text": [
      "- Observations:\n",
      "  - Version A: = [200 150 250 350 150 150 350 250 150 250 150 150 200   0   0 100  50]\n",
      "  - Version B: = [300 150 150 400 250 250 150 200 250 150 300 200 250 200]\n",
      "\n",
      "- Distribution plot:\n"
     ]
    },
    {
     "data": {
      "image/png": "[encoded data removed]",
      "text/plain": [
       "<Figure size 432x216 with 1 Axes>"
      ]
     },
     "metadata": {
      "needs_background": "light"
     },
     "output_type": "display_data"
    }
   ],
   "source": [
    "np.random.seed(42)\n",
    "\n",
    "n_x, n_y = 17, 14\n",
    "\n",
    "d1 = norm(loc=200, scale=100)\n",
    "d2 = norm(loc=280, scale=90)\n",
    "\n",
    "disc = 50\n",
    "x = (d1.rvs(size=n_x) / disc).astype(int) * disc\n",
    "y = (d2.rvs(size=n_y) / disc).astype(int) * disc\n",
    "\n",
    "\n",
    "print(\"- Observations:\")\n",
    "print(f\"  - Version A: = {x}\")\n",
    "print(f\"  - Version B: = {y}\")\n",
    "print(\"\")\n",
    "print(f\"- Distribution plot:\")\n",
    "f, ax = plt.subplots(figsize=(6, 3))\n",
    "for i, (x_, l_, c_) in enumerate(zip([x, y], [\"A\", \"B\"], [\"tab:blue\", \"tab:olive\"])):\n",
    "    v, c = np.unique(x_, return_counts=True)\n",
    "    ax.bar(v-5+10*i, c, width=10, label=l_, color=c_)\n",
    "\n",
    "ax.set_xlabel(\"purchase in $\")\n",
    "ax.set_ylabel(\"count\")\n",
    "ax.legend();"
   ]
  },
  {
   "cell_type": "code",
   "execution_count": 10,
   "metadata": {},
   "outputs": [],
   "source": [
    "def plot_pval(distribution, t_val, xlims=(-5, 5), ylims=(0, 0.5)):\n",
    "    xxx = np.linspace(*xlims, 1000)\n",
    "    f, ax = plt.subplots(figsize=(4,3))\n",
    "    ax.plot(xxx, distribution.pdf(xxx))\n",
    "    ax.set_ylim(ylims)\n",
    "    ax.vlines(t_val, 0, stat_distrib.pdf(t_val), color='orange')\n",
    "    ax.plot(t_val, stat_distrib.pdf(t_val), 'o', color='orange')\n",
    "    xp = xxx <= t_val\n",
    "    ax.fill_between(xxx[xp], xxx[xp] * 0, stat_distrib.pdf(xxx[xp]), color='r')\n",
    "    xp = xxx >= -t_val\n",
    "    ax.fill_between(xxx[xp], xxx[xp] * 0, stat_distrib.pdf(xxx[xp]), color='r')\n",
    "    ax.set_ylabel(\"prob denisty\")\n",
    "    f.tight_layout()\n",
    "    return f, ax"
   ]
  },
  {
   "cell_type": "markdown",
   "metadata": {},
   "source": [
    "## 2.1 Z-test <a class=\"anchor\" id=\"h2.1\"></a>\n",
    "\n",
    "The Z-test can be applied under the following assumptions.\n",
    "\n",
    "- The observations are normally distributed (or the sample size is large).\n",
    "- The sampling distributions have known variance σ_X and σ_Y.\n",
    "\n",
    "Under the above assumptions, the Z-test relies on the observation that the following Z statistic has a standard normal distribution."
   ]
  },
  {
   "cell_type": "code",
   "execution_count": 11,
   "metadata": {},
   "outputs": [
    {
     "name": "stdout",
     "output_type": "stream",
     "text": [
      "- Z-test:\n",
      "   - z value: -1.697\n",
      "   - p-value: 9.0%\n"
     ]
    },
    {
     "data": {
      "image/png": "[encoded data removed]",
      "text/plain": [
       "<Figure size 288x216 with 1 Axes>"
      ]
     },
     "metadata": {
      "needs_background": "light"
     },
     "output_type": "display_data"
    }
   ],
   "source": [
    "# Known standard deviations\n",
    "s_x = 100\n",
    "s_y = 90\n",
    "\n",
    "# Z value\n",
    "z_val = (x.mean() - y.mean()) / np.sqrt(s_x**2/n_x + s_y**2/n_y)\n",
    "\n",
    "# Test statistic distribution under null hypothesis H0\n",
    "stat_distrib = norm(loc=0, scale=1)\n",
    "\n",
    "# p-value\n",
    "p_val = stat_distrib.cdf(z_val) * 2\n",
    "\n",
    "print(\"- Z-test:\")\n",
    "print(f\"   - z value: {z_val:.3f}\")\n",
    "print(f\"   - p-value: {p_val*100:.1f}%\")\n",
    "plot_pval(stat_distrib, z_val);"
   ]
  },
  {
   "cell_type": "markdown",
   "metadata": {},
   "source": [
    "## 2.2 Student's t-test <a class=\"anchor\" id=\"h2.2\"></a>\n",
    "\n",
    "In most cases, the variances of the sampling distributions are unknown, so that we need to estimate them. Student's t-test can then be applied under the following assumptions.\n",
    "\n",
    "- The observations are normally distributed (or the sample size is large).\n",
    "- The sampling distributions have \"similar\" variances σX ≈ σY.\n",
    "\n",
    "Under the above assumptions, Student's t-test relies on the observation that the following t statistic has a Student's t distribution."
   ]
  },
  {
   "cell_type": "code",
   "execution_count": 12,
   "metadata": {},
   "outputs": [
    {
     "name": "stdout",
     "output_type": "stream",
     "text": [
      "- Student's t-test:\n",
      "   - nu: 29.000\n",
      "   - t value: -1.789\n",
      "   - p-value: 8.4%\n"
     ]
    },
    {
     "data": {
      "image/png": "[encoded data removed]",
      "text/plain": [
       "<Figure size 288x216 with 1 Axes>"
      ]
     },
     "metadata": {
      "needs_background": "light"
     },
     "output_type": "display_data"
    }
   ],
   "source": [
    "# Sample variances (w. Bessel correction)\n",
    "s_x = np.sqrt(np.var(x, ddof=1))\n",
    "s_y = np.sqrt(np.var(y, ddof=1))\n",
    "\n",
    "# Pooled variance\n",
    "s_p = np.sqrt(((n_x-1) * s_x**2 +\n",
    "               (n_y-1) * s_y**2)\n",
    "              / (n_x + n_y - 2))\n",
    "\n",
    "# Test statistic distribution under null hypothesis H0\n",
    "dofs = n_x + n_y - 2\n",
    "stat_distrib = t(df=dofs, loc=0, scale=1)\n",
    "\n",
    "# t value\n",
    "t_val = (x.mean() - y.mean()) / (s_p * np.sqrt(1/n_x + 1/n_y))\n",
    "\n",
    "# p-value\n",
    "p_val = stat_distrib.cdf(t_val) * 2\n",
    "\n",
    "print(\"- Student's t-test:\")\n",
    "print(f\"   - nu: {dofs:.3f}\")\n",
    "print(f\"   - t value: {t_val:.3f}\")\n",
    "print(f\"   - p-value: {p_val*100:.1f}%\")\n",
    "plot_pval(stat_distrib, z_val);"
   ]
  },
  {
   "cell_type": "markdown",
   "metadata": {},
   "source": [
    "## 2.3 Welch's t-test <a class=\"anchor\" id=\"h2.3\"></a>\n",
    "\n",
    "In most cases Student's t test can be effectively applied with good results. However, it may rarely happen that its second assumption (similar variance of the sampling distributions) is violated. In that case, we cannot compute a pooled variance and rather than Student's t test we should use Welch's t-test.\n",
    "\n",
    "This test operates under the same assumptions of Student's t-test but removes the requirement on the similar variances. Then, we can use a slightly different t statistic, which also has a Student's t distribution, but with a different number of degrees of freedom ν."
   ]
  },
  {
   "cell_type": "code",
   "execution_count": 13,
   "metadata": {},
   "outputs": [
    {
     "name": "stdout",
     "output_type": "stream",
     "text": [
      "- Welch' t-test:\n",
      "   - nu: 28.505\n",
      "   - t value: -1.848\n",
      "   - p-value: 7.5%\n"
     ]
    },
    {
     "data": {
      "image/png": "[encoded data removed]",
      "text/plain": [
       "<Figure size 288x216 with 1 Axes>"
      ]
     },
     "metadata": {
      "needs_background": "light"
     },
     "output_type": "display_data"
    }
   ],
   "source": [
    "# Sample variances (w. Bessel correction)\n",
    "s_x = np.sqrt(np.var(x, ddof=1))\n",
    "s_y = np.sqrt(np.var(y, ddof=1))\n",
    "\n",
    "# Denominator (not a pooled variance!)\n",
    "s_d = np.sqrt(s_x**2/n_x + s_y**2/n_y)\n",
    "    \n",
    "    \n",
    "# Test statistic distribution under null hypothesis H0\n",
    "dofs = s_d**4 / ((s_x**2/n_x)**2/(n_x-1) +\n",
    "                 (s_y**2/n_y)**2/(n_y-1))\n",
    "stat_distrib = t(df=dofs, loc=0, scale=1)\n",
    "\n",
    "# t value\n",
    "t_val = (x.mean() - y.mean()) / s_d\n",
    "\n",
    "# p-value\n",
    "p_val = stat_distrib.cdf(t_val) * 2\n",
    "\n",
    "print(\"- Welch' t-test:\")\n",
    "print(f\"   - nu: {dofs:.3f}\")\n",
    "print(f\"   - t value: {t_val:.3f}\")\n",
    "print(f\"   - p-value: {p_val*100:.1f}%\")\n",
    "plot_pval(stat_distrib, z_val);"
   ]
  },
  {
   "cell_type": "markdown",
   "metadata": {},
   "source": [
    "## 2.4 Mann-Whitney U test <a class=\"anchor\" id=\"h2.4\"></a>\n",
    "\n",
    "This test makes the least assumptions about the nature of our observations, as it is fully nonparametric. The idea of Mann-Whitney U test is to compute the U statistic.\n",
    "\n",
    "The values of this test statistic are tabulated, as the distribution can be computed under the null hypothesis that, for random samples X and Y from the two populations, the probability P(X < Y) is the same as P(X > Y)."
   ]
  },
  {
   "cell_type": "code",
   "execution_count": 14,
   "metadata": {},
   "outputs": [
    {
     "name": "stdout",
     "output_type": "stream",
     "text": [
      "- Mann-Whitney U test:\n",
      "   - U value: 76.000\n",
      "   - p-value: 8.0%\n"
     ]
    }
   ],
   "source": [
    "mwu = mannwhitneyu(x, y, use_continuity=False, alternative=\"two-sided\")\n",
    "\n",
    "print(\"- Mann-Whitney U test:\")\n",
    "print(f\"   - U value: {mwu.statistic:.3f}\")\n",
    "print(f\"   - p-value: {mwu.pvalue*100:.1f}%\")"
   ]
  },
  {
   "cell_type": "markdown",
   "metadata": {},
   "source": [
    "# 3. Data distribution VS Stats distribution <a class=\"anchor\" id=\"h3\"></a>\n",
    "Tests that rely on the assumption of normally distributed test statistics\n",
    "can also be applied if the original sampling distribution is highly \n",
    "non-normal!\n",
    "\n",
    "Indeed, thanks to the Central Limit Theorem, the distribution of the test\n",
    "statistic is asymptotically normal as the sample size increases.\n",
    "\n",
    "This is very useful in the common case of A/B tests that produce observations\n",
    "that are zero-inflated and/or multimodal."
   ]
  },
  {
   "cell_type": "code",
   "execution_count": 15,
   "metadata": {},
   "outputs": [
    {
     "data": {
      "image/png": "[encoded data removed]",
      "text/plain": [
       "<Figure size 432x216 with 1 Axes>"
      ]
     },
     "metadata": {
      "needs_background": "light"
     },
     "output_type": "display_data"
    }
   ],
   "source": [
    "p = np.array([245, 0, 0, 0, 0, 0, 0, 0, 0,  1, 3, 1, 3, 2, 9, 18, 22, 10, 6, 2, 2, 1, 2, 1, 1])\n",
    "a = np.arange(len(p))\n",
    "p = p / p.sum()\n",
    "\n",
    "f, ax = plt.subplots(figsize=(6, 3))\n",
    "ax.bar(a, p)\n",
    "ax.set_ylabel(\"prob density\")\n",
    "ax.set_xlabel(\"x\");"
   ]
  },
  {
   "cell_type": "code",
   "execution_count": 16,
   "metadata": {},
   "outputs": [
    {
     "data": {
      "image/png": "[encoded data removed]",
      "text/plain": [
       "<Figure size 504x331.2 with 4 Axes>"
      ]
     },
     "metadata": {
      "needs_background": "light"
     },
     "output_type": "display_data"
    }
   ],
   "source": [
    "loc = (p*np.arange(len(p))).sum()\n",
    "\n",
    "nn = [1, 10, 20, 40]\n",
    "f, axx = plt.subplots(2, 2, figsize=(3.5*2, 2.3*2))    \n",
    "\n",
    "for i, n in enumerate(nn):\n",
    "    r, c = divmod(i, 2)        \n",
    "    x = p\n",
    "    ax = axx[r, c]\n",
    "    for _ in range(n):\n",
    "        x = np.convolve(x, p)\n",
    "\n",
    "    ax.bar(np.arange(len(x))/n, x*n, width=1/n)\n",
    "    ax.set_ylim([0, 0.51])\n",
    "    ax.vlines(loc, 0, 0.51, 'r')\n",
    "    ax.set_xlabel(\"test statistic\")\n",
    "    ax.set_ylabel(\"prob density\")\n",
    "    ax.set_title(f\"sample size = {n}\")\n",
    "\n",
    "f.tight_layout()"
   ]
  }
 ],
 "metadata": {
  "kernelspec": {
   "display_name": "Python 3",
   "language": "python",
   "name": "python3"
  },
  "language_info": {
   "codemirror_mode": {
    "name": "ipython",
    "version": 3
   },
   "file_extension": ".py",
   "mimetype": "text/x-python",
   "name": "python",
   "nbconvert_exporter": "python",
   "pygments_lexer": "ipython3",
   "version": "3.8.8"
  }
 },
 "nbformat": 4,
 "nbformat_minor": 4
}
